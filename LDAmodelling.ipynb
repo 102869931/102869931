{
 "cells": [
  {
   "cell_type": "markdown",
   "metadata": {},
   "source": [
    "# COS80028 Data Science Capstone Project\n",
    "## Assessing IT CourseAgainst Core Body of Knowledge -project7\n",
    "#### Sai Harsha Vardhani Perla, 102869931\n",
    "***"
   ]
  },
  {
   "cell_type": "markdown",
   "metadata": {},
   "source": [
    "## Table Content\n",
    "- [Data preparation](#a)\n",
    "- [Creating Bigram and Trigram Models](#a2)\n",
    "- [Remove Stopwords, Make Bigrams and Lemmatize ](#a3)\n",
    "- [ Create the Dictionary and Corpus needed for Topic Modeling](#4)\n",
    "- [ Building the Topic Model](#5)\n",
    "- [View the topics in LDA model](#6)\n",
    "- [ Compute Model Perplexity and Coherence Score ](#7)\n",
    "- [Visualization ](#8)\n",
    "- [finding the optimal number of topics for LDA ](#9)\n",
    "- [Cbok Data set ](#10)\n",
    "- [Data Preparation](#11)\n",
    "- [ULO Data Set](#12)\n",
    "- [Mapping with the Cbok ](#13)"
   ]
  },
  {
   "cell_type": "markdown",
   "metadata": {},
   "source": [
    "## Requried Packages"
   ]
  },
  {
   "cell_type": "code",
   "execution_count": 1,
   "metadata": {
    "slideshow": {
     "slide_type": "slide"
    }
   },
   "outputs": [
    {
     "name": "stderr",
     "output_type": "stream",
     "text": [
      "C:\\Users\\HARSHA VARDHANI\\anaconda3\\lib\\site-packages\\sklearn\\linear_model\\_least_angle.py:34: DeprecationWarning: `np.float` is a deprecated alias for the builtin `float`. To silence this warning, use `float` by itself. Doing this will not modify any behavior and is safe. If you specifically wanted the numpy scalar type, use `np.float64` here.\n",
      "Deprecated in NumPy 1.20; for more details and guidance: https://numpy.org/devdocs/release/1.20.0-notes.html#deprecations\n",
      "  method='lar', copy_X=True, eps=np.finfo(np.float).eps,\n",
      "C:\\Users\\HARSHA VARDHANI\\anaconda3\\lib\\site-packages\\sklearn\\linear_model\\_least_angle.py:164: DeprecationWarning: `np.float` is a deprecated alias for the builtin `float`. To silence this warning, use `float` by itself. Doing this will not modify any behavior and is safe. If you specifically wanted the numpy scalar type, use `np.float64` here.\n",
      "Deprecated in NumPy 1.20; for more details and guidance: https://numpy.org/devdocs/release/1.20.0-notes.html#deprecations\n",
      "  method='lar', copy_X=True, eps=np.finfo(np.float).eps,\n",
      "C:\\Users\\HARSHA VARDHANI\\anaconda3\\lib\\site-packages\\sklearn\\linear_model\\_least_angle.py:281: DeprecationWarning: `np.float` is a deprecated alias for the builtin `float`. To silence this warning, use `float` by itself. Doing this will not modify any behavior and is safe. If you specifically wanted the numpy scalar type, use `np.float64` here.\n",
      "Deprecated in NumPy 1.20; for more details and guidance: https://numpy.org/devdocs/release/1.20.0-notes.html#deprecations\n",
      "  eps=np.finfo(np.float).eps, copy_Gram=True, verbose=0,\n",
      "C:\\Users\\HARSHA VARDHANI\\anaconda3\\lib\\site-packages\\sklearn\\linear_model\\_least_angle.py:865: DeprecationWarning: `np.float` is a deprecated alias for the builtin `float`. To silence this warning, use `float` by itself. Doing this will not modify any behavior and is safe. If you specifically wanted the numpy scalar type, use `np.float64` here.\n",
      "Deprecated in NumPy 1.20; for more details and guidance: https://numpy.org/devdocs/release/1.20.0-notes.html#deprecations\n",
      "  eps=np.finfo(np.float).eps, copy_X=True, fit_path=True,\n",
      "C:\\Users\\HARSHA VARDHANI\\anaconda3\\lib\\site-packages\\sklearn\\linear_model\\_least_angle.py:1121: DeprecationWarning: `np.float` is a deprecated alias for the builtin `float`. To silence this warning, use `float` by itself. Doing this will not modify any behavior and is safe. If you specifically wanted the numpy scalar type, use `np.float64` here.\n",
      "Deprecated in NumPy 1.20; for more details and guidance: https://numpy.org/devdocs/release/1.20.0-notes.html#deprecations\n",
      "  eps=np.finfo(np.float).eps, copy_X=True, fit_path=True,\n",
      "C:\\Users\\HARSHA VARDHANI\\anaconda3\\lib\\site-packages\\sklearn\\linear_model\\_least_angle.py:1149: DeprecationWarning: `np.float` is a deprecated alias for the builtin `float`. To silence this warning, use `float` by itself. Doing this will not modify any behavior and is safe. If you specifically wanted the numpy scalar type, use `np.float64` here.\n",
      "Deprecated in NumPy 1.20; for more details and guidance: https://numpy.org/devdocs/release/1.20.0-notes.html#deprecations\n",
      "  eps=np.finfo(np.float).eps, positive=False):\n",
      "C:\\Users\\HARSHA VARDHANI\\anaconda3\\lib\\site-packages\\sklearn\\linear_model\\_least_angle.py:1379: DeprecationWarning: `np.float` is a deprecated alias for the builtin `float`. To silence this warning, use `float` by itself. Doing this will not modify any behavior and is safe. If you specifically wanted the numpy scalar type, use `np.float64` here.\n",
      "Deprecated in NumPy 1.20; for more details and guidance: https://numpy.org/devdocs/release/1.20.0-notes.html#deprecations\n",
      "  max_n_alphas=1000, n_jobs=None, eps=np.finfo(np.float).eps,\n",
      "C:\\Users\\HARSHA VARDHANI\\anaconda3\\lib\\site-packages\\sklearn\\linear_model\\_least_angle.py:1621: DeprecationWarning: `np.float` is a deprecated alias for the builtin `float`. To silence this warning, use `float` by itself. Doing this will not modify any behavior and is safe. If you specifically wanted the numpy scalar type, use `np.float64` here.\n",
      "Deprecated in NumPy 1.20; for more details and guidance: https://numpy.org/devdocs/release/1.20.0-notes.html#deprecations\n",
      "  max_n_alphas=1000, n_jobs=None, eps=np.finfo(np.float).eps,\n",
      "C:\\Users\\HARSHA VARDHANI\\anaconda3\\lib\\site-packages\\sklearn\\linear_model\\_least_angle.py:1755: DeprecationWarning: `np.float` is a deprecated alias for the builtin `float`. To silence this warning, use `float` by itself. Doing this will not modify any behavior and is safe. If you specifically wanted the numpy scalar type, use `np.float64` here.\n",
      "Deprecated in NumPy 1.20; for more details and guidance: https://numpy.org/devdocs/release/1.20.0-notes.html#deprecations\n",
      "  eps=np.finfo(np.float).eps, copy_X=True, positive=False):\n",
      "C:\\Users\\HARSHA VARDHANI\\anaconda3\\lib\\site-packages\\sklearn\\decomposition\\_lda.py:28: DeprecationWarning: `np.float` is a deprecated alias for the builtin `float`. To silence this warning, use `float` by itself. Doing this will not modify any behavior and is safe. If you specifically wanted the numpy scalar type, use `np.float64` here.\n",
      "Deprecated in NumPy 1.20; for more details and guidance: https://numpy.org/devdocs/release/1.20.0-notes.html#deprecations\n",
      "  EPS = np.finfo(np.float).eps\n",
      "C:\\Users\\HARSHA VARDHANI\\anaconda3\\lib\\site-packages\\sklearn\\feature_extraction\\image.py:172: DeprecationWarning: `np.int` is a deprecated alias for the builtin `int`. To silence this warning, use `int` by itself. Doing this will not modify any behavior and is safe. When replacing `np.int`, you may wish to use e.g. `np.int64` or `np.int32` to specify the precision. If you wish to review your current use, check the release note link for additional information.\n",
      "Deprecated in NumPy 1.20; for more details and guidance: https://numpy.org/devdocs/release/1.20.0-notes.html#deprecations\n",
      "  dtype=np.int):\n",
      "[nltk_data] Downloading package stopwords to C:\\Users\\HARSHA\n",
      "[nltk_data]     VARDHANI\\AppData\\Roaming\\nltk_data...\n",
      "[nltk_data]   Package stopwords is already up-to-date!\n"
     ]
    }
   ],
   "source": [
    "\n",
    "\n",
    "#packges\n",
    "import pandas as pd\n",
    "import numpy as np\n",
    "import re\n",
    "import string\n",
    "\n",
    "#spacy for lemmatization\n",
    "import spacy\n",
    "\n",
    "\n",
    "#Gensim\n",
    "import gensim\n",
    "import gensim.corpora as corpora\n",
    "from gensim.utils import simple_preprocess\n",
    "from gensim.models import CoherenceModel\n",
    "from gensim.models.phrases import Phrases, Phraser\n",
    "\n",
    "\n",
    "# libraries for visualization\n",
    "import pyLDAvis\n",
    "import pyLDAvis.gensim\n",
    "import matplotlib.pyplot as plt\n",
    "import seaborn as sns\n",
    "%matplotlib inline\n",
    "import nltk\n",
    "nltk.download('stopwords')\n",
    "\n",
    "\n",
    "#Enable logging for gensim - optional\n",
    "import logging\n",
    "logging.basicConfig(format='%(asctime)s : %(levelname)s : %(message)s', level=logging.ERROR)\n",
    "import warnings\n",
    "warnings.filterwarnings(\"ignore\",category=DeprecationWarning)"
   ]
  },
  {
   "cell_type": "markdown",
   "metadata": {},
   "source": [
    "### Prepare stop words"
   ]
  },
  {
   "cell_type": "code",
   "execution_count": 2,
   "metadata": {
    "slideshow": {
     "slide_type": "slide"
    }
   },
   "outputs": [],
   "source": [
    "from nltk.corpus import stopwords\n",
    "stop_words = stopwords.words('english')\n",
    "stop_words.extend(['from', 'subject', 're', 'edu', 'use'])"
   ]
  },
  {
   "cell_type": "markdown",
   "metadata": {},
   "source": [
    "### Importing Data set"
   ]
  },
  {
   "cell_type": "code",
   "execution_count": 3,
   "metadata": {
    "slideshow": {
     "slide_type": "slide"
    }
   },
   "outputs": [
    {
     "data": {
      "text/html": [
       "<div>\n",
       "<style scoped>\n",
       "    .dataframe tbody tr th:only-of-type {\n",
       "        vertical-align: middle;\n",
       "    }\n",
       "\n",
       "    .dataframe tbody tr th {\n",
       "        vertical-align: top;\n",
       "    }\n",
       "\n",
       "    .dataframe thead th {\n",
       "        text-align: right;\n",
       "    }\n",
       "</style>\n",
       "<table border=\"1\" class=\"dataframe\">\n",
       "  <thead>\n",
       "    <tr style=\"text-align: right;\">\n",
       "      <th></th>\n",
       "      <th>Unit code</th>\n",
       "      <th>unit name</th>\n",
       "      <th>ULO no</th>\n",
       "      <th>Describption</th>\n",
       "    </tr>\n",
       "  </thead>\n",
       "  <tbody>\n",
       "    <tr>\n",
       "      <th>0</th>\n",
       "      <td>COS60004</td>\n",
       "      <td>creating web applications</td>\n",
       "      <td>1</td>\n",
       "      <td>Describe the role of networking in the context...</td>\n",
       "    </tr>\n",
       "    <tr>\n",
       "      <th>1</th>\n",
       "      <td>COS60004</td>\n",
       "      <td>creating web applications</td>\n",
       "      <td>2</td>\n",
       "      <td>Demonstrate the use of mark up and presentatio...</td>\n",
       "    </tr>\n",
       "    <tr>\n",
       "      <th>2</th>\n",
       "      <td>COS60004</td>\n",
       "      <td>creating web applications</td>\n",
       "      <td>3</td>\n",
       "      <td>Demonstrate the use of server scripting and da...</td>\n",
       "    </tr>\n",
       "    <tr>\n",
       "      <th>3</th>\n",
       "      <td>COS60004</td>\n",
       "      <td>creating web applications</td>\n",
       "      <td>4</td>\n",
       "      <td>Describe the interaction between components of...</td>\n",
       "    </tr>\n",
       "    <tr>\n",
       "      <th>4</th>\n",
       "      <td>COS60004</td>\n",
       "      <td>creating web applications</td>\n",
       "      <td>5</td>\n",
       "      <td>Conduct a comparative analysis of contemporary...</td>\n",
       "    </tr>\n",
       "  </tbody>\n",
       "</table>\n",
       "</div>"
      ],
      "text/plain": [
       "  Unit code                   unit name  ULO no  \\\n",
       "0   COS60004  creating web applications       1   \n",
       "1   COS60004  creating web applications       2   \n",
       "2   COS60004  creating web applications       3   \n",
       "3   COS60004  creating web applications       4   \n",
       "4   COS60004  creating web applications       5   \n",
       "\n",
       "                                        Describption  \n",
       "0  Describe the role of networking in the context...  \n",
       "1  Demonstrate the use of mark up and presentatio...  \n",
       "2  Demonstrate the use of server scripting and da...  \n",
       "3  Describe the interaction between components of...  \n",
       "4  Conduct a comparative analysis of contemporary...  "
      ]
     },
     "execution_count": 3,
     "metadata": {},
     "output_type": "execute_result"
    }
   ],
   "source": [
    "ds = pd.read_csv('ds.csv') #ds(dataset of unitout lines )\n",
    "ds.head() #decribe the dataset clearly"
   ]
  },
  {
   "cell_type": "markdown",
   "metadata": {},
   "source": [
    "## Data preparation <a name=\"a\"></a>"
   ]
  },
  {
   "cell_type": "markdown",
   "metadata": {},
   "source": [
    "#### Removing white spaces, newlines."
   ]
  },
  {
   "cell_type": "code",
   "execution_count": 4,
   "metadata": {
    "slideshow": {
     "slide_type": "slide"
    }
   },
   "outputs": [
    {
     "name": "stdout",
     "output_type": "stream",
     "text": [
      "['Describe the role of networking in the context of web including tools to configure web clients and servers']\n"
     ]
    }
   ],
   "source": [
    "# Convert to list\n",
    "data = ds.Describption.values.tolist()\n",
    "\n",
    "\n",
    "data = [re.sub('\\S*@\\S*\\s?', '', sent) for sent in data]\n",
    "\n",
    "# Remove new line characters\n",
    "data = [re.sub('\\s+', ' ', sent) for sent in data]\n",
    "\n",
    "# Remove distracting single quotes\n",
    "data = [re.sub(\"\\'\", \"\", sent) for sent in data]\n",
    "\n",
    "print(data[:1])"
   ]
  },
  {
   "cell_type": "markdown",
   "metadata": {},
   "source": [
    "#### Tokinze words and clean up text "
   ]
  },
  {
   "cell_type": "code",
   "execution_count": 5,
   "metadata": {
    "slideshow": {
     "slide_type": "slide"
    }
   },
   "outputs": [
    {
     "name": "stdout",
     "output_type": "stream",
     "text": [
      "[['describe', 'the', 'role', 'of', 'networking', 'in', 'the', 'context', 'of', 'web', 'including', 'tools', 'to', 'configure', 'web', 'clients', 'and', 'servers']]\n"
     ]
    }
   ],
   "source": [
    "def sent_to_words(sentences):\n",
    "    for sentence in sentences:\n",
    "        yield(gensim.utils.simple_preprocess(str(sentence), deacc=True))  # deacc=True removes punctuations\n",
    "\n",
    "data_words = list(sent_to_words(data))\n",
    "\n",
    "print(data_words[:1])"
   ]
  },
  {
   "cell_type": "markdown",
   "metadata": {},
   "source": [
    "### Creating Bigram and Trigram Models <a name=\"a2\"></a>"
   ]
  },
  {
   "cell_type": "markdown",
   "metadata": {},
   "source": [
    "##### Bigrams are two words frequently occurring together in the document. Trigrams are 3 words frequently occurring.  \n",
    "##### Gensim’s Phrases model can build and implement the bigrams, trigrams, quadgrams and more. The two important arguments to Phrases are min_count and threshold. "
   ]
  },
  {
   "cell_type": "code",
   "execution_count": 6,
   "metadata": {
    "slideshow": {
     "slide_type": "slide"
    }
   },
   "outputs": [
    {
     "name": "stdout",
     "output_type": "stream",
     "text": [
      "['describe', 'the', 'role', 'of', 'networking', 'in', 'the', 'context', 'of', 'web', 'including', 'tools', 'to', 'configure', 'web', 'clients', 'and', 'servers']\n"
     ]
    }
   ],
   "source": [
    "#creating bigrams and trigrams \n",
    "# Build the bigram and trigram models\n",
    "bigram = gensim.models.Phrases(data_words, min_count=5, threshold=100) # higher threshold fewer phrases.\n",
    "trigram = gensim.models.Phrases(bigram[data_words], threshold=100)  \n",
    "\n",
    "# Faster way to get a sentence clubbed as a trigram/bigram\n",
    "bigram_mod = gensim.models.phrases.Phraser(bigram)\n",
    "trigram_mod = gensim.models.phrases.Phraser(trigram)\n",
    "\n",
    "# See trigram example\n",
    "print(trigram_mod[bigram_mod[data_words[0]]])"
   ]
  },
  {
   "cell_type": "markdown",
   "metadata": {},
   "source": [
    "### Remove Stopwords, Make Bigrams and Lemmatize  <a name=\"a3\"></a>"
   ]
  },
  {
   "cell_type": "code",
   "execution_count": 7,
   "metadata": {
    "slideshow": {
     "slide_type": "slide"
    }
   },
   "outputs": [],
   "source": [
    "# Define functions for stopwords, bigrams, trigrams and lemmatization\n",
    "\n",
    "def remove_stopwords(texts):\n",
    "    return [[word for word in simple_preprocess(str(doc)) if word not in stop_words] for doc in texts]\n",
    "\n",
    "def make_bigrams(texts):\n",
    "    return [bigram_mod[doc] for doc in texts]\n",
    "\n",
    "def make_trigrams(texts):\n",
    "    return [trigram_mod[bigram_mod[doc]] for doc in texts]\n",
    "\n",
    "def lemmatization(texts, allowed_postags=['NOUN', 'ADJ', 'VERB', 'ADV']):\n",
    "    \"\"\"https://spacy.io/api/annotation\"\"\"\n",
    "    texts_out = []\n",
    "    for sent in texts:\n",
    "        doc = nlp(\" \".join(sent)) \n",
    "        texts_out.append([token.lemma_ for token in doc if token.pos_ in allowed_postags])\n",
    "    return texts_out"
   ]
  },
  {
   "cell_type": "markdown",
   "metadata": {},
   "source": [
    "#####  calling the functions in order."
   ]
  },
  {
   "cell_type": "code",
   "execution_count": 8,
   "metadata": {
    "slideshow": {
     "slide_type": "slide"
    }
   },
   "outputs": [
    {
     "name": "stdout",
     "output_type": "stream",
     "text": [
      "[['describe', 'role', 'networking', 'context', 'web', 'include', 'tool', 'configure', 'web', 'client', 'server']]\n"
     ]
    }
   ],
   "source": [
    "# Remove Stop Words\n",
    "data_words_nostops = remove_stopwords(data_words)\n",
    "\n",
    "# Form Bigrams\n",
    "data_words_bigrams = make_bigrams(data_words_nostops)\n",
    "\n",
    "# Initialize spacy 'en' model, keeping only tagger component (for efficiency)\n",
    "#python3 -m spacy download en\n",
    "nlp = spacy.load(\"en_core_web_sm\")\n",
    "\n",
    "#nlp = spacy.load('en', disable=['parser', 'ner'])\n",
    "\n",
    "# Do lemmatization keeping only noun, adj, vb, adv\n",
    "data_lemmatized = lemmatization(data_words_bigrams, allowed_postags=['NOUN', 'ADJ', 'VERB', 'ADV'])\n",
    "\n",
    "print(data_lemmatized[:1])"
   ]
  },
  {
   "cell_type": "markdown",
   "metadata": {},
   "source": [
    "### Create the Dictionary and Corpus needed for Topic Modeling <a name=\"a4\"></a>"
   ]
  },
  {
   "cell_type": "code",
   "execution_count": 9,
   "metadata": {
    "slideshow": {
     "slide_type": "slide"
    }
   },
   "outputs": [
    {
     "name": "stdout",
     "output_type": "stream",
     "text": [
      "[[(0, 1), (1, 1), (2, 1), (3, 1), (4, 1), (5, 1), (6, 1), (7, 1), (8, 1), (9, 2)]]\n"
     ]
    }
   ],
   "source": [
    "# Create Dictionary\n",
    "id2word = corpora.Dictionary(data_lemmatized)\n",
    "\n",
    "# Create Corpus\n",
    "texts = data_lemmatized\n",
    "\n",
    "# Term Document Frequency\n",
    "corpus = [id2word.doc2bow(text) for text in texts]\n",
    "\n",
    "# View\n",
    "print(corpus[:1])"
   ]
  },
  {
   "cell_type": "code",
   "execution_count": 10,
   "metadata": {
    "slideshow": {
     "slide_type": "slide"
    }
   },
   "outputs": [
    {
     "data": {
      "text/plain": [
       "[[('client', 1),\n",
       "  ('configure', 1),\n",
       "  ('context', 1),\n",
       "  ('describe', 1),\n",
       "  ('include', 1),\n",
       "  ('networking', 1),\n",
       "  ('role', 1),\n",
       "  ('server', 1),\n",
       "  ('tool', 1),\n",
       "  ('web', 2)]]"
      ]
     },
     "execution_count": 10,
     "metadata": {},
     "output_type": "execute_result"
    }
   ],
   "source": [
    "[[(id2word[id], freq) for id, freq in cp] for cp in corpus[:1]] #Human readable format of corpus (term-frequency)"
   ]
  },
  {
   "cell_type": "markdown",
   "metadata": {},
   "source": [
    "##### For topic modeling, we have chossed "
   ]
  },
  {
   "cell_type": "markdown",
   "metadata": {},
   "source": [
    "### Building the Topic Model <a name=\"a5\"></a>"
   ]
  },
  {
   "cell_type": "code",
   "execution_count": 11,
   "metadata": {
    "slideshow": {
     "slide_type": "slide"
    }
   },
   "outputs": [],
   "source": [
    "#model creation with LDA\n",
    "lda_model = gensim.models.ldamodel.LdaModel(corpus=corpus,\n",
    "                                           id2word=id2word,\n",
    "                                           num_topics=20, \n",
    "                                           random_state=100,\n",
    "                                           update_every=1,\n",
    "                                           chunksize=100,\n",
    "                                           passes=10,\n",
    "                                           alpha='auto',\n",
    "                                           per_word_topics=True) #chunksize is the number of documents to be used in each training chunk.update_every determines how often the model parameters should be updated andpasses is the total number of training passes."
   ]
  },
  {
   "cell_type": "markdown",
   "metadata": {},
   "source": [
    "### View the topics in LDA model <a name=\"a6\"></a>"
   ]
  },
  {
   "cell_type": "code",
   "execution_count": 12,
   "metadata": {
    "slideshow": {
     "slide_type": "slide"
    }
   },
   "outputs": [
    {
     "name": "stdout",
     "output_type": "stream",
     "text": [
      "[(0, '0.089*\"visualisation\" + 0.051*\"strategy\" + 0.050*\"professional\" + 0.043*\"computer\" + 0.043*\"group\" + 0.043*\"machine\" + 0.030*\"awareness\" + 0.023*\"work\" + 0.020*\"reflect\" + 0.020*\"result\"'), (1, '0.100*\"concept\" + 0.092*\"structure\" + 0.084*\"model\" + 0.078*\"analysis\" + 0.068*\"principle\" + 0.056*\"system\" + 0.053*\"management\" + 0.051*\"environment\" + 0.025*\"organisational\" + 0.024*\"critically\"'), (2, '0.102*\"develop\" + 0.080*\"solution\" + 0.078*\"conduct\" + 0.049*\"design\" + 0.035*\"present\" + 0.031*\"generate\" + 0.026*\"work\" + 0.020*\"assignment\" + 0.020*\"documentation\" + 0.020*\"laboratory\"'), (3, '0.137*\"network\" + 0.071*\"modern\" + 0.071*\"architecture\" + 0.067*\"infrastructure\" + 0.063*\"design\" + 0.058*\"performance\" + 0.027*\"improve\" + 0.017*\"discuss\" + 0.017*\"osi\" + 0.017*\"model\"'), (4, '0.074*\"design\" + 0.066*\"text\" + 0.045*\"industry\" + 0.036*\"evaluate\" + 0.030*\"information\" + 0.026*\"modelling\" + 0.024*\"manipulate\" + 0.024*\"range\" + 0.022*\"code\" + 0.021*\"role\"'), (5, '0.125*\"small\" + 0.078*\"deploy\" + 0.075*\"describe\" + 0.058*\"process\" + 0.057*\"switch\" + 0.049*\"use\" + 0.039*\"difference\" + 0.037*\"communication\" + 0.031*\"implement\" + 0.021*\"system\"'), (6, '0.117*\"construct\" + 0.110*\"network\" + 0.070*\"troubleshoot\" + 0.065*\"design\" + 0.051*\"technical\" + 0.049*\"team\" + 0.044*\"professional\" + 0.040*\"switch\" + 0.022*\"variety\" + 0.017*\"include\"'), (7, '0.154*\"analyse\" + 0.050*\"operate\" + 0.050*\"operation\" + 0.041*\"design\" + 0.039*\"system\" + 0.029*\"software\" + 0.025*\"life\" + 0.020*\"variety\" + 0.020*\"range\" + 0.020*\"long\"'), (8, '0.118*\"technique\" + 0.097*\"evaluate\" + 0.091*\"tool\" + 0.091*\"problem\" + 0.083*\"critically\" + 0.057*\"apply\" + 0.043*\"context\" + 0.039*\"datum\" + 0.037*\"analytic\" + 0.033*\"solve\"'), (9, '0.080*\"development\" + 0.041*\"topic\" + 0.033*\"relate\" + 0.023*\"design\" + 0.021*\"demonstrate\" + 0.021*\"software\" + 0.021*\"acquisition\" + 0.021*\"understanding\" + 0.021*\"management\" + 0.021*\"process\"'), (10, '0.111*\"appropriate\" + 0.099*\"data\" + 0.086*\"routing\" + 0.031*\"model\" + 0.025*\"implement\" + 0.021*\"networking\" + 0.015*\"apply\" + 0.011*\"requirement\" + 0.011*\"specific\" + 0.011*\"osi\"'), (11, '0.141*\"apply\" + 0.129*\"fundamental\" + 0.095*\"knowledge\" + 0.091*\"design\" + 0.046*\"process\" + 0.031*\"challenge\" + 0.028*\"approach\" + 0.025*\"principle\" + 0.024*\"user\" + 0.018*\"requirement\"'), (12, '0.176*\"practice\" + 0.064*\"scenario\" + 0.064*\"monitor\" + 0.049*\"evaluation\" + 0.040*\"quality\" + 0.037*\"demonstrate\" + 0.031*\"self\" + 0.031*\"peer\" + 0.031*\"reflective\" + 0.019*\"risk\"'), (13, '0.141*\"network\" + 0.085*\"security\" + 0.078*\"describe\" + 0.053*\"configure\" + 0.045*\"application\" + 0.045*\"issue\" + 0.042*\"implement\" + 0.036*\"web\" + 0.035*\"design\" + 0.028*\"service\"'), (14, '0.140*\"protocol\" + 0.107*\"different\" + 0.048*\"tree\" + 0.048*\"span\" + 0.045*\"management\" + 0.044*\"describe\" + 0.039*\"decision\" + 0.024*\"make\" + 0.019*\"implementation\" + 0.016*\"datum\"'), (15, '0.100*\"demonstrate\" + 0.085*\"understand\" + 0.057*\"presentation\" + 0.037*\"team\" + 0.037*\"learn\" + 0.035*\"web\" + 0.034*\"key\" + 0.028*\"impact\" + 0.027*\"page\" + 0.026*\"social\"'), (16, '0.084*\"report\" + 0.058*\"effective\" + 0.058*\"access\" + 0.052*\"technique\" + 0.051*\"research\" + 0.048*\"method\" + 0.037*\"use\" + 0.036*\"database\" + 0.033*\"scripting\" + 0.031*\"create\"'), (17, '0.217*\"program\" + 0.124*\"write\" + 0.061*\"language\" + 0.053*\"programming\" + 0.048*\"ip\" + 0.040*\"identify\" + 0.026*\"plan\" + 0.022*\"use\" + 0.018*\"suitable\" + 0.018*\"determine\"'), (18, '0.175*\"explain\" + 0.098*\"appraise\" + 0.088*\"research\" + 0.046*\"area\" + 0.025*\"type\" + 0.022*\"system\" + 0.021*\"value\" + 0.019*\"big\" + 0.018*\"datum\" + 0.017*\"operating\"'), (19, '0.526*\"technology\" + 0.020*\"engineering\" + 0.001*\"sdn\" + 0.001*\"size\" + 0.001*\"various\" + 0.001*\"option\" + 0.001*\"district\" + 0.001*\"campus\" + 0.001*\"vlan\" + 0.001*\"compete\"')]\n"
     ]
    }
   ],
   "source": [
    "# Print the Keyword in the 10 topics\n",
    "print(lda_model.print_topics())\n",
    "doc_lda = lda_model[corpus]"
   ]
  },
  {
   "cell_type": "markdown",
   "metadata": {},
   "source": [
    "### Compute Model Perplexity and Coherence Score <a name=\"a7\"></a>"
   ]
  },
  {
   "cell_type": "code",
   "execution_count": 13,
   "metadata": {
    "slideshow": {
     "slide_type": "slide"
    }
   },
   "outputs": [
    {
     "name": "stdout",
     "output_type": "stream",
     "text": [
      "\n",
      "Perplexity:  -10.057259336701945\n",
      "\n",
      "Coherence Score:  0.38297249453993565\n"
     ]
    }
   ],
   "source": [
    "#computing the pperplexity conhenrence\n",
    "\n",
    "# Compute Perplexity\n",
    "print('\\nPerplexity: ', lda_model.log_perplexity(corpus))  # a measure of how good the model is. lower the better.\n",
    "\n",
    "# Compute Coherence Score\n",
    "coherence_model_lda = CoherenceModel(model=lda_model, texts=data_lemmatized, dictionary=id2word, coherence='c_v')\n",
    "coherence_lda = coherence_model_lda.get_coherence()\n",
    "print('\\nCoherence Score: ', coherence_lda)"
   ]
  },
  {
   "cell_type": "markdown",
   "metadata": {},
   "source": [
    "## Visualization  <a name=\"a8\"></a>"
   ]
  },
  {
   "cell_type": "markdown",
   "metadata": {},
   "source": [
    "### Visualize the topics-keywords"
   ]
  },
  {
   "cell_type": "code",
   "execution_count": 14,
   "metadata": {
    "slideshow": {
     "slide_type": "slide"
    }
   },
   "outputs": [
    {
     "name": "stderr",
     "output_type": "stream",
     "text": [
      "C:\\Users\\HARSHA VARDHANI\\anaconda3\\lib\\site-packages\\pyLDAvis\\_prepare.py:228: FutureWarning: In a future version of pandas all arguments of DataFrame.drop except for the argument 'labels' will be keyword-only\n",
      "  default_term_info  = pd.DataFrame({'saliency': saliency, 'Term': vocab, \\\n"
     ]
    },
    {
     "data": {
      "text/html": [
       "\n",
       "<link rel=\"stylesheet\" type=\"text/css\" href=\"https://cdn.rawgit.com/bmabey/pyLDAvis/files/ldavis.v1.0.0.css\">\n",
       "\n",
       "\n",
       "<div id=\"ldavis_el140282424508133152295887944\"></div>\n",
       "<script type=\"text/javascript\">\n",
       "\n",
       "var ldavis_el140282424508133152295887944_data = {\"mdsDat\": {\"x\": [-0.29083212120343105, 0.11567966726332769, -0.012908045174240367, 0.044221041440368154, 0.09126659958120789, 0.07801622669037553, -0.17247394429731086, 0.11794475563425208, -0.07450800050192401, -0.020407765829098486, 0.019031802728696694, 0.07216908313004933, -0.00021615924971033265, 0.05441133124952245, -0.047425907329900804, 0.07612179975196869, -0.0414294496203796, -0.11839000031140307, 0.06491542728864688, 0.044813658758983285], \"y\": [-0.07899445595489062, -0.24267298356353093, -0.030202031480739664, 0.12304540624166402, -0.16719462584088082, 0.055104754912929016, -0.017481587397547974, -0.030682242183174488, -0.038330766731755846, 0.038417777520956084, -0.025475033209411697, -0.0224033350813454, 0.010648274798621996, 0.07690084538510202, 0.04999567232119662, 0.11182170462997376, 0.044032836754944134, 0.03453414503048055, 0.07804292728692135, 0.030892716560487726], \"topics\": [1, 2, 3, 4, 5, 6, 7, 8, 9, 10, 11, 12, 13, 14, 15, 16, 17, 18, 19, 20], \"cluster\": [1, 1, 1, 1, 1, 1, 1, 1, 1, 1, 1, 1, 1, 1, 1, 1, 1, 1, 1, 1], \"Freq\": [12.613880882479656, 8.217069341572953, 6.86545705507875, 6.44621613270248, 5.936956335078534, 5.815622811797381, 5.769856484913139, 5.690029137505859, 5.276745150938227, 5.1935929256866356, 5.076714151309342, 4.3533678029033736, 3.6878974708891468, 3.4228659290434518, 3.294495732934568, 3.126321644217224, 2.932545136540139, 2.3661908601020785, 1.968094640165745, 1.9460803741413168]}, \"tinfo\": {\"Term\": [\"network\", \"technology\", \"program\", \"apply\", \"analyse\", \"explain\", \"technique\", \"design\", \"describe\", \"fundamental\", \"protocol\", \"practice\", \"write\", \"small\", \"evaluate\", \"construct\", \"security\", \"demonstrate\", \"tool\", \"develop\", \"research\", \"problem\", \"knowledge\", \"concept\", \"different\", \"critically\", \"structure\", \"model\", \"understand\", \"report\", \"configure\", \"issue\", \"application\", \"security\", \"component\", \"current\", \"independent\", \"server\", \"service\", \"client\", \"test\", \"implement\", \"network\", \"web\", \"comment\", \"interaction\", \"commercial\", \"audit\", \"available\", \"describe\", \"interpret\", \"networking\", \"privacy\", \"relate\", \"internet\", \"log\", \"architectural\", \"host\", \"rate\", \"statistical\", \"role\", \"develop\", \"use\", \"social\", \"design\", \"analyse\", \"tool\", \"research\", \"context\", \"solution\", \"include\", \"problem\", \"analytic\", \"solve\", \"evaluate\", \"tool\", \"context\", \"technique\", \"relevant\", \"critically\", \"ethical\", \"human\", \"participant\", \"guideline\", \"treatment\", \"give\", \"datum\", \"specific\", \"organisational\", \"apply\", \"science\", \"professional\", \"analytical\", \"theory\", \"derive\", \"finance\", \"business\", \"complex\", \"critical\", \"thinking\", \"resolve\", \"advanced\", \"various\", \"social\", \"practice\", \"fundamental\", \"knowledge\", \"approach\", \"build\", \"challenge\", \"user\", \"evidence\", \"apply\", \"base\", \"usability\", \"requirement\", \"accord\", \"prototype\", \"scholarly\", \"elicitation\", \"vulnerable\", \"inject\", \"process\", \"interface\", \"principle\", \"specification\", \"design\", \"software\", \"business\", \"advanced\", \"coherent\", \"skill\", \"object_oriente\", \"customer\", \"friendly\", \"shell\", \"write\", \"understand\", \"presentation\", \"understand\", \"key\", \"impact\", \"page\", \"practical\", \"demonstrate\", \"learn\", \"working\", \"mark\", \"popular\", \"science\", \"potential\", \"vulnerability\", \"verify\", \"lifecycle\", \"cultural\", \"perspective\", \"social\", \"monitoring\", \"awareness\", \"team\", \"project\", \"web\", \"create\", \"language\", \"concept\", \"knowledge\", \"market\", \"world\", \"fundamental\", \"report\", \"method\", \"effective\", \"scripting\", \"access\", \"unauthorised\", \"database\", \"webpage\", \"drive\", \"create\", \"code\", \"allow\", \"escalation\", \"privilege\", \"innovation\", \"dataset\", \"spreadsheet\", \"transform\", \"exhibit\", \"research\", \"execution\", \"flaw\", \"insight\", \"information\", \"variety\", \"technique\", \"use\", \"datum\", \"critically\", \"relate\", \"apply\", \"analyse\", \"describe\", \"software\", \"program\", \"write\", \"programming\", \"ip\", \"identify\", \"language\", \"suitable\", \"determine\", \"task\", \"plan\", \"assembly\", \"shell\", \"understanding\", \"trend\", \"dhcp\", \"configuration\", \"cpu\", \"forward\", \"reverse\", \"recommendation\", \"insight\", \"automate\", \"address\", \"requirement\", \"make\", \"use\", \"datum\", \"socket\", \"tcp\", \"debug\", \"analyse\", \"variety\", \"construct\", \"troubleshoot\", \"technical\", \"accessibility\", \"face\", \"factor\", \"socio\", \"simple\", \"router\", \"pattern\", \"team\", \"professional\", \"switch\", \"thread\", \"single\", \"iterate\", \"usability\", \"human\", \"include\", \"variety\", \"ethical\", \"common\", \"network\", \"multi\", \"challenge\", \"design\", \"solution\", \"develop\", \"structure\", \"understand\", \"problem\", \"datum\", \"software\", \"environment\", \"analysis\", \"structure\", \"concept\", \"model\", \"principle\", \"prescriptive\", \"future\", \"collaboratively\", \"organisational\", \"management\", \"system\", \"relational\", \"handle\", \"diagnostic\", \"influence\", \"review\", \"create\", \"interpret\", \"database\", \"present\", \"requirement\", \"critically\", \"include\", \"datum\", \"business\", \"financial\", \"object_oriente\", \"advanced\", \"coherent\", \"small\", \"deploy\", \"difference\", \"communication\", \"procedure\", \"segmentation\", \"switch\", \"manage\", \"cloud\", \"process\", \"operating\", \"lan\", \"site\", \"cost\", \"scalable\", \"reliable\", \"signal\", \"protect\", \"platform\", \"hadoop\", \"sql\", \"nosql\", \"mapreduce\", \"secure\", \"use\", \"describe\", \"attack\", \"implement\", \"variety\", \"system\", \"design\", \"web\", \"effective\", \"base\", \"operate\", \"operation\", \"life\", \"long\", \"analyse\", \"society\", \"mentor\", \"balance\", \"activity\", \"testing\", \"correct\", \"organisation\", \"review\", \"range\", \"software\", \"ict\", \"utility\", \"source\", \"detect\", \"modify\", \"maintain\", \"window\", \"install\", \"file\", \"prioritise\", \"penetration\", \"virtualisation\", \"secure\", \"flaw\", \"work\", \"perspective\", \"system\", \"variety\", \"role\", \"design\", \"manage\", \"learn\", \"professional\", \"user\", \"operating\", \"code\", \"protocol\", \"different\", \"span\", \"tree\", \"decision\", \"implementation\", \"eliminate\", \"loop\", \"switched\", \"select\", \"make\", \"multi\", \"lan\", \"level\", \"physical\", \"storage\", \"transaction\", \"resource\", \"perform\", \"domain\", \"strategic\", \"priority\", \"increase\", \"support\", \"dashboard\", \"direct\", \"indirect\", \"referencing\", \"management\", \"processing\", \"describe\", \"datum\", \"access\", \"design\", \"database\", \"query\", \"user\", \"organisation\", \"explain\", \"appraise\", \"area\", \"type\", \"value\", \"big\", \"memory\", \"research\", \"attack\", \"command\", \"line\", \"computing\", \"violation\", \"corruption\", \"feature\", \"response\", \"project\", \"operating\", \"common\", \"include\", \"automate\", \"osi\", \"plan\", \"privacy\", \"interface\", \"cloud\", \"system\", \"datum\", \"principle\", \"role\", \"use\", \"text\", \"industry\", \"modelling\", \"manipulate\", \"standard\", \"professionalism\", \"regulatory\", \"obligation\", \"legislative\", \"unstructured\", \"functional\", \"structured\", \"find\", \"organise\", \"information\", \"query\", \"range\", \"level\", \"retrieval\", \"dependency\", \"normalization\", \"ict\", \"semi\", \"processing\", \"code\", \"role\", \"conduct\", \"evaluate\", \"design\", \"challenge\", \"visualisation\", \"computer\", \"group\", \"machine\", \"strategy\", \"reflect\", \"result\", \"behaviour\", \"change\", \"articulate\", \"stakeholder\", \"ethic\", \"awareness\", \"alter\", \"instruction\", \"work\", \"professional\", \"cultural\", \"code\", \"associate\", \"interactive\", \"communicate\", \"idiom\", \"reason\", \"skill\", \"choice\", \"sustainable\", \"respect\", \"accountability\", \"global\", \"norm\", \"integrity\", \"implement\", \"effectively\", \"business\", \"small\", \"conduct\", \"generate\", \"solution\", \"present\", \"documentation\", \"assignment\", \"laboratory\", \"contemporary\", \"purpose\", \"develop\", \"internal\", \"comparative\", \"internet\", \"work\", \"relate\", \"approach\", \"design\", \"analysis\", \"innovative\", \"sdn\", \"corporate\", \"startup\", \"skill\", \"personal\", \"discover\", \"order\", \"business\", \"integrity\", \"sustainable\", \"respect\", \"global\", \"accountability\", \"opportunity\", \"financial\", \"norm\", \"advanced\", \"application\", \"practice\", \"scenario\", \"monitor\", \"evaluation\", \"quality\", \"self\", \"reflective\", \"peer\", \"risk\", \"disaster\", \"recovery\", \"define\", \"demonstrate\", \"strategy\", \"plan\", \"compete\", \"assess\", \"good\", \"sdn\", \"scale\", \"enterprise\", \"connectivity\", \"campus\", \"proficiently\", \"diverse\", \"audience\", \"member\", \"construction\", \"accept\", \"leader\", \"system\", \"communicate\", \"development\", \"topic\", \"acquisition\", \"subnet\", \"scheme\", \"locate\", \"systematic\", \"address\", \"specification\", \"rop\", \"subvert\", \"gadget\", \"normal\", \"give\", \"understanding\", \"execution\", \"relate\", \"software\", \"service\", \"management\", \"process\", \"demonstrate\", \"security\", \"independently\", \"construction\", \"accept\", \"object_oriente\", \"customer\", \"regard\", \"entrepreneurial\", \"debug\", \"good\", \"design\", \"network\", \"skill\", \"business\", \"program\", \"application\", \"modern\", \"architecture\", \"infrastructure\", \"performance\", \"improve\", \"discuss\", \"osi\", \"sized\", \"binary\", \"engineer\", \"medium\", \"inner\", \"hardware\", \"semi\", \"reverse\", \"automate\", \"network\", \"working\", \"strategy\", \"model\", \"design\", \"traditional\", \"deficiency\", \"sdn\", \"mitigate\", \"threat\", \"assess\", \"campus\", \"connectivity\", \"characteristic\", \"state\", \"use\", \"technology\", \"engineering\", \"sdn\", \"size\", \"district\", \"vlan\", \"option\", \"compete\", \"assess\", \"campus\", \"field\", \"emerge\", \"various\", \"prepare\", \"simulated\", \"workflow\", \"improvement\", \"contexts\", \"readiness\", \"enable\", \"building\", \"analyst\", \"wide\", \"thinking\", \"critical\", \"focus\", \"cybersecurity\", \"disseminate\", \"policy\", \"relation\", \"world\", \"diverse\", \"coherent\", \"communicate\", \"business\", \"advanced\", \"appropriate\", \"data\", \"routing\", \"transition\", \"networking\", \"justify\", \"specific\", \"osi\", \"model\", \"requirement\", \"implement\", \"dynamic\", \"various\", \"class\", \"collection\", \"predictive\", \"descriptive\", \"ajax\", \"object\", \"library\", \"multiple\", \"recommend\", \"description\", \"textual\", \"diagram\", \"well\", \"oral\", \"effect\", \"stream\", \"cognition\", \"static\", \"apply\", \"emerge\", \"business\", \"communicate\", \"object_oriente\"], \"Freq\": [59.0, 22.0, 27.0, 33.0, 24.0, 16.0, 27.0, 50.0, 34.0, 19.0, 15.0, 12.0, 15.0, 14.0, 20.0, 14.0, 24.0, 18.0, 19.0, 15.0, 16.0, 17.0, 16.0, 15.0, 12.0, 20.0, 12.0, 12.0, 13.0, 11.0, 13.856524598440332, 11.758634814751673, 11.848291404064847, 22.20350345933697, 5.556523220301502, 4.764556681368478, 4.764325748617028, 3.5514649850860045, 7.237660433790772, 2.1990092791432696, 2.1989394622649243, 11.049583386417211, 36.90120621957519, 9.49271582231298, 1.4068672215545457, 1.4068672215545457, 1.4068672215545457, 1.4068519643695927, 1.4067249025333037, 20.433822332518787, 1.9670839562697355, 1.966799196169772, 1.4069104299023327, 4.606743683662999, 1.4357321066809847, 0.6146283113557403, 0.614627456953383, 0.614587788272505, 0.614587788272505, 0.6145863846114893, 2.9887773187533, 5.826474330377199, 6.060490741991657, 1.965947601134433, 9.072703340947786, 5.054687310435506, 2.7595631366171816, 1.6898504087297324, 1.4345050628383214, 1.4070366373362644, 1.4070236992434242, 15.475671828354674, 6.35979898096439, 5.666029513916554, 16.642918022745867, 15.541474679292966, 7.306445201320779, 20.223729689982346, 2.4358739929254885, 14.145705936158553, 2.4359228132875015, 1.742138397985498, 0.7611337744506393, 0.7611337744506393, 0.7611337744506393, 1.454972894001934, 6.581251959630586, 0.761149279288738, 1.7339818990017672, 9.756411899398014, 0.8316773687835516, 1.8636774048246065, 0.0676978651713972, 0.06769247823405782, 0.06767856860526363, 0.06767856860526363, 0.06775101396737931, 0.0675725244577683, 0.06755048472797114, 0.06755048472797114, 0.06753490534738171, 0.06757170449036887, 0.067559936715812, 0.0688803973073778, 0.06782368295696757, 18.334162482788894, 13.542892176269035, 3.987589172407007, 1.7244846520216992, 4.4716761584036115, 3.4906550697927967, 1.4402830532709419, 20.173403168267786, 2.4033467183168713, 2.14208582981304, 2.5563585717628667, 0.753501087425215, 0.753501087425215, 0.7534999580609321, 0.7534999580609321, 0.7534522590282746, 0.7534522590282746, 6.6226330782262455, 1.4402619275155308, 3.5607258788313896, 0.7534999580609321, 12.916838519513954, 1.5282285101157966, 0.06707714251341593, 0.06692946152511835, 0.0668886632403958, 0.06683580317904805, 0.06684091023076888, 0.06680833305369446, 0.06680472074881875, 0.12781269697418543, 0.06692967743299598, 0.0668479106284935, 7.62908036486723, 11.325537219242745, 4.546286350283644, 3.710251776766385, 3.594379069489691, 3.0370194435703417, 13.452015685767607, 4.940810801125215, 2.758369696051317, 1.6905899574864018, 1.6905749871425098, 2.6899434976948866, 1.411888811786681, 1.411888811786681, 1.4118885622809494, 1.4118728434198626, 2.5596169233903385, 2.758369696051317, 3.4315536251354426, 0.7386269745378837, 2.2657306093636325, 5.019405605570377, 1.4118730929255943, 4.738597882979301, 1.6905897079806704, 1.7037366639867417, 2.363826532279881, 2.035549720499838, 0.06559372352444358, 0.06557518992682296, 0.6521578939583257, 10.418686932524874, 5.863901442037694, 7.212224921130124, 4.060925524912331, 7.167198998339342, 1.8624292541066965, 4.488371679884675, 1.510104050904898, 1.510104050904898, 3.8120445873198947, 3.8120167821925204, 0.6597777565050341, 0.6597777565050341, 0.6597777565050341, 0.6597668987176918, 0.6597653476052142, 0.6597653476052142, 0.6597653476052142, 0.6597653476052142, 6.315891481675945, 0.6597777565050341, 0.6597777565050341, 0.6597653476052142, 1.2611424554636332, 2.064607918460464, 6.359355261856073, 4.569027230769316, 3.681255702396395, 2.4075572786705983, 0.8402892179039101, 2.410685700191848, 1.2096593088777046, 0.8464612093490307, 0.6597777565050341, 26.196611120835815, 14.987898150539678, 6.393949417476917, 5.799561136912697, 4.832551707774661, 7.392071010328776, 2.1670665581627735, 2.167010058531094, 1.9384976358518515, 3.191404205211906, 1.157850778669719, 1.108723223434001, 1.938456893089565, 0.6057405984907868, 0.6057346896647646, 0.6057346896647646, 0.6057122924004137, 0.6057032884750465, 0.6057032884750465, 0.6057237724052569, 0.6057406547653204, 0.6057348022138317, 0.6057346896647646, 0.988837645405739, 0.7893081269145772, 2.700733941737536, 0.9214737648294283, 0.053888095883798934, 0.053888095883798934, 0.053796980379672885, 0.6392933887244564, 0.06262612759715717, 14.002703743307318, 8.372878490010669, 6.1599465927020045, 1.2135747803866153, 1.2135747803866153, 1.2135747803866153, 1.2135747803866153, 1.2135737754164049, 1.2135737754164049, 1.213498179323901, 5.903521520355124, 5.217697689637273, 4.793220605377378, 0.5302042494477234, 0.5302042494477234, 0.530108274792617, 1.4030747548695737, 1.2135746687232587, 2.0751926901927504, 2.599530984353242, 1.213574557059902, 0.5302042494477234, 13.229960262406752, 0.5302042494477234, 1.2135747803866153, 7.838897171689995, 1.2134735017220644, 1.996675037623559, 1.2135677455951417, 1.2135829318116564, 1.213581480188019, 0.5685732304425661, 0.5302042494477234, 5.978645654224899, 9.259262000129365, 10.850879090341486, 11.809932537240776, 9.9442173673985, 8.011436527105094, 1.3749966660746353, 1.3749509669106552, 1.3749293836910403, 2.9300090562939802, 6.249269716444817, 6.5812923123084435, 0.6007812512454105, 0.6007812512454105, 0.6007800950015025, 0.6007800950015025, 1.1238144597519915, 1.3750463295034427, 0.6007105551893254, 1.1483869552834045, 0.6342912368889847, 0.8794398872038606, 2.887510155213959, 0.8571290598156001, 1.2008327474072136, 0.053586949801706175, 0.05337245279197599, 0.053369249032814425, 0.05331299226077007, 0.05328285421271743, 13.664795503403129, 8.512757148001784, 4.280733023613078, 4.110962633134405, 1.975751763301973, 1.2640520805754183, 6.207761386617898, 1.6502995915113217, 1.5452950768731277, 6.384864826632615, 2.0142235178657213, 1.264052182695649, 0.5522767267578123, 0.5522767267578123, 0.5522767267578123, 0.5522767267578123, 0.5522744801127338, 0.5522713143855779, 0.5522534433451811, 0.5522039150332245, 0.5522039150332245, 0.5522039150332245, 0.5522035065523012, 0.5522767778179277, 5.341597604211883, 8.243569853435469, 0.5522713143855779, 3.4319055800751124, 1.264060454434347, 2.262851559078726, 0.8145127993311874, 0.5561357992210798, 0.5530622355734213, 0.5522671785162289, 5.34631855915711, 5.346297652870033, 2.6548232596800316, 2.115727308407396, 16.653843754145985, 1.3536040917067023, 1.3536040917067023, 1.3536040917067023, 1.353581376221705, 1.3535723302321043, 1.3535264972181278, 1.3536040917067023, 1.60091149679987, 2.115754044332216, 3.1248315709986656, 1.3536040917067023, 0.5914051902263495, 0.5914051902263495, 0.5914051902263495, 0.5914051902263495, 0.5914017225970026, 0.5914017225970026, 0.5914017225970026, 0.5913987575226336, 0.5913672473255246, 0.5913672473255246, 0.5913316664330954, 0.5914016723415049, 0.5914051902263495, 1.5657677266903554, 1.3536040917067023, 4.242446499289536, 2.1273765327931202, 1.802087571281589, 4.37628372462905, 0.9398630418360483, 1.3536040917067023, 1.4605139187799747, 0.8223078439452348, 0.6430113045106044, 0.5914051902263495, 14.775334160318584, 11.296910492873863, 5.057783503775989, 5.057783503775989, 4.16457344810958, 2.0015206959447025, 1.2805429027567474, 1.2805429027567474, 1.2805429027567474, 1.2804857218071262, 2.5529820270140577, 1.2805429027567474, 1.2805429027567474, 1.2805319971117166, 0.5594767836689479, 0.5594767836689479, 0.5594767836689479, 0.5594760959255676, 0.5594760959255676, 0.5594760959255676, 0.5594735414501549, 0.5594735414501549, 0.5594735414501549, 0.5594735414501549, 0.5594735414501549, 0.5594255467871135, 0.5594255467871135, 0.5594255467871135, 4.716292977693722, 0.5594767836689479, 4.658782697242199, 1.7307822613587576, 1.2805213862138487, 1.3467421330753107, 0.5836077830280323, 0.5594767836689479, 0.5594760959255676, 0.5594735414501549, 15.839429054372886, 8.825345049691798, 4.190286999587614, 2.2224791095354637, 1.9339374492420134, 1.7299784574830572, 1.0332993418559473, 7.918386743763725, 1.0333331261930354, 1.0333372544536772, 0.5405953519043831, 0.5405911815186328, 0.5405884012614659, 0.5405884012614659, 0.5405871796333169, 0.5405532267957943, 1.0333128218906957, 1.5260661403444173, 0.5405953519043831, 1.5213787952615292, 0.5405953519043831, 0.5405532267957943, 1.1045415782519024, 0.5405504044135189, 0.5405953519043831, 0.5405729413466139, 1.9524190823833754, 1.6512759486062507, 1.0816145666513863, 0.542786194551867, 1.308075948916284, 5.093462768494176, 3.46786898952971, 2.0156094788372227, 1.8031125552203084, 1.2895869947770056, 1.2895869947770056, 1.2895869947770056, 1.2895869947770056, 1.2895869947770056, 1.2895568760260387, 1.2895356073345976, 1.289506059555213, 1.0769685969559548, 1.0769685969559548, 2.316658099668992, 1.0769821575310348, 1.8030902873285983, 1.2895869947770056, 0.563433936653059, 0.5634160224196639, 0.5634160224196639, 1.2895869947770056, 0.563433936653059, 0.563433936653059, 1.6991272106497897, 1.5883441639060647, 1.2895869947770056, 2.7413790224864756, 5.68763349716628, 0.5634262642224217, 6.351257264434997, 3.0841047936033243, 3.084095519678048, 3.0840406710342707, 3.6024353410421863, 1.4505863214934955, 1.4505602220180749, 1.4505542602089687, 1.4505252460713183, 1.4505155746921015, 1.4505059033128846, 1.211415365700683, 2.112411519826166, 0.6337932356113223, 0.6337932356113223, 1.61186186931974, 3.560629810742657, 1.043442255282148, 0.9899062693851511, 0.056218713051762244, 0.0562146184481469, 0.05622388409313288, 0.05620049227268125, 0.05620049227268125, 0.05621869649118139, 0.05620049227268125, 0.05619860850660948, 0.05619860850660948, 0.05619860850660948, 0.05619860850660948, 0.05619860850660948, 0.05619860850660948, 0.13697306103363782, 0.05620049227268125, 0.05621770285633035, 0.056317612840602674, 5.338608504561825, 2.1127362742094182, 5.472363586501759, 2.395250478367915, 1.3516642880731824, 1.3516642880731824, 1.3516642880731824, 1.3515830603938794, 1.351543912987999, 6.98105258262146, 0.5905609330058498, 0.5905609330058498, 1.3238624890030497, 1.750600582033038, 1.2340324541689256, 0.6545610758856004, 3.366612127616502, 0.6329521541454216, 0.05237953590361303, 0.05240307854143294, 0.052361954637861266, 0.0523646284885683, 0.05237823284969172, 0.05235634791961268, 0.0523546224690074, 0.0523546224690074, 0.052429287060211126, 0.052351263219907504, 0.052351263219907504, 0.052351263219907504, 0.052351263219907504, 0.052351263219907504, 0.0523546224690074, 0.052361954637861266, 0.052351263219907504, 0.0523567623465479, 0.055922766653499205, 11.437381340192347, 4.156424819421966, 4.156339630724043, 3.182279958006286, 2.609397097088717, 2.0025001073852935, 2.0025001073852935, 2.0025001073852935, 1.227260449045691, 0.5362356874265249, 0.5362356874265249, 0.5360484295997697, 2.4137970702840406, 0.5864183648634651, 0.5362352639031689, 0.0476046075759625, 0.0476046075759625, 0.047593739664126986, 0.0476046075759625, 0.04757329709927564, 0.04757329709927564, 0.04755850403347865, 0.04757329709927564, 0.047545121451716, 0.047545121451716, 0.047545121451716, 0.047545121451716, 0.047532389280821714, 0.047532389280821714, 0.04753678711710031, 0.38513093366404444, 0.047545121451716, 4.858930429489665, 2.497730236884474, 1.273543113501414, 1.2735426594757935, 1.2735426594757935, 1.2734335798205174, 1.0634816904062683, 1.2735426594757935, 1.2735426594757935, 0.5564323475245149, 0.5564323475245149, 0.5564323475245149, 0.5564323475245149, 1.2735426594757935, 1.2735429999950088, 0.5564323475245149, 2.0082211522852202, 1.273543113501414, 1.273448222146772, 1.2735429999950088, 1.2735428864886036, 1.2735444755782748, 1.2732657038474129, 0.04932790437724818, 0.049324463714344374, 0.049324463714344374, 0.04934488777310739, 0.04931815346763729, 0.049316426042035066, 0.049316426042035066, 0.04933021352317641, 0.04932959278502366, 1.4061021361991806, 1.2729588960344977, 0.04932790083017303, 0.049337701398836135, 0.05112838908650999, 0.049342724057260666, 3.4947102719725858, 3.4946930539495105, 3.2997297152565657, 2.829237160343582, 1.3057890430105916, 0.8354411927596255, 0.8354411927596255, 0.3650160903678924, 0.3650160903678924, 0.3650160903678924, 0.3650160903678924, 0.3650096336092391, 0.3650096336092391, 0.3650160903678924, 0.3650160903678924, 0.3650160903678924, 6.760321192311859, 0.3650096336092391, 0.36501164848427986, 0.8354409180039382, 3.106049302453203, 0.03251421311690796, 0.03251421311690796, 0.03249073009175264, 0.03241169490105622, 0.03241169490105622, 0.03241169490105622, 0.03241169490105622, 0.03237456567676129, 0.032349514254557205, 0.032349514254557205, 0.4050220296059511, 21.4991162477655, 0.8337948946198538, 0.03240714630664572, 0.03236225923914753, 0.03236225923914753, 0.0323622544781094, 0.03236225923914753, 0.03236223067291875, 0.03236223067291875, 0.0323622544781094, 0.03234484574218374, 0.03234484574218374, 0.03236225923914753, 0.032312773008814896, 0.032312773008814896, 0.0322919077592062, 0.0322919077592062, 0.03228899162335102, 0.03228899162335102, 0.03228899162335102, 0.03228899162335102, 0.03228899162335102, 0.0322919077592062, 0.03228899162335102, 0.03228899162335102, 0.03228354023469113, 0.03228354023469113, 0.03228354023469113, 0.03228354023469113, 0.03228354023469113, 0.0322919077592062, 0.03228899162335102, 0.03228899162335102, 0.03228899162335102, 0.032302912898845786, 0.03228899162335102, 4.499371362485185, 3.9911627773127023, 3.4801804416080664, 0.4489919414352823, 0.8581862422038165, 0.44899593363542906, 0.44900113102807293, 0.44899702584112955, 1.2674748869475168, 0.44900211024697684, 1.0211432573979442, 0.03985992934616053, 0.03985323017067842, 0.03981474404308441, 0.03981474404308441, 0.03980615233875914, 0.03980615233875914, 0.039808256717845936, 0.03980049829114564, 0.03980049829114564, 0.03980049829114564, 0.03979797962713796, 0.03979797962713796, 0.03979797962713796, 0.03979797962713796, 0.03979492898362959, 0.03979492898362959, 0.03979314944158304, 0.03979314944158304, 0.039791986619134634, 0.03979797962713796, 0.5972386783075233, 0.03979797962713796, 0.03981689550000312, 0.03979797962713796, 0.03979797962713796], \"Total\": [59.0, 22.0, 27.0, 33.0, 24.0, 16.0, 27.0, 50.0, 34.0, 19.0, 15.0, 12.0, 15.0, 14.0, 20.0, 14.0, 24.0, 18.0, 19.0, 15.0, 16.0, 17.0, 16.0, 15.0, 12.0, 20.0, 12.0, 12.0, 13.0, 11.0, 14.827055503871737, 12.729228432674878, 12.862776719055672, 24.39799868381852, 6.527054135511582, 5.735087583729601, 5.734856669479177, 4.521997780826394, 9.432336874976423, 3.1695401815043915, 3.1694703681432044, 16.465423447237054, 59.00637757039231, 15.643587010124968, 2.377398123915668, 2.377398123915668, 2.377398123915668, 2.3773828667307146, 2.377255808484964, 34.99618652506087, 3.485092012965678, 3.755984206469519, 2.8700877266603007, 9.49972445164326, 3.6777941351151937, 1.5851592137168622, 1.5851583593145049, 1.585118690633627, 1.585118690633627, 1.5851172869726111, 7.742287479562955, 15.675417020766258, 21.115095919126645, 6.304015340355542, 50.454320198626284, 24.363466885563433, 19.2043059487441, 16.788335559007752, 9.644033864098304, 8.964088843314512, 6.683128146271727, 17.59981774724771, 7.317351392685007, 6.6235792830010976, 20.291934888558995, 19.2043059487441, 9.644033864098304, 27.483364221051833, 3.3934255776672293, 20.286636219985322, 4.5600618090524225, 3.8662775054137763, 1.718683543535182, 1.718683543535182, 1.718683543535182, 3.6367585800354183, 17.291451694626414, 2.127913790336434, 5.568303060033641, 33.7327630852621, 4.413721645112909, 12.9045149044053, 1.0252922394910502, 1.0252918322287872, 1.0252283567612874, 1.0252283567612874, 1.0266010713857774, 1.0251924868302968, 1.0251717803411102, 1.0251717803411102, 1.0251292605955535, 1.0257438173316822, 1.0260082274857805, 6.304015340355542, 12.415255551665851, 19.879137382819675, 16.473675475740304, 5.548051987302564, 2.682714485786699, 7.110043955912346, 5.7287555930133625, 2.398520974473177, 33.7327630852621, 4.4316198502270066, 4.456405084626888, 5.685166086000164, 1.7117309177490128, 1.7117309177490128, 1.7117297883847298, 1.7117297883847298, 1.7116820893520723, 1.7116820893520723, 15.14102417862457, 3.430187948680178, 13.510865128548346, 2.935965705333671, 50.454320198626284, 7.867654575083802, 1.0266010713857774, 1.0257438173316822, 1.0252690175477812, 1.025404463934841, 1.0255156054681414, 1.0250612141363327, 1.0250625634971986, 2.141087840230976, 15.959379747795463, 13.451760430139673, 8.58862729831627, 13.451760430139673, 5.505833274373203, 4.66980233092553, 4.5539259935792495, 3.9965699404673636, 18.002130778645057, 7.201556711495994, 4.050587333748958, 2.6501368815759614, 2.650121911232069, 4.413721645112909, 2.3714370210613818, 2.37143710473949, 2.371436908225258, 2.371421928141747, 4.506445437981646, 5.019120287757685, 6.304015340355542, 1.6981738986274426, 5.281528376300389, 11.835504127920267, 3.356830819811914, 15.643587010124968, 7.7255272063408995, 10.00194592151016, 15.080068329263566, 16.473675475740304, 1.0252224770766774, 1.02530894984847, 19.879137382819675, 11.385221691431616, 6.831328224333648, 8.682883573020838, 5.027460274459593, 9.364679649720278, 2.8290077084541196, 7.084133990470538, 2.47663880045216, 2.9865342878905157, 7.7255272063408995, 7.900500518532367, 1.6263125060522963, 1.6263125060522963, 1.6263125060522963, 1.6263016482649537, 1.6263000971524761, 1.6263000971524761, 1.6263000971524761, 1.6263000971524761, 16.788335559007752, 2.133438111049959, 2.1653110339015136, 2.178362841416788, 4.494413311985381, 8.882727167222386, 27.483364221051833, 21.115095919126645, 17.291451694626414, 20.286636219985322, 9.49972445164326, 33.7327630852621, 24.363466885563433, 34.99618652506087, 7.867654575083802, 27.169783295901123, 15.959379747795463, 7.36527436111126, 6.770889165734889, 5.803876530167129, 10.00194592151016, 3.1383892679809975, 3.138332773318818, 2.909821985470498, 5.708089221344104, 2.1291782466524487, 2.141087840230976, 4.134017555161219, 1.5770633083090109, 1.5770573994829886, 1.5770573994829886, 1.5770350050806758, 1.5770259982932704, 1.909696916118874, 2.1372221636682585, 2.178362841416788, 2.4024197958337843, 2.80129331643193, 5.685166086000164, 4.8242591310854674, 21.115095919126645, 17.291451694626414, 1.0252577190521814, 1.0252577190521814, 1.0253559034226527, 24.363466885563433, 8.882727167222386, 14.980719033247027, 9.35089378302066, 7.137961882641714, 2.1915900703263245, 2.1915900703263245, 2.1915900703263245, 2.1915900703263245, 2.1915890653561143, 2.1915890653561143, 2.1915134730779067, 11.835504127920267, 12.9045149044053, 11.93007573746524, 1.5082195393874327, 1.5082195393874327, 1.5081235730364753, 4.456405084626888, 3.8662775054137763, 6.683128146271727, 8.882727167222386, 4.5600618090524225, 2.0009109156871636, 59.00637757039231, 2.739184388132381, 7.110043955912346, 50.454320198626284, 8.964088843314512, 15.675417020766258, 12.989224461529687, 13.451760430139673, 17.59981774724771, 17.291451694626414, 7.867654575083802, 6.95041023160748, 10.811645739520353, 12.989224461529687, 15.080068329263566, 12.946778334646664, 13.510865128548346, 2.3467596317245016, 2.346713931187388, 2.3466923499304353, 5.568303060033641, 13.40571072653963, 16.19914870911756, 1.5725442072179938, 1.5725442072179938, 1.5725430509740856, 1.5725430509740856, 3.6440822501473127, 7.7255272063408995, 3.485092012965678, 7.084133990470538, 3.9489743788776024, 5.685166086000164, 20.286636219985322, 6.683128146271727, 17.291451694626414, 1.0266010713857774, 1.0255088034342186, 1.0255156054681414, 1.0257438173316822, 1.0252690175477812, 14.641012207963596, 9.488819525280192, 5.256794460147813, 5.087023557073943, 2.951812683101365, 2.2401130003748104, 11.93007573746524, 3.51381689076963, 3.5895180297664737, 15.14102417862457, 5.0590575078367195, 3.47107795123999, 1.528337646557204, 1.528337646557204, 1.528337646557204, 1.528337646557204, 1.5283353999121256, 1.5283322341849697, 1.5283143631445733, 1.5282651436188968, 1.5282651615715876, 1.528265179524278, 1.5282652952619238, 2.0673327075816923, 21.115095919126645, 34.99618652506087, 2.5137613503613325, 16.465423447237054, 8.882727167222386, 16.19914870911756, 50.454320198626284, 15.643587010124968, 8.682883573020838, 4.4316198502270066, 6.3189125170992115, 6.318891610812134, 3.627417217622132, 3.0883212663494968, 24.363466885563433, 2.3261980496488026, 2.3261980496488026, 2.3261980496488026, 2.3261753341638056, 2.3261662881742047, 2.326120455160228, 2.8360935370871587, 3.6440822501473127, 4.841512415996822, 7.867654575083802, 3.5658570455286256, 1.5639991481684496, 1.5639991481684496, 1.5639991481684496, 1.5639991481684496, 1.5639956805391029, 1.5639956805391029, 1.5639956805391029, 1.5639927154647337, 1.5639612052676248, 1.5639612052676248, 1.563925627566453, 2.0673327075816923, 2.1653110339015136, 5.792330933661531, 5.019120287757685, 16.19914870911756, 8.882727167222386, 7.742287479562955, 50.454320198626284, 3.51381689076963, 7.201556711495994, 12.9045149044053, 5.7287555930133625, 5.0590575078367195, 7.900500518532367, 15.750756726626017, 12.272344175061301, 6.0332060700834225, 6.0332060700834225, 5.139996023526659, 2.976943262252136, 2.255965469064181, 2.255965469064181, 2.255965469064181, 2.2559082881145596, 4.8242591310854674, 2.739184388132381, 3.47107795123999, 3.495613559298973, 1.5348993499763812, 1.5348993499763812, 1.5348993499763812, 1.5348986622330008, 1.5348986622330008, 1.5348986622330008, 1.5348961077575882, 1.5348961077575882, 1.5348961077575882, 1.5348961077575882, 1.5348961077575882, 1.5348481183601856, 1.5348481183601856, 1.5348481183601856, 13.40571072653963, 2.0484052877322574, 34.99618652506087, 17.291451694626414, 9.364679649720278, 50.454320198626284, 7.084133990470538, 2.5619549160855453, 5.7287555930133625, 2.8360935370871587, 16.816531532224154, 9.80244339708632, 5.167383609890174, 3.19982481675254, 2.9110340595445727, 2.7070804175694225, 2.0104080091596432, 16.788335559007752, 2.5137613503613325, 2.5494260184021744, 1.5176919862953573, 1.5176877918211924, 1.5176850115640252, 1.5176850115640252, 1.5176837899358764, 1.517649837098354, 3.356830819811914, 5.0590575078367195, 2.0009109156871636, 6.683128146271727, 2.4024197958337843, 2.7299564940919008, 5.708089221344104, 2.8700877266603007, 3.430187948680178, 3.5895180297664737, 16.19914870911756, 17.291451694626414, 13.510865128548346, 7.742287479562955, 21.115095919126645, 6.068535389916225, 4.442941615921259, 2.990682113532921, 2.77818658411767, 2.2646596161990553, 2.2646596161990553, 2.2646596161990553, 2.2646596161990553, 2.2646596161990553, 2.2646294974480883, 2.2646082287566474, 2.264578684567801, 2.0520632208852128, 2.0520632279793634, 4.494413311985381, 2.5619549160855453, 4.841512415996822, 3.495613559298973, 1.5385065580751085, 1.5384886474322517, 1.5384886474322517, 3.5658570455286256, 1.871177475900712, 2.0484052877322574, 7.900500518532367, 7.742287479562955, 7.550936755299502, 20.291934888558995, 50.454320198626284, 7.110043955912346, 7.3200960531575445, 4.052943582325872, 4.052934308400595, 4.052879472523371, 5.442846737929249, 2.419425110216043, 2.419399010740622, 2.419393052420996, 2.4193640347938654, 2.419354367399523, 2.41934470052209, 2.180255322382805, 5.281528376300389, 1.6026320243338692, 1.6026320243338692, 5.792330933661531, 12.9045149044053, 4.506445437981646, 7.900500518532367, 1.025157202727141, 1.0251685105043218, 1.0254660981800452, 1.0250713138078102, 1.0250713138078102, 1.025404463934841, 1.02511095916395, 1.025079807919235, 1.025079807919235, 1.025079807919235, 1.025079807919235, 1.025079807919235, 1.025079807919235, 16.465423447237054, 1.0252111338807384, 1.0266010713857774, 14.641012207963596, 7.550936755299502, 3.085405523801634, 8.964088843314512, 3.9489743788776024, 2.3243335376653977, 2.3243335376653977, 2.3243335376653977, 2.324252309986095, 2.3242131661707526, 15.675417020766258, 1.5632301825980652, 1.5632301825980652, 3.6777941351151937, 5.792330933661531, 9.49972445164326, 5.548051987302564, 50.454320198626284, 10.811645739520353, 1.0251831642263787, 1.0257332513168618, 1.0250589781730994, 1.025123093526243, 1.025404463934841, 1.0250553275687513, 1.025066531128779, 1.025066531128779, 1.0266010713857774, 1.025079807919235, 1.025079807919235, 1.025079807919235, 1.025079807919235, 1.025079807919235, 1.025186067999683, 1.0255088034342186, 1.025079807919235, 1.0257438173316822, 12.862776719055672, 12.415255551665851, 5.13390865655832, 5.133822944821997, 4.159769251154443, 3.5868804073027936, 2.9799859738641907, 2.9799859738641907, 2.9799859738641907, 2.204743757117976, 1.5137189913586642, 1.5137189913586642, 1.513532226929436, 18.002130778645057, 5.442846737929249, 5.708089221344104, 1.0252280136516232, 1.0254149254799325, 1.025351220967781, 1.0257332513168618, 1.0251876152403196, 1.0251876152403196, 1.0251985015669651, 1.0255435104468218, 1.0251386771354947, 1.0252246967748095, 1.025232620045075, 1.025236258159961, 1.0250454433791365, 1.0250454433791365, 1.0251895952541235, 16.19914870911756, 1.0254660981800452, 5.834624307282045, 3.473426576991803, 2.2492369912937944, 2.2492365372681737, 2.2492365372681737, 2.249127461203436, 2.039176939933831, 2.80129331643193, 2.935965705333671, 1.532126225316895, 1.532126225316895, 1.532126225316895, 1.532126225316895, 3.6367585800354183, 4.134017555161219, 2.133438111049959, 9.49972445164326, 7.867654575083802, 9.432336874976423, 13.40571072653963, 15.14102417862457, 18.002130778645057, 24.39799868381852, 1.025097788014391, 1.0250454433791365, 1.0250454433791365, 1.0255156054681414, 1.0250612141363327, 1.0250564513307232, 1.0250564513307232, 1.0253559034226527, 1.025351220967781, 50.454320198626284, 59.00637757039231, 1.025404463934841, 1.0266010713857774, 27.169783295901123, 12.862776719055672, 4.487369837082841, 4.487377551260746, 4.292385163033509, 3.82189261920576, 2.29844449492768, 1.8280966405365686, 2.7299564940919008, 1.3576715381448357, 1.3576715381448357, 1.3576715381448357, 1.3576715381448357, 1.3576650813861824, 1.3576650813861824, 1.871177475900712, 1.909696916118874, 2.4024197958337843, 59.00637757039231, 4.050587333748958, 5.442846737929249, 12.946778334646664, 50.454320198626284, 1.025232841406, 1.025232841406, 1.0257332513168618, 1.0251875359618379, 1.0252253265060736, 1.0254149254799325, 1.0255435104468218, 1.0251985015669651, 1.0250543088510504, 1.0250543088510504, 21.115095919126645, 22.513734010990735, 1.8265125443687362, 1.0257332513168618, 1.0251638069138849, 1.0251638069138849, 1.0251637983385506, 1.0252129845603373, 1.0252280136516232, 1.0254149254799325, 1.0255435104468218, 1.0252222431668314, 1.0252577226663901, 1.0260082274857805, 1.0252359952474357, 1.0252359952474357, 1.025044103146784, 1.0251144597363513, 1.0250465962882844, 1.0250576206172406, 1.0250576206172406, 1.0250576206172406, 1.0250576206172406, 1.0252153619879867, 1.0251717803411102, 1.0251717803411102, 1.0250232581674064, 1.0250232581674064, 1.0250232581674064, 1.0250232581674064, 1.0250232581674064, 1.02530894984847, 1.0252246967748095, 1.0252690175477812, 1.0254660981800452, 1.0266010713857774, 1.0257438173316822, 5.484585598708997, 4.976388813493961, 4.465394679144317, 1.4342061726895952, 3.755984206469519, 1.9943750442475725, 2.127913790336434, 2.7299564940919008, 12.946778334646664, 5.685166086000164, 16.465423447237054, 1.0257760450324076, 1.0260082274857805, 1.0250819541157559, 1.0250819541157559, 1.0250756970699346, 1.0250756970699346, 1.0251578206812606, 1.0250411607149406, 1.0250411607149406, 1.0250411607149406, 1.0250355314886517, 1.0250534597140093, 1.0250534597140093, 1.0250534597140093, 1.0250627073949088, 1.0250627073949088, 1.0250586568026303, 1.0250586568026303, 1.0250709772465778, 1.0252461298059792, 33.7327630852621, 1.0252577226663901, 1.0266010713857774, 1.0254660981800452, 1.0255156054681414], \"Category\": [\"Default\", \"Default\", \"Default\", \"Default\", \"Default\", \"Default\", \"Default\", \"Default\", \"Default\", \"Default\", \"Default\", \"Default\", \"Default\", \"Default\", \"Default\", \"Default\", \"Default\", \"Default\", \"Default\", \"Default\", \"Default\", \"Default\", \"Default\", \"Default\", \"Default\", \"Default\", \"Default\", \"Default\", \"Default\", \"Default\", \"Topic1\", \"Topic1\", \"Topic1\", \"Topic1\", \"Topic1\", \"Topic1\", \"Topic1\", \"Topic1\", \"Topic1\", \"Topic1\", \"Topic1\", \"Topic1\", \"Topic1\", \"Topic1\", \"Topic1\", \"Topic1\", \"Topic1\", \"Topic1\", \"Topic1\", \"Topic1\", \"Topic1\", \"Topic1\", \"Topic1\", \"Topic1\", \"Topic1\", \"Topic1\", \"Topic1\", \"Topic1\", \"Topic1\", \"Topic1\", \"Topic1\", \"Topic1\", \"Topic1\", \"Topic1\", \"Topic1\", \"Topic1\", \"Topic1\", \"Topic1\", \"Topic1\", \"Topic1\", \"Topic1\", \"Topic2\", \"Topic2\", \"Topic2\", \"Topic2\", \"Topic2\", \"Topic2\", \"Topic2\", \"Topic2\", \"Topic2\", \"Topic2\", \"Topic2\", \"Topic2\", \"Topic2\", \"Topic2\", \"Topic2\", \"Topic2\", \"Topic2\", \"Topic2\", \"Topic2\", \"Topic2\", \"Topic2\", \"Topic2\", \"Topic2\", \"Topic2\", \"Topic2\", \"Topic2\", \"Topic2\", \"Topic2\", \"Topic2\", \"Topic2\", \"Topic2\", \"Topic2\", \"Topic2\", \"Topic2\", \"Topic3\", \"Topic3\", \"Topic3\", \"Topic3\", \"Topic3\", \"Topic3\", \"Topic3\", \"Topic3\", \"Topic3\", \"Topic3\", \"Topic3\", \"Topic3\", \"Topic3\", \"Topic3\", \"Topic3\", \"Topic3\", \"Topic3\", \"Topic3\", \"Topic3\", \"Topic3\", \"Topic3\", \"Topic3\", \"Topic3\", \"Topic3\", \"Topic3\", \"Topic3\", \"Topic3\", \"Topic3\", \"Topic3\", \"Topic3\", \"Topic3\", \"Topic3\", \"Topic3\", \"Topic4\", \"Topic4\", \"Topic4\", \"Topic4\", \"Topic4\", \"Topic4\", \"Topic4\", \"Topic4\", \"Topic4\", \"Topic4\", \"Topic4\", \"Topic4\", \"Topic4\", \"Topic4\", \"Topic4\", \"Topic4\", \"Topic4\", \"Topic4\", \"Topic4\", \"Topic4\", \"Topic4\", \"Topic4\", \"Topic4\", \"Topic4\", \"Topic4\", \"Topic4\", \"Topic4\", \"Topic4\", \"Topic4\", \"Topic4\", \"Topic4\", \"Topic5\", \"Topic5\", \"Topic5\", \"Topic5\", \"Topic5\", \"Topic5\", \"Topic5\", \"Topic5\", \"Topic5\", \"Topic5\", \"Topic5\", \"Topic5\", \"Topic5\", \"Topic5\", \"Topic5\", \"Topic5\", \"Topic5\", \"Topic5\", \"Topic5\", \"Topic5\", \"Topic5\", \"Topic5\", \"Topic5\", \"Topic5\", \"Topic5\", \"Topic5\", \"Topic5\", \"Topic5\", \"Topic5\", \"Topic5\", \"Topic5\", \"Topic5\", \"Topic5\", \"Topic5\", \"Topic6\", \"Topic6\", \"Topic6\", \"Topic6\", \"Topic6\", \"Topic6\", \"Topic6\", \"Topic6\", \"Topic6\", \"Topic6\", \"Topic6\", \"Topic6\", \"Topic6\", \"Topic6\", \"Topic6\", \"Topic6\", \"Topic6\", \"Topic6\", \"Topic6\", \"Topic6\", \"Topic6\", \"Topic6\", \"Topic6\", \"Topic6\", \"Topic6\", \"Topic6\", \"Topic6\", \"Topic6\", \"Topic6\", \"Topic6\", \"Topic6\", \"Topic6\", \"Topic7\", \"Topic7\", \"Topic7\", \"Topic7\", \"Topic7\", \"Topic7\", \"Topic7\", \"Topic7\", \"Topic7\", \"Topic7\", \"Topic7\", \"Topic7\", \"Topic7\", \"Topic7\", \"Topic7\", \"Topic7\", \"Topic7\", \"Topic7\", \"Topic7\", \"Topic7\", \"Topic7\", \"Topic7\", \"Topic7\", \"Topic7\", \"Topic7\", \"Topic7\", \"Topic7\", \"Topic7\", \"Topic7\", \"Topic7\", \"Topic7\", \"Topic7\", \"Topic7\", \"Topic8\", \"Topic8\", \"Topic8\", \"Topic8\", \"Topic8\", \"Topic8\", \"Topic8\", \"Topic8\", \"Topic8\", \"Topic8\", \"Topic8\", \"Topic8\", \"Topic8\", \"Topic8\", \"Topic8\", \"Topic8\", \"Topic8\", \"Topic8\", \"Topic8\", \"Topic8\", \"Topic8\", \"Topic8\", \"Topic8\", \"Topic8\", \"Topic8\", \"Topic8\", \"Topic8\", \"Topic8\", \"Topic8\", \"Topic8\", \"Topic9\", \"Topic9\", \"Topic9\", \"Topic9\", \"Topic9\", \"Topic9\", \"Topic9\", \"Topic9\", \"Topic9\", \"Topic9\", \"Topic9\", \"Topic9\", \"Topic9\", \"Topic9\", \"Topic9\", \"Topic9\", \"Topic9\", \"Topic9\", \"Topic9\", \"Topic9\", \"Topic9\", \"Topic9\", \"Topic9\", \"Topic9\", \"Topic9\", \"Topic9\", \"Topic9\", \"Topic9\", \"Topic9\", \"Topic9\", \"Topic9\", \"Topic9\", \"Topic9\", \"Topic9\", \"Topic10\", \"Topic10\", \"Topic10\", \"Topic10\", \"Topic10\", \"Topic10\", \"Topic10\", \"Topic10\", \"Topic10\", \"Topic10\", \"Topic10\", \"Topic10\", \"Topic10\", \"Topic10\", \"Topic10\", \"Topic10\", \"Topic10\", \"Topic10\", \"Topic10\", \"Topic10\", \"Topic10\", \"Topic10\", \"Topic10\", \"Topic10\", \"Topic10\", \"Topic10\", \"Topic10\", \"Topic10\", \"Topic10\", \"Topic10\", \"Topic10\", \"Topic10\", \"Topic10\", \"Topic10\", \"Topic10\", \"Topic10\", \"Topic10\", \"Topic10\", \"Topic10\", \"Topic10\", \"Topic10\", \"Topic11\", \"Topic11\", \"Topic11\", \"Topic11\", \"Topic11\", \"Topic11\", \"Topic11\", \"Topic11\", \"Topic11\", \"Topic11\", \"Topic11\", \"Topic11\", \"Topic11\", \"Topic11\", \"Topic11\", \"Topic11\", \"Topic11\", \"Topic11\", \"Topic11\", \"Topic11\", \"Topic11\", \"Topic11\", \"Topic11\", \"Topic11\", \"Topic11\", \"Topic11\", \"Topic11\", \"Topic11\", \"Topic11\", \"Topic11\", \"Topic11\", \"Topic11\", \"Topic11\", \"Topic11\", \"Topic11\", \"Topic11\", \"Topic11\", \"Topic11\", \"Topic12\", \"Topic12\", \"Topic12\", \"Topic12\", \"Topic12\", \"Topic12\", \"Topic12\", \"Topic12\", \"Topic12\", \"Topic12\", \"Topic12\", \"Topic12\", \"Topic12\", \"Topic12\", \"Topic12\", \"Topic12\", \"Topic12\", \"Topic12\", \"Topic12\", \"Topic12\", \"Topic12\", \"Topic12\", \"Topic12\", \"Topic12\", \"Topic12\", \"Topic12\", \"Topic12\", \"Topic12\", \"Topic12\", \"Topic12\", \"Topic12\", \"Topic13\", \"Topic13\", \"Topic13\", \"Topic13\", \"Topic13\", \"Topic13\", \"Topic13\", \"Topic13\", \"Topic13\", \"Topic13\", \"Topic13\", \"Topic13\", \"Topic13\", \"Topic13\", \"Topic13\", \"Topic13\", \"Topic13\", \"Topic13\", \"Topic13\", \"Topic13\", \"Topic13\", \"Topic13\", \"Topic13\", \"Topic13\", \"Topic13\", \"Topic13\", \"Topic13\", \"Topic13\", \"Topic13\", \"Topic13\", \"Topic14\", \"Topic14\", \"Topic14\", \"Topic14\", \"Topic14\", \"Topic14\", \"Topic14\", \"Topic14\", \"Topic14\", \"Topic14\", \"Topic14\", \"Topic14\", \"Topic14\", \"Topic14\", \"Topic14\", \"Topic14\", \"Topic14\", \"Topic14\", \"Topic14\", \"Topic14\", \"Topic14\", \"Topic14\", \"Topic14\", \"Topic14\", \"Topic14\", \"Topic14\", \"Topic14\", \"Topic14\", \"Topic14\", \"Topic14\", \"Topic14\", \"Topic14\", \"Topic14\", \"Topic14\", \"Topic14\", \"Topic14\", \"Topic15\", \"Topic15\", \"Topic15\", \"Topic15\", \"Topic15\", \"Topic15\", \"Topic15\", \"Topic15\", \"Topic15\", \"Topic15\", \"Topic15\", \"Topic15\", \"Topic15\", \"Topic15\", \"Topic15\", \"Topic15\", \"Topic15\", \"Topic15\", \"Topic15\", \"Topic15\", \"Topic15\", \"Topic15\", \"Topic15\", \"Topic15\", \"Topic15\", \"Topic15\", \"Topic15\", \"Topic15\", \"Topic15\", \"Topic15\", \"Topic15\", \"Topic15\", \"Topic15\", \"Topic15\", \"Topic15\", \"Topic15\", \"Topic15\", \"Topic16\", \"Topic16\", \"Topic16\", \"Topic16\", \"Topic16\", \"Topic16\", \"Topic16\", \"Topic16\", \"Topic16\", \"Topic16\", \"Topic16\", \"Topic16\", \"Topic16\", \"Topic16\", \"Topic16\", \"Topic16\", \"Topic16\", \"Topic16\", \"Topic16\", \"Topic16\", \"Topic16\", \"Topic16\", \"Topic16\", \"Topic16\", \"Topic16\", \"Topic16\", \"Topic16\", \"Topic16\", \"Topic16\", \"Topic16\", \"Topic16\", \"Topic16\", \"Topic17\", \"Topic17\", \"Topic17\", \"Topic17\", \"Topic17\", \"Topic17\", \"Topic17\", \"Topic17\", \"Topic17\", \"Topic17\", \"Topic17\", \"Topic17\", \"Topic17\", \"Topic17\", \"Topic17\", \"Topic17\", \"Topic17\", \"Topic17\", \"Topic17\", \"Topic17\", \"Topic17\", \"Topic17\", \"Topic17\", \"Topic17\", \"Topic17\", \"Topic17\", \"Topic17\", \"Topic17\", \"Topic17\", \"Topic17\", \"Topic17\", \"Topic17\", \"Topic17\", \"Topic17\", \"Topic17\", \"Topic17\", \"Topic17\", \"Topic17\", \"Topic18\", \"Topic18\", \"Topic18\", \"Topic18\", \"Topic18\", \"Topic18\", \"Topic18\", \"Topic18\", \"Topic18\", \"Topic18\", \"Topic18\", \"Topic18\", \"Topic18\", \"Topic18\", \"Topic18\", \"Topic18\", \"Topic18\", \"Topic18\", \"Topic18\", \"Topic18\", \"Topic18\", \"Topic18\", \"Topic18\", \"Topic18\", \"Topic18\", \"Topic18\", \"Topic18\", \"Topic18\", \"Topic18\", \"Topic18\", \"Topic18\", \"Topic18\", \"Topic19\", \"Topic19\", \"Topic19\", \"Topic19\", \"Topic19\", \"Topic19\", \"Topic19\", \"Topic19\", \"Topic19\", \"Topic19\", \"Topic19\", \"Topic19\", \"Topic19\", \"Topic19\", \"Topic19\", \"Topic19\", \"Topic19\", \"Topic19\", \"Topic19\", \"Topic19\", \"Topic19\", \"Topic19\", \"Topic19\", \"Topic19\", \"Topic19\", \"Topic19\", \"Topic19\", \"Topic19\", \"Topic19\", \"Topic19\", \"Topic19\", \"Topic19\", \"Topic19\", \"Topic19\", \"Topic19\", \"Topic19\", \"Topic20\", \"Topic20\", \"Topic20\", \"Topic20\", \"Topic20\", \"Topic20\", \"Topic20\", \"Topic20\", \"Topic20\", \"Topic20\", \"Topic20\", \"Topic20\", \"Topic20\", \"Topic20\", \"Topic20\", \"Topic20\", \"Topic20\", \"Topic20\", \"Topic20\", \"Topic20\", \"Topic20\", \"Topic20\", \"Topic20\", \"Topic20\", \"Topic20\", \"Topic20\", \"Topic20\", \"Topic20\", \"Topic20\", \"Topic20\", \"Topic20\", \"Topic20\", \"Topic20\", \"Topic20\", \"Topic20\", \"Topic20\"], \"logprob\": [30.0, 29.0, 28.0, 27.0, 26.0, 25.0, 24.0, 23.0, 22.0, 21.0, 20.0, 19.0, 18.0, 17.0, 16.0, 15.0, 14.0, 13.0, 12.0, 11.0, 10.0, 9.0, 8.0, 7.0, 6.0, 5.0, 4.0, 3.0, 2.0, 1.0, -2.940000057220459, -3.1041998863220215, -3.09660005569458, -2.4684998989105225, -3.853800058364868, -4.007599830627441, -4.007599830627441, -4.301400184631348, -3.5894999504089355, -4.780799865722656, -4.780799865722656, -3.1663999557495117, -1.9605000019073486, -3.3183000087738037, -5.227399826049805, -5.227399826049805, -5.227399826049805, -5.227399826049805, -5.227499961853027, -2.5515999794006348, -4.892199993133545, -4.892399787902832, -5.227399826049805, -4.041299819946289, -5.207099914550781, -6.055500030517578, -6.055500030517578, -6.055600166320801, -6.055600166320801, -6.055600166320801, -4.473899841308594, -3.8064000606536865, -3.7669999599456787, -4.8927998542785645, -3.3635001182556152, -3.948499917984009, -4.553699970245361, -5.044099807739258, -5.208000183105469, -5.22730016708374, -5.22730016708374, -2.400899887084961, -3.2901999950408936, -3.4056999683380127, -2.328200101852417, -2.396699905395508, -3.151400089263916, -2.1333000659942627, -4.249899864196777, -2.490799903869629, -4.249899864196777, -4.585100173950195, -5.4131999015808105, -5.4131999015808105, -5.4131999015808105, -4.765200138092041, -3.25600004196167, -5.413099765777588, -4.589799880981445, -2.862299919128418, -5.32450008392334, -4.5177001953125, -7.832900047302246, -7.833000183105469, -7.833199977874756, -7.833199977874756, -7.832099914550781, -7.834799766540527, -7.835100173950195, -7.835100173950195, -7.835299968719482, -7.834799766540527, -7.83489990234375, -7.8155999183654785, -7.830999851226807, -2.0517001152038574, -2.354599952697754, -3.5773000717163086, -4.415599822998047, -3.4626998901367188, -3.710400104522705, -4.595699787139893, -1.9560999870300293, -4.083600044250488, -4.198699951171875, -4.021900177001953, -5.243500232696533, -5.243500232696533, -5.243500232696533, -5.243500232696533, -5.243599891662598, -5.243599891662598, -3.069999933242798, -4.595699787139893, -3.690500020980835, -5.243500232696533, -2.4019999504089355, -4.536399841308594, -7.662399768829346, -7.664599895477295, -7.665200233459473, -7.665999889373779, -7.665900230407715, -7.666399955749512, -7.666500091552734, -7.0177001953125, -7.664599895477295, -7.665800094604492, -2.865499973297119, -2.470400094985962, -3.38319993019104, -3.586400032043457, -3.6180999279022217, -3.786600112915039, -2.2983999252319336, -3.299999952316284, -3.8828001022338867, -4.372399806976318, -4.372399806976318, -3.9079999923706055, -4.552599906921387, -4.552599906921387, -4.552599906921387, -4.552599906921387, -3.9576001167297363, -3.8828001022338867, -3.6644999980926514, -5.200399875640869, -4.079599857330322, -3.2841999530792236, -4.552599906921387, -3.3417000770568848, -4.372399806976318, -4.364699840545654, -4.037199974060059, -4.186699867248535, -7.621799945831299, -7.622000217437744, -5.324999809265137, -2.47160005569458, -3.0464000701904297, -2.839400053024292, -3.413800001144409, -2.8457000255584717, -4.193299770355225, -3.313699960708618, -4.4029998779296875, -4.4029998779296875, -3.4769999980926514, -3.4769999980926514, -5.230999946594238, -5.230999946594238, -5.230999946594238, -5.231100082397461, -5.231100082397461, -5.231100082397461, -5.231100082397461, -5.231100082397461, -2.972100019454956, -5.230999946594238, -5.230999946594238, -5.231100082397461, -4.583199977874756, -4.090199947357178, -2.9653000831604004, -3.2959001064300537, -3.511899948120117, -3.9365999698638916, -4.989200115203857, -3.93530011177063, -4.624800205230713, -4.981900215148926, -5.230999946594238, -1.5289000272750854, -2.0873000621795654, -2.939199924468994, -3.036799907684326, -3.2191998958587646, -2.794100046157837, -4.021200180053711, -4.021200180053711, -4.132599830627441, -3.6340999603271484, -4.6479997634887695, -4.691299915313721, -4.132599830627441, -5.29580020904541, -5.295899868011475, -5.295899868011475, -5.295899868011475, -5.295899868011475, -5.295899868011475, -5.295899868011475, -5.29580020904541, -5.295899868011475, -5.295899868011475, -4.805799961090088, -5.031099796295166, -3.8010001182556152, -4.876299858093262, -7.715400218963623, -7.715400218963623, -7.717100143432617, -5.2418999671936035, -7.565100193023682, -2.14739990234375, -2.661600112915039, -2.968600034713745, -4.593100070953369, -4.593100070953369, -4.593100070953369, -4.593100070953369, -4.593100070953369, -4.593100070953369, -4.593100070953369, -3.0111000537872314, -3.1345999240875244, -3.219399929046631, -5.42110013961792, -5.42110013961792, -5.421299934387207, -4.447999954223633, -4.593100070953369, -4.056600093841553, -3.8313000202178955, -4.593100070953369, -5.42110013961792, -2.204200029373169, -5.42110013961792, -4.593100070953369, -2.7274999618530273, -4.593200206756592, -4.095200061798096, -4.593100070953369, -4.593100070953369, -4.593100070953369, -5.35129976272583, -5.42110013961792, -2.984499931335449, -2.547100067138672, -2.3884999752044678, -2.303800106048584, -2.4756999015808105, -2.691800117492676, -4.4542999267578125, -4.4542999267578125, -4.4542999267578125, -3.697700023651123, -2.940200090408325, -2.8884999752044678, -5.282199859619141, -5.282199859619141, -5.282199859619141, -5.282199859619141, -4.656000137329102, -4.45419979095459, -5.282299995422363, -4.634300231933594, -5.228000164031982, -4.901199817657471, -3.7123000621795654, -4.9268999099731445, -4.589700222015381, -7.69920015335083, -7.703199863433838, -7.703199863433838, -7.7042999267578125, -7.704800128936768, -2.0824999809265137, -2.5557000637054443, -3.2432000637054443, -3.283600091934204, -4.01639986038208, -4.4629998207092285, -2.871500015258789, -4.196300029754639, -4.2621002197265625, -2.843400001525879, -3.9971001148223877, -4.4629998207092285, -5.290999889373779, -5.290999889373779, -5.290999889373779, -5.290999889373779, -5.290999889373779, -5.290999889373779, -5.290999889373779, -5.291100025177002, -5.291100025177002, -5.291100025177002, -5.291100025177002, -5.290999889373779, -3.0218000411987305, -2.587899923324585, -5.290999889373779, -3.464200019836426, -4.4629998207092285, -3.88070011138916, -4.902500152587891, -5.283999919891357, -5.289599895477295, -5.290999889373779, -3.005000114440918, -3.005000114440918, -3.7049999237060547, -3.931999921798706, -1.8688000440597534, -4.378600120544434, -4.378600120544434, -4.378600120544434, -4.378699779510498, -4.378699779510498, -4.378699779510498, -4.378600120544434, -4.2108001708984375, -3.931999921798706, -3.5420000553131104, -4.378600120544434, -5.206699848175049, -5.206699848175049, -5.206699848175049, -5.206699848175049, -5.206699848175049, -5.206699848175049, -5.206699848175049, -5.206699848175049, -5.206699848175049, -5.206699848175049, -5.2067999839782715, -5.206699848175049, -5.206699848175049, -4.232999801635742, -4.378600120544434, -3.236299991607666, -3.926500082015991, -4.09250020980835, -3.205199956893921, -4.7434000968933105, -4.378600120544434, -4.302599906921387, -4.877099990844727, -5.123000144958496, -5.206699848175049, -1.9657000303268433, -2.234100103378296, -3.0376999378204346, -3.0376999378204346, -3.2320001125335693, -3.9646999835968018, -4.411399841308594, -4.411399841308594, -4.411399841308594, -4.411399841308594, -3.721400022506714, -4.411399841308594, -4.411399841308594, -4.411399841308594, -5.2393999099731445, -5.2393999099731445, -5.2393999099731445, -5.2393999099731445, -5.2393999099731445, -5.2393999099731445, -5.2393999099731445, -5.2393999099731445, -5.2393999099731445, -5.2393999099731445, -5.2393999099731445, -5.239500045776367, -5.239500045776367, -5.239500045776367, -3.107599973678589, -5.2393999099731445, -3.1198999881744385, -4.110099792480469, -4.411399841308594, -4.361000061035156, -5.197199821472168, -5.2393999099731445, -5.2393999099731445, -5.2393999099731445, -1.742400050163269, -2.3273000717163086, -3.072200059890747, -3.7063000202178955, -3.845400094985962, -3.9567999839782715, -4.4721999168396, -2.435800075531006, -4.4721999168396, -4.472099781036377, -5.119999885559082, -5.119999885559082, -5.119999885559082, -5.119999885559082, -5.119999885559082, -5.120100021362305, -4.4721999168396, -4.082200050354004, -5.119999885559082, -4.085299968719482, -5.119999885559082, -5.120100021362305, -4.4054999351501465, -5.120100021362305, -5.119999885559082, -5.120100021362305, -3.835900068283081, -4.003399848937988, -4.426499843597412, -5.116000175476074, -4.236400127410889, -2.7111001014709473, -3.0954999923706055, -3.6380999088287354, -3.749500036239624, -4.084700107574463, -4.084700107574463, -4.084700107574463, -4.084700107574463, -4.084700107574463, -4.084700107574463, -4.084799766540527, -4.084799766540527, -4.264900207519531, -4.264900207519531, -3.4988999366760254, -4.264900207519531, -3.749500036239624, -4.084700107574463, -4.912799835205078, -4.912799835205078, -4.912799835205078, -4.084700107574463, -4.912799835205078, -4.912799835205078, -3.8089001178741455, -3.8763999938964844, -4.084700107574463, -3.3306000232696533, -2.600800037384033, -4.912799835205078, -2.415800094604492, -3.138200044631958, -3.138200044631958, -3.138200044631958, -2.9828999042510986, -3.8924999237060547, -3.8924999237060547, -3.8924999237060547, -3.8924999237060547, -3.8926000595092773, -3.8926000595092773, -4.072700023651123, -3.5165998935699463, -4.7204999923706055, -4.7204999923706055, -3.787100076675415, -2.994499921798706, -4.22189998626709, -4.274600028991699, -7.14300012588501, -7.14300012588501, -7.142899990081787, -7.1433000564575195, -7.1433000564575195, -7.14300012588501, -7.1433000564575195, -7.1433000564575195, -7.1433000564575195, -7.1433000564575195, -7.1433000564575195, -7.1433000564575195, -7.1433000564575195, -6.252399921417236, -7.1433000564575195, -7.14300012588501, -7.141200065612793, -2.551300048828125, -3.478300094604492, -2.5264999866485596, -3.352799892425537, -3.9249000549316406, -3.9249000549316406, -3.9249000549316406, -3.924999952316284, -3.924999952316284, -2.2829999923706055, -4.752900123596191, -4.752900123596191, -3.94569993019104, -3.666300058364868, -4.015999794006348, -4.650000095367432, -3.0123000144958496, -4.683599948883057, -7.17549991607666, -7.175000190734863, -7.17579984664917, -7.17579984664917, -7.17549991607666, -7.175899982452393, -7.176000118255615, -7.176000118255615, -7.174499988555908, -7.176000118255615, -7.176000118255615, -7.176000118255615, -7.176000118255615, -7.176000118255615, -7.176000118255615, -7.17579984664917, -7.176000118255615, -7.175899982452393, -7.110000133514404, -1.7369999885559082, -2.7492001056671143, -2.7492001056671143, -3.0162999629974365, -3.2146999835968018, -3.4795000553131104, -3.4795000553131104, -3.4795000553131104, -3.969099998474121, -4.796999931335449, -4.796999931335449, -4.797399997711182, -3.29259991645813, -4.707600116729736, -4.796999931335449, -7.218699932098389, -7.218699932098389, -7.218900203704834, -7.218699932098389, -7.219299793243408, -7.219299793243408, -7.219600200653076, -7.219299793243408, -7.219900131225586, -7.219900131225586, -7.219900131225586, -7.219900131225586, -7.220200061798096, -7.220200061798096, -7.220099925994873, -5.127999782562256, -7.219900131225586, -2.5290000438690186, -3.194499969482422, -3.8680999279022217, -3.8680999279022217, -3.8680999279022217, -3.8680999279022217, -4.048299789428711, -3.8680999279022217, -3.8680999279022217, -4.696100234985352, -4.696100234985352, -4.696100234985352, -4.696100234985352, -3.8680999279022217, -3.8680999279022217, -4.696100234985352, -3.412600040435791, -3.8680999279022217, -3.8680999279022217, -3.8680999279022217, -3.8680999279022217, -3.8680999279022217, -3.868299961090088, -7.119100093841553, -7.119200229644775, -7.119200229644775, -7.118800163269043, -7.11929988861084, -7.1194000244140625, -7.1194000244140625, -7.119100093841553, -7.119100093841553, -3.7690000534057617, -3.868499994277954, -7.119100093841553, -7.118899822235107, -7.0833001136779785, -7.118800163269043, -2.6440000534057617, -2.6440000534057617, -2.7014000415802, -2.855299949645996, -3.628499984741211, -4.075099945068359, -4.075099945068359, -4.90310001373291, -4.90310001373291, -4.90310001373291, -4.90310001373291, -4.90310001373291, -4.90310001373291, -4.90310001373291, -4.90310001373291, -4.90310001373291, -1.9842000007629395, -4.90310001373291, -4.90310001373291, -4.075099945068359, -2.761899948120117, -7.321400165557861, -7.321400165557861, -7.3221001625061035, -7.32450008392334, -7.32450008392334, -7.32450008392334, -7.32450008392334, -7.325699806213379, -7.326399803161621, -7.326399803161621, -4.799099922180176, -0.6430000066757202, -3.8928000926971436, -7.140399932861328, -7.1417999267578125, -7.1417999267578125, -7.1417999267578125, -7.1417999267578125, -7.1417999267578125, -7.1417999267578125, -7.1417999267578125, -7.142399787902832, -7.142399787902832, -7.1417999267578125, -7.143400192260742, -7.143400192260742, -7.144000053405762, -7.144000053405762, -7.144100189208984, -7.144100189208984, -7.144100189208984, -7.144100189208984, -7.144100189208984, -7.144000053405762, -7.144100189208984, -7.144100189208984, -7.1442999839782715, -7.1442999839782715, -7.1442999839782715, -7.1442999839782715, -7.1442999839782715, -7.144000053405762, -7.144100189208984, -7.144100189208984, -7.144100189208984, -7.143700122833252, -7.144100189208984, -2.1958999633789062, -2.315700054168701, -2.452699899673462, -4.5005998611450195, -3.8526999950408936, -4.500500202178955, -4.500500202178955, -4.500500202178955, -3.4628000259399414, -4.500500202178955, -3.6789000034332275, -6.9222002029418945, -6.922399997711182, -6.923299789428711, -6.923299789428711, -6.923500061035156, -6.923500061035156, -6.923500061035156, -6.923699855804443, -6.923699855804443, -6.923699855804443, -6.923699855804443, -6.923699855804443, -6.923699855804443, -6.923699855804443, -6.923799991607666, -6.923799991607666, -6.923900127410889, -6.923900127410889, -6.923900127410889, -6.923699855804443, -4.215199947357178, -6.923699855804443, -6.923299789428711, -6.923699855804443, -6.923699855804443], \"loglift\": [30.0, 29.0, 28.0, 27.0, 26.0, 25.0, 24.0, 23.0, 22.0, 21.0, 20.0, 19.0, 18.0, 17.0, 16.0, 15.0, 14.0, 13.0, 12.0, 11.0, 10.0, 9.0, 8.0, 7.0, 6.0, 5.0, 4.0, 3.0, 2.0, 1.0, 2.0027, 1.9911, 1.9882, 1.9761, 1.9094, 1.885, 1.885, 1.8288, 1.8055, 1.7048, 1.7048, 1.6715, 1.601, 1.5708, 1.5457, 1.5457, 1.5457, 1.5457, 1.5457, 1.5323, 1.4984, 1.4234, 1.3574, 1.3466, 1.1297, 1.1229, 1.1229, 1.1229, 1.1229, 1.1229, 1.1185, 1.0807, 0.8222, 0.9052, 0.3546, 0.4976, 0.1303, -0.2257, 0.1649, 0.2186, 0.5123, 2.3703, 2.3587, 2.3428, 2.3007, 2.2873, 2.2214, 2.1922, 2.1674, 2.1384, 1.8719, 1.7018, 1.6845, 1.6845, 1.6845, 1.5829, 1.533, 1.4709, 1.3323, 1.2584, 0.8299, 0.5639, -0.2187, -0.2188, -0.2189, -0.2189, -0.2192, -0.2205, -0.2208, -0.2208, -0.221, -0.221, -0.2215, -2.0176, -2.7108, 2.5978, 2.4828, 2.3484, 2.2368, 2.2149, 2.1833, 2.1687, 2.1646, 2.0668, 1.9461, 1.8794, 1.8581, 1.8581, 1.8581, 1.8581, 1.8581, 1.8581, 1.8518, 1.8109, 1.3451, 1.3186, 1.3161, 1.04, -0.0495, -0.0509, -0.051, -0.0519, -0.052, -0.052, -0.0521, -0.1398, -2.7955, -2.6258, 2.6232, 2.5696, 2.5502, 2.5117, 2.5051, 2.4671, 2.4503, 2.3649, 2.3575, 2.2921, 2.2921, 2.2465, 2.2231, 2.2231, 2.2231, 2.2231, 2.176, 2.1431, 2.1335, 1.9092, 1.8954, 1.8839, 1.8756, 1.5474, 1.2222, 0.9717, 0.8886, 0.6507, -0.0075, -0.0079, -0.6755, 2.7353, 2.6713, 2.6384, 2.6105, 2.5565, 2.4059, 2.3676, 2.3292, 2.142, 2.1176, 2.0952, 1.9218, 1.9218, 1.9218, 1.9218, 1.9218, 1.9218, 1.9218, 1.9218, 1.8464, 1.6504, 1.6356, 1.6295, 1.5532, 1.3648, 1.3603, 1.2933, 1.277, 0.6926, 0.3987, 0.1854, -0.1788, -0.898, 0.3454, 2.8081, 2.7818, 2.7032, 2.6898, 2.6615, 2.5423, 2.4743, 2.4743, 2.4384, 2.2632, 2.2355, 2.1865, 2.0873, 1.8878, 1.8877, 1.8877, 1.8877, 1.8877, 1.6963, 1.5838, 1.5647, 1.4668, 1.3132, 1.0955, 1.0344, 0.7882, -0.0874, -0.1012, -0.1012, -0.103, -0.7959, -2.1101, 2.785, 2.742, 2.7052, 2.2615, 2.2615, 2.2615, 2.2615, 2.2615, 2.2615, 2.2614, 2.157, 1.947, 1.9407, 1.8071, 1.8071, 1.807, 1.6968, 1.6938, 1.683, 1.6237, 1.5288, 1.5244, 1.3574, 1.2104, 1.0846, 0.9906, 0.8528, 0.7919, 0.482, 0.447, 0.1782, -0.5623, 0.1553, 2.7158, 2.7115, 2.6866, 2.622, 2.6026, 2.3438, 2.3319, 2.3319, 2.3319, 2.2244, 2.1032, 1.9657, 1.9042, 1.9042, 1.9042, 1.9042, 1.6901, 1.1404, 1.1083, 1.047, 1.0378, 1.0001, 0.9169, 0.8127, 0.1993, -0.0862, -0.0892, -0.0893, -0.0905, -0.0906, 2.8729, 2.8333, 2.7365, 2.7288, 2.5404, 2.3697, 2.2886, 2.1861, 2.0991, 2.0784, 2.0209, 1.9317, 1.924, 1.924, 1.924, 1.924, 1.924, 1.924, 1.9239, 1.9239, 1.9239, 1.9239, 1.9239, 1.6219, 1.5674, 1.4961, 1.4264, 1.3737, 0.9921, 0.9735, -1.1844, -0.3949, 0.1882, 0.8594, 2.7906, 2.7906, 2.6456, 2.5795, 2.5773, 2.4163, 2.4163, 2.4163, 2.4163, 2.4163, 2.4163, 2.2181, 2.1352, 2.1299, 2.0344, 1.9891, 1.9852, 1.9852, 1.9852, 1.9852, 1.9852, 1.9852, 1.9852, 1.9852, 1.9852, 1.9852, 1.9852, 1.7062, 1.6599, 1.6496, 1.6473, 1.6179, 1.5285, 1.5, 0.5129, 1.639, 1.2862, 0.779, 1.0166, 0.895, 0.3656, 2.9166, 2.8977, 2.8042, 2.8042, 2.7701, 2.5835, 2.4142, 2.4142, 2.4142, 2.4142, 2.3441, 2.2201, 1.9833, 1.9763, 1.9713, 1.9713, 1.9713, 1.9713, 1.9713, 1.9713, 1.9713, 1.9713, 1.9713, 1.9713, 1.9713, 1.9712, 1.9712, 1.9712, 1.9358, 1.6827, 0.964, 0.6789, 0.9908, -0.6429, 0.4841, 1.459, 0.6543, 1.3573, 3.0744, 3.0292, 2.9246, 2.7697, 2.7253, 2.6865, 2.4686, 2.3827, 2.2452, 2.2311, 2.1019, 2.1019, 2.1019, 2.1019, 2.1019, 2.1019, 1.956, 1.9357, 1.8255, 1.6543, 1.6427, 1.5148, 1.4918, 1.4647, 1.2865, 1.2411, 1.0183, 0.7856, 0.6092, 0.4765, 0.3528, 3.125, 3.0523, 2.9055, 2.8678, 2.737, 2.737, 2.737, 2.737, 2.737, 2.737, 2.737, 2.737, 2.6554, 2.6554, 2.6374, 2.4335, 2.3124, 2.3029, 2.2956, 2.2956, 2.2956, 2.283, 2.0998, 2.0093, 1.7633, 1.7161, 1.5328, 1.2984, 1.1173, 0.7649, 3.2327, 3.1015, 3.1015, 3.1015, 2.962, 2.8631, 2.8631, 2.8631, 2.8631, 2.8631, 2.8631, 2.787, 2.4583, 2.447, 2.447, 2.0955, 2.0871, 1.9117, 1.2976, 0.4713, 0.4713, 0.4711, 0.4711, 0.4711, 0.4711, 0.4711, 0.4711, 0.4711, 0.4711, 0.4711, 0.4711, 0.4711, -1.4145, 0.471, 0.4699, -2.1859, 3.0662, 3.0342, 2.9194, 2.9129, 2.8708, 2.8708, 2.8708, 2.8708, 2.8708, 2.604, 2.4395, 2.4395, 2.3912, 2.2163, 1.3719, 1.2757, 0.7058, 0.5749, 0.4388, 0.4387, 0.4386, 0.4386, 0.4386, 0.4385, 0.4384, 0.4384, 0.4384, 0.4384, 0.4384, 0.4384, 0.4384, 0.4384, 0.4383, 0.4382, 0.4384, 0.4378, -2.0252, 3.3833, 3.2541, 3.2541, 3.1975, 3.1471, 3.0678, 3.0678, 3.0678, 2.8795, 2.4276, 2.4276, 2.4273, 1.456, 1.2373, 1.1002, 0.3956, 0.3954, 0.3952, 0.3951, 0.395, 0.395, 0.3946, 0.3946, 0.3944, 0.3943, 0.3943, 0.3943, 0.3942, 0.3942, 0.3942, -0.2738, 0.3941, 3.3463, 3.1995, 2.9605, 2.9605, 2.9605, 2.9605, 2.8783, 2.741, 2.6941, 2.5164, 2.5164, 2.5164, 2.5164, 2.48, 2.3519, 2.1854, 1.9753, 1.7083, 1.5269, 1.1754, 1.0537, 0.8806, 0.5764, 0.4952, 0.4952, 0.4952, 0.4952, 0.4951, 0.4951, 0.4951, 0.495, 0.495, -0.0509, -0.307, 0.4949, 0.494, -2.7462, -2.034, 3.4939, 3.4939, 3.4809, 3.4432, 3.1785, 2.9608, 2.5598, 2.4303, 2.4303, 2.4303, 2.4303, 2.4303, 2.4303, 2.1095, 2.0891, 1.8596, 1.5773, 1.3372, 1.0418, 1.0032, 0.9562, 0.2929, 0.2929, 0.2917, 0.2898, 0.2897, 0.2896, 0.2894, 0.2886, 0.288, 0.288, -0.2099, 3.882, 3.1439, 0.4733, 0.4725, 0.4725, 0.4725, 0.4724, 0.4724, 0.4722, 0.4721, 0.4719, 0.4719, 0.4717, 0.4709, 0.4709, 0.4704, 0.4704, 0.4703, 0.4703, 0.4703, 0.4703, 0.4703, 0.4703, 0.4702, 0.4702, 0.4702, 0.4702, 0.4702, 0.4702, 0.4702, 0.4702, 0.4702, 0.4701, 0.4699, 0.4693, 0.4697, 3.7413, 3.7187, 3.6901, 2.778, 2.4631, 2.4483, 2.3835, 2.1343, 1.6155, 1.4008, 1.159, 0.6915, 0.6911, 0.6911, 0.6911, 0.6909, 0.6909, 0.6908, 0.6907, 0.6907, 0.6907, 0.6907, 0.6907, 0.6907, 0.6907, 0.6906, 0.6906, 0.6905, 0.6905, 0.6905, 0.6905, -0.0946, 0.6905, 0.6896, 0.6903, 0.6902]}, \"token.table\": {\"Topic\": [5, 11, 7, 3, 17, 10, 6, 17, 5, 14, 1, 5, 6, 10, 8, 15, 2, 1, 2, 3, 5, 20, 12, 3, 15, 20, 1, 18, 12, 14, 6, 15, 9, 12, 1, 6, 12, 1, 4, 14, 10, 1, 3, 9, 14, 12, 3, 3, 7, 13, 14, 1, 1, 9, 12, 5, 10, 13, 14, 8, 10, 12, 1, 1, 7, 12, 9, 15, 1, 14, 12, 4, 8, 13, 15, 6, 1, 7, 15, 1, 2, 10, 12, 9, 6, 4, 5, 8, 2, 5, 8, 4, 14, 1, 11, 20, 5, 8, 11, 5, 2, 5, 6, 7, 8, 11, 12, 11, 16, 4, 16, 17, 13, 9, 1, 5, 9, 11, 1, 3, 7, 9, 10, 11, 13, 15, 17, 18, 10, 6, 1, 7, 15, 17, 6, 8, 9, 11, 11, 16, 18, 15, 11, 5, 11, 5, 9, 3, 11, 19, 8, 5, 14, 2, 7, 2, 13, 16, 3, 5, 17, 5, 12, 7, 7, 12, 10, 13, 5, 10, 6, 13, 3, 4, 8, 17, 15, 2, 17, 14, 2, 9, 8, 1, 2, 7, 10, 13, 6, 4, 1, 9, 20, 11, 18, 1, 7, 8, 12, 11, 1, 11, 13, 8, 5, 13, 18, 3, 5, 5, 6, 10, 14, 1, 3, 10, 12, 15, 1, 15, 1, 8, 6, 1, 7, 1, 4, 3, 4, 15, 9, 11, 4, 6, 4, 10, 13, 11, 13, 10, 4, 12, 17, 1, 10, 11, 14, 10, 1, 6, 11, 9, 10, 8, 11, 17, 13, 9, 4, 12, 10, 5, 8, 18, 20, 13, 18, 10, 16, 4, 7, 11, 1, 7, 17, 18, 1, 20, 17, 13, 9, 13, 10, 9, 10, 12, 10, 10, 11, 2, 8, 13, 12, 18, 4, 2, 7, 16, 10, 11, 18, 4, 10, 11, 6, 12, 16, 9, 4, 4, 4, 16, 8, 8, 15, 4, 3, 8, 12, 10, 11, 1, 12, 5, 2, 7, 9, 3, 9, 17, 11, 13, 2, 7, 10, 14, 13, 6, 6, 4, 12, 9, 11, 3, 15, 16, 11, 13, 10, 13, 1, 1, 6, 16, 11, 14, 16, 13, 1, 5, 15, 17, 8, 2, 9, 5, 3, 6, 8, 1, 5, 12, 11, 12, 14, 13, 6, 8, 10, 16, 1, 10, 12, 13, 17, 7, 20, 9, 16, 17, 3, 2, 4, 5, 9, 10, 1, 17, 9, 11, 16, 13, 1, 1, 17, 6, 9, 7, 7, 9, 9, 1, 4, 10, 7, 3, 5, 7, 10, 17, 1, 7, 15, 2, 10, 11, 2, 3, 17, 5, 9, 14, 13, 1, 11, 11, 14, 16, 7, 8, 13, 17, 17, 6, 11, 7, 9, 11, 8, 9, 10, 12, 17, 6, 4, 7, 7, 2, 5, 19, 1, 10, 13, 7, 1, 2, 17, 11, 5, 2, 11, 6, 7, 12, 5, 4, 7, 6, 17, 13, 3, 7, 1, 5, 6, 9, 12, 3, 10, 11, 10, 12, 5, 7, 9, 10, 4, 12, 10, 14, 4, 3, 1, 4, 9, 5, 10, 10, 14, 15, 4, 6], \"Freq\": [0.7474895310710483, 0.10678421872443548, 0.4562897110822835, 0.5842039713315663, 0.4445952133415631, 0.4298902087531041, 0.3569779694736581, 0.3569779694736581, 0.6148879728087411, 0.6239735540138405, 0.2052253081831613, 0.041045061636632255, 0.041045061636632255, 0.6977660478227483, 0.8324357102362175, 0.09249285669291306, 0.8199688217786105, 0.9329245358214526, 0.29644769907298274, 0.5928953981459655, 0.05928953981459655, 0.029644769907298276, 0.9181384309421426, 0.7209737776708867, 0.18024344441772167, 0.7293167237542159, 0.6308517973134532, 0.6685419191342923, 0.774086133714585, 0.4133334138540705, 0.46966476459743417, 0.43023085275636386, 0.3978102375773493, 0.3978102375773493, 0.42063060771324623, 0.4162469863652367, 0.4162469863652367, 0.4206530893439291, 0.3786782646050957, 0.3786782646050957, 0.42988601084545436, 0.2256511239222777, 0.4513022478445554, 0.2256511239222777, 0.41332680483617057, 0.7388033199973123, 0.7455135500241298, 0.5625844263133994, 0.14064610657834986, 0.14064610657834986, 0.413331762239411, 0.6310063559600368, 0.27858893358589926, 0.5571778671717985, 0.27858893358589926, 0.5062970365759888, 0.1265742591439972, 0.2531485182879944, 0.1265742591439972, 0.4261316998070257, 0.39224515352939693, 0.39224515352939693, 0.4206279082751865, 0.4206279082751865, 0.4997723747519137, 0.4997723747519137, 0.786314424362682, 0.6397010569089799, 0.9192508404911104, 0.7402027536436575, 0.6588970441674448, 0.13262539375361504, 0.7957523625216901, 0.13243389958181895, 0.6621694979090947, 0.634092329377379, 0.9442198416498967, 0.9345345820136873, 0.43024588841044653, 0.10369105024845304, 0.7258373517391713, 0.4299003509390995, 0.6588982512052791, 0.6543056779715143, 0.6341013336916027, 0.25888200851308313, 0.5177640170261663, 0.12944100425654156, 0.6901094813445681, 0.09858706876350973, 0.14788060314526458, 0.6657131527023757, 0.22190438423412526, 0.8718262671672115, 0.6515098936962929, 0.8037957141036914, 0.5646420586314057, 0.14116051465785143, 0.14116051465785143, 0.6148926644909642, 0.40482430993202023, 0.23132817710401157, 0.05783204427600289, 0.05783204427600289, 0.05783204427600289, 0.11566408855200579, 0.11566408855200579, 0.7782107187809683, 0.6607061165976891, 0.7221367381366426, 0.11109795971332964, 0.05554897985666482, 0.649988546661691, 0.9484846851625879, 0.5714908390283593, 0.028574541951417967, 0.22859633561134374, 0.14287270975708982, 0.1783791747578643, 0.25765880798358176, 0.15855926645143492, 0.019819908306429365, 0.07927963322571746, 0.019819908306429365, 0.11891944983857619, 0.059459724919288096, 0.019819908306429365, 0.059459724919288096, 0.6393865374997606, 0.6372810483972291, 0.3827649364639808, 0.12758831215466027, 0.44655909254131093, 0.8569532049835031, 0.634092329377379, 0.6359126380550069, 0.7609199922736803, 0.8963242753860474, 0.65153026415955, 0.6606245979000588, 0.5470170328120552, 0.43023085275636386, 0.6515088094123298, 0.6696725392068623, 0.33483626960343116, 0.8061837914941257, 0.11516911307058937, 0.5842043567773906, 0.4432691961436891, 0.5474914492556149, 0.8632583977150842, 0.6148879728087411, 0.458661877686462, 0.4385905463013008, 0.2192952731506504, 0.8377712669275785, 0.14784198828133738, 0.7211938496750566, 0.41692360026980585, 0.468726978683181, 0.468726978683181, 0.6148926644909642, 0.9514447119693201, 0.4562897110822835, 0.4562897110822835, 0.6588987815717864, 0.639389167297275, 0.4873144208337904, 0.46182741617409767, 0.46182741617409767, 0.634104955201909, 0.44157748227782273, 0.9054718850907636, 0.050303993616153536, 0.4261277809409096, 0.6526877377829405, 0.6482130094639007, 0.27497013562837624, 0.27497013562837624, 0.7402044473757796, 0.5818406790252307, 0.6543367191062298, 0.6359121704877929, 0.6308675848117501, 0.5172934423872805, 0.25864672119364024, 0.28043749012707647, 0.28043749012707647, 0.8614931716777958, 0.8565673055388666, 0.6680666327986744, 0.18219999076327484, 0.06073333025442494, 0.6718300699110226, 0.4350768540231661, 0.14963052901474938, 0.29926105802949876, 0.14963052901474938, 0.29926105802949876, 0.6515098936962929, 0.8718613712893518, 0.65153026415955, 0.6752283192850239, 0.6359126380550069, 0.22249845098430784, 0.4449969019686157, 0.6989121167029297, 0.5842206366595404, 0.6148920780267709, 0.4590603461403192, 0.4590603461403192, 0.6393879551222955, 0.6239735540138405, 0.4206279082751865, 0.2915292150054829, 0.2915292150054829, 0.2915292150054829, 0.6397010569089799, 0.27190211394708164, 0.27190211394708164, 0.573872940100103, 0.2869364700500515, 0.8861465389751038, 0.9427122832674596, 0.6630756377520094, 0.5014102051087762, 0.9081277530273947, 0.8498407061992254, 0.1214058151713179, 0.43023085275636386, 0.2880949417003917, 0.2880949417003917, 0.19996108914154445, 0.6998638119954056, 0.6942943311157151, 0.13885886622314303, 0.441567462433217, 0.28607281183579825, 0.28607281183579825, 0.8270347247142912, 0.4216879282986149, 0.6588952231611708, 0.44461686465067307, 0.630851457283721, 0.6476010192955313, 0.4432691961436891, 0.7402144624182875, 0.6393879551222955, 0.20728571430925563, 0.20728571430925563, 0.6218571429277668, 0.5691816227686073, 0.28459081138430364, 0.44757045130935474, 0.37297537609112896, 0.0745950752182258, 0.7198940529889515, 0.6543366541792822, 0.754677999428715, 0.4974114684401815, 0.42988601084545436, 0.8783065024789175, 0.772392925986781, 0.0772392925986781, 0.0772392925986781, 0.6687437594754533, 0.6685430684158287, 0.6393865374997606, 0.7791464651180506, 0.58886784257387, 0.3650721741597745, 0.3650721741597745, 0.6270508633725302, 0.22031516821197009, 0.016947320631690004, 0.11863124442183004, 0.5324836021821091, 0.26624180109105455, 0.6526877377829405, 0.649988546661691, 0.6543367037331063, 0.441567462433217, 0.7912753953263025, 0.3953305525588324, 0.1976652762794162, 0.3953305525588324, 0.7912780132902733, 0.3525976794922854, 0.3525976794922854, 0.35917585275753955, 0.5387637791363094, 0.48731441914910456, 0.3663062038403079, 0.3663062038403079, 0.8783629785902866, 0.5818406790252307, 0.45630565920981253, 0.6711440985094876, 0.6394020495085619, 0.6515088094123298, 0.7849514099178013, 0.597714306094119, 0.19923810203137302, 0.6515085174903409, 0.5255699208033016, 0.17518997360110053, 0.17518997360110053, 0.6543156461229982, 0.754682262549265, 0.4216852444820276, 0.7506436881345248, 0.8860067321388359, 0.4261194825757064, 0.2532303084438408, 0.5064606168876816, 0.9314643332547838, 0.2960580215953776, 0.5921160431907552, 0.0740145053988444, 0.6394020495085619, 0.6515098936962929, 0.34842140562846935, 0.34842140562846935, 0.6148879728087411, 0.8522815528783374, 0.05681877019188916, 0.6775497684692752, 0.46232011239254817, 0.39627438205075555, 0.06604573034179259, 0.4881846409931294, 0.4881846409931294, 0.15498451625773602, 0.38746129064434004, 0.07749225812886801, 0.30996903251547203, 0.441567462433217, 0.9569454315052414, 0.8146336043746142, 0.2979000294259783, 0.2979000294259783, 0.6543079951024398, 0.9523351963555571, 0.5842039713315663, 0.4302531345038139, 0.8363813841944882, 0.3903269310952267, 0.3903269310952267, 0.4130940557731109, 0.4130940557731109, 0.6308675848117501, 0.4678970754653005, 0.4678970754653005, 0.6606245979000588, 0.65153026415955, 0.4133213281855642, 0.6711440985094876, 0.441567462433217, 0.5263310557534225, 0.1052662111506845, 0.1052662111506845, 0.210532422301369, 0.6359121704877929, 0.5893749411103563, 0.6543056779715143, 0.8783316013535233, 0.5276890691703028, 0.17589635639010093, 0.17589635639010093, 0.11913033266284122, 0.3573909979885237, 0.47652133065136487, 0.6515088094123298, 0.6589135224446331, 0.41332578692502725, 0.6499809797698509, 0.5236433025363656, 0.2744175162236184, 0.5488350324472367, 0.45356744826763556, 0.38748238268328256, 0.2583215884555217, 0.12916079422776086, 0.2583215884555217, 0.6526877377829405, 0.45628992031747917, 0.6718331111943001, 0.6543056779715143, 0.7791334570961238, 0.4445953030865118, 0.5842043567773906, 0.22656616805621388, 0.6796985041686416, 0.7956303544198495, 0.48371507708102385, 0.48371507708102385, 0.9017133038289348, 0.04098696835586067, 0.44640605176287196, 0.4432804317749011, 0.6711440985094876, 0.5344228502529611, 0.8845647861571929, 0.7421278621388824, 0.10601826601984035, 0.4670522998683333, 0.6543066397974533, 0.45628992031747917, 0.6630334469782513, 0.6543056779715143, 0.9562180401970477, 0.3172581112226801, 0.47588716683402016, 0.42988601084545436, 0.4562897110822835, 0.2542053646246534, 0.1271026823123267, 0.1271026823123267, 0.38130804693698, 0.1271026823123267, 0.11155623482533954, 0.11155623482533954, 0.5577811741266977, 0.905854635936575, 0.6393865374997606, 0.8287467628187386, 0.469943850423515, 0.3406034335426103, 0.3406034335426103, 0.6148926644909642, 0.6543367114196679, 0.41333506539361753, 0.441567462433217, 0.6308681434607802, 0.6515085174903409, 0.6515098936962929, 0.7349095413849215, 0.18372738534623037, 0.07698689039993956, 0.8468557943993351, 0.4415832431942421, 0.4445953030865118, 0.6526877377829405, 0.6372695765961017, 0.6515098936962929, 0.41910882294719953, 0.5029305875366394, 0.4432691961436891, 0.432121472905555, 0.12346327797301572, 0.24692655594603144, 0.12346327797301572, 0.4903939331681776, 0.6873272694984515, 0.4224577124860164, 0.5069492549832196, 0.8405760774081689, 0.7277129480633345, 0.21831388441900038, 0.9327639737481236, 0.6310202550250298, 0.4298918805090648, 0.8239220303976877, 0.6630334469782513, 0.15621496595643386, 0.8331464851009807, 0.5758002812692591, 0.6515085174903409, 0.6148926644909642, 0.5818406790252307, 0.8287467628187386, 0.6340899536063896, 0.8555331913326176, 0.6250342173512404, 0.7069616650471688, 0.8177368350505023, 0.07433971227731839, 0.48379088218990485, 0.24189544109495242, 0.4415733351203171, 0.4487922354498996, 0.2243961177249498, 0.28415689054791515, 0.2367974087899293, 0.14207844527395758, 0.2367974087899293, 0.047359481757985857, 0.5236739377847992, 0.17455797926159974, 0.17455797926159974, 0.6393865374997606, 0.6870410854323351, 0.22515607677111585, 0.3377341151566738, 0.11257803838555792, 0.22515607677111585, 0.4216852645463726, 0.6588982512052791, 0.6394165952482346, 0.819661375537809, 0.421685229602517, 0.5842206366595404, 0.5753156225726841, 0.31961979031815785, 0.06392395806363158, 0.8075460982178184, 0.6393879551222955, 0.34528413913252215, 0.34528413913252215, 0.34528413913252215, 0.7406333335919946, 0.939886150780516], \"Term\": [\"access\", \"access\", \"accessibility\", \"accord\", \"acquisition\", \"activity\", \"address\", \"address\", \"allow\", \"alter\", \"analyse\", \"analyse\", \"analyse\", \"analyse\", \"analysis\", \"analysis\", \"analytic\", \"application\", \"apply\", \"apply\", \"apply\", \"apply\", \"appraise\", \"approach\", \"approach\", \"appropriate\", \"architectural\", \"architecture\", \"area\", \"articulate\", \"assembly\", \"assignment\", \"attack\", \"attack\", \"audit\", \"automate\", \"automate\", \"available\", \"awareness\", \"awareness\", \"balance\", \"base\", \"base\", \"base\", \"behaviour\", \"big\", \"build\", \"challenge\", \"challenge\", \"challenge\", \"change\", \"client\", \"cloud\", \"cloud\", \"cloud\", \"code\", \"code\", \"code\", \"code\", \"collaboratively\", \"command\", \"command\", \"comment\", \"commercial\", \"common\", \"common\", \"communication\", \"comparative\", \"component\", \"computer\", \"computing\", \"concept\", \"concept\", \"conduct\", \"conduct\", \"configuration\", \"configure\", \"construct\", \"contemporary\", \"context\", \"context\", \"correct\", \"corruption\", \"cost\", \"cpu\", \"create\", \"create\", \"create\", \"critically\", \"critically\", \"critically\", \"cultural\", \"cultural\", \"current\", \"dashboard\", \"data\", \"database\", \"database\", \"database\", \"dataset\", \"datum\", \"datum\", \"datum\", \"datum\", \"datum\", \"datum\", \"datum\", \"decision\", \"define\", \"demonstrate\", \"demonstrate\", \"demonstrate\", \"dependency\", \"deploy\", \"describe\", \"describe\", \"describe\", \"describe\", \"design\", \"design\", \"design\", \"design\", \"design\", \"design\", \"design\", \"design\", \"design\", \"design\", \"detect\", \"determine\", \"develop\", \"develop\", \"develop\", \"development\", \"dhcp\", \"diagnostic\", \"difference\", \"different\", \"direct\", \"disaster\", \"discuss\", \"documentation\", \"domain\", \"drive\", \"drive\", \"effective\", \"effective\", \"elicitation\", \"eliminate\", \"engineering\", \"environment\", \"escalation\", \"ethic\", \"ethical\", \"ethical\", \"evaluate\", \"evaluate\", \"evaluation\", \"evidence\", \"execution\", \"execution\", \"exhibit\", \"explain\", \"face\", \"factor\", \"feature\", \"file\", \"find\", \"flaw\", \"flaw\", \"forward\", \"functional\", \"fundamental\", \"fundamental\", \"future\", \"gadget\", \"generate\", \"give\", \"give\", \"group\", \"guideline\", \"hadoop\", \"handle\", \"host\", \"human\", \"human\", \"ict\", \"ict\", \"identify\", \"impact\", \"implement\", \"implement\", \"implement\", \"implementation\", \"improve\", \"include\", \"include\", \"include\", \"include\", \"increase\", \"independent\", \"indirect\", \"industry\", \"influence\", \"information\", \"information\", \"infrastructure\", \"inject\", \"innovation\", \"insight\", \"insight\", \"install\", \"instruction\", \"interaction\", \"interface\", \"interface\", \"interface\", \"internal\", \"internet\", \"internet\", \"interpret\", \"interpret\", \"ip\", \"issue\", \"iterate\", \"justify\", \"key\", \"knowledge\", \"knowledge\", \"laboratory\", \"lan\", \"lan\", \"language\", \"language\", \"learn\", \"learn\", \"legislative\", \"level\", \"level\", \"life\", \"lifecycle\", \"line\", \"locate\", \"log\", \"long\", \"loop\", \"machine\", \"maintain\", \"make\", \"make\", \"make\", \"manage\", \"manage\", \"management\", \"management\", \"management\", \"manipulate\", \"mapreduce\", \"mark\", \"memory\", \"mentor\", \"method\", \"model\", \"model\", \"model\", \"modelling\", \"modern\", \"modify\", \"monitor\", \"monitoring\", \"multi\", \"multi\", \"network\", \"network\", \"network\", \"network\", \"networking\", \"networking\", \"normal\", \"normalization\", \"nosql\", \"obligation\", \"operate\", \"operating\", \"operating\", \"operating\", \"operation\", \"organisation\", \"organisation\", \"organisational\", \"organisational\", \"organise\", \"osi\", \"osi\", \"page\", \"participant\", \"pattern\", \"peer\", \"penetration\", \"perform\", \"performance\", \"perspective\", \"perspective\", \"physical\", \"plan\", \"plan\", \"plan\", \"platform\", \"popular\", \"potential\", \"practical\", \"practice\", \"prescriptive\", \"present\", \"present\", \"presentation\", \"principle\", \"principle\", \"principle\", \"prioritise\", \"priority\", \"privacy\", \"privacy\", \"privilege\", \"problem\", \"problem\", \"procedure\", \"process\", \"process\", \"process\", \"processing\", \"processing\", \"professional\", \"professional\", \"professional\", \"professional\", \"professionalism\", \"program\", \"programming\", \"project\", \"project\", \"protect\", \"protocol\", \"prototype\", \"purpose\", \"quality\", \"query\", \"query\", \"range\", \"range\", \"rate\", \"recommendation\", \"recommendation\", \"recovery\", \"referencing\", \"reflect\", \"reflective\", \"regulatory\", \"relate\", \"relate\", \"relate\", \"relate\", \"relational\", \"relevant\", \"reliable\", \"report\", \"requirement\", \"requirement\", \"requirement\", \"research\", \"research\", \"research\", \"resource\", \"response\", \"result\", \"retrieval\", \"reverse\", \"review\", \"review\", \"risk\", \"role\", \"role\", \"role\", \"role\", \"rop\", \"router\", \"routing\", \"scalable\", \"scenario\", \"scheme\", \"scholarly\", \"science\", \"science\", \"scripting\", \"secure\", \"secure\", \"security\", \"security\", \"segmentation\", \"select\", \"self\", \"semi\", \"server\", \"service\", \"service\", \"shell\", \"signal\", \"simple\", \"single\", \"site\", \"small\", \"social\", \"social\", \"society\", \"socio\", \"software\", \"software\", \"software\", \"software\", \"software\", \"solution\", \"solution\", \"solution\", \"solve\", \"source\", \"span\", \"specific\", \"specification\", \"specification\", \"spreadsheet\", \"sql\", \"stakeholder\", \"standard\", \"statistical\", \"storage\", \"strategic\", \"strategy\", \"strategy\", \"structure\", \"structure\", \"structured\", \"subnet\", \"subvert\", \"suitable\", \"support\", \"switch\", \"switch\", \"switched\", \"system\", \"system\", \"system\", \"system\", \"systematic\", \"task\", \"team\", \"team\", \"technical\", \"technique\", \"technique\", \"technology\", \"test\", \"testing\", \"text\", \"thread\", \"tool\", \"tool\", \"topic\", \"transaction\", \"transform\", \"treatment\", \"tree\", \"trend\", \"troubleshoot\", \"type\", \"unauthorised\", \"understand\", \"understand\", \"understanding\", \"understanding\", \"unstructured\", \"usability\", \"usability\", \"use\", \"use\", \"use\", \"use\", \"use\", \"user\", \"user\", \"user\", \"utility\", \"value\", \"variety\", \"variety\", \"variety\", \"variety\", \"verify\", \"violation\", \"virtualisation\", \"visualisation\", \"vulnerability\", \"vulnerable\", \"web\", \"web\", \"web\", \"webpage\", \"window\", \"work\", \"work\", \"work\", \"working\", \"write\"]}, \"R\": 30, \"lambda.step\": 0.01, \"plot.opts\": {\"xlab\": \"PC1\", \"ylab\": \"PC2\"}, \"topic.order\": [14, 9, 12, 16, 17, 18, 7, 2, 6, 8, 15, 19, 5, 1, 3, 13, 10, 4, 20, 11]};\n",
       "\n",
       "function LDAvis_load_lib(url, callback){\n",
       "  var s = document.createElement('script');\n",
       "  s.src = url;\n",
       "  s.async = true;\n",
       "  s.onreadystatechange = s.onload = callback;\n",
       "  s.onerror = function(){console.warn(\"failed to load library \" + url);};\n",
       "  document.getElementsByTagName(\"head\")[0].appendChild(s);\n",
       "}\n",
       "\n",
       "if(typeof(LDAvis) !== \"undefined\"){\n",
       "   // already loaded: just create the visualization\n",
       "   !function(LDAvis){\n",
       "       new LDAvis(\"#\" + \"ldavis_el140282424508133152295887944\", ldavis_el140282424508133152295887944_data);\n",
       "   }(LDAvis);\n",
       "}else if(typeof define === \"function\" && define.amd){\n",
       "   // require.js is available: use it to load d3/LDAvis\n",
       "   require.config({paths: {d3: \"https://cdnjs.cloudflare.com/ajax/libs/d3/3.5.5/d3.min\"}});\n",
       "   require([\"d3\"], function(d3){\n",
       "      window.d3 = d3;\n",
       "      LDAvis_load_lib(\"https://cdn.rawgit.com/bmabey/pyLDAvis/files/ldavis.v1.0.0.js\", function(){\n",
       "        new LDAvis(\"#\" + \"ldavis_el140282424508133152295887944\", ldavis_el140282424508133152295887944_data);\n",
       "      });\n",
       "    });\n",
       "}else{\n",
       "    // require.js not available: dynamically load d3 & LDAvis\n",
       "    LDAvis_load_lib(\"https://cdnjs.cloudflare.com/ajax/libs/d3/3.5.5/d3.min.js\", function(){\n",
       "         LDAvis_load_lib(\"https://cdn.rawgit.com/bmabey/pyLDAvis/files/ldavis.v1.0.0.js\", function(){\n",
       "                 new LDAvis(\"#\" + \"ldavis_el140282424508133152295887944\", ldavis_el140282424508133152295887944_data);\n",
       "            })\n",
       "         });\n",
       "}\n",
       "</script>"
      ],
      "text/plain": [
       "PreparedData(topic_coordinates=              x         y  topics  cluster       Freq\n",
       "topic                                                \n",
       "13    -0.290832 -0.078994       1        1  12.613881\n",
       "8      0.115680 -0.242673       2        1   8.217069\n",
       "11    -0.012908 -0.030202       3        1   6.865457\n",
       "15     0.044221  0.123045       4        1   6.446216\n",
       "16     0.091267 -0.167195       5        1   5.936956\n",
       "17     0.078016  0.055105       6        1   5.815623\n",
       "6     -0.172474 -0.017482       7        1   5.769856\n",
       "1      0.117945 -0.030682       8        1   5.690029\n",
       "5     -0.074508 -0.038331       9        1   5.276745\n",
       "7     -0.020408  0.038418      10        1   5.193593\n",
       "14     0.019032 -0.025475      11        1   5.076714\n",
       "18     0.072169 -0.022403      12        1   4.353368\n",
       "4     -0.000216  0.010648      13        1   3.687897\n",
       "0      0.054411  0.076901      14        1   3.422866\n",
       "2     -0.047426  0.049996      15        1   3.294496\n",
       "12     0.076122  0.111822      16        1   3.126322\n",
       "9     -0.041429  0.044033      17        1   2.932545\n",
       "3     -0.118390  0.034534      18        1   2.366191\n",
       "19     0.064915  0.078043      19        1   1.968095\n",
       "10     0.044814  0.030893      20        1   1.946080, topic_info=               Term       Freq      Total Category  logprob  loglift\n",
       "81          network  59.000000  59.000000  Default  30.0000  30.0000\n",
       "53       technology  22.000000  22.000000  Default  29.0000  29.0000\n",
       "179         program  27.000000  27.000000  Default  28.0000  28.0000\n",
       "49            apply  33.000000  33.000000  Default  27.0000  27.0000\n",
       "102         analyse  24.000000  24.000000  Default  26.0000  26.0000\n",
       "..              ...        ...        ...      ...      ...      ...\n",
       "49            apply   0.597239  33.732763  Topic20  -4.2152  -0.0946\n",
       "494          emerge   0.039798   1.025258  Topic20  -6.9237   0.6905\n",
       "401        business   0.039817   1.026601  Topic20  -6.9233   0.6896\n",
       "365     communicate   0.039798   1.025466  Topic20  -6.9237   0.6903\n",
       "372  object_oriente   0.039798   1.025516  Topic20  -6.9237   0.6902\n",
       "\n",
       "[719 rows x 6 columns], token_table=      Topic      Freq           Term\n",
       "term                                \n",
       "15        5  0.747490         access\n",
       "15       11  0.106784         access\n",
       "111       7  0.456290  accessibility\n",
       "337       3  0.584204         accord\n",
       "136      17  0.444595    acquisition\n",
       "...     ...       ...            ...\n",
       "135      10  0.345284           work\n",
       "135      14  0.345284           work\n",
       "135      15  0.345284           work\n",
       "68        4  0.740633        working\n",
       "202       6  0.939886          write\n",
       "\n",
       "[512 rows x 3 columns], R=30, lambda_step=0.01, plot_opts={'xlab': 'PC1', 'ylab': 'PC2'}, topic_order=[14, 9, 12, 16, 17, 18, 7, 2, 6, 8, 15, 19, 5, 1, 3, 13, 10, 4, 20, 11])"
      ]
     },
     "execution_count": 14,
     "metadata": {},
     "output_type": "execute_result"
    }
   ],
   "source": [
    "# Visualize the topics\n",
    "pyLDAvis.enable_notebook()\n",
    "vis = pyLDAvis.gensim.prepare(lda_model, corpus, id2word)\n",
    "vis"
   ]
  },
  {
   "cell_type": "markdown",
   "metadata": {},
   "source": [
    "####  finding the optimal number of topics for LDA"
   ]
  },
  {
   "cell_type": "code",
   "execution_count": 15,
   "metadata": {
    "slideshow": {
     "slide_type": "slide"
    }
   },
   "outputs": [],
   "source": [
    "def compute_coherence_values(dictionary, corpus, texts, limit, start=2, step=3):\n",
    "    \"\"\"\n",
    "    Compute c_v coherence for various number of topics\n",
    "\n",
    "    Parameters:\n",
    "    ----------\n",
    "    dictionary : Gensim dictionary\n",
    "    corpus : Gensim corpus\n",
    "    texts : List of input texts\n",
    "    limit : Max num of topics\n",
    "\n",
    "    Returns:\n",
    "    -------\n",
    "    model_list : List of LDA topic models\n",
    "    coherence_values : Coherence values corresponding to the LDA model with respective number of topics\n",
    "    \"\"\"\n",
    "    coherence_values = []\n",
    "    model_list = []\n",
    "    for num_topics in range(start, limit, step):\n",
    "        model = gensim.models.ldamodel.LdaModel(corpus=corpus, num_topics=num_topics, id2word=dictionary)\n",
    "        model_list.append(model)\n",
    "        coherencemodel = CoherenceModel(model=model, texts=texts, dictionary=dictionary, coherence='c_v')\n",
    "        coherence_values.append(coherencemodel.get_coherence())\n",
    "\n",
    "    return model_list, coherence_values"
   ]
  },
  {
   "cell_type": "code",
   "execution_count": 16,
   "metadata": {
    "slideshow": {
     "slide_type": "slide"
    }
   },
   "outputs": [],
   "source": [
    "model_list, coherence_values = compute_coherence_values(dictionary=id2word, corpus=corpus, texts=data_lemmatized, start=2, limit=40, step=6)\n"
   ]
  },
  {
   "cell_type": "code",
   "execution_count": 17,
   "metadata": {
    "slideshow": {
     "slide_type": "slide"
    }
   },
   "outputs": [
    {
     "data": {
      "image/png": "[encoded data removed]",
      "text/plain": [
       "<Figure size 432x288 with 1 Axes>"
      ]
     },
     "metadata": {
      "needs_background": "light"
     },
     "output_type": "display_data"
    }
   ],
   "source": [
    "limit=40; start=2; step=6;\n",
    "x = range(start, limit, step)\n",
    "plt.plot(x, coherence_values)\n",
    "plt.xlabel(\"Num Topics\")\n",
    "plt.ylabel(\"Coherence score\")\n",
    "plt.legend((\"coherence_values\"), loc='best')\n",
    "plt.show()"
   ]
  },
  {
   "cell_type": "code",
   "execution_count": 18,
   "metadata": {
    "slideshow": {
     "slide_type": "slide"
    }
   },
   "outputs": [
    {
     "name": "stdout",
     "output_type": "stream",
     "text": [
      "Num Topics = 2  has Coherence Value of 0.3811\n",
      "Num Topics = 8  has Coherence Value of 0.4327\n",
      "Num Topics = 14  has Coherence Value of 0.4425\n",
      "Num Topics = 20  has Coherence Value of 0.4283\n",
      "Num Topics = 26  has Coherence Value of 0.4367\n",
      "Num Topics = 32  has Coherence Value of 0.4124\n",
      "Num Topics = 38  has Coherence Value of 0.416\n"
     ]
    }
   ],
   "source": [
    "for m, cv in zip(x, coherence_values):\n",
    "    print(\"Num Topics =\", m, \" has Coherence Value of\", round(cv, 4))"
   ]
  },
  {
   "cell_type": "code",
   "execution_count": 19,
   "metadata": {
    "slideshow": {
     "slide_type": "slide"
    }
   },
   "outputs": [
    {
     "data": {
      "text/plain": [
       "[(16,\n",
       "  '0.043*\"program\" + 0.032*\"scripting\" + 0.032*\"language\" + 0.022*\"problem\" + 0.022*\"application\" + 0.022*\"create\" + 0.022*\"side\" + 0.022*\"use\" + 0.022*\"datum\" + 0.022*\"access\"'),\n",
       " (10,\n",
       "  '0.031*\"system\" + 0.031*\"datum\" + 0.031*\"command\" + 0.031*\"design\" + 0.031*\"operating\" + 0.031*\"interface\" + 0.016*\"variety\" + 0.016*\"line\" + 0.016*\"technique\" + 0.016*\"semi\"'),\n",
       " (9,\n",
       "  '0.034*\"use\" + 0.034*\"technical\" + 0.017*\"detect\" + 0.017*\"operate\" + 0.017*\"understand\" + 0.017*\"flaw\" + 0.017*\"corporate\" + 0.017*\"non\" + 0.017*\"analyse\" + 0.017*\"audience\"'),\n",
       " (21,\n",
       "  '0.038*\"network\" + 0.019*\"future\" + 0.019*\"organisational\" + 0.019*\"ethic\" + 0.019*\"team\" + 0.019*\"interpret\" + 0.019*\"requirement\" + 0.019*\"router\" + 0.019*\"work\" + 0.019*\"prescriptive\"'),\n",
       " (22,\n",
       "  '0.028*\"analyse\" + 0.021*\"term\" + 0.021*\"system\" + 0.021*\"management\" + 0.021*\"understand\" + 0.021*\"demonstrate\" + 0.021*\"business\" + 0.021*\"software\" + 0.021*\"quality\" + 0.018*\"code\"'),\n",
       " (0,\n",
       "  '0.039*\"problem\" + 0.039*\"management\" + 0.020*\"process\" + 0.020*\"compete\" + 0.020*\"static\" + 0.020*\"methodology\" + 0.020*\"resource\" + 0.020*\"technology\" + 0.020*\"independence\" + 0.020*\"decision\"'),\n",
       " (1,\n",
       "  '0.042*\"technology\" + 0.042*\"network\" + 0.042*\"design\" + 0.028*\"report\" + 0.028*\"explain\" + 0.028*\"construct\" + 0.014*\"management\" + 0.014*\"model\" + 0.014*\"team\" + 0.014*\"storage\"'),\n",
       " (19,\n",
       "  '0.031*\"modern\" + 0.031*\"life\" + 0.031*\"system\" + 0.031*\"perspective\" + 0.031*\"learn\" + 0.016*\"switch\" + 0.016*\"balance\" + 0.016*\"working\" + 0.016*\"user\" + 0.016*\"operating\"'),\n",
       " (28,\n",
       "  '0.031*\"team\" + 0.021*\"variety\" + 0.021*\"development\" + 0.021*\"multi\" + 0.021*\"loop\" + 0.021*\"professional\" + 0.021*\"eliminate\" + 0.021*\"practice\" + 0.021*\"span\" + 0.021*\"describe\"'),\n",
       " (15,\n",
       "  '0.025*\"life\" + 0.025*\"database\" + 0.017*\"program\" + 0.016*\"practice\" + 0.016*\"code\" + 0.013*\"reflective\" + 0.013*\"text\" + 0.013*\"balance\" + 0.013*\"business\" + 0.013*\"long\"'),\n",
       " (25,\n",
       "  '0.028*\"apply\" + 0.026*\"datum\" + 0.019*\"critically\" + 0.019*\"tool\" + 0.019*\"technique\" + 0.019*\"key\" + 0.019*\"design\" + 0.019*\"demonstrate\" + 0.019*\"give\" + 0.019*\"advanced\"'),\n",
       " (6,\n",
       "  '0.025*\"issue\" + 0.025*\"language\" + 0.025*\"programming\" + 0.025*\"demonstrate\" + 0.025*\"datum\" + 0.025*\"research\" + 0.025*\"social\" + 0.024*\"design\" + 0.024*\"visualisation\" + 0.013*\"working\"'),\n",
       " (5,\n",
       "  '0.043*\"business\" + 0.037*\"design\" + 0.030*\"use\" + 0.030*\"develop\" + 0.024*\"security\" + 0.024*\"apply\" + 0.018*\"fundamental\" + 0.018*\"web\" + 0.018*\"network\" + 0.018*\"implement\"'),\n",
       " (24,\n",
       "  '0.031*\"knowledge\" + 0.031*\"technique\" + 0.031*\"apply\" + 0.021*\"financial\" + 0.021*\"datum\" + 0.021*\"base\" + 0.021*\"function\" + 0.021*\"evidence\" + 0.021*\"key\" + 0.021*\"demonstrate\"'),\n",
       " (11,\n",
       "  '0.040*\"design\" + 0.039*\"problem\" + 0.027*\"technology\" + 0.027*\"network\" + 0.026*\"solution\" + 0.025*\"relate\" + 0.014*\"enterprise\" + 0.014*\"practice\" + 0.014*\"identify\" + 0.014*\"various\"'),\n",
       " (3,\n",
       "  '0.052*\"network\" + 0.026*\"practical\" + 0.026*\"issue\" + 0.026*\"design\" + 0.026*\"datum\" + 0.026*\"science\" + 0.026*\"develop\" + 0.013*\"security\" + 0.013*\"context\" + 0.013*\"threat\"'),\n",
       " (14,\n",
       "  '0.029*\"structure\" + 0.029*\"develop\" + 0.020*\"describe\" + 0.020*\"result\" + 0.020*\"technology\" + 0.020*\"programming\" + 0.020*\"application\" + 0.020*\"analysis\" + 0.020*\"relate\" + 0.020*\"network\"'),\n",
       " (18,\n",
       "  '0.045*\"appropriate\" + 0.023*\"textual\" + 0.023*\"static\" + 0.023*\"behaviour\" + 0.023*\"critically\" + 0.023*\"machine\" + 0.023*\"solution\" + 0.023*\"technique\" + 0.023*\"object_oriente\" + 0.023*\"solve\"'),\n",
       " (12,\n",
       "  '0.039*\"use\" + 0.020*\"variety\" + 0.020*\"interactive\" + 0.020*\"embed\" + 0.020*\"application\" + 0.020*\"security\" + 0.020*\"php\" + 0.020*\"language\" + 0.020*\"prioritise\" + 0.020*\"activity\"'),\n",
       " (31,\n",
       "  '0.031*\"routing\" + 0.031*\"cloud\" + 0.031*\"practice\" + 0.031*\"relate\" + 0.020*\"apply\" + 0.019*\"critically\" + 0.016*\"difference\" + 0.016*\"management\" + 0.016*\"service\" + 0.016*\"database\"')]"
      ]
     },
     "execution_count": 19,
     "metadata": {},
     "output_type": "execute_result"
    }
   ],
   "source": [
    "# Select the model and print the topics\n",
    "optimal_model = model_list[5]\n",
    "model_topics = optimal_model.show_topics(formatted=False)\n",
    "optimal_model.print_topics(num_words=10)"
   ]
  },
  {
   "cell_type": "markdown",
   "metadata": {},
   "source": [
    "###### Each bubble on the left-hand side plot represents a topic. The larger the bubble, the more prevalent is that topic.A good topic model will have fairly big, non-overlapping bubbles scattered throughout the chart instead of being clustered in one quadrant.A model with too many topics, will typically have many overlaps, small sized bubbles clustered in one region of the chart."
   ]
  },
  {
   "cell_type": "code",
   "execution_count": 20,
   "metadata": {
    "slideshow": {
     "slide_type": "slide"
    }
   },
   "outputs": [
    {
     "name": "stderr",
     "output_type": "stream",
     "text": [
      "C:\\Users\\HARSHA VARDHANI\\anaconda3\\lib\\site-packages\\pyLDAvis\\_prepare.py:228: FutureWarning: In a future version of pandas all arguments of DataFrame.drop except for the argument 'labels' will be keyword-only\n",
      "  default_term_info  = pd.DataFrame({'saliency': saliency, 'Term': vocab, \\\n"
     ]
    },
    {
     "data": {
      "text/html": [
       "\n",
       "<link rel=\"stylesheet\" type=\"text/css\" href=\"https://cdn.rawgit.com/bmabey/pyLDAvis/files/ldavis.v1.0.0.css\">\n",
       "\n",
       "\n",
       "<div id=\"ldavis_el1402824223963745927545192180\"></div>\n",
       "<script type=\"text/javascript\">\n",
       "\n",
       "var ldavis_el1402824223963745927545192180_data = {\"mdsDat\": {\"x\": [-0.14294144839105702, -0.052407581128388794, -0.07021707745275996, -0.051304103718424164, -0.09744729663385364, -0.10922683265986782, -0.04808095387753341, -0.037315290606140465, -0.075054326871306, -0.10778455064879011, -0.018520141465063002, -0.04329214573317799, 0.2036422505594092, 0.023359869901822098, 0.023822310394354188, 0.116443723580847, -0.006458442829691918, 0.006786568270065243, -0.05119003455215048, 0.14687235944917834, -0.0878735234345403, 0.022939443787322055, 0.028255615069329762, 0.04597487979717527, 0.06399045798544498, 0.07866358809920193, -0.03694394870559159, -0.01008037322203736, 0.030556146330451145, 0.1490473122944042, 0.08660724214564795, 0.019176304265719674], \"y\": [-0.020577183443585546, -0.1545115496767865, -0.045714369925264085, 0.03979740714037985, 0.1492141367771018, -0.0728353884089581, 0.03701188450464975, 0.1117408903067016, 0.075821420530918, 0.13383294639769078, 0.033441756065668835, -0.12682866437323911, 0.04243717674290018, -0.03034941889133953, -0.025330176292119054, -0.08405004628467905, -0.005957091455286718, -0.07208828309150357, 0.0023741380881547474, 0.06657534556661927, -0.047687118161205314, -0.05878334234647508, 0.09458906710622585, 0.09735022985733688, -0.17194511981195373, -0.022477755219414773, -0.03598774964079217, -0.048699576341287146, -0.0008590050392185272, 0.029387023279599363, 0.04892556122330179, 0.062182854815859036], \"topics\": [1, 2, 3, 4, 5, 6, 7, 8, 9, 10, 11, 12, 13, 14, 15, 16, 17, 18, 19, 20, 21, 22, 23, 24, 25, 26, 27, 28, 29, 30, 31, 32], \"cluster\": [1, 1, 1, 1, 1, 1, 1, 1, 1, 1, 1, 1, 1, 1, 1, 1, 1, 1, 1, 1, 1, 1, 1, 1, 1, 1, 1, 1, 1, 1, 1, 1], \"Freq\": [6.968226077482741, 4.382825129354292, 4.3595506499177015, 4.330816508043201, 4.318768344568924, 4.235830916304401, 4.231372443170814, 3.960784820084458, 3.826336729082258, 3.7007583996766007, 3.528513246822652, 3.512531993459336, 3.4628828258549786, 3.3873262955833425, 3.2875832708531028, 3.2733875540176745, 2.88574477485974, 2.7291643894366278, 2.691432335844673, 2.681626329584141, 2.6430716092816255, 2.4399366766801265, 2.274297524640078, 2.2451974546744125, 2.1999463943661586, 2.1233788707825383, 1.874376376910334, 1.8547270331551895, 1.772206702983672, 1.7202139067221505, 1.6159847394517066, 1.4811996763503479]}, \"tinfo\": {\"Term\": [\"network\", \"datum\", \"design\", \"management\", \"problem\", \"use\", \"system\", \"web\", \"business\", \"research\", \"plan\", \"develop\", \"describe\", \"relate\", \"demonstrate\", \"program\", \"technology\", \"process\", \"tool\", \"critically\", \"model\", \"evaluate\", \"explain\", \"structure\", \"appropriate\", \"solution\", \"analyse\", \"team\", \"understand\", \"language\", \"single\", \"measure\", \"thread\", \"reliable\", \"policy\", \"focus\", \"customer\", \"scalable\", \"site\", \"relation\", \"ability\", \"history\", \"disseminate\", \"architectural\", \"asynchronous\", \"enhance\", \"cost\", \"rate\", \"host\", \"cybersecurity\", \"configurable\", \"deploy\", \"secure\", \"cloud\", \"build\", \"framework\", \"pattern\", \"justify\", \"common\", \"startup\", \"business\", \"wide\", \"develop\", \"fundamental\", \"security\", \"skill\", \"use\", \"implement\", \"design\", \"web\", \"development\", \"apply\", \"service\", \"analysis\", \"effective\", \"network\", \"structure\", \"model\", \"understand\", \"application\", \"technique\", \"problem\", \"demonstrate\", \"member\", \"world\", \"organisational\", \"scripting\", \"referencing\", \"direct\", \"conjunction\", \"algorithm\", \"indirect\", \"forward\", \"side\", \"reverse\", \"webpage\", \"attribute\", \"resolve\", \"memory\", \"mark\", \"testing\", \"shell\", \"javascript\", \"debug\", \"test\", \"write\", \"complex\", \"critical\", \"thinking\", \"suitable\", \"client\", \"access\", \"integrate\", \"drive\", \"language\", \"type\", \"program\", \"create\", \"application\", \"problem\", \"datum\", \"use\", \"design\", \"identify\", \"presentation\", \"develop\", \"different\", \"ajax\", \"apply\", \"server\", \"order\", \"explore\", \"forensic\", \"dependency\", \"normalization\", \"discover\", \"incident\", \"guideline\", \"prevent\", \"participant\", \"monitoring\", \"treatment\", \"script\", \"assignment\", \"laboratory\", \"documentation\", \"functional\", \"structured\", \"verify\", \"vulnerability\", \"potential\", \"independently\", \"audit\", \"startup\", \"collaboratively\", \"generate\", \"work\", \"modelling\", \"opportunity\", \"visualisation\", \"research\", \"context\", \"concept\", \"apply\", \"use\", \"network\", \"design\", \"tool\", \"program\", \"professional\", \"analytic\", \"variety\", \"application\", \"organisational\", \"practice\", \"technique\", \"effective\", \"segmentation\", \"increase\", \"css\", \"priority\", \"support\", \"html\", \"dashboard\", \"strategic\", \"predictive\", \"determine\", \"descriptive\", \"lan\", \"javascript\", \"analytic\", \"prescriptive\", \"suitable\", \"client\", \"organisation\", \"original\", \"drive\", \"meet\", \"making\", \"implementation\", \"need\", \"decision\", \"switch\", \"fit\", \"networking\", \"page\", \"level\", \"web\", \"configure\", \"tool\", \"describe\", \"process\", \"critically\", \"evaluate\", \"business\", \"use\", \"role\", \"server\", \"plan\", \"develop\", \"management\", \"include\", \"loop\", \"eliminate\", \"switched\", \"proficiently\", \"entrepreneurial\", \"regard\", \"mysql\", \"span\", \"tree\", \"multi\", \"diverse\", \"lan\", \"member\", \"audience\", \"php\", \"collaboratively\", \"acquisition\", \"wide\", \"manipulate\", \"operate\", \"opportunity\", \"team\", \"development\", \"protocol\", \"leader\", \"environment\", \"communicate\", \"effective\", \"coherent\", \"key\", \"variety\", \"practice\", \"management\", \"professional\", \"demonstrate\", \"describe\", \"advanced\", \"knowledge\", \"web\", \"function\", \"apply\", \"attack\", \"prototype\", \"accord\", \"log\", \"traditional\", \"violation\", \"deficiency\", \"rip\", \"udp\", \"corruption\", \"arp\", \"socio\", \"face\", \"factor\", \"accessibility\", \"usability\", \"contemporary\", \"current\", \"independent\", \"recommendation\", \"pattern\", \"framework\", \"build\", \"analytical\", \"resolve\", \"mark\", \"memory\", \"unauthorised\", \"privacy\", \"integrate\", \"protocol\", \"web\", \"include\", \"explain\", \"principle\", \"analyse\", \"design\", \"develop\", \"business\", \"describe\", \"apply\", \"human\", \"advanced\", \"ajax\", \"user\", \"software\", \"ethical\", \"facilitate\", \"knowledge\", \"call\", \"desire\", \"characteristic\", \"cognition\", \"perception\", \"lead\", \"state\", \"custom\", \"give\", \"improvement\", \"pointer\", \"parameter\", \"cover\", \"array\", \"reference\", \"pass\", \"simple\", \"router\", \"future\", \"popular\", \"systematic\", \"propose\", \"individual\", \"aspect\", \"key\", \"improve\", \"relevant\", \"peer\", \"reflective\", \"self\", \"visualisation\", \"construct\", \"advanced\", \"datum\", \"apply\", \"tool\", \"knowledge\", \"technique\", \"problem\", \"critically\", \"evaluate\", \"demonstrate\", \"network\", \"design\", \"evaluation\", \"group\", \"fundamental\", \"machine\", \"base\", \"business\", \"coherent\", \"challenge\", \"facilitate\", \"term\", \"locate\", \"corporation\", \"short\", \"trend\", \"important\", \"basis\", \"subvert\", \"gadget\", \"high\", \"rop\", \"normal\", \"realisation\", \"quality\", \"logic\", \"theoretical\", \"error\", \"execution\", \"recommendation\", \"activity\", \"choice\", \"financing\", \"insight\", \"individual\", \"aspect\", \"reading\", \"available\", \"syntax\", \"debugging\", \"purpose\", \"long\", \"analyse\", \"operate\", \"software\", \"code\", \"management\", \"understand\", \"system\", \"business\", \"demonstrate\", \"program\", \"describe\", \"apply\", \"design\", \"method\", \"protocol\", \"span\", \"various\", \"small\", \"principle\", \"risk\", \"unauthorised\", \"escalation\", \"disaster\", \"signal\", \"privilege\", \"response\", \"contexts\", \"recovery\", \"allow\", \"computer\", \"project\", \"route\", \"accessibility\", \"factor\", \"face\", \"socio\", \"flaw\", \"documentation\", \"laboratory\", \"assignment\", \"area\", \"execution\", \"mitigation\", \"fit\", \"monitor\", \"communication\", \"need\", \"making\", \"associate\", \"management\", \"strategy\", \"describe\", \"model\", \"plan\", \"system\", \"process\", \"use\", \"understand\", \"knowledge\", \"business\", \"network\", \"apply\", \"coherent\", \"thinking\", \"ethical\", \"variety\", \"diverse\", \"code\", \"technical\", \"evidence\", \"necessary\", \"scholarly\", \"transform\", \"elicitation\", \"capital\", \"investment\", \"dataset\", \"exhibit\", \"spreadsheet\", \"firm\", \"mechanism\", \"market\", \"correct\", \"option\", \"systematic\", \"popular\", \"financial\", \"base\", \"insight\", \"financing\", \"lifecycle\", \"key\", \"science\", \"approach\", \"specification\", \"function\", \"project\", \"leader\", \"practical\", \"advanced\", \"knowledge\", \"technique\", \"fundamental\", \"apply\", \"understand\", \"tool\", \"demonstrate\", \"datum\", \"application\", \"use\", \"report\", \"concept\", \"evaluation\", \"requirement\", \"window\", \"maintain\", \"inner\", \"install\", \"recommend\", \"virtualisation\", \"protect\", \"hardware\", \"improve\", \"osi\", \"networking\", \"emerge\", \"operating\", \"theoretical\", \"secure\", \"discuss\", \"industry\", \"performance\", \"regulatory\", \"obligation\", \"legislative\", \"professionalism\", \"standard\", \"task\", \"procedure\", \"context\", \"attack\", \"associate\", \"model\", \"infrastructure\", \"user\", \"system\", \"variety\", \"use\", \"role\", \"software\", \"design\", \"issue\", \"practice\", \"apply\", \"professional\", \"tool\", \"knowledge\", \"web\", \"describe\", \"network\", \"solution\", \"function\", \"requirement\", \"modern\", \"team\", \"result\", \"break\", \"functionally\", \"stream\", \"decomposition\", \"way\", \"desirable\", \"modular\", \"mitigate\", \"effect\", \"represent\", \"internal\", \"syntactical\", \"comparative\", \"element\", \"assess\", \"contemporary\", \"purpose\", \"unstructured\", \"articulate\", \"stakeholder\", \"functional\", \"threat\", \"attribute\", \"text\", \"big\", \"procedure\", \"infrastructure\", \"campus\", \"structure\", \"programming\", \"analysis\", \"develop\", \"relate\", \"research\", \"application\", \"technology\", \"describe\", \"network\", \"design\", \"architecture\", \"evaluate\", \"data\", \"technique\", \"internet\", \"implement\", \"code\", \"problem\", \"different\", \"function\", \"file\", \"connectivity\", \"life\", \"modern\", \"mentor\", \"balance\", \"society\", \"performance\", \"monitor\", \"perspective\", \"long\", \"operation\", \"organisation\", \"sdn\", \"command\", \"learn\", \"ict\", \"review\", \"interface\", \"troubleshoot\", \"appraise\", \"cultural\", \"working\", \"impact\", \"range\", \"awareness\", \"user\", \"work\", \"operating\", \"different\", \"system\", \"switch\", \"team\", \"role\", \"demonstrate\", \"issue\", \"analyse\", \"social\", \"security\", \"professional\", \"technology\", \"finance\", \"define\", \"derive\", \"contact\", \"practical\", \"subnet\", \"scheme\", \"discuss\", \"mitigation\", \"scenario\", \"threat\", \"analytical\", \"specific\", \"lifecycle\", \"theory\", \"science\", \"task\", \"infrastructure\", \"specification\", \"address\", \"relevant\", \"osi\", \"project\", \"give\", \"ethical\", \"industry\", \"issue\", \"understanding\", \"organisational\", \"strategy\", \"network\", \"develop\", \"datum\", \"design\", \"security\", \"context\", \"analytic\", \"identify\", \"social\", \"evaluate\", \"technique\", \"professional\", \"relate\", \"class\", \"collection\", \"innovation\", \"object\", \"library\", \"list\", \"multiple\", \"flow\", \"computing\", \"traffic\", \"control\", \"select\", \"organise\", \"find\", \"information\", \"value\", \"manage\", \"peer\", \"self\", \"reflective\", \"topic\", \"cloud\", \"appraise\", \"evaluation\", \"relate\", \"range\", \"access\", \"appropriate\", \"method\", \"challenge\", \"technology\", \"apply\", \"research\", \"practice\", \"evaluate\", \"technique\", \"network\", \"security\", \"cpu\", \"feature\", \"reason\", \"idiom\", \"commercial\", \"comment\", \"interaction\", \"area\", \"assembly\", \"independent\", \"reflect\", \"independently\", \"choice\", \"big\", \"privacy\", \"component\", \"interactive\", \"sdn\", \"architecture\", \"type\", \"programming\", \"social\", \"visualisation\", \"effectively\", \"topic\", \"modern\", \"conduct\", \"issue\", \"cultural\", \"working\", \"language\", \"research\", \"demonstrate\", \"datum\", \"design\", \"understanding\", \"web\", \"application\", \"structure\", \"perspective\", \"describe\", \"team\", \"learn\", \"security\", \"role\", \"explain\", \"program\", \"enterprise\", \"personal\", \"scale\", \"size\", \"district\", \"possible\", \"intellectual\", \"methodology\", \"current\", \"option\", \"organise\", \"find\", \"articulate\", \"theory\", \"campus\", \"innovative\", \"modelling\", \"provide\", \"complex\", \"independence\", \"good\", \"topic\", \"appraise\", \"solution\", \"problem\", \"range\", \"solve\", \"information\", \"make\", \"decision\", \"relate\", \"design\", \"technology\", \"network\", \"practice\", \"identify\", \"various\", \"evaluate\", \"describe\", \"technique\", \"storage\", \"physical\", \"transaction\", \"prepare\", \"simulated\", \"intranet\", \"field\", \"report\", \"emerge\", \"processing\", \"justify\", \"specific\", \"select\", \"query\", \"component\", \"construct\", \"computer\", \"internet\", \"environment\", \"presentation\", \"technical\", \"facilitate\", \"configure\", \"explain\", \"communication\", \"requirement\", \"technology\", \"data\", \"appropriate\", \"analysis\", \"network\", \"design\", \"management\", \"model\", \"team\", \"research\", \"datum\", \"implement\", \"structure\", \"vulnerable\", \"inject\", \"handle\", \"set\", \"relational\", \"real\", \"acquisition\", \"shell\", \"interactive\", \"database\", \"review\", \"understanding\", \"datum\", \"world\", \"process\", \"management\", \"write\", \"development\", \"visualisation\", \"service\", \"include\", \"create\", \"programming\", \"challenge\", \"code\", \"concept\", \"software\", \"structure\", \"principle\", \"fundamental\", \"critically\", \"design\", \"security\", \"knowledge\", \"apply\", \"use\", \"system\", \"technology\", \"demonstrate\", \"piece\", \"execute\", \"legislative\", \"obligation\", \"standard\", \"professionalism\", \"regulatory\", \"ethic\", \"independence\", \"ict\", \"level\", \"conduct\", \"industry\", \"cultural\", \"working\", \"impact\", \"awareness\", \"perspective\", \"research\", \"social\", \"method\", \"plan\", \"code\", \"role\", \"team\", \"principle\", \"professional\", \"knowledge\", \"evaluate\", \"demonstrate\", \"apply\", \"agile\", \"link\", \"object_oriented\", \"layer\", \"guide\", \"friendly\", \"functionality\", \"style\", \"assembly\", \"debug\", \"modelling\", \"self\", \"reflective\", \"peer\", \"analysis\", \"page\", \"usability\", \"coherent\", \"configure\", \"evaluation\", \"approach\", \"user\", \"small\", \"various\", \"process\", \"identify\", \"development\", \"protocol\", \"service\", \"web\", \"business\", \"describe\", \"apply\", \"design\", \"fundamental\", \"demonstrate\", \"principle\", \"explain\", \"relate\", \"structure\", \"practice\", \"implement\", \"effective\", \"line\", \"retrieval\", \"tcp\", \"vlan\", \"socket\", \"iterate\", \"command\", \"semi\", \"interface\", \"unstructured\", \"processing\", \"structured\", \"common\", \"text\", \"query\", \"automate\", \"manipulate\", \"campus\", \"operating\", \"ip\", \"usability\", \"evaluation\", \"information\", \"user\", \"small\", \"write\", \"method\", \"system\", \"solution\", \"explain\", \"datum\", \"design\", \"variety\", \"technique\", \"program\", \"technology\", \"evaluate\", \"detect\", \"corporate\", \"source\", \"hypothesis\", \"utility\", \"statistical\", \"initiate\", \"modify\", \"engineering\", \"flaw\", \"technical\", \"correct\", \"potential\", \"verify\", \"vulnerability\", \"non\", \"test\", \"generate\", \"innovative\", \"operate\", \"effectively\", \"financial\", \"audience\", \"make\", \"decision\", \"social\", \"method\", \"switch\", \"communicate\", \"code\", \"use\", \"understand\", \"analyse\", \"professional\", \"system\", \"software\", \"problem\", \"condition\", \"well\", \"debt\", \"price\", \"alter\", \"equity\", \"solving\", \"instruction\", \"oral\", \"major\", \"machine\", \"market\", \"behaviour\", \"change\", \"real\", \"world\", \"skill\", \"operation\", \"determine\", \"computer\", \"group\", \"presentation\", \"financial\", \"communication\", \"various\", \"work\", \"write\", \"appropriate\", \"learn\", \"code\", \"demonstrate\", \"application\", \"program\", \"problem\", \"role\", \"understand\", \"evaluate\", \"inheritance\", \"paradigm\", \"respect\", \"polymorphism\", \"integrity\", \"encapsulation\", \"abstraction\", \"sustainable\", \"specifically\", \"norm\", \"accountability\", \"adapt\", \"global\", \"script\", \"interaction\", \"comment\", \"commercial\", \"scheme\", \"subnet\", \"execute\", \"task\", \"object_oriente\", \"query\", \"privacy\", \"component\", \"specification\", \"manipulate\", \"test\", \"address\", \"suitable\", \"create\", \"issue\", \"explain\", \"principle\", \"design\", \"develop\", \"include\", \"programming\", \"program\", \"use\", \"security\", \"ethical\", \"conduct\", \"cultural\", \"practice\", \"solution\", \"describe\", \"post\", \"configuration\", \"specialist\", \"dhcp\", \"implementation\", \"non\", \"plan\", \"associate\", \"automate\", \"address\", \"ip\", \"report\", \"review\", \"present\", \"audience\", \"server\", \"impact\", \"organisational\", \"strategy\", \"solution\", \"analyse\", \"critically\", \"evaluate\", \"security\", \"develop\", \"design\", \"technology\", \"network\", \"sql\", \"nosql\", \"library\", \"specifically\", \"routing\", \"construction\", \"accept\", \"transition\", \"platform\", \"difference\", \"webpage\", \"cloud\", \"operation\", \"drive\", \"interpret\", \"manage\", \"good\", \"networking\", \"dynamic\", \"appraise\", \"scripting\", \"descriptive\", \"practice\", \"relate\", \"object_oriente\", \"information\", \"various\", \"access\", \"protocol\", \"service\", \"create\", \"predictive\", \"method\", \"analytic\", \"database\", \"effective\", \"critically\", \"apply\", \"management\", \"technology\", \"datum\", \"analyse\", \"program\", \"embed\", \"prioritise\", \"penetration\", \"analyst\", \"readiness\", \"building\", \"enable\", \"activity\", \"change\", \"php\", \"testing\", \"interactive\", \"side\", \"manage\", \"server\", \"scripting\", \"information\", \"communicate\", \"role\", \"variety\", \"relate\", \"language\", \"use\", \"analyse\", \"application\", \"tool\", \"web\", \"critically\", \"security\", \"develop\", \"design\", \"technology\", \"business\", \"compete\", \"resource\", \"domain\", \"perform\", \"route\", \"static\", \"assess\", \"methodology\", \"intellectual\", \"scenario\", \"innovative\", \"provide\", \"complex\", \"independence\", \"sdn\", \"dynamic\", \"solve\", \"make\", \"decision\", \"user\", \"identify\", \"management\", \"construct\", \"different\", \"problem\", \"solution\", \"process\", \"business\", \"technology\", \"network\", \"design\", \"apply\", \"diagnostic\", \"influence\", \"future\", \"router\", \"simple\", \"reflect\", \"prescriptive\", \"ethic\", \"interpret\", \"group\", \"troubleshoot\", \"present\", \"cultural\", \"working\", \"impact\", \"awareness\", \"organisational\", \"small\", \"requirement\", \"perspective\", \"strategy\", \"work\", \"construct\", \"create\", \"social\", \"analysis\", \"switch\", \"team\", \"model\", \"implement\", \"network\", \"problem\", \"professional\", \"demonstrate\", \"hadoop\", \"mapreduce\", \"binary\", \"engineer\", \"workflow\", \"medium\", \"sized\", \"nosql\", \"sql\", \"difference\", \"life\", \"semi\", \"engineering\", \"improvement\", \"reverse\", \"society\", \"balance\", \"mentor\", \"text\", \"big\", \"debugging\", \"automate\", \"debug\", \"value\", \"syntax\", \"long\", \"reading\", \"organisation\", \"reflective\", \"self\", \"database\", \"peer\", \"type\", \"code\", \"practice\", \"program\", \"business\", \"range\", \"review\", \"professional\", \"learn\", \"different\", \"data\", \"small\", \"write\", \"evaluate\", \"ict\", \"textual\", \"diagram\", \"description\", \"static\", \"behaviour\", \"relevant\", \"appropriate\", \"machine\", \"industry\", \"dynamic\", \"object_oriente\", \"solve\", \"various\", \"construct\", \"learn\", \"programming\", \"communicate\", \"solution\", \"structure\", \"understand\", \"tool\", \"technique\", \"problem\", \"critically\", \"evaluate\", \"apply\", \"sql\", \"nosql\", \"sized\", \"medium\", \"object\", \"associate\", \"inheritance\", \"paradigm\"], \"Freq\": [26.0, 20.0, 36.0, 12.0, 15.0, 23.0, 16.0, 15.0, 19.0, 12.0, 7.0, 17.0, 20.0, 10.0, 19.0, 14.0, 20.0, 11.0, 14.0, 15.0, 11.0, 16.0, 9.0, 10.0, 7.0, 9.0, 12.0, 10.0, 12.0, 10.0, 0.9048403235864646, 0.9048346596653558, 0.9048340528166656, 0.9048336482508721, 0.9048283214679246, 0.9048233992507705, 0.9048215787046998, 0.9048210392836418, 0.9048177353296617, 0.9048176004743972, 0.9048166564875457, 0.9048154427901652, 0.9048135548164623, 0.9048112622769658, 0.9048101834348499, 0.9048080931782502, 0.9048024292571414, 0.9047984510268388, 0.9047863140530342, 0.9047823358227316, 0.9047767393292551, 1.7822622793615075, 0.9048384356127617, 1.7822593125456887, 0.9048202301520548, 0.9048090371651016, 0.9047869883293567, 0.9048133525335655, 0.9048120039809205, 0.9048306140074209, 6.169350009400977, 1.7821113763205372, 4.41441695852106, 2.659706958248618, 3.537110101714264, 1.782220474229514, 4.414481958758547, 2.6595378497469406, 5.291777218012596, 2.659651667590175, 1.7822444784665943, 3.5370542716347626, 1.7822154845847278, 1.782238409979692, 1.782222092492688, 2.6595780366157604, 1.7822277564137967, 1.7821707126369153, 1.7822107646504703, 1.7822425904928914, 1.7822380054138984, 1.782206584137271, 1.7822394888218078, 0.9048462572181024, 0.9048409304351549, 0.9048393795996131, 2.9359896204808646, 0.9988394686706439, 0.9988309866404186, 0.9988263215237947, 0.9988202992823347, 0.9988147859626884, 0.9987985852849581, 1.9673551703641774, 0.9988078306979037, 0.9988387901082258, 0.9988145315017816, 0.9988263215237947, 0.9988001968707009, 0.9987964647774018, 0.9987768712875814, 0.9988103753069713, 0.9988158886266176, 0.9988260670628879, 0.9988259822425857, 1.9672442254088311, 0.9988248795786564, 0.9988031655812798, 0.9988184332356852, 0.9988125806348298, 0.9988140225799681, 1.96734058127219, 0.9988129199160388, 0.998780094459067, 2.9358589972153957, 0.9988078306979037, 3.9043453510843498, 1.967372134424628, 1.9673801075330397, 1.9673816342984802, 1.9673468579745568, 1.9673504204272514, 1.9673181887123954, 0.9988427766624317, 0.998837178522483, 0.9988337008900907, 0.9988276786486308, 0.9988243706568429, 0.9988225894304956, 0.9988170761108491, 0.8568417099626882, 0.8568348760028963, 0.8568335260849127, 0.8568316699476853, 0.8568313324681894, 0.8568309106188196, 0.8568245828782716, 0.8568190144665893, 0.8568102399996961, 0.8568079620130987, 0.8568071183143591, 0.8567960658608685, 0.8568225580012961, 0.8568374914689895, 0.8567762389404847, 0.8567815542425451, 0.8568258484263811, 0.8568289701117181, 0.856826270275751, 0.8568120961369234, 0.8567924379562877, 0.8568444097986553, 0.8568347916330223, 0.8568372383593675, 0.8568441566890334, 0.8568400225652086, 1.6877373213220586, 0.8568447472781512, 0.8568543654437841, 1.687729728033401, 2.5186417071483223, 1.6876779249307812, 1.6876359087335424, 3.349313569601915, 2.518562230727039, 2.5186003659100753, 2.518537763463587, 1.687688218055406, 1.6877076231264199, 0.8568511593885731, 0.8568491345115978, 0.8568457597166389, 0.8568401069350826, 0.8568400225652086, 0.8568362259208798, 0.8568350447426443, 0.8568344541535264, 2.0902355164048347, 1.0611991930373283, 1.0611970976926912, 1.0611902249622815, 1.0611889677554993, 1.0611833522318717, 1.0611769823841748, 1.0611664218472037, 0.8470482660187338, 1.5333445411447577, 0.7541516644138242, 2.090214395330892, 1.0611828493491589, 2.2274162211502824, 0.7712667746651295, 1.0611801673080232, 1.0611942480239849, 1.0611876267349314, 0.5086726949357369, 1.061192907003417, 0.4952112371282134, 0.4791972304837254, 1.0611924041207041, 0.4642527296489267, 1.6048432318738324, 2.0902180831374535, 0.4121844211814119, 1.0612109269672965, 1.0611693553296955, 1.0611709477916198, 3.119254071249818, 1.061190979286351, 2.4119855754644406, 3.1192497129329726, 2.0901161655743032, 2.3903948090682032, 2.2742552199137784, 1.7765505226673677, 1.492348201367464, 1.0611998635476123, 1.0611982710856882, 1.0611936613274864, 1.0611905602174234, 1.0611881296176444, 1.061184441811083, 1.8852553028325927, 1.885247780576902, 1.8851680446665795, 1.8851672088603917, 0.9571200292301923, 0.9571001370429212, 0.9570972117212636, 1.8852295600020064, 1.88515216434901, 1.8852628250882835, 1.8851468151894077, 1.8852166885867132, 1.8851797459532096, 1.8852272197446804, 0.9571310618718722, 0.9570609377327102, 0.9571379154826127, 1.8852021455590444, 0.9570820000486445, 0.9571264649378389, 0.9571146800705901, 2.813385478017247, 1.8852644967006593, 1.8851787429857843, 0.9571012235909654, 0.9570776538564676, 1.8852123423945364, 1.8852131782007242, 0.9571191098433858, 0.9571180232953416, 1.8852718517951126, 1.8852472790931891, 1.8851481524793083, 1.8852549685101176, 1.8851871010476628, 1.885228891357056, 1.1198382046894537, 1.042531982955098, 0.9571339871935298, 0.9571322320005352, 0.9571313126137286, 1.491017363640062, 0.7569759122693481, 0.7569705838592199, 0.7569664031066576, 0.7569611566720699, 0.756956484066265, 0.7569529591180263, 0.7569513196072176, 0.7569490242920854, 0.7569424662488506, 0.7569364820343988, 0.7569691902750325, 0.7569659112534151, 0.7569673868131429, 0.7569683705196282, 1.4909648992941835, 0.756946483050332, 0.7569626322317976, 0.7569547625799159, 0.7569742727585395, 0.7569795191931273, 0.7569467289769533, 0.7569317274530536, 0.7569548445554564, 0.7569762401715099, 0.7569580416015332, 0.7569541067755924, 0.7569609927209889, 0.7569595991368016, 0.7569573038216694, 1.4909667027560731, 2.95907009938261, 1.490971949190661, 1.4909978534614385, 1.4909903117117185, 1.5486273141917013, 2.2249691337695396, 1.4909611284193234, 1.5323402498669567, 1.4909726049949843, 1.4909863768857776, 0.7569790273398846, 0.7569776337556973, 0.7569770599269142, 0.7569755843671864, 0.7569713216390838, 0.7569690263239516, 0.7569676327397642, 0.7569664031066576, 1.3464687615386641, 0.8389582951344045, 0.8389523991079634, 0.8389460117459856, 0.8389415897261548, 0.8389398700517762, 0.8389329913542616, 0.6652857182342099, 1.6524465749359523, 0.838935857478226, 0.616621553774749, 0.6160697020777162, 0.6098100054501918, 0.5846434307559099, 0.5703723853676989, 0.5649629448865303, 0.838937167706324, 0.8389186607344395, 0.8389245567608806, 0.8389474857525958, 0.8389240654253438, 0.8389596053625025, 0.8389403613873129, 0.8389316811261636, 1.6524734346119616, 0.8389149757179138, 0.8389202166303059, 0.8389291425592237, 0.8389268496600522, 0.8389182512881589, 1.6524374033392661, 1.4310705992737947, 1.652443790701244, 2.2520415098538518, 2.4659285492647784, 1.6524857180003805, 1.6524244648367983, 1.65247769285328, 1.6524346191045578, 1.6524948895970666, 1.652375495061635, 1.6524596772169324, 1.6524398600169499, 1.6524703228202289, 0.838969677741006, 0.838964436828614, 0.838961161258369, 0.8389602604765515, 0.8389568211277942, 0.8389542006715982, 0.8389531361112685, 0.8389519896616828, 0.8389505975443287, 1.756545505568977, 1.4142690861647091, 0.8917820079770488, 0.891776488989453, 0.8917738061482607, 0.8917735761904442, 0.8917727330117837, 0.8917673673293991, 0.8917625382152529, 0.8917613884261704, 0.8917574791432901, 0.891750043840557, 0.8917442948951448, 1.7564570484622348, 0.6260127074232393, 0.8917485874410526, 0.5820124638376956, 0.8917651444038397, 0.8917850740812686, 0.8917547963020978, 0.9126191756023914, 0.891778022041563, 0.8917532632499878, 0.8917657576246837, 0.8917537998182263, 0.5188044953881338, 0.8917580923641341, 0.5010991615918313, 0.4711709183020944, 0.663108429242456, 0.8917750325899486, 2.3445493286837293, 0.891741535401347, 1.7564639471967296, 1.5034550058797875, 1.7565054929089081, 1.7564847967054245, 1.7565291019114009, 1.7564757516979759, 1.7564780512761407, 1.4567280374852483, 1.3967622442903378, 1.4890502949498265, 0.9211410290183746, 0.8917841542500026, 0.8917836943343697, 0.8917820079770488, 0.8917800916619113, 0.8917750325899486, 0.8917721197909398, 1.2897821849885098, 1.2897735951134217, 0.6548187665766911, 0.6548115836639019, 0.6548061779666482, 0.65480254948493, 0.6547952925214935, 0.6547944039137257, 0.6547853697347538, 0.6547788532777904, 1.2897113925696804, 1.2897885533441786, 0.65478877606453, 0.6548238760713556, 0.654817063411803, 0.6548040304978762, 0.6547916640397752, 0.6548004760668052, 0.6547938855591945, 0.6547791494803796, 0.6547915159384806, 0.6548154342975622, 0.6548031418901085, 0.6547912197358914, 0.42029544217377146, 0.654810176701603, 1.289731090041865, 0.38818778498074313, 0.3789658876178309, 0.6547893684697086, 2.55967288509626, 1.2897380508027123, 3.1947638187227483, 1.9247404198550169, 1.289793144484312, 1.9247127249129226, 1.2897485659946306, 1.6586397149444652, 1.2897624875163252, 1.2897752242276628, 1.3438424157542375, 1.2897106520632071, 1.2897964027127937, 0.6548248387297707, 0.6548166931585664, 0.6548155823988567, 0.6548135830313794, 0.6548119539171385, 0.65481136151196, 0.65481136151196, 1.5934157289386488, 0.8089820875041207, 0.8089689809810615, 0.8089675485741697, 0.808966832370724, 0.8089661161672781, 0.808964397279008, 0.8089636810755622, 0.8089622486686704, 0.8089595987159207, 0.8089589541328195, 0.8089522218204284, 1.5934021210731775, 0.8089432692773552, 0.8089586676514411, 0.8089641824179743, 0.8089658296858997, 1.5934357826351329, 1.5934274746751609, 0.808964755380731, 0.8089640391772851, 0.8089550866342119, 1.5934124344027978, 1.5933959617235431, 1.5933898023739086, 0.808956948763171, 1.5934223180103506, 0.8089383990939233, 0.8089565190411036, 0.8089770024596551, 1.5934095695890145, 2.377856460787291, 2.377841706996306, 1.5934095695890145, 2.3777928619212982, 1.5933991130187048, 1.5933781998780858, 1.5934095695890145, 1.5934290503227417, 0.808987244168931, 0.8089844509754921, 0.8089787929682698, 0.808977718663101, 0.8089744241272501, 0.8089724187576016, 0.5399868217601174, 0.5399842951446588, 0.5399719352149837, 0.5399711840590365, 0.5399680087179873, 0.539963092060879, 0.5399453033223133, 0.5399111940136239, 1.0635890202803595, 1.063586288804188, 1.063592024904148, 0.5399808807994447, 1.587223655080136, 0.5399591997073349, 0.5399519271520287, 0.5399795492048112, 1.0636159936075513, 0.5399778078887519, 0.5399799247827848, 0.5399819392464611, 0.539977329880422, 0.5399603264412555, 0.5399586534121006, 0.5399512101395337, 0.5399579705430577, 1.5871916968089315, 0.5399759299988842, 0.5399753154167456, 2.1108117182111914, 0.5399609751668462, 1.0635922980517651, 2.634426549808726, 1.587186233856589, 2.11077279467575, 1.0635625932484019, 1.063578299236387, 2.110750259997337, 1.0635436777759155, 1.0635822598768354, 1.5871875995946745, 1.0635858107958582, 1.063557813165102, 1.0635929126339037, 1.0636045214076317, 1.0635858107958582, 1.0635714022590543, 0.5399866851863088, 0.5399863778952395, 0.539984568292276, 0.5399839195666853, 0.5399827586893126, 1.4389856287469196, 0.730566980625684, 0.7305616103936285, 0.7305603867964513, 0.7305601828635885, 0.7305595710649999, 0.7305588912887903, 0.7305585514006855, 0.7305584154454436, 0.7305519575714529, 0.7305474030708489, 0.7305444800331478, 0.7305428485702449, 0.7305410811521, 0.7305340794571415, 0.7305631059012896, 0.730544208122664, 0.730563989610362, 0.7305159974099674, 0.7305386339577455, 0.7305389738458504, 0.7305781289555207, 0.7305692238871755, 0.7305567160049198, 0.7305633098341524, 0.7305462474512926, 0.7305788087317302, 0.7305499182428242, 0.7305330597928272, 2.147424738132063, 1.438978966940066, 1.438974616372325, 2.1474044808010184, 1.4389742085065993, 1.4389678186102295, 1.438978966940066, 1.4389804624477271, 1.4389969130319984, 1.4389716253570028, 1.4389414432932988, 0.7305738463654005, 0.7305693598424174, 0.7305686800662079, 0.7305673205137888, 0.7305671845585469, 0.7305656890508858, 0.7305650772522972, 0.7305645334313297, 0.73056385365512, 0.730560930617419, 1.1237880720754825, 1.1237731273365708, 2.2135755898083023, 2.213581755350813, 1.1238060995856494, 1.1238206422239627, 1.1237991968587082, 1.123715425900683, 1.1238087132395398, 2.2134908806155473, 1.1237828447677016, 1.1237392168527622, 1.1237548987761043, 1.1237608632683158, 1.1237598580168195, 2.213464341976045, 1.1238058315185837, 1.1237912888802706, 1.123782710734169, 1.1237744006551327, 1.123754362641973, 1.123748130082696, 1.1238195029389335, 1.1238113268934302, 1.1237763441413589, 1.1237886752263802, 1.1238159510503132, 1.123781169348541, 1.1238131363461237, 1.123758316631192, 2.2135495873029316, 1.1238217144922253, 1.1238051613509197, 1.1237998670263725, 1.1237967172383507, 1.1237965161880514, 1.123789747494643, 1.123786865773687, 1.1237803651473441, 1.1237798290132128, 1.1237780195605194, 0.9423019843728793, 0.9423004766186956, 0.942293724502134, 0.9422856612949779, 1.8560890594062012, 0.9423052620993655, 0.9423076220624357, 0.9422806135961891, 0.9422781225240596, 0.9422822524594322, 0.9423159474877106, 0.9423047376631277, 0.9422892667941127, 0.9423128008702839, 0.9422741236977464, 1.8560354358008866, 0.9423044754450088, 0.9422960189106744, 0.9423156852695918, 0.9422825802320809, 0.9423001488460471, 0.9422838913226753, 0.9422850057496807, 0.9422905778847073, 0.9423041476723603, 0.9423095886983274, 1.856057199904755, 0.9423095886983274, 0.9422438375050137, 0.9422677649083632, 3.6836207301375836, 1.8559805011049775, 1.8560388446364322, 1.8560450067622263, 0.9423194218777861, 0.9423177830145429, 0.9423152919424134, 0.942314177515408, 0.9423090642620896, 0.9423050654357764, 0.9423047376631277, 0.9422986410918633, 0.9422980511010959, 2.03970413786524, 2.0397018473935136, 1.0355401460307125, 1.035538491801132, 1.0355382373042736, 1.035537155692625, 1.035530793271162, 1.0355277393088598, 1.0355132329879242, 1.0354946547172523, 2.0397022291388014, 1.0355140601027142, 1.0355387462979906, 1.0355118968794168, 2.0396970119532014, 1.0355307296469474, 1.0355478445606827, 1.035554143357931, 1.035537982807415, 1.0355401460307125, 1.0355571336960185, 1.0355155234596507, 1.0355353742146152, 1.0355157143322946, 2.0396965029594845, 1.0355216950084698, 1.0355348652208982, 1.035539191667493, 1.035489183034794, 1.0355638778627694, 2.0397446028657447, 1.035558597052955, 1.035557388192877, 1.0355556067148675, 1.0355413548907904, 1.0355364558262639, 1.0355307296469474, 1.035530093404801, 0.8586512309276438, 0.8586144882254265, 0.8400973065986465, 0.8336506727956413, 0.8586678284931282, 0.8586481901522879, 0.8586462896676904, 0.8586391311757068, 0.8586406515633846, 0.8586421086015761, 0.8362684636296535, 0.8586573758278423, 0.8385677332451333, 0.8586405248644116, 0.8586331763239681, 0.858623040406115, 0.8412913177217368, 0.8586476833563953, 0.8586793580996861, 0.8586470498615294, 1.6913089005211182, 1.6912228719183404, 1.637974714370108, 0.8334957199514627, 0.858639701321086, 0.8586393212241665, 0.8586436923387406, 1.6913338602188315, 0.8586358370024045, 0.8586846161070724, 1.691322710709193, 1.6912648092784575, 1.6913076335313866, 1.691282293736754, 1.663021834374748, 0.8586105605572584, 0.8586796114976324, 0.8586747969366522, 0.8586646610187991, 0.8586643442713662, 0.8586585794680873, 0.8586554119937582, 0.8586552219452984, 0.8586502806853451, 0.8586489503461269, 0.8586476833563953, 0.858644389183093, 0.8204964500986055, 0.8204755631406355, 0.820467967883192, 0.820465789831425, 0.8204188220997334, 0.7090289544836584, 0.820466069068831, 0.8204868443318386, 0.8204833259405228, 0.8204812595837183, 0.8204860066196206, 0.8204480861798837, 0.719511303315526, 0.7162757794920336, 0.8204474718575905, 0.820475954073004, 0.8204825999232671, 0.8204788022945453, 0.8204900834857484, 0.8204655105940191, 0.8204905302655979, 0.8204898042483423, 0.8204801426340942, 1.569013203879023, 2.326291757290408, 0.8204781321247709, 0.8204662924587559, 0.8204894133159739, 0.8204911445878912, 0.8204634442372145, 1.5144154776104393, 2.4116966296149713, 1.6161212244434802, 1.6160992205358862, 0.8204964500986055, 0.820495500691425, 0.8204920939950716, 0.8204812595837183, 0.8204803101765378, 0.8204772944125529, 0.800811840750726, 0.8007975801069116, 0.8007927209245749, 0.8007916117633893, 0.8007914533117914, 0.8007804145171351, 0.8007597101750046, 1.5773273472801024, 0.8007979498273068, 0.8007892349894202, 0.8008003266012759, 0.8007768229475818, 0.800794780795348, 0.8008065590307948, 0.8008014357624614, 1.577268297651271, 0.800777192667977, 0.8008027561924442, 0.800775344066001, 0.8007709074212588, 0.8007918230321865, 0.8008079322779769, 0.8007448685419978, 1.5773136148082811, 0.8008034956332346, 0.8007716468620492, 2.353890178020063, 0.800787175118647, 0.8008026505580457, 0.8007596045406059, 2.3538500369485855, 2.3538098958771076, 0.8008149569654854, 0.8008133196323067, 0.8008123689227191, 0.8008051329664133, 0.8007936716341625, 0.8007884955486299, 0.8007877561078395, 0.9007421471912337, 0.9007199581397596, 0.9007177704867974, 0.9006972482185326, 0.9006807887343405, 0.9007055821345792, 0.9007401678861726, 0.9007197497918584, 0.9007367301458034, 1.7741525916639198, 0.9006875600411284, 0.9006941230000152, 3.5210674455127178, 0.9006830805612533, 1.7741557168824373, 1.7741800935868737, 0.9007209998792655, 0.9007084990051956, 0.900668704556073, 0.900705373786678, 0.9007163120514892, 0.9006907894335965, 0.9007002692630995, 0.9007335007533354, 0.900715374485934, 0.9007086031791461, 0.9006830805612533, 0.9007063113522333, 0.9007361051020999, 0.9006868308234743, 0.9007310005785214, 0.9007226666624748, 0.9007224583145735, 0.9007180830086491, 0.9007141243985269, 0.9007039153513698, 0.9007034986555675, 0.9007020402202595, 0.9007005817849513, 1.1485253259036101, 1.1485552186912702, 1.1485747320387705, 1.1485623805049803, 1.1485192020339159, 1.1485186830619079, 1.148535393960565, 1.148555737663278, 1.148528128352453, 1.1484674086275186, 1.1485546997192622, 1.1485563604296878, 1.1485357053437697, 1.1485401685030385, 1.148550859326403, 1.1485505479431983, 1.1485755623939833, 1.1485429709518815, 2.2622822259265156, 1.1485561528408845, 1.1485713068235177, 1.1485271942028388, 1.1485813748804727, 1.1485638336266026, 1.1485703726739034, 1.1485370546709905, 1.1485117288370008, 1.1485438013070943, 1.1484843271149792, 1.1485539731584509, 1.1485377812318018, 0.7258421775502288, 0.7258407453206663, 0.7258349141003045, 0.7258340956834117, 0.7258301570521147, 0.7258300547500031, 0.7258021262735337, 0.7257693895978186, 0.7258330215112399, 0.7258360394235323, 0.7258584947370306, 0.7258496456043764, 0.7258429959671218, 0.7258393642421596, 1.429689605708598, 0.7258414102843918, 0.7258273948951013, 0.7258331749644072, 0.7258479576195348, 0.7258313335263983, 0.7258192618772283, 0.7258571136585239, 0.7258545049546778, 0.7258246327380878, 1.4296782501742091, 0.7258219217321301, 0.7258536353867292, 0.7258445816498517, 0.7258136864121456, 1.4296947208141784, 1.4296965622521873, 1.4297036210978884, 1.4296928793761694, 1.429684592905129, 0.7258531238761711, 0.7258479576195348, 0.7258448374051307, 0.7258427402118427, 0.7258419217949499, 0.7258401315079966, 0.7258392107889922, 0.7258372670488716, 0.7258364486319787, 0.8040178299327035, 0.8040008308013893, 0.8039938422696267, 0.803993464511153, 0.803984303868167, 0.8039343453100266, 1.5836201853171419, 0.8040138634687302, 1.583590059078868, 0.8039894036075613, 0.8040034751107048, 0.803983170592746, 0.8040041361880337, 0.8039677769349447, 0.8039958255016133, 0.804000547482534, 0.8040055527823099, 0.8039873259359562, 1.583612913466524, 0.8040020585164286, 0.8039965810185606, 0.8039911979603112, 0.8039739155101416, 0.8039718378385365, 0.803993464511153, 0.8039665492199054, 0.8040073471350597, 1.5836549390967178, 0.8040078193331518, 0.8040128246329277, 1.5836467228499158, 1.5836134801042345, 0.8040246295852292, 0.8040153745026248, 0.8039927089942057, 0.8039921423564953, 0.8039841149889302, 0.8118622489080165, 0.8118471080183781, 0.8118350481237244, 0.8118324072708805, 0.8118279178210459, 0.811823252314355, 0.8118226361153581, 0.8118146255283983, 0.811818498779236, 0.8118493967575096, 1.5990797069631222, 0.811789273341097, 0.8118254530250583, 0.8118233403427831, 0.8118098719932793, 0.8118466678762375, 0.8117885691136719, 0.8118291502190397, 0.8118391854598465, 0.8118560869180473, 0.8118291502190397, 0.811819203006661, 0.8118438509665373, 0.8118162100401046, 0.8118254530250583, 0.8118101360785637, 0.8118360164364338, 0.8117823190952747, 0.8118324072708805, 0.8118192910350892, 1.5990990732173107, 0.8118525657809222, 0.8118441150518217, 0.8118420903979747, 0.8118305586738898, 0.8118236924564957, 0.8118219318879331, 0.7756278979128269, 0.7756221623750436, 0.775618773193626, 0.77561460189342, 0.775610169886951, 0.7756091270618994, 0.7756008713635749, 0.775589921700534, 0.7755776685061786, 0.7755582024385501, 1.527695597044957, 1.5277282722299048, 0.7755735841080601, 0.7756160792289096, 0.7756110389078272, 1.527674219131401, 1.527731226900884, 0.7756072152159716, 0.7755955703362297, 0.7755914859381112, 0.7755761042686012, 0.7756059116846573, 0.7756025225032398, 0.775584533771101, 0.775606433097183, 0.7755821874147352, 0.7756020879928017, 0.7756177303685745, 0.7756223361792187, 0.7755939191965648, 1.5277049824704207, 0.7756213802562549, 0.7756179910748374, 0.7756177303685745, 0.7756148625996828, 0.7755917466443741, 0.7755902693088844, 0.5125407270783972, 0.5125402587500385, 0.5125401310241224, 0.512538811189657, 0.5125369804515277, 0.5125333615505743, 0.5125299129508422, 0.5125274861584381, 0.5125266772276368, 0.5125248464895074, 0.5125153521964179, 0.5125146284162272, 0.5125109669399683, 0.5125254851190875, 0.5125299129508422, 0.5125283802398501, 0.5124863158381797, 0.5125170552086312, 0.5125114352683271, 0.512518545344318, 0.5125254851190875, 1.0094908030963847, 0.5125179067147378, 0.5125178215641272, 0.5125380874094664, 0.5125391943674051, 0.5125191413985926, 0.5125112649671058, 0.5125160759766085, 0.5125238246821794, 1.0095512600299597, 1.0095230751778281, 1.0095031499349316, 1.0095475985537008, 1.5065292228729412, 1.0095112392429453, 0.6762050117933923, 0.6496487928169667, 0.6632574782634486, 0.6969363755211005, 0.5125423023646946, 0.5125394072439318, 0.512537278478665, 0.5125357883429783, 0.5125350219874824, 0.5125318714148875, 0.5125276990349648, 0.9094623410859337, 0.9094589714186874, 0.9094507527180867, 0.9094186175987381, 1.7913747758883256, 0.9094564236215011, 2.673254993384363, 0.9094621767119216, 0.909466368249228, 0.9094501774090447, 0.9094368631140716, 0.9094777100560569, 0.9094223982010143, 0.9094450818146722, 0.9094225625750264, 0.9094558483124592, 0.9094600398497655, 0.9093664288499237, 0.909441301212396, 0.90934530678938, 0.9094469721158104, 0.9094582317356333, 0.9094383424801797, 0.9094275759823928, 0.9094450818146722, 1.7913552153808958, 0.9094272472343687, 0.9094314387716751, 0.027562575924186542, 0.027562575924186542, 0.027562575924186542, 0.027562575924186542, 1.1911555007260513, 0.604740711002575, 0.6047220295903447, 0.6047165884023165, 0.6047147021238, 0.6047488727846173, 0.6047264913645278, 1.1911469399235537, 0.6047404933550539, 0.6047444110104342, 0.6047262374424198, 0.6047178942874432, 0.6047279060734152, 0.6047195266438516, 0.6047362855029786, 0.6047435766949365, 0.6047230815533634, 0.19330417187261809, 1.1910971711903886, 1.1910878123469801, 0.6047172050702929, 0.604738933547819, 0.604722718807495, 0.6047353060891335, 0.6047053070058046, 0.6047475668994905, 0.604709442308706, 0.14035914519620432, 0.6047225737091475, 0.5265123154255851, 0.6047453904242792, 0.604718946250462, 0.7345717014829456, 0.7618743496726803, 0.6047481835674671, 0.6047374100151711, 0.6047242786147297, 0.6047214854715418, 0.6047185472300066, 0.7621549108190027, 0.7621384712225482, 0.7621236827646022, 0.7184645654766374, 0.7178795599242029, 0.7136112950910282, 0.6985913905993678, 0.7621381122793941, 0.7137968687016606, 0.7621529725259709, 0.7621007104027444, 0.7621587874050662, 0.7621276311392965, 0.7276461159907748, 0.7621333742297609, 0.7621339485388074, 0.7226310340313299, 0.7054613472015665, 0.7270462501917636, 0.7621587874050662, 0.7621150681289055, 0.7621407684587339, 1.5011195094971037, 0.7041322524908326, 0.7621538339895405, 0.7621318666685141, 0.7620979824347738, 0.7176353350022024, 0.7621534032577557, 0.7621223187806169, 0.7621176525196145, 0.7289200770330501, 0.7205040086891923, 0.7298779482401088, 0.7298756160230898, 0.72986491526265, 0.7298510591497728, 0.7298590161254844, 0.7298769193208356, 0.7298391236862053, 0.729876713536981, 0.7298389179023508, 0.7298583301793025, 0.7298662185603959, 0.7298673160742871, 0.729860182233994, 0.7298743813199621, 0.7298449542287526, 0.7298556549891925, 0.7298675218581417, 0.7298607309909395, 0.7298720491029432, 0.7298328815759488, 0.7298665615334868, 1.4376172578334019, 0.7298487269327538, 0.7298651896411228, 1.4376350924341348, 0.729846394715735, 0.7298923531099315, 0.7298695111020697, 0.7298745185091985, 0.7298197114092536, 0.7298614169371216, 0.7298516079067184, 0.6950832495983883, 0.6950708653097109, 0.695120202717829, 0.6951033574219398, 0.6950901741468961, 0.6950680022752316, 0.695100960462841, 0.6951080847579403, 0.6951052883056583, 0.6950949014828965, 0.695100627551855, 0.6950962331268404, 0.6950937030033472, 0.6950968989488123, 0.6950841151669517, 0.695094701736305, 0.6951116801965886, 0.6950773237828383, 0.6951049553946724, 0.6950925045237978, 0.6950649394941608, 0.6951025584355736, 0.6950987632503337, 0.6950972984419954, 0.6950913060442483, 0.6950668703778794, 0.6950890422495438, 0.6951060872920246, 0.6950848475711208, 0.6950882432631775, 1.3691383765156513, 0.6951003612230662, 0.6950840485847545, 0.6950792546665568, 0.42115333419675055, 0.4211532091008957, 0.42115217706009334, 0.4211511137453272, 0.4211469230341903, 0.42114642265077096, 0.42114385818574684, 0.42113188025764653, 0.42112900305298534, 0.4211559299357383, 0.8295502062406123, 0.4211544287854803, 0.421153928402061, 0.4211580252913068, 0.42115198941631105, 0.421159182427964, 0.4211607461261494, 0.42113904199533575, 0.4211618094409155, 0.4211527712654038, 0.21138586527234918, 0.42115452260737146, 0.4211310358606264, 0.42114495277447667, 0.19725108135392033, 0.42116005809894785, 0.18891034650684416, 0.42113453854456173, 0.42116277893379045, 0.42115383458016986, 0.8295192450165408, 0.4211434516242187, 0.42115452260737146, 0.5406826736821028, 0.5524721448771267, 0.5627063618569301, 0.42116058975633086, 0.4211585569486898, 0.42115821293508904, 0.42115786892148827, 0.42115786892148827, 0.42115674305879475, 0.42115558592213753, 0.4211551793606093, 0.42115505426475447, 0.4211535843884602, 0.421152958909186, 0.7048604627100014, 0.7048345491123366, 0.7048138526327857, 0.7048603480480647, 0.7048557042396336, 0.7048187830960583, 1.3883270719709668, 0.7048543282963948, 0.7048375303226874, 0.7048403395401334, 0.7048492831711858, 0.7048471619253592, 0.7048129353372932, 0.7048396515685139, 0.7048299626348737, 0.7048071449094965, 0.7048387916039897, 0.7048514044170123, 0.7048101834508155, 0.7048149992521514, 0.7048284146987301, 0.7048492831711858, 0.7048396515685139, 0.7048546722822046, 0.7048179804625022, 0.7048338611407171, 0.021361346790018398, 0.021361346790018398, 0.021361346790018398, 0.021361346790018398, 0.021361346790018398, 0.021361346790018398, 0.021361346790018398, 0.021361346790018398], \"Total\": [26.0, 20.0, 36.0, 12.0, 15.0, 23.0, 16.0, 15.0, 19.0, 12.0, 7.0, 17.0, 20.0, 10.0, 19.0, 14.0, 20.0, 11.0, 14.0, 15.0, 11.0, 16.0, 9.0, 10.0, 7.0, 9.0, 12.0, 10.0, 12.0, 10.0, 1.668079171637153, 1.6680735077160442, 1.668072900867354, 1.6680724963015605, 1.668067169518613, 1.6680622473014588, 1.6680604267553882, 1.6680598873343302, 1.66805658338035, 1.6680564485250855, 1.6680555045382341, 1.6680542908408535, 1.6680524028671506, 1.6680501103276542, 1.6680490314855383, 1.6680469412289385, 1.6680412773078297, 1.6680372990775272, 1.6680251621037225, 1.66802118387342, 1.6680155873799434, 3.777512494177115, 2.1916643545004275, 4.722449378154315, 2.402049840510376, 2.4020536490473225, 2.4020643904277517, 2.4445830835207802, 2.447688474711048, 2.498938982033953, 19.052381132662816, 5.135540541107044, 17.47224231954069, 10.955964466631515, 16.520859295820763, 6.337374575380373, 23.89075001431185, 11.774150340982187, 36.939840246778296, 15.866357039138592, 6.947543888783462, 31.447696428926815, 7.339727305533833, 7.554510894688844, 8.83493855213883, 26.598144224998634, 10.155916347836275, 11.456941042977052, 12.642971938428726, 13.771274526886753, 14.785774058249142, 15.074830028925554, 19.912469497062602, 4.832289691745739, 5.707729626667206, 5.702492341303388, 5.021811543236529, 1.7592297566879527, 1.7592212746577274, 1.7592166095411035, 1.7592105872996435, 1.7592050739799971, 1.759188873302267, 3.46677514691378, 2.1675864128972155, 2.3456281167432502, 2.467620714546677, 2.4932518845671927, 2.493203626518181, 2.493203829250823, 2.498169927100632, 2.632622649945147, 2.788228008084086, 2.8714218958947226, 3.043379074985527, 6.372009493005119, 3.26257944905947, 3.2715141876769467, 3.2715666315656753, 3.285212833314442, 3.3118531896186827, 6.564629221794284, 3.370614956968668, 3.3746192298344155, 10.832575079795491, 3.7298038233187207, 14.660157627818311, 7.420442596786915, 13.771274526886753, 15.074830028925554, 20.77618381637538, 23.89075001431185, 36.939840246778296, 6.268518279736066, 4.021842036679158, 17.47224231954069, 6.880467789556218, 4.235342434048965, 31.447696428926815, 4.932783541413408, 1.6215349623175455, 1.6215281283577536, 1.62152677843977, 1.6215249223025425, 1.6215245848230466, 1.621524162973677, 1.621517835233129, 1.6215122668214466, 1.6215034923545535, 1.621501214367956, 1.6215003706692162, 1.621489318215726, 2.1185082860563407, 2.2564773041429884, 2.256403685156383, 2.256423736537258, 2.329956408759426, 2.401138879550727, 2.4087388430371464, 2.408711200548815, 2.4087071233999584, 2.454172013196911, 2.498865264300322, 2.498938982033953, 2.549591410942098, 3.0437184427398134, 6.011598167883264, 3.121015249568827, 3.427045513038486, 7.328493451463851, 12.57135889429679, 8.074304505189716, 8.696090862845558, 31.447696428926815, 23.89075001431185, 26.598144224998634, 36.939840246778296, 14.052208184208322, 14.660157627818311, 13.835152705868712, 6.731592104982032, 9.756601057744003, 13.771274526886753, 5.702492341303388, 10.63827531615477, 14.785774058249142, 8.83493855213883, 2.848735469234216, 1.81969914586671, 1.819697050522073, 1.8196901777916634, 1.8196889205848812, 1.8196833050612533, 1.8196769352135564, 1.8196663746765853, 1.7275799112975074, 3.3875609431858464, 1.6876283363690117, 4.704924100912484, 2.788228008084086, 6.731592104982032, 2.3690141985214246, 3.285212833314442, 3.3118531896186827, 3.317754827124891, 1.6081050376190682, 3.3746192298344155, 1.6029345494617833, 1.5968181153115992, 3.5835045569142245, 1.5910955118397128, 5.786489436752062, 7.867094222084162, 1.5711348605652262, 4.088293714250837, 4.22602830952913, 4.334418013662093, 15.866357039138592, 4.688368305588931, 14.052208184208322, 20.408984997548945, 11.85894497252114, 15.445245980847933, 16.163984293148886, 19.052381132662816, 23.89075001431185, 8.437218727967865, 4.932783541413408, 7.726446844435505, 17.47224231954069, 12.470482159896191, 7.359386637713312, 2.646909337736471, 2.6469018154807804, 2.646822079570458, 3.170426956926117, 1.7187740641340703, 1.7187541719467991, 1.7187512466251418, 3.511639187697871, 3.511538183042382, 3.5243273067132255, 4.589831226797539, 4.704924100912484, 4.832289691745739, 4.839573196397586, 2.457840126694719, 2.549591410942098, 2.592234355101672, 5.135540541107044, 2.995361206205931, 3.3707476870398048, 3.427045513038486, 10.247230321347164, 6.947543888783462, 6.9782545869102055, 3.904180508315788, 3.9873614907724058, 7.874954850085732, 8.83493855213883, 4.655564111711572, 4.914715354124706, 9.756601057744003, 10.63827531615477, 12.470482159896191, 13.835152705868712, 19.912469497062602, 20.408984997548945, 8.68376232319611, 14.6656555441806, 15.866357039138592, 6.113150499741641, 31.447696428926815, 2.7823484429168555, 1.5246959178623083, 1.52469058945218, 1.5246864086996177, 1.52468116226503, 1.524676489659225, 1.5246729647109865, 1.5246713252001776, 1.5246690298850454, 1.5246624718418107, 1.5246564876273587, 2.1596359042884288, 2.1596449917249125, 2.1596595001985675, 2.159667296564605, 4.377088496603373, 2.2330698757886234, 2.3202999582761255, 2.3572938519900077, 2.389452937247706, 2.4020643904277517, 2.4020536490473225, 2.402049840510376, 2.4384214759883194, 2.4932518845671927, 2.493203829250823, 2.493203626518181, 2.794609637808032, 2.854274568414513, 3.370614956968668, 6.9782545869102055, 15.866357039138592, 7.359386637713312, 9.680873057234034, 10.303057254990296, 12.449998575667731, 36.939840246778296, 17.47224231954069, 19.052381132662816, 20.408984997548945, 31.447696428926815, 3.8040146338410925, 8.68376232319611, 4.235342434048965, 5.8528579897834, 9.186839398092149, 4.401260435508073, 4.614460357840863, 14.6656555441806, 2.2986534492413457, 1.6041936729023378, 1.6041877768758965, 1.604181389513919, 1.6041769674940882, 1.6041752478197093, 1.604168369122195, 1.5366151646041186, 3.82840685189025, 2.0125655653031584, 1.5176586112904573, 1.5174676278814392, 1.5150272235257227, 1.50523400617725, 1.499680659021661, 1.497569059116391, 2.2781966867015027, 2.278191363004662, 2.278214104326992, 2.3886317130876025, 2.3886066454924255, 2.4282379740932027, 2.4689150815948677, 2.468894443527261, 4.914715354124706, 2.651374517451155, 3.201355067727101, 3.7205561520033803, 3.7205628208115242, 3.7205497644999674, 7.328493451463851, 6.827168955747849, 8.68376232319611, 20.77618381637538, 31.447696428926815, 14.052208184208322, 14.6656555441806, 14.785774058249142, 15.074830028925554, 15.445245980847933, 16.163984293148886, 19.912469497062602, 26.598144224998634, 36.939840246778296, 5.284629291055462, 3.861140183328693, 10.955964466631515, 3.791878187888306, 4.784513251664819, 19.052381132662816, 4.655564111711572, 7.791038140830323, 4.614460357840863, 2.5201800611222955, 2.3395256634775277, 1.6554165635303675, 1.6554110445427717, 1.6554083617015793, 1.655408131743763, 1.6554072885651023, 1.6554019228827177, 1.6553970937685714, 1.6553959439794892, 1.6553920346966087, 1.6553845993938756, 1.6553788504484634, 4.12358886090611, 1.5151410545657078, 2.178977486386655, 1.491932930464153, 2.290357886227928, 2.389452937247706, 2.394429521527808, 2.488798439616399, 2.439859636653341, 2.4398355940652117, 2.4689150815948677, 2.468894443527261, 1.458585702213989, 2.5327971610068785, 1.4492211032647626, 1.4334276438934546, 2.2431515917233504, 3.1535303012498286, 12.449998575667731, 3.3707476870398048, 9.186839398092149, 8.188484434500303, 12.470482159896191, 12.642971938428726, 16.563152064258226, 19.052381132662816, 19.912469497062602, 14.660157627818311, 20.408984997548945, 31.447696428926815, 36.939840246778296, 7.537962244034422, 6.9782545869102055, 3.511639187697871, 6.007659756364055, 5.911195202306027, 10.303057254990296, 2.060598200107552, 2.794609637808032, 1.4256347816957333, 1.425627598782944, 1.4256221930856905, 1.4256185646039723, 1.4256113076405357, 1.4256104190327679, 1.425601384853796, 1.4255948683968327, 3.589120613722548, 3.7587528813647735, 2.133343828541974, 2.159667296564605, 2.1596595001985675, 2.1596449917249125, 2.1596359042884288, 2.212861868007112, 2.256423736537258, 2.256403685156383, 2.2564773041429884, 2.2582475558078667, 2.290357886227928, 2.339327245555768, 1.5711348605652262, 2.5153764105344045, 5.031572052181511, 1.5910955118397128, 1.5968181153115992, 2.8311154434781804, 12.470482159896191, 6.000286570191667, 20.408984997548945, 11.456941042977052, 7.726446844435505, 16.563152064258226, 11.85894497252114, 23.89075001431185, 12.642971938428726, 14.6656555441806, 19.052381132662816, 26.598144224998634, 31.447696428926815, 4.655564111711572, 3.2715666315656753, 4.401260435508073, 9.756601057744003, 4.589831226797539, 8.188484434500303, 4.51060890950985, 2.3595597195582036, 1.5751260781236753, 1.5751129716006163, 1.5751115391937245, 1.5751108229902788, 1.575110106786833, 1.5751083878985628, 1.575107671695117, 1.5751062392882251, 1.5751035893354755, 1.5751029447523741, 1.575096212439983, 3.8637683550151247, 2.362272513301762, 2.370717912365559, 2.3886066454924255, 2.3886317130876025, 4.763626653119756, 4.784513251664819, 2.4398355940652117, 2.439859636653341, 2.488853766300825, 4.914715354124706, 5.000537367539273, 5.319266168593609, 2.9858646977775978, 6.113150499741641, 3.7587528813647735, 3.904180508315788, 3.926259292709736, 8.68376232319611, 14.6656555441806, 14.785774058249142, 10.955964466631515, 31.447696428926815, 12.642971938428726, 14.052208184208322, 19.912469497062602, 20.77618381637538, 13.771274526886753, 23.89075001431185, 4.010095821335048, 8.696090862845558, 5.284629291055462, 5.945574794359082, 1.3142829361834472, 1.3142804095679887, 1.3142680496383135, 1.3142672984823665, 1.3142641231413172, 1.314259206484209, 1.3142414177456432, 1.3142073084369537, 2.651374517451155, 3.386536230384282, 4.088293714250837, 2.0908055013853315, 6.379494296793085, 2.178977486386655, 2.1916643545004275, 2.2279981654011047, 4.548866639443745, 2.403930853686984, 2.428002598828003, 2.4280315998360944, 2.4280393420038457, 2.4279662895878165, 2.4279651355306697, 2.724986163884835, 2.7426559279883618, 8.074304505189716, 2.7823484429168555, 2.8311154434781804, 11.456941042977052, 2.936404093943117, 5.8528579897834, 16.563152064258226, 9.756601057744003, 23.89075001431185, 8.437218727967865, 9.186839398092149, 36.939840246778296, 9.461568784504754, 10.63827531615477, 31.447696428926815, 13.835152705868712, 14.052208184208322, 14.6656555441806, 15.866357039138592, 20.408984997548945, 26.598144224998634, 9.64670554790128, 6.113150499741641, 5.945574794359082, 4.326419591254771, 10.247230321347164, 2.2075057785079677, 1.4990871303867321, 1.4990817601546766, 1.4990805365574993, 1.4990803326246367, 1.499079720826048, 1.4990790410498385, 1.4990787011617337, 1.4990785652064917, 1.4990721073325008, 1.499067552831897, 1.4990646297941959, 1.4990629983312929, 1.4990612309131481, 1.4990542292181896, 2.2068024005814606, 2.2330698757886234, 2.2431515917233504, 2.2786590372699824, 2.3114955639959662, 2.316588841915941, 2.329956408759426, 2.412847209312709, 2.467620714546677, 2.6870828372281585, 2.740072973323404, 2.7426559279883618, 2.936404093943117, 3.0742554883496727, 10.155916347836275, 7.483682734318437, 7.554510894688844, 17.47224231954069, 10.682875501063815, 12.57135889429679, 13.771274526886753, 20.092358857887877, 20.408984997548945, 26.598144224998634, 36.939840246778296, 3.5893752194520694, 16.163984293148886, 6.971429123930951, 14.785774058249142, 3.8869861501932546, 11.774150340982187, 8.188484434500303, 15.074830028925554, 6.880467789556218, 6.113150499741641, 1.8803905482880827, 1.880375603549171, 3.7869645770272076, 4.326419591254771, 2.288783922559278, 2.288820169328405, 2.288797160264965, 2.403930853686984, 2.5153764105344045, 5.9988632193640505, 3.1535303012498286, 3.2188559199820634, 3.317754827124891, 3.420712973514538, 3.4396160060379675, 7.388295461129152, 3.926072853048341, 4.044037901940617, 4.173630153676799, 4.232662235825035, 4.901502495203763, 4.997725201685394, 5.024467432744528, 5.382672662242268, 5.442990865490668, 5.521382839570828, 5.8528579897834, 6.011598167883264, 6.379494296793085, 6.880467789556218, 16.563152064258226, 7.867094222084162, 10.247230321347164, 8.437218727967865, 19.912469497062602, 9.461568784504754, 12.449998575667731, 7.5313064288682465, 16.520859295820763, 13.835152705868712, 20.092358857887877, 1.7044048432880348, 1.7044033355338515, 1.7043965834172896, 1.7043885202101334, 3.926259292709736, 2.201386546863948, 2.2013945267673227, 2.2279981654011047, 2.339327245555768, 2.4121234627868082, 2.412847209312709, 2.4384214759883194, 2.4808995049921005, 2.488853766300825, 2.5173434310195706, 5.000537367539273, 2.724986163884835, 2.936404093943117, 2.9858646977775978, 3.0832561071898033, 3.201355067727101, 3.386536230384282, 3.7587528813647735, 3.82840685189025, 4.401260435508073, 4.548866639443745, 9.461568784504754, 5.151992923184887, 5.702492341303388, 6.000286570191667, 26.598144224998634, 17.47224231954069, 20.77618381637538, 36.939840246778296, 16.520859295820763, 8.074304505189716, 6.731592104982032, 6.268518279736066, 7.5313064288682465, 16.163984293148886, 14.785774058249142, 13.835152705868712, 10.682875501063815, 2.7989813155251673, 2.7989790250534408, 1.7948173236906397, 1.7948156694610593, 1.7948154149642006, 1.794814333352552, 1.794807970931089, 1.7948049169687867, 1.7947904106478512, 1.7947718323771795, 3.676393629467198, 2.571316574893239, 2.590435925088383, 2.5903711552300726, 5.699390973397028, 2.8967213239011094, 3.643592808615244, 3.7205561520033803, 3.7205497644999674, 3.7205628208115242, 4.253899843704035, 4.722449378154315, 4.901502495203763, 5.284629291055462, 10.682875501063815, 5.442990865490668, 6.564629221794284, 7.0160047775450325, 7.537962244034422, 7.791038140830323, 20.092358857887877, 31.447696428926815, 12.57135889429679, 10.63827531615477, 16.163984293148886, 14.785774058249142, 26.598144224998634, 16.520859295820763, 1.6232891768815807, 1.623252434179363, 1.6240033892513077, 1.6242262938616943, 2.1202590808663446, 2.1202815069271748, 2.120281139153569, 2.2582475558078667, 2.3271137797932364, 2.3572938519900077, 2.2981565919901388, 2.454172013196911, 2.488798439616399, 2.740072973323404, 2.854274568414513, 2.89679805644833, 3.2364602498892387, 3.420712973514538, 3.5893752194520694, 3.7298038233187207, 7.483682734318437, 7.5313064288682465, 7.328493451463851, 4.073290322091357, 4.253899843704035, 4.326419591254771, 4.46604993712565, 9.461568784504754, 4.997725201685394, 5.024467432744528, 10.832575079795491, 12.57135889429679, 19.912469497062602, 20.77618381637538, 36.939840246778296, 5.151992923184887, 15.866357039138592, 13.771274526886753, 10.155916347836275, 5.9988632193640505, 20.408984997548945, 10.247230321347164, 7.388295461129152, 16.520859295820763, 8.437218727967865, 9.680873057234034, 14.660157627818311, 1.5862914153478316, 1.5862705283898615, 1.5862629331324178, 1.586260755080651, 1.5862137873489595, 1.6048264783505317, 2.2939799734533253, 2.2940385443509634, 2.3202999582761255, 2.370717912365559, 2.590435925088383, 2.5903711552300726, 2.3114955639959662, 2.5173434310195706, 3.0742554883496727, 3.081252324639145, 3.121015249568827, 3.1714178637626933, 3.26257944905947, 3.4077341724099015, 3.693952927048644, 4.253899843704035, 4.901502495203763, 9.64670554790128, 15.074830028925554, 5.442990865490668, 5.636921759355483, 5.699390973397028, 5.7089691359112855, 5.786489436752062, 10.682875501063815, 36.939840246778296, 20.092358857887877, 26.598144224998634, 10.63827531615477, 6.268518279736066, 6.007659756364055, 16.163984293148886, 20.408984997548945, 14.785774058249142, 1.567203367824357, 1.5671891071805428, 1.567184247998206, 1.5671831388370205, 1.5671829803854225, 1.5671719415907663, 1.5671512372486358, 4.010095821335048, 2.0908055013853315, 2.3468177236651617, 2.4445830835207802, 2.4808995049921005, 2.571316574893239, 2.843812295393283, 2.89679805644833, 6.827168955747849, 3.589120613722548, 3.8869861501932546, 3.9873614907724058, 4.021842036679158, 4.51060890950985, 4.614460357840863, 4.688368305588931, 9.680873057234034, 5.031572052181511, 5.945574794359082, 20.092358857887877, 6.971429123930951, 7.0160047775450325, 7.554510894688844, 26.598144224998634, 36.939840246778296, 12.470482159896191, 11.456941042977052, 10.247230321347164, 12.57135889429679, 20.77618381637538, 11.774150340982187, 10.155916347836275, 1.6641053547586233, 1.6640831657071489, 1.664080978054187, 1.6640604557859222, 1.6640439963017302, 2.4161737997022836, 2.592234355101672, 2.632622649945147, 3.2364602498892387, 7.797916931892415, 4.044037901940617, 5.151992923184887, 20.77618381637538, 5.707729626667206, 11.85894497252114, 12.470482159896191, 6.372009493005119, 6.947543888783462, 7.328493451463851, 7.339727305533833, 7.359386637713312, 7.420442596786915, 7.483682734318437, 7.791038140830323, 8.188484434500303, 8.696090862845558, 9.186839398092149, 10.155916347836275, 10.303057254990296, 10.955964466631515, 15.445245980847933, 36.939840246778296, 16.520859295820763, 14.6656555441806, 31.447696428926815, 23.89075001431185, 16.563152064258226, 20.092358857887877, 19.912469497062602, 1.9043774623033147, 2.4013928910163926, 2.4280393420038457, 2.4280315998360944, 2.4279651355306697, 2.4279662895878165, 2.428002598828003, 2.578449925901272, 3.4077341724099015, 3.926072853048341, 4.334418013662093, 4.46604993712565, 4.548866639443745, 4.997725201685394, 5.024467432744528, 5.382672662242268, 5.521382839570828, 5.9988632193640505, 12.57135889429679, 7.5313064288682465, 7.537962244034422, 7.726446844435505, 8.188484434500303, 8.437218727967865, 10.247230321347164, 10.303057254990296, 13.835152705868712, 14.6656555441806, 16.163984293148886, 19.912469497062602, 31.447696428926815, 1.494505309053285, 1.4945038768237224, 1.4944980456033607, 1.4944972271864678, 1.4944932885551707, 1.494493186253059, 1.4944652577765898, 2.1867986810175615, 2.3271137797932364, 2.8714218958947226, 3.121015249568827, 3.7205497644999674, 3.7205628208115242, 3.7205561520033803, 7.554510894688844, 4.22602830952913, 4.377088496603373, 4.655564111711572, 4.688368305588931, 5.284629291055462, 5.319266168593609, 5.8528579897834, 5.911195202306027, 6.007659756364055, 11.85894497252114, 6.268518279736066, 6.947543888783462, 6.9782545869102055, 7.339727305533833, 15.866357039138592, 19.052381132662816, 20.408984997548945, 31.447696428926815, 36.939840246778296, 10.955964466631515, 19.912469497062602, 10.303057254990296, 9.680873057234034, 10.682875501063815, 10.155916347836275, 10.63827531615477, 11.774150340982187, 8.83493855213883, 1.5703122871624902, 1.5702952880311756, 1.570288299499413, 1.5702879217409396, 1.5702787610979536, 1.570228802539813, 3.4396160060379675, 1.9786990542496894, 4.173630153676799, 2.2786590372699824, 2.3468177236651617, 2.401138879550727, 2.447688474711048, 2.6870828372281585, 2.843812295393283, 2.8605896244104256, 2.995361206205931, 3.0742554883496727, 6.379494296793085, 3.6107401413880753, 4.377088496603373, 5.284629291055462, 5.699390973397028, 5.8528579897834, 5.911195202306027, 6.372009493005119, 7.537962244034422, 16.563152064258226, 9.64670554790128, 9.680873057234034, 20.77618381637538, 36.939840246778296, 9.756601057744003, 14.785774058249142, 14.660157627818311, 20.092358857887877, 16.163984293148886, 1.5779191997101525, 1.577904058820514, 1.5778919989258604, 1.5778893580730164, 1.577884868623182, 1.5778802031164911, 1.577879586917494, 1.5778715763305344, 1.9862656827491252, 2.212861868007112, 4.51060890950985, 2.362272513301762, 2.4087071233999584, 2.4087388430371464, 2.408711200548815, 2.4597974663756883, 3.043379074985527, 3.0437184427398134, 3.081252324639145, 3.3707476870398048, 4.073290322091357, 4.763626653119756, 4.839573196397586, 5.7089691359112855, 5.786489436752062, 7.5313064288682465, 7.537962244034422, 7.867094222084162, 7.874954850085732, 8.188484434500303, 23.89075001431185, 12.642971938428726, 12.449998575667731, 13.835152705868712, 16.563152064258226, 9.186839398092149, 15.074830028925554, 1.5427828397436953, 1.542777104205912, 1.5427737150244942, 1.5427695437242885, 1.5427651117178192, 1.542764068892768, 1.5427558131944434, 1.5427448635314023, 1.5427326103370471, 1.5427131442694186, 3.791878187888306, 3.8637683550151247, 2.2262228833885436, 2.281476301754748, 2.4161737997022836, 5.707729626667206, 6.337374575380373, 3.2188559199820634, 3.3875609431858464, 3.589120613722548, 3.861140183328693, 4.021842036679158, 4.763626653119756, 5.031572052181511, 6.007659756364055, 6.011598167883264, 6.372009493005119, 7.0160047775450325, 7.388295461129152, 8.188484434500303, 19.912469497062602, 13.771274526886753, 14.660157627818311, 15.074830028925554, 8.437218727967865, 12.642971938428726, 16.163984293148886, 1.287668688397878, 1.2876682200695193, 1.2876680923436032, 1.287666772509138, 1.2876649417710087, 1.287661322870055, 1.287657874270323, 1.287655447477919, 1.2876546385471177, 1.2876528078089882, 1.2876433135158987, 1.287642589735708, 1.2876389282594491, 2.1185082860563407, 2.120281139153569, 2.1202815069271748, 2.1202590808663446, 2.2013945267673227, 2.201386546863948, 2.4013928910163926, 2.724986163884835, 5.587876742823606, 2.843812295393283, 2.854274568414513, 2.89679805644833, 2.9858646977775978, 2.995361206205931, 3.043379074985527, 3.0832561071898033, 3.285212833314442, 7.420442596786915, 9.461568784504754, 9.680873057234034, 10.303057254990296, 36.939840246778296, 17.47224231954069, 7.359386637713312, 7.483682734318437, 14.660157627818311, 23.89075001431185, 16.520859295820763, 4.401260435508073, 4.46604993712565, 4.997725201685394, 10.63827531615477, 9.64670554790128, 20.408984997548945, 1.672560735900128, 1.6725573662328816, 1.6725491475322811, 1.6725170124129325, 3.5835045569142245, 2.4597974663756883, 7.726446844435505, 2.8311154434781804, 2.8605896244104256, 3.0832561071898033, 3.6107401413880753, 4.010095821335048, 4.044037901940617, 4.382825423467411, 4.839573196397586, 4.932783541413408, 5.382672662242268, 5.702492341303388, 6.000286570191667, 9.64670554790128, 12.449998575667731, 15.445245980847933, 16.163984293148886, 16.520859295820763, 17.47224231954069, 36.939840246778296, 20.092358857887877, 26.598144224998634, 1.1990262785570582, 1.1990291557617194, 1.7948154149642006, 1.2876546385471177, 1.9634890187176197, 1.3770742289941436, 1.3770555475819133, 1.377050106393885, 1.3770482201153684, 1.7854746254776164, 2.3456281167432502, 4.722449378154315, 3.2188559199820634, 3.3746192298344155, 3.465674166632526, 3.643592808615244, 3.693952927048644, 4.088293714250837, 4.614230488221217, 4.901502495203763, 5.021811543236529, 1.6876283363690117, 10.63827531615477, 10.682875501063815, 5.587876742823606, 5.699390973397028, 6.007659756364055, 6.564629221794284, 6.9782545869102055, 7.339727305533833, 7.420442596786915, 1.7275799112975074, 7.537962244034422, 6.731592104982032, 7.797916931892415, 8.83493855213883, 15.445245980847933, 31.447696428926815, 12.470482159896191, 20.092358857887877, 20.77618381637538, 12.449998575667731, 14.660157627818311, 1.5297179389503814, 1.529701499353927, 1.5296867108959809, 1.529405245428896, 1.5294030091168866, 1.5293778341209363, 1.5292509332837936, 2.394429521527808, 2.281476301754748, 2.457840126694719, 2.498169927100632, 3.2364602498892387, 3.46677514691378, 3.643592808615244, 4.932783541413408, 5.021811543236529, 5.699390973397028, 7.874954850085732, 8.437218727967865, 9.756601057744003, 10.682875501063815, 10.832575079795491, 23.89075001431185, 12.449998575667731, 13.771274526886753, 14.052208184208322, 15.866357039138592, 15.445245980847933, 16.520859295820763, 17.47224231954069, 36.939840246778296, 20.092358857887877, 19.052381132662816, 1.4984189402114074, 1.4984166079943884, 1.4984059072339484, 1.4983920511210713, 2.133343828541974, 2.1819169125501805, 2.2068024005814606, 2.2940385443509634, 2.2939799734533253, 2.4121234627868082, 3.081252324639145, 3.1714178637626933, 3.26257944905947, 3.4077341724099015, 3.420712973514538, 4.614230488221217, 5.636921759355483, 5.7089691359112855, 5.786489436752062, 5.8528579897834, 6.268518279736066, 12.470482159896191, 6.827168955747849, 6.880467789556218, 15.074830028925554, 9.64670554790128, 11.85894497252114, 19.052381132662816, 20.092358857887877, 26.598144224998634, 36.939840246778296, 31.447696428926815, 1.4646781874171184, 1.4646658031284412, 2.278214104326992, 2.278191363004662, 2.2781966867015027, 2.2981565919901388, 2.3690141985214246, 2.578449925901272, 3.465674166632526, 3.861140183328693, 4.232662235825035, 4.382825423467411, 4.997725201685394, 5.024467432744528, 5.382672662242268, 5.521382839570828, 5.702492341303388, 5.911195202306027, 5.945574794359082, 5.9988632193640505, 6.000286570191667, 6.011598167883264, 6.827168955747849, 7.420442596786915, 7.5313064288682465, 7.554510894688844, 7.867094222084162, 10.247230321347164, 11.456941042977052, 11.774150340982187, 26.598144224998634, 15.074830028925554, 13.835152705868712, 19.912469497062602, 1.1990506097008236, 1.1990504846049688, 1.1990494525641664, 1.1990483892494002, 1.1990441985382634, 1.199043698154844, 1.19904113368982, 1.1990291557617194, 1.1990262785570582, 1.7854746254776164, 3.7869645770272076, 1.9786990542496894, 1.9862656827491252, 2.0125655653031584, 2.1675864128972155, 2.288797160264965, 2.288820169328405, 2.288783922559278, 2.6870828372281585, 2.740072973323404, 1.4334276438934546, 2.8605896244104256, 2.8714218958947226, 2.8967213239011094, 1.4492211032647626, 3.1535303012498286, 1.458585702213989, 3.317754827124891, 3.7205628208115242, 3.7205497644999674, 7.797916931892415, 3.7205561520033803, 3.7298038233187207, 8.188484434500303, 10.63827531615477, 14.660157627818311, 19.052381132662816, 5.442990865490668, 4.044037901940617, 13.835152705868712, 7.388295461129152, 6.880467789556218, 6.971429123930951, 5.911195202306027, 6.372009493005119, 16.163984293148886, 3.926072853048341, 1.474160086658364, 1.474134173060699, 1.4741134765811483, 2.1819169125501805, 2.2262228833885436, 3.201355067727101, 7.0160047775450325, 3.791878187888306, 4.548866639443745, 4.614230488221217, 5.587876742823606, 5.636921759355483, 6.007659756364055, 6.827168955747849, 7.388295461129152, 7.483682734318437, 7.874954850085732, 9.64670554790128, 10.155916347836275, 12.642971938428726, 14.052208184208322, 14.785774058249142, 15.074830028925554, 15.445245980847933, 16.163984293148886, 31.447696428926815, 1.1990262785570582, 1.1990291557617194, 1.19904113368982, 1.199043698154844, 1.7948156694610593, 2.8311154434781804, 1.287668688397878, 1.2876682200695193], \"Category\": [\"Default\", \"Default\", \"Default\", \"Default\", \"Default\", \"Default\", \"Default\", \"Default\", \"Default\", \"Default\", \"Default\", \"Default\", \"Default\", \"Default\", \"Default\", \"Default\", \"Default\", \"Default\", \"Default\", \"Default\", \"Default\", \"Default\", \"Default\", \"Default\", \"Default\", \"Default\", \"Default\", \"Default\", \"Default\", \"Default\", \"Topic1\", \"Topic1\", \"Topic1\", \"Topic1\", \"Topic1\", \"Topic1\", \"Topic1\", \"Topic1\", \"Topic1\", \"Topic1\", \"Topic1\", \"Topic1\", \"Topic1\", \"Topic1\", \"Topic1\", \"Topic1\", \"Topic1\", \"Topic1\", \"Topic1\", \"Topic1\", \"Topic1\", \"Topic1\", \"Topic1\", \"Topic1\", \"Topic1\", \"Topic1\", \"Topic1\", \"Topic1\", \"Topic1\", \"Topic1\", \"Topic1\", \"Topic1\", \"Topic1\", \"Topic1\", \"Topic1\", \"Topic1\", \"Topic1\", \"Topic1\", \"Topic1\", \"Topic1\", \"Topic1\", \"Topic1\", \"Topic1\", \"Topic1\", \"Topic1\", \"Topic1\", \"Topic1\", \"Topic1\", \"Topic1\", \"Topic1\", \"Topic1\", \"Topic1\", \"Topic1\", \"Topic1\", \"Topic1\", \"Topic1\", \"Topic2\", \"Topic2\", \"Topic2\", \"Topic2\", \"Topic2\", \"Topic2\", \"Topic2\", \"Topic2\", \"Topic2\", \"Topic2\", \"Topic2\", \"Topic2\", \"Topic2\", \"Topic2\", \"Topic2\", \"Topic2\", \"Topic2\", \"Topic2\", \"Topic2\", \"Topic2\", \"Topic2\", \"Topic2\", \"Topic2\", \"Topic2\", \"Topic2\", \"Topic2\", \"Topic2\", \"Topic2\", \"Topic2\", \"Topic2\", \"Topic2\", \"Topic2\", \"Topic2\", \"Topic2\", \"Topic2\", \"Topic2\", \"Topic2\", \"Topic2\", \"Topic2\", \"Topic2\", \"Topic2\", \"Topic2\", \"Topic2\", \"Topic2\", \"Topic3\", \"Topic3\", \"Topic3\", \"Topic3\", \"Topic3\", \"Topic3\", \"Topic3\", \"Topic3\", \"Topic3\", \"Topic3\", \"Topic3\", \"Topic3\", \"Topic3\", \"Topic3\", \"Topic3\", \"Topic3\", \"Topic3\", \"Topic3\", \"Topic3\", \"Topic3\", \"Topic3\", \"Topic3\", \"Topic3\", \"Topic3\", \"Topic3\", \"Topic3\", \"Topic3\", \"Topic3\", \"Topic3\", \"Topic3\", \"Topic3\", \"Topic3\", \"Topic3\", \"Topic3\", \"Topic3\", \"Topic3\", \"Topic3\", \"Topic3\", \"Topic3\", \"Topic3\", \"Topic3\", \"Topic3\", \"Topic3\", \"Topic3\", \"Topic3\", \"Topic3\", \"Topic3\", \"Topic4\", \"Topic4\", \"Topic4\", \"Topic4\", \"Topic4\", \"Topic4\", \"Topic4\", \"Topic4\", \"Topic4\", \"Topic4\", \"Topic4\", \"Topic4\", \"Topic4\", \"Topic4\", \"Topic4\", \"Topic4\", \"Topic4\", \"Topic4\", \"Topic4\", \"Topic4\", \"Topic4\", \"Topic4\", \"Topic4\", \"Topic4\", \"Topic4\", \"Topic4\", \"Topic4\", \"Topic4\", \"Topic4\", \"Topic4\", \"Topic4\", \"Topic4\", \"Topic4\", \"Topic4\", \"Topic4\", \"Topic4\", \"Topic4\", \"Topic4\", \"Topic4\", \"Topic4\", \"Topic4\", \"Topic4\", \"Topic4\", \"Topic4\", \"Topic4\", \"Topic5\", \"Topic5\", \"Topic5\", \"Topic5\", \"Topic5\", \"Topic5\", \"Topic5\", \"Topic5\", \"Topic5\", \"Topic5\", \"Topic5\", \"Topic5\", \"Topic5\", \"Topic5\", \"Topic5\", \"Topic5\", \"Topic5\", \"Topic5\", \"Topic5\", \"Topic5\", \"Topic5\", \"Topic5\", \"Topic5\", \"Topic5\", \"Topic5\", \"Topic5\", \"Topic5\", \"Topic5\", \"Topic5\", \"Topic5\", \"Topic5\", \"Topic5\", \"Topic5\", \"Topic5\", \"Topic5\", \"Topic5\", \"Topic5\", \"Topic5\", \"Topic5\", \"Topic5\", \"Topic5\", \"Topic6\", \"Topic6\", \"Topic6\", \"Topic6\", \"Topic6\", \"Topic6\", \"Topic6\", \"Topic6\", \"Topic6\", \"Topic6\", \"Topic6\", \"Topic6\", \"Topic6\", \"Topic6\", \"Topic6\", \"Topic6\", \"Topic6\", \"Topic6\", \"Topic6\", \"Topic6\", \"Topic6\", \"Topic6\", \"Topic6\", \"Topic6\", \"Topic6\", \"Topic6\", \"Topic6\", \"Topic6\", \"Topic6\", \"Topic6\", \"Topic6\", \"Topic6\", \"Topic6\", \"Topic6\", \"Topic6\", \"Topic6\", \"Topic6\", \"Topic6\", \"Topic6\", \"Topic6\", \"Topic6\", \"Topic6\", \"Topic6\", \"Topic6\", \"Topic6\", \"Topic6\", \"Topic6\", \"Topic6\", \"Topic6\", \"Topic7\", \"Topic7\", \"Topic7\", \"Topic7\", \"Topic7\", \"Topic7\", \"Topic7\", \"Topic7\", \"Topic7\", \"Topic7\", \"Topic7\", \"Topic7\", \"Topic7\", \"Topic7\", \"Topic7\", \"Topic7\", \"Topic7\", \"Topic7\", \"Topic7\", \"Topic7\", \"Topic7\", \"Topic7\", \"Topic7\", \"Topic7\", \"Topic7\", \"Topic7\", \"Topic7\", \"Topic7\", \"Topic7\", \"Topic7\", \"Topic7\", \"Topic7\", \"Topic7\", \"Topic7\", \"Topic7\", \"Topic7\", \"Topic7\", \"Topic7\", \"Topic7\", \"Topic7\", \"Topic7\", \"Topic7\", \"Topic7\", \"Topic7\", \"Topic7\", \"Topic7\", \"Topic7\", \"Topic7\", \"Topic7\", \"Topic7\", \"Topic7\", \"Topic7\", \"Topic7\", \"Topic8\", \"Topic8\", \"Topic8\", \"Topic8\", \"Topic8\", \"Topic8\", \"Topic8\", \"Topic8\", \"Topic8\", \"Topic8\", \"Topic8\", \"Topic8\", \"Topic8\", \"Topic8\", \"Topic8\", \"Topic8\", \"Topic8\", \"Topic8\", \"Topic8\", \"Topic8\", \"Topic8\", \"Topic8\", \"Topic8\", \"Topic8\", \"Topic8\", \"Topic8\", \"Topic8\", \"Topic8\", \"Topic8\", \"Topic8\", \"Topic8\", \"Topic8\", \"Topic8\", \"Topic8\", \"Topic8\", \"Topic8\", \"Topic8\", \"Topic8\", \"Topic8\", \"Topic8\", \"Topic8\", \"Topic8\", \"Topic8\", \"Topic8\", \"Topic8\", \"Topic8\", \"Topic8\", \"Topic8\", \"Topic8\", \"Topic8\", \"Topic9\", \"Topic9\", \"Topic9\", \"Topic9\", \"Topic9\", \"Topic9\", \"Topic9\", \"Topic9\", \"Topic9\", \"Topic9\", \"Topic9\", \"Topic9\", \"Topic9\", \"Topic9\", \"Topic9\", \"Topic9\", \"Topic9\", \"Topic9\", \"Topic9\", \"Topic9\", \"Topic9\", \"Topic9\", \"Topic9\", \"Topic9\", \"Topic9\", \"Topic9\", \"Topic9\", \"Topic9\", \"Topic9\", \"Topic9\", \"Topic9\", \"Topic9\", \"Topic9\", \"Topic9\", \"Topic9\", \"Topic9\", \"Topic9\", \"Topic9\", \"Topic9\", \"Topic9\", \"Topic9\", \"Topic9\", \"Topic9\", \"Topic9\", \"Topic9\", \"Topic9\", \"Topic9\", \"Topic9\", \"Topic9\", \"Topic9\", \"Topic10\", \"Topic10\", \"Topic10\", \"Topic10\", \"Topic10\", \"Topic10\", \"Topic10\", \"Topic10\", \"Topic10\", \"Topic10\", \"Topic10\", \"Topic10\", \"Topic10\", \"Topic10\", \"Topic10\", \"Topic10\", \"Topic10\", \"Topic10\", \"Topic10\", \"Topic10\", \"Topic10\", \"Topic10\", \"Topic10\", \"Topic10\", \"Topic10\", \"Topic10\", \"Topic10\", \"Topic10\", \"Topic10\", \"Topic10\", \"Topic10\", \"Topic10\", \"Topic10\", \"Topic10\", \"Topic10\", \"Topic10\", \"Topic10\", \"Topic10\", \"Topic10\", \"Topic10\", \"Topic10\", \"Topic10\", \"Topic10\", \"Topic10\", \"Topic10\", \"Topic11\", \"Topic11\", \"Topic11\", \"Topic11\", \"Topic11\", \"Topic11\", \"Topic11\", \"Topic11\", \"Topic11\", \"Topic11\", \"Topic11\", \"Topic11\", \"Topic11\", \"Topic11\", \"Topic11\", \"Topic11\", \"Topic11\", \"Topic11\", \"Topic11\", \"Topic11\", \"Topic11\", \"Topic11\", \"Topic11\", \"Topic11\", \"Topic11\", \"Topic11\", \"Topic11\", \"Topic11\", \"Topic11\", \"Topic11\", \"Topic11\", \"Topic11\", \"Topic11\", \"Topic11\", \"Topic11\", \"Topic11\", \"Topic11\", \"Topic11\", \"Topic11\", \"Topic11\", \"Topic11\", \"Topic11\", \"Topic11\", \"Topic11\", \"Topic11\", \"Topic11\", \"Topic11\", \"Topic11\", \"Topic11\", \"Topic11\", \"Topic11\", \"Topic12\", \"Topic12\", \"Topic12\", \"Topic12\", \"Topic12\", \"Topic12\", \"Topic12\", \"Topic12\", \"Topic12\", \"Topic12\", \"Topic12\", \"Topic12\", \"Topic12\", \"Topic12\", \"Topic12\", \"Topic12\", \"Topic12\", \"Topic12\", \"Topic12\", \"Topic12\", \"Topic12\", \"Topic12\", \"Topic12\", \"Topic12\", \"Topic12\", \"Topic12\", \"Topic12\", \"Topic12\", \"Topic12\", \"Topic12\", \"Topic12\", \"Topic12\", \"Topic12\", \"Topic12\", \"Topic12\", \"Topic12\", \"Topic12\", \"Topic12\", \"Topic12\", \"Topic12\", \"Topic12\", \"Topic12\", \"Topic12\", \"Topic12\", \"Topic12\", \"Topic12\", \"Topic12\", \"Topic12\", \"Topic12\", \"Topic12\", \"Topic13\", \"Topic13\", \"Topic13\", \"Topic13\", \"Topic13\", \"Topic13\", \"Topic13\", \"Topic13\", \"Topic13\", \"Topic13\", \"Topic13\", \"Topic13\", \"Topic13\", \"Topic13\", \"Topic13\", \"Topic13\", \"Topic13\", \"Topic13\", \"Topic13\", \"Topic13\", \"Topic13\", \"Topic13\", \"Topic13\", \"Topic13\", \"Topic13\", \"Topic13\", \"Topic13\", \"Topic13\", \"Topic13\", \"Topic13\", \"Topic13\", \"Topic13\", \"Topic13\", \"Topic13\", \"Topic13\", \"Topic13\", \"Topic13\", \"Topic13\", \"Topic13\", \"Topic13\", \"Topic13\", \"Topic14\", \"Topic14\", \"Topic14\", \"Topic14\", \"Topic14\", \"Topic14\", \"Topic14\", \"Topic14\", \"Topic14\", \"Topic14\", \"Topic14\", \"Topic14\", \"Topic14\", \"Topic14\", \"Topic14\", \"Topic14\", \"Topic14\", \"Topic14\", \"Topic14\", \"Topic14\", \"Topic14\", \"Topic14\", \"Topic14\", \"Topic14\", \"Topic14\", \"Topic14\", \"Topic14\", \"Topic14\", \"Topic14\", \"Topic14\", \"Topic14\", \"Topic14\", \"Topic14\", \"Topic14\", \"Topic14\", \"Topic14\", \"Topic14\", \"Topic14\", \"Topic14\", \"Topic14\", \"Topic14\", \"Topic14\", \"Topic14\", \"Topic15\", \"Topic15\", \"Topic15\", \"Topic15\", \"Topic15\", \"Topic15\", \"Topic15\", \"Topic15\", \"Topic15\", \"Topic15\", \"Topic15\", \"Topic15\", \"Topic15\", \"Topic15\", \"Topic15\", \"Topic15\", \"Topic15\", \"Topic15\", \"Topic15\", \"Topic15\", \"Topic15\", \"Topic15\", \"Topic15\", \"Topic15\", \"Topic15\", \"Topic15\", \"Topic15\", \"Topic15\", \"Topic15\", \"Topic15\", \"Topic15\", \"Topic15\", \"Topic15\", \"Topic15\", \"Topic15\", \"Topic15\", \"Topic15\", \"Topic15\", \"Topic16\", \"Topic16\", \"Topic16\", \"Topic16\", \"Topic16\", \"Topic16\", \"Topic16\", \"Topic16\", \"Topic16\", \"Topic16\", \"Topic16\", \"Topic16\", \"Topic16\", \"Topic16\", \"Topic16\", \"Topic16\", \"Topic16\", \"Topic16\", \"Topic16\", \"Topic16\", \"Topic16\", \"Topic16\", \"Topic16\", \"Topic16\", \"Topic16\", \"Topic16\", \"Topic16\", \"Topic16\", \"Topic16\", \"Topic16\", \"Topic16\", \"Topic16\", \"Topic16\", \"Topic16\", \"Topic16\", \"Topic16\", \"Topic16\", \"Topic16\", \"Topic16\", \"Topic16\", \"Topic16\", \"Topic16\", \"Topic16\", \"Topic16\", \"Topic16\", \"Topic16\", \"Topic16\", \"Topic17\", \"Topic17\", \"Topic17\", \"Topic17\", \"Topic17\", \"Topic17\", \"Topic17\", \"Topic17\", \"Topic17\", \"Topic17\", \"Topic17\", \"Topic17\", \"Topic17\", \"Topic17\", \"Topic17\", \"Topic17\", \"Topic17\", \"Topic17\", \"Topic17\", \"Topic17\", \"Topic17\", \"Topic17\", \"Topic17\", \"Topic17\", \"Topic17\", \"Topic17\", \"Topic17\", \"Topic17\", \"Topic17\", \"Topic17\", \"Topic17\", \"Topic17\", \"Topic17\", \"Topic17\", \"Topic17\", \"Topic17\", \"Topic17\", \"Topic17\", \"Topic17\", \"Topic17\", \"Topic18\", \"Topic18\", \"Topic18\", \"Topic18\", \"Topic18\", \"Topic18\", \"Topic18\", \"Topic18\", \"Topic18\", \"Topic18\", \"Topic18\", \"Topic18\", \"Topic18\", \"Topic18\", \"Topic18\", \"Topic18\", \"Topic18\", \"Topic18\", \"Topic18\", \"Topic18\", \"Topic18\", \"Topic18\", \"Topic18\", \"Topic18\", \"Topic18\", \"Topic18\", \"Topic18\", \"Topic18\", \"Topic18\", \"Topic18\", \"Topic18\", \"Topic18\", \"Topic18\", \"Topic18\", \"Topic18\", \"Topic18\", \"Topic18\", \"Topic18\", \"Topic18\", \"Topic19\", \"Topic19\", \"Topic19\", \"Topic19\", \"Topic19\", \"Topic19\", \"Topic19\", \"Topic19\", \"Topic19\", \"Topic19\", \"Topic19\", \"Topic19\", \"Topic19\", \"Topic19\", \"Topic19\", \"Topic19\", \"Topic19\", \"Topic19\", \"Topic19\", \"Topic19\", \"Topic19\", \"Topic19\", \"Topic19\", \"Topic19\", \"Topic19\", \"Topic19\", \"Topic19\", \"Topic19\", \"Topic19\", \"Topic19\", \"Topic19\", \"Topic19\", \"Topic19\", \"Topic19\", \"Topic19\", \"Topic19\", \"Topic19\", \"Topic19\", \"Topic19\", \"Topic20\", \"Topic20\", \"Topic20\", \"Topic20\", \"Topic20\", \"Topic20\", \"Topic20\", \"Topic20\", \"Topic20\", \"Topic20\", \"Topic20\", \"Topic20\", \"Topic20\", \"Topic20\", \"Topic20\", \"Topic20\", \"Topic20\", \"Topic20\", \"Topic20\", \"Topic20\", \"Topic20\", \"Topic20\", \"Topic20\", \"Topic20\", \"Topic20\", \"Topic20\", \"Topic20\", \"Topic20\", \"Topic20\", \"Topic20\", \"Topic20\", \"Topic21\", \"Topic21\", \"Topic21\", \"Topic21\", \"Topic21\", \"Topic21\", \"Topic21\", \"Topic21\", \"Topic21\", \"Topic21\", \"Topic21\", \"Topic21\", \"Topic21\", \"Topic21\", \"Topic21\", \"Topic21\", \"Topic21\", \"Topic21\", \"Topic21\", \"Topic21\", \"Topic21\", \"Topic21\", \"Topic21\", \"Topic21\", \"Topic21\", \"Topic21\", \"Topic21\", \"Topic21\", \"Topic21\", \"Topic21\", \"Topic21\", \"Topic21\", \"Topic21\", \"Topic21\", \"Topic21\", \"Topic21\", \"Topic21\", \"Topic21\", \"Topic21\", \"Topic21\", \"Topic21\", \"Topic21\", \"Topic21\", \"Topic22\", \"Topic22\", \"Topic22\", \"Topic22\", \"Topic22\", \"Topic22\", \"Topic22\", \"Topic22\", \"Topic22\", \"Topic22\", \"Topic22\", \"Topic22\", \"Topic22\", \"Topic22\", \"Topic22\", \"Topic22\", \"Topic22\", \"Topic22\", \"Topic22\", \"Topic22\", \"Topic22\", \"Topic22\", \"Topic22\", \"Topic22\", \"Topic22\", \"Topic22\", \"Topic22\", \"Topic22\", \"Topic22\", \"Topic22\", \"Topic22\", \"Topic22\", \"Topic22\", \"Topic22\", \"Topic22\", \"Topic22\", \"Topic22\", \"Topic23\", \"Topic23\", \"Topic23\", \"Topic23\", \"Topic23\", \"Topic23\", \"Topic23\", \"Topic23\", \"Topic23\", \"Topic23\", \"Topic23\", \"Topic23\", \"Topic23\", \"Topic23\", \"Topic23\", \"Topic23\", \"Topic23\", \"Topic23\", \"Topic23\", \"Topic23\", \"Topic23\", \"Topic23\", \"Topic23\", \"Topic23\", \"Topic23\", \"Topic23\", \"Topic23\", \"Topic23\", \"Topic23\", \"Topic23\", \"Topic23\", \"Topic23\", \"Topic23\", \"Topic23\", \"Topic23\", \"Topic23\", \"Topic23\", \"Topic24\", \"Topic24\", \"Topic24\", \"Topic24\", \"Topic24\", \"Topic24\", \"Topic24\", \"Topic24\", \"Topic24\", \"Topic24\", \"Topic24\", \"Topic24\", \"Topic24\", \"Topic24\", \"Topic24\", \"Topic24\", \"Topic24\", \"Topic24\", \"Topic24\", \"Topic24\", \"Topic24\", \"Topic24\", \"Topic24\", \"Topic24\", \"Topic24\", \"Topic24\", \"Topic24\", \"Topic24\", \"Topic24\", \"Topic24\", \"Topic24\", \"Topic24\", \"Topic24\", \"Topic24\", \"Topic24\", \"Topic24\", \"Topic24\", \"Topic25\", \"Topic25\", \"Topic25\", \"Topic25\", \"Topic25\", \"Topic25\", \"Topic25\", \"Topic25\", \"Topic25\", \"Topic25\", \"Topic25\", \"Topic25\", \"Topic25\", \"Topic25\", \"Topic25\", \"Topic25\", \"Topic25\", \"Topic25\", \"Topic25\", \"Topic25\", \"Topic25\", \"Topic25\", \"Topic25\", \"Topic25\", \"Topic25\", \"Topic25\", \"Topic25\", \"Topic25\", \"Topic25\", \"Topic25\", \"Topic25\", \"Topic25\", \"Topic25\", \"Topic25\", \"Topic25\", \"Topic25\", \"Topic25\", \"Topic25\", \"Topic25\", \"Topic25\", \"Topic25\", \"Topic25\", \"Topic25\", \"Topic25\", \"Topic25\", \"Topic25\", \"Topic25\", \"Topic26\", \"Topic26\", \"Topic26\", \"Topic26\", \"Topic26\", \"Topic26\", \"Topic26\", \"Topic26\", \"Topic26\", \"Topic26\", \"Topic26\", \"Topic26\", \"Topic26\", \"Topic26\", \"Topic26\", \"Topic26\", \"Topic26\", \"Topic26\", \"Topic26\", \"Topic26\", \"Topic26\", \"Topic26\", \"Topic26\", \"Topic26\", \"Topic26\", \"Topic26\", \"Topic26\", \"Topic26\", \"Topic26\", \"Topic26\", \"Topic26\", \"Topic26\", \"Topic27\", \"Topic27\", \"Topic27\", \"Topic27\", \"Topic27\", \"Topic27\", \"Topic27\", \"Topic27\", \"Topic27\", \"Topic27\", \"Topic27\", \"Topic27\", \"Topic27\", \"Topic27\", \"Topic27\", \"Topic27\", \"Topic27\", \"Topic27\", \"Topic27\", \"Topic27\", \"Topic27\", \"Topic27\", \"Topic27\", \"Topic27\", \"Topic27\", \"Topic27\", \"Topic27\", \"Topic27\", \"Topic27\", \"Topic27\", \"Topic27\", \"Topic27\", \"Topic27\", \"Topic27\", \"Topic27\", \"Topic27\", \"Topic27\", \"Topic27\", \"Topic27\", \"Topic28\", \"Topic28\", \"Topic28\", \"Topic28\", \"Topic28\", \"Topic28\", \"Topic28\", \"Topic28\", \"Topic28\", \"Topic28\", \"Topic28\", \"Topic28\", \"Topic28\", \"Topic28\", \"Topic28\", \"Topic28\", \"Topic28\", \"Topic28\", \"Topic28\", \"Topic28\", \"Topic28\", \"Topic28\", \"Topic28\", \"Topic28\", \"Topic28\", \"Topic28\", \"Topic28\", \"Topic28\", \"Topic28\", \"Topic28\", \"Topic28\", \"Topic28\", \"Topic28\", \"Topic29\", \"Topic29\", \"Topic29\", \"Topic29\", \"Topic29\", \"Topic29\", \"Topic29\", \"Topic29\", \"Topic29\", \"Topic29\", \"Topic29\", \"Topic29\", \"Topic29\", \"Topic29\", \"Topic29\", \"Topic29\", \"Topic29\", \"Topic29\", \"Topic29\", \"Topic29\", \"Topic29\", \"Topic29\", \"Topic29\", \"Topic29\", \"Topic29\", \"Topic29\", \"Topic29\", \"Topic29\", \"Topic29\", \"Topic29\", \"Topic29\", \"Topic29\", \"Topic30\", \"Topic30\", \"Topic30\", \"Topic30\", \"Topic30\", \"Topic30\", \"Topic30\", \"Topic30\", \"Topic30\", \"Topic30\", \"Topic30\", \"Topic30\", \"Topic30\", \"Topic30\", \"Topic30\", \"Topic30\", \"Topic30\", \"Topic30\", \"Topic30\", \"Topic30\", \"Topic30\", \"Topic30\", \"Topic30\", \"Topic30\", \"Topic30\", \"Topic30\", \"Topic30\", \"Topic30\", \"Topic30\", \"Topic30\", \"Topic30\", \"Topic30\", \"Topic30\", \"Topic30\", \"Topic31\", \"Topic31\", \"Topic31\", \"Topic31\", \"Topic31\", \"Topic31\", \"Topic31\", \"Topic31\", \"Topic31\", \"Topic31\", \"Topic31\", \"Topic31\", \"Topic31\", \"Topic31\", \"Topic31\", \"Topic31\", \"Topic31\", \"Topic31\", \"Topic31\", \"Topic31\", \"Topic31\", \"Topic31\", \"Topic31\", \"Topic31\", \"Topic31\", \"Topic31\", \"Topic31\", \"Topic31\", \"Topic31\", \"Topic31\", \"Topic31\", \"Topic31\", \"Topic31\", \"Topic31\", \"Topic31\", \"Topic31\", \"Topic31\", \"Topic31\", \"Topic31\", \"Topic31\", \"Topic31\", \"Topic31\", \"Topic31\", \"Topic31\", \"Topic31\", \"Topic31\", \"Topic31\", \"Topic32\", \"Topic32\", \"Topic32\", \"Topic32\", \"Topic32\", \"Topic32\", \"Topic32\", \"Topic32\", \"Topic32\", \"Topic32\", \"Topic32\", \"Topic32\", \"Topic32\", \"Topic32\", \"Topic32\", \"Topic32\", \"Topic32\", \"Topic32\", \"Topic32\", \"Topic32\", \"Topic32\", \"Topic32\", \"Topic32\", \"Topic32\", \"Topic32\", \"Topic32\", \"Topic32\", \"Topic32\", \"Topic32\", \"Topic32\", \"Topic32\", \"Topic32\", \"Topic32\", \"Topic32\"], \"logprob\": [30.0, 29.0, 28.0, 27.0, 26.0, 25.0, 24.0, 23.0, 22.0, 21.0, 20.0, 19.0, 18.0, 17.0, 16.0, 15.0, 14.0, 13.0, 12.0, 11.0, 10.0, 9.0, 8.0, 7.0, 6.0, 5.0, 4.0, 3.0, 2.0, 1.0, -5.075300216674805, -5.075399875640869, -5.075399875640869, -5.075399875640869, -5.075399875640869, -5.075399875640869, -5.075399875640869, -5.075399875640869, -5.075399875640869, -5.075399875640869, -5.075399875640869, -5.075399875640869, -5.075399875640869, -5.075399875640869, -5.075399875640869, -5.075399875640869, -5.075399875640869, -5.075399875640869, -5.075399875640869, -5.075399875640869, -5.075399875640869, -4.397500038146973, -5.075399875640869, -4.397500038146973, -5.075399875640869, -5.075399875640869, -5.075399875640869, -5.075399875640869, -5.075399875640869, -5.075399875640869, -3.1558001041412354, -4.397600173950195, -3.490499973297119, -3.9971001148223877, -3.7119998931884766, -4.397500038146973, -3.490499973297119, -3.9972000122070312, -3.3092000484466553, -3.9972000122070312, -4.397500038146973, -3.712100028991699, -4.397500038146973, -4.397500038146973, -4.397500038146973, -3.9972000122070312, -4.397500038146973, -4.397500038146973, -4.397500038146973, -4.397500038146973, -4.397500038146973, -4.397500038146973, -4.397500038146973, -5.075300216674805, -5.075300216674805, -5.075300216674805, -3.4346001148223877, -4.512800216674805, -4.512899875640869, -4.512899875640869, -4.512899875640869, -4.512899875640869, -4.512899875640869, -3.8350000381469727, -4.512899875640869, -4.512800216674805, -4.512899875640869, -4.512899875640869, -4.512899875640869, -4.512899875640869, -4.512899875640869, -4.512899875640869, -4.512899875640869, -4.512899875640869, -4.512899875640869, -3.835099935531616, -4.512899875640869, -4.512899875640869, -4.512899875640869, -4.512899875640869, -4.512899875640869, -3.8350000381469727, -4.512899875640869, -4.512899875640869, -3.4347000122070312, -4.512899875640869, -3.149600028991699, -3.8350000381469727, -3.8350000381469727, -3.8350000381469727, -3.8350000381469727, -3.8350000381469727, -3.8350000381469727, -4.512800216674805, -4.512800216674805, -4.512899875640869, -4.512899875640869, -4.512899875640869, -4.512899875640869, -4.512899875640869, -4.660900115966797, -4.660900115966797, -4.660900115966797, -4.660900115966797, -4.660900115966797, -4.660900115966797, -4.660900115966797, -4.660900115966797, -4.660900115966797, -4.660900115966797, -4.660900115966797, -4.660900115966797, -4.660900115966797, -4.660900115966797, -4.660900115966797, -4.660900115966797, -4.660900115966797, -4.660900115966797, -4.660900115966797, -4.660900115966797, -4.660900115966797, -4.660900115966797, -4.660900115966797, -4.660900115966797, -4.660900115966797, -4.660900115966797, -3.9830000400543213, -4.660900115966797, -4.660799980163574, -3.9830000400543213, -3.5826001167297363, -3.9830000400543213, -3.9830000400543213, -3.297600030899048, -3.58270001411438, -3.58270001411438, -3.58270001411438, -3.9830000400543213, -3.9830000400543213, -4.660900115966797, -4.660900115966797, -4.660900115966797, -4.660900115966797, -4.660900115966797, -4.660900115966797, -4.660900115966797, -4.660900115966797, -3.762500047683716, -4.440299987792969, -4.440299987792969, -4.440400123596191, -4.440400123596191, -4.440400123596191, -4.440400123596191, -4.440400123596191, -4.6656999588012695, -4.072299957275391, -4.781899929046631, -3.762500047683716, -4.440400123596191, -3.698899984359741, -4.759500026702881, -4.440400123596191, -4.440400123596191, -4.440400123596191, -5.1757001876831055, -4.440400123596191, -5.202499866485596, -5.235400199890137, -4.440400123596191, -5.267099857330322, -4.026700019836426, -3.762500047683716, -5.386000156402588, -4.440299987792969, -4.440400123596191, -4.440400123596191, -3.3622000217437744, -4.440400123596191, -3.61929988861084, -3.3622000217437744, -3.762500047683716, -3.6282999515533447, -3.678100109100342, -3.925100088119507, -4.099400043487549, -4.440299987792969, -4.440299987792969, -4.440400123596191, -4.440400123596191, -4.440400123596191, -4.440400123596191, -3.8629000186920166, -3.8629000186920166, -3.8629000186920166, -3.8629000186920166, -4.540800094604492, -4.540800094604492, -4.540800094604492, -3.8629000186920166, -3.86299991607666, -3.8629000186920166, -3.86299991607666, -3.8629000186920166, -3.8629000186920166, -3.8629000186920166, -4.540800094604492, -4.540800094604492, -4.540800094604492, -3.8629000186920166, -4.540800094604492, -4.540800094604492, -4.540800094604492, -3.462599992752075, -3.8629000186920166, -3.8629000186920166, -4.540800094604492, -4.540800094604492, -3.8629000186920166, -3.8629000186920166, -4.540800094604492, -4.540800094604492, -3.8629000186920166, -3.8629000186920166, -3.86299991607666, -3.8629000186920166, -3.8629000186920166, -3.8629000186920166, -4.383800029754639, -4.4552998542785645, -4.540800094604492, -4.540800094604492, -4.540800094604492, -4.078100204467773, -4.75600004196167, -4.75600004196167, -4.75600004196167, -4.75600004196167, -4.75600004196167, -4.75600004196167, -4.75600004196167, -4.75600004196167, -4.75600004196167, -4.75600004196167, -4.75600004196167, -4.75600004196167, -4.75600004196167, -4.75600004196167, -4.078100204467773, -4.75600004196167, -4.75600004196167, -4.75600004196167, -4.75600004196167, -4.75600004196167, -4.75600004196167, -4.756100177764893, -4.75600004196167, -4.75600004196167, -4.75600004196167, -4.75600004196167, -4.75600004196167, -4.75600004196167, -4.75600004196167, -4.078100204467773, -3.392699956893921, -4.078100204467773, -4.078100204467773, -4.078100204467773, -4.040200233459473, -3.677799940109253, -4.078100204467773, -4.05079984664917, -4.078100204467773, -4.078100204467773, -4.75600004196167, -4.75600004196167, -4.75600004196167, -4.75600004196167, -4.75600004196167, -4.75600004196167, -4.75600004196167, -4.75600004196167, -4.178999900817871, -4.652100086212158, -4.652100086212158, -4.652100086212158, -4.652100086212158, -4.652100086212158, -4.652100086212158, -4.884099960327148, -3.974299907684326, -4.652100086212158, -4.960000038146973, -4.960899829864502, -4.971099853515625, -5.013299942016602, -5.038000106811523, -5.047500133514404, -4.652100086212158, -4.652200222015381, -4.652200222015381, -4.652100086212158, -4.652200222015381, -4.652100086212158, -4.652100086212158, -4.652100086212158, -3.9742000102996826, -4.652200222015381, -4.652200222015381, -4.652100086212158, -4.652100086212158, -4.652200222015381, -3.974299907684326, -4.118100166320801, -3.974299907684326, -3.6647000312805176, -3.573899984359741, -3.9742000102996826, -3.974299907684326, -3.9742000102996826, -3.974299907684326, -3.9742000102996826, -3.974299907684326, -3.974299907684326, -3.974299907684326, -3.9742000102996826, -4.652100086212158, -4.652100086212158, -4.652100086212158, -4.652100086212158, -4.652100086212158, -4.652100086212158, -4.652100086212158, -4.652100086212158, -4.652100086212158, -3.847100019454956, -4.063799858093262, -4.525000095367432, -4.525000095367432, -4.525000095367432, -4.525000095367432, -4.525000095367432, -4.525000095367432, -4.525000095367432, -4.525000095367432, -4.525000095367432, -4.525000095367432, -4.525000095367432, -3.847100019454956, -4.878799915313721, -4.525000095367432, -4.951700210571289, -4.525000095367432, -4.525000095367432, -4.525000095367432, -4.5019001960754395, -4.525000095367432, -4.525000095367432, -4.525000095367432, -4.525000095367432, -5.066699981689453, -4.525000095367432, -5.101399898529053, -5.163000106811523, -4.821199893951416, -4.525000095367432, -3.558300018310547, -4.525000095367432, -3.847100019454956, -4.002699851989746, -3.847100019454956, -3.847100019454956, -3.847100019454956, -3.847100019454956, -3.847100019454956, -4.034200191497803, -4.076300144195557, -4.01230001449585, -4.492599964141846, -4.525000095367432, -4.525000095367432, -4.525000095367432, -4.525000095367432, -4.525000095367432, -4.525000095367432, -4.121399879455566, -4.121399879455566, -4.799300193786621, -4.799300193786621, -4.799300193786621, -4.799300193786621, -4.799300193786621, -4.799300193786621, -4.799300193786621, -4.7993998527526855, -4.121500015258789, -4.121399879455566, -4.799300193786621, -4.799300193786621, -4.799300193786621, -4.799300193786621, -4.799300193786621, -4.799300193786621, -4.799300193786621, -4.7993998527526855, -4.799300193786621, -4.799300193786621, -4.799300193786621, -4.799300193786621, -5.242700099945068, -4.799300193786621, -4.121500015258789, -5.322199821472168, -5.346199989318848, -4.799300193786621, -3.436000108718872, -4.121500015258789, -3.214400053024292, -3.721100091934204, -4.121399879455566, -3.721100091934204, -4.121500015258789, -3.8698999881744385, -4.121399879455566, -4.121399879455566, -4.080399990081787, -4.121500015258789, -4.121399879455566, -4.799300193786621, -4.799300193786621, -4.799300193786621, -4.799300193786621, -4.799300193786621, -4.799300193786621, -4.799300193786621, -3.8766000270843506, -4.554500102996826, -4.554500102996826, -4.554500102996826, -4.554500102996826, -4.554500102996826, -4.554500102996826, -4.554500102996826, -4.554500102996826, -4.554500102996826, -4.554500102996826, -4.554500102996826, -3.876699924468994, -4.554599761962891, -4.554500102996826, -4.554500102996826, -4.554500102996826, -3.8766000270843506, -3.8766000270843506, -4.554500102996826, -4.554500102996826, -4.554500102996826, -3.876699924468994, -3.876699924468994, -3.876699924468994, -4.554500102996826, -3.8766000270843506, -4.554599761962891, -4.554500102996826, -4.554500102996826, -3.876699924468994, -3.476300001144409, -3.476300001144409, -3.876699924468994, -3.4763998985290527, -3.876699924468994, -3.876699924468994, -3.876699924468994, -3.8766000270843506, -4.554500102996826, -4.554500102996826, -4.554500102996826, -4.554500102996826, -4.554500102996826, -4.554500102996826, -4.911099910736084, -4.911099910736084, -4.911099910736084, -4.911099910736084, -4.911099910736084, -4.911099910736084, -4.911200046539307, -4.911200046539307, -4.2332000732421875, -4.2332000732421875, -4.2332000732421875, -4.911099910736084, -3.832900047302246, -4.911099910736084, -4.911099910736084, -4.911099910736084, -4.2332000732421875, -4.911099910736084, -4.911099910736084, -4.911099910736084, -4.911099910736084, -4.911099910736084, -4.911099910736084, -4.911099910736084, -4.911099910736084, -3.832900047302246, -4.911099910736084, -4.911099910736084, -3.547800064086914, -4.911099910736084, -4.2332000732421875, -3.326200008392334, -3.832900047302246, -3.547800064086914, -4.2332000732421875, -4.2332000732421875, -3.547800064086914, -4.23330020904541, -4.2332000732421875, -3.832900047302246, -4.2332000732421875, -4.2332000732421875, -4.2332000732421875, -4.2332000732421875, -4.2332000732421875, -4.2332000732421875, -4.911099910736084, -4.911099910736084, -4.911099910736084, -4.911099910736084, -4.911099910736084, -3.9263999462127686, -4.604300022125244, -4.604300022125244, -4.604300022125244, -4.604300022125244, -4.604300022125244, -4.604300022125244, -4.604300022125244, -4.604300022125244, -4.604300022125244, -4.604300022125244, -4.604300022125244, -4.604300022125244, -4.604300022125244, -4.604300022125244, -4.604300022125244, -4.604300022125244, -4.604300022125244, -4.604300022125244, -4.604300022125244, -4.604300022125244, -4.6041998863220215, -4.604300022125244, -4.604300022125244, -4.604300022125244, -4.604300022125244, -4.6041998863220215, -4.604300022125244, -4.604300022125244, -3.526099920272827, -3.9263999462127686, -3.9263999462127686, -3.526099920272827, -3.9263999462127686, -3.9263999462127686, -3.9263999462127686, -3.9263999462127686, -3.9263999462127686, -3.9263999462127686, -3.9263999462127686, -4.604300022125244, -4.604300022125244, -4.604300022125244, -4.604300022125244, -4.604300022125244, -4.604300022125244, -4.604300022125244, -4.604300022125244, -4.604300022125244, -4.604300022125244, -4.15939998626709, -4.15939998626709, -3.4814999103546143, -3.4814999103546143, -4.15939998626709, -4.15939998626709, -4.15939998626709, -4.1595001220703125, -4.15939998626709, -3.4814999103546143, -4.15939998626709, -4.15939998626709, -4.15939998626709, -4.15939998626709, -4.15939998626709, -3.4814999103546143, -4.15939998626709, -4.15939998626709, -4.15939998626709, -4.15939998626709, -4.15939998626709, -4.15939998626709, -4.15939998626709, -4.15939998626709, -4.15939998626709, -4.15939998626709, -4.15939998626709, -4.15939998626709, -4.15939998626709, -4.15939998626709, -3.4814999103546143, -4.15939998626709, -4.15939998626709, -4.15939998626709, -4.15939998626709, -4.15939998626709, -4.15939998626709, -4.15939998626709, -4.15939998626709, -4.15939998626709, -4.15939998626709, -4.313499927520752, -4.313499927520752, -4.313499927520752, -4.313499927520752, -3.6356000900268555, -4.313499927520752, -4.313499927520752, -4.313499927520752, -4.313499927520752, -4.313499927520752, -4.313399791717529, -4.313499927520752, -4.313499927520752, -4.313399791717529, -4.313499927520752, -3.6356000900268555, -4.313499927520752, -4.313499927520752, -4.313399791717529, -4.313499927520752, -4.313499927520752, -4.313499927520752, -4.313499927520752, -4.313499927520752, -4.313499927520752, -4.313499927520752, -3.6356000900268555, -4.313499927520752, -4.313499927520752, -4.313499927520752, -2.9500999450683594, -3.6356000900268555, -3.6356000900268555, -3.6356000900268555, -4.313399791717529, -4.313399791717529, -4.313399791717529, -4.313399791717529, -4.313499927520752, -4.313499927520752, -4.313499927520752, -4.313499927520752, -4.313499927520752, -3.5113000869750977, -3.5113000869750977, -4.189199924468994, -4.189199924468994, -4.189199924468994, -4.189199924468994, -4.189199924468994, -4.189199924468994, -4.189199924468994, -4.189300060272217, -3.5113000869750977, -4.189199924468994, -4.189199924468994, -4.189199924468994, -3.5113000869750977, -4.189199924468994, -4.189199924468994, -4.189199924468994, -4.189199924468994, -4.189199924468994, -4.189199924468994, -4.189199924468994, -4.189199924468994, -4.189199924468994, -3.5113000869750977, -4.189199924468994, -4.189199924468994, -4.189199924468994, -4.189300060272217, -4.189199924468994, -3.5113000869750977, -4.189199924468994, -4.189199924468994, -4.189199924468994, -4.189199924468994, -4.189199924468994, -4.189199924468994, -4.189199924468994, -4.372200012207031, -4.372300148010254, -4.394100189208984, -4.401800155639648, -4.372200012207031, -4.372200012207031, -4.372200012207031, -4.372200012207031, -4.372200012207031, -4.372200012207031, -4.398600101470947, -4.372200012207031, -4.395899772644043, -4.372200012207031, -4.372200012207031, -4.372200012207031, -4.392600059509277, -4.372200012207031, -4.372200012207031, -4.372200012207031, -3.6942999362945557, -3.6944000720977783, -3.7263998985290527, -4.401899814605713, -4.372200012207031, -4.372200012207031, -4.372200012207031, -3.6942999362945557, -4.372200012207031, -4.372200012207031, -3.6942999362945557, -3.6942999362945557, -3.6942999362945557, -3.6942999362945557, -3.711199998855591, -4.372300148010254, -4.372200012207031, -4.372200012207031, -4.372200012207031, -4.372200012207031, -4.372200012207031, -4.372200012207031, -4.372200012207031, -4.372200012207031, -4.372200012207031, -4.372200012207031, -4.372200012207031, -4.291600227355957, -4.291600227355957, -4.2916998863220215, -4.2916998863220215, -4.2916998863220215, -4.437600135803223, -4.2916998863220215, -4.291600227355957, -4.291600227355957, -4.291600227355957, -4.291600227355957, -4.2916998863220215, -4.422999858856201, -4.427499771118164, -4.2916998863220215, -4.291600227355957, -4.291600227355957, -4.291600227355957, -4.291600227355957, -4.2916998863220215, -4.291600227355957, -4.291600227355957, -4.291600227355957, -3.6433000564575195, -3.249500036239624, -4.291600227355957, -4.2916998863220215, -4.291600227355957, -4.291600227355957, -4.2916998863220215, -3.6786999702453613, -3.213399887084961, -3.6136999130249023, -3.613800048828125, -4.291600227355957, -4.291600227355957, -4.291600227355957, -4.291600227355957, -4.291600227355957, -4.291600227355957, -4.2600998878479, -4.2600998878479, -4.2600998878479, -4.2600998878479, -4.2600998878479, -4.260200023651123, -4.260200023651123, -3.5822999477386475, -4.2600998878479, -4.2600998878479, -4.2600998878479, -4.260200023651123, -4.2600998878479, -4.2600998878479, -4.2600998878479, -3.5822999477386475, -4.260200023651123, -4.2600998878479, -4.260200023651123, -4.260200023651123, -4.2600998878479, -4.2600998878479, -4.260200023651123, -3.5822999477386475, -4.2600998878479, -4.260200023651123, -3.1819000244140625, -4.2600998878479, -4.2600998878479, -4.260200023651123, -3.1819000244140625, -3.181999921798706, -4.2600998878479, -4.2600998878479, -4.2600998878479, -4.2600998878479, -4.2600998878479, -4.2600998878479, -4.2600998878479, -4.128600120544434, -4.128600120544434, -4.128600120544434, -4.128699779510498, -4.128699779510498, -4.128600120544434, -4.128600120544434, -4.128600120544434, -4.128600120544434, -3.450700044631958, -4.128699779510498, -4.128699779510498, -2.7653000354766846, -4.128699779510498, -3.450700044631958, -3.450700044631958, -4.128600120544434, -4.128600120544434, -4.128699779510498, -4.128600120544434, -4.128600120544434, -4.128699779510498, -4.128600120544434, -4.128600120544434, -4.128600120544434, -4.128600120544434, -4.128699779510498, -4.128600120544434, -4.128600120544434, -4.128699779510498, -4.128600120544434, -4.128600120544434, -4.128600120544434, -4.128600120544434, -4.128600120544434, -4.128600120544434, -4.128600120544434, -4.128600120544434, -4.128600120544434, -3.8819000720977783, -3.8819000720977783, -3.8819000720977783, -3.8819000720977783, -3.8819000720977783, -3.8819000720977783, -3.8819000720977783, -3.8819000720977783, -3.8819000720977783, -3.881999969482422, -3.8819000720977783, -3.8819000720977783, -3.8819000720977783, -3.8819000720977783, -3.8819000720977783, -3.8819000720977783, -3.8819000720977783, -3.8819000720977783, -3.2039999961853027, -3.8819000720977783, -3.8819000720977783, -3.8819000720977783, -3.8819000720977783, -3.8819000720977783, -3.8819000720977783, -3.8819000720977783, -3.8819000720977783, -3.8819000720977783, -3.881999969482422, -3.8819000720977783, -3.8819000720977783, -4.326399803161621, -4.326399803161621, -4.326399803161621, -4.326399803161621, -4.326399803161621, -4.326399803161621, -4.326399803161621, -4.326499938964844, -4.326399803161621, -4.326399803161621, -4.326300144195557, -4.326300144195557, -4.326399803161621, -4.326399803161621, -3.6484999656677246, -4.326399803161621, -4.326399803161621, -4.326399803161621, -4.326300144195557, -4.326399803161621, -4.326399803161621, -4.326300144195557, -4.326300144195557, -4.326399803161621, -3.6484999656677246, -4.326399803161621, -4.326300144195557, -4.326399803161621, -4.326399803161621, -3.6484999656677246, -3.6484999656677246, -3.6484999656677246, -3.6484999656677246, -3.6484999656677246, -4.326300144195557, -4.326300144195557, -4.326399803161621, -4.326399803161621, -4.326399803161621, -4.326399803161621, -4.326399803161621, -4.326399803161621, -4.326399803161621, -4.144100189208984, -4.144100189208984, -4.144100189208984, -4.144100189208984, -4.144100189208984, -4.144199848175049, -3.466200113296509, -4.144100189208984, -3.4663000106811523, -4.144100189208984, -4.144100189208984, -4.144100189208984, -4.144100189208984, -4.144199848175049, -4.144100189208984, -4.144100189208984, -4.144100189208984, -4.144100189208984, -3.4663000106811523, -4.144100189208984, -4.144100189208984, -4.144100189208984, -4.144199848175049, -4.144199848175049, -4.144100189208984, -4.144199848175049, -4.144100189208984, -3.466200113296509, -4.144100189208984, -4.144100189208984, -3.466200113296509, -3.4663000106811523, -4.144100189208984, -4.144100189208984, -4.144100189208984, -4.144100189208984, -4.144100189208984, -4.0640997886657715, -4.0640997886657715, -4.0640997886657715, -4.0640997886657715, -4.0640997886657715, -4.0640997886657715, -4.0640997886657715, -4.0640997886657715, -4.0640997886657715, -4.0640997886657715, -3.386199951171875, -4.064199924468994, -4.0640997886657715, -4.0640997886657715, -4.064199924468994, -4.0640997886657715, -4.064199924468994, -4.0640997886657715, -4.0640997886657715, -4.0640997886657715, -4.0640997886657715, -4.0640997886657715, -4.0640997886657715, -4.0640997886657715, -4.0640997886657715, -4.064199924468994, -4.0640997886657715, -4.064199924468994, -4.0640997886657715, -4.0640997886657715, -3.386199951171875, -4.0640997886657715, -4.0640997886657715, -4.0640997886657715, -4.0640997886657715, -4.0640997886657715, -4.0640997886657715, -4.09689998626709, -4.09689998626709, -4.09689998626709, -4.09689998626709, -4.09689998626709, -4.09689998626709, -4.09689998626709, -4.09689998626709, -4.09689998626709, -4.0970001220703125, -3.4189999103546143, -3.4189999103546143, -4.09689998626709, -4.09689998626709, -4.09689998626709, -3.4189999103546143, -3.4189999103546143, -4.09689998626709, -4.09689998626709, -4.09689998626709, -4.09689998626709, -4.09689998626709, -4.09689998626709, -4.09689998626709, -4.09689998626709, -4.09689998626709, -4.09689998626709, -4.09689998626709, -4.09689998626709, -4.09689998626709, -3.4189999103546143, -4.09689998626709, -4.09689998626709, -4.09689998626709, -4.09689998626709, -4.09689998626709, -4.09689998626709, -4.490799903869629, -4.490799903869629, -4.490799903869629, -4.490799903869629, -4.490799903869629, -4.490799903869629, -4.490799903869629, -4.490799903869629, -4.490799903869629, -4.490799903869629, -4.490799903869629, -4.490799903869629, -4.490900039672852, -4.490799903869629, -4.490799903869629, -4.490799903869629, -4.490900039672852, -4.490799903869629, -4.490900039672852, -4.490799903869629, -4.490799903869629, -3.812999963760376, -4.490799903869629, -4.490799903869629, -4.490799903869629, -4.490799903869629, -4.490799903869629, -4.490900039672852, -4.490799903869629, -4.490799903869629, -3.8129000663757324, -3.8129000663757324, -3.812999963760376, -3.8129000663757324, -3.412600040435791, -3.812999963760376, -4.213699817657471, -4.253699779510498, -4.232999801635742, -4.183499813079834, -4.490799903869629, -4.490799903869629, -4.490799903869629, -4.490799903869629, -4.490799903869629, -4.490799903869629, -4.490799903869629, -3.8819000720977783, -3.8819000720977783, -3.8819000720977783, -3.8819000720977783, -3.2039999961853027, -3.8819000720977783, -2.8036999702453613, -3.8819000720977783, -3.8819000720977783, -3.8819000720977783, -3.8819000720977783, -3.8819000720977783, -3.8819000720977783, -3.8819000720977783, -3.8819000720977783, -3.8819000720977783, -3.8819000720977783, -3.881999969482422, -3.8819000720977783, -3.881999969482422, -3.8819000720977783, -3.8819000720977783, -3.8819000720977783, -3.8819000720977783, -3.8819000720977783, -3.2039999961853027, -3.8819000720977783, -3.8819000720977783, -7.378300189971924, -7.378300189971924, -7.378300189971924, -7.378300189971924, -3.487299919128418, -4.165200233459473, -4.165299892425537, -4.165299892425537, -4.165299892425537, -4.165200233459473, -4.165200233459473, -3.4874000549316406, -4.165200233459473, -4.165200233459473, -4.165200233459473, -4.165299892425537, -4.165200233459473, -4.165299892425537, -4.165200233459473, -4.165200233459473, -4.165299892425537, -5.305799961090088, -3.4874000549316406, -3.4874000549316406, -4.165299892425537, -4.165200233459473, -4.165299892425537, -4.165200233459473, -4.165299892425537, -4.165200233459473, -4.165299892425537, -5.625800132751465, -4.165299892425537, -4.303699970245361, -4.165200233459473, -4.165299892425537, -3.9707000255584717, -3.9342000484466553, -4.165200233459473, -4.165200233459473, -4.165200233459473, -4.165299892425537, -4.165299892425537, -3.92330002784729, -3.9233999252319336, -3.9233999252319336, -3.9823999404907227, -3.9832000732421875, -3.9890999794006348, -4.01039981842041, -3.9233999252319336, -3.9888999462127686, -3.92330002784729, -3.9233999252319336, -3.92330002784729, -3.9233999252319336, -3.9697000980377197, -3.9233999252319336, -3.9233999252319336, -3.976599931716919, -4.0005998611450195, -3.9704999923706055, -3.92330002784729, -3.9233999252319336, -3.9233999252319336, -3.245500087738037, -4.002500057220459, -3.92330002784729, -3.9233999252319336, -3.9233999252319336, -3.9835000038146973, -3.92330002784729, -3.9233999252319336, -3.9233999252319336, -3.967900037765503, -3.9795000553131104, -3.921099901199341, -3.921099901199341, -3.921099901199341, -3.921099901199341, -3.921099901199341, -3.921099901199341, -3.921099901199341, -3.921099901199341, -3.921099901199341, -3.921099901199341, -3.921099901199341, -3.921099901199341, -3.921099901199341, -3.921099901199341, -3.921099901199341, -3.921099901199341, -3.921099901199341, -3.921099901199341, -3.921099901199341, -3.9212000370025635, -3.921099901199341, -3.2432000637054443, -3.921099901199341, -3.921099901199341, -3.2432000637054443, -3.921099901199341, -3.921099901199341, -3.921099901199341, -3.921099901199341, -3.9212000370025635, -3.921099901199341, -3.921099901199341, -3.940200090408325, -3.940200090408325, -3.9400999546051025, -3.9400999546051025, -3.940200090408325, -3.940200090408325, -3.9400999546051025, -3.9400999546051025, -3.9400999546051025, -3.9400999546051025, -3.9400999546051025, -3.9400999546051025, -3.9400999546051025, -3.9400999546051025, -3.940200090408325, -3.9400999546051025, -3.9400999546051025, -3.940200090408325, -3.9400999546051025, -3.940200090408325, -3.940200090408325, -3.9400999546051025, -3.9400999546051025, -3.9400999546051025, -3.940200090408325, -3.940200090408325, -3.940200090408325, -3.9400999546051025, -3.940200090408325, -3.940200090408325, -3.2623000144958496, -3.9400999546051025, -3.940200090408325, -3.940200090408325, -4.378699779510498, -4.378699779510498, -4.378699779510498, -4.378699779510498, -4.378699779510498, -4.378699779510498, -4.378699779510498, -4.378699779510498, -4.378799915313721, -4.378699779510498, -3.7007999420166016, -4.378699779510498, -4.378699779510498, -4.378699779510498, -4.378699779510498, -4.378699779510498, -4.378699779510498, -4.378699779510498, -4.378699779510498, -4.378699779510498, -5.067999839782715, -4.378699779510498, -4.378699779510498, -4.378699779510498, -5.137199878692627, -4.378699779510498, -5.1803998947143555, -4.378699779510498, -4.378699779510498, -4.378699779510498, -3.7007999420166016, -4.378699779510498, -4.378699779510498, -4.128900051116943, -4.1072998046875, -4.088900089263916, -4.378699779510498, -4.378699779510498, -4.378699779510498, -4.378699779510498, -4.378699779510498, -4.378699779510498, -4.378699779510498, -4.378699779510498, -4.378699779510498, -4.378699779510498, -4.378699779510498, -3.776599884033203, -3.776599884033203, -3.776700019836426, -3.776599884033203, -3.776599884033203, -3.776700019836426, -3.0987000465393066, -3.776599884033203, -3.776599884033203, -3.776599884033203, -3.776599884033203, -3.776599884033203, -3.776700019836426, -3.776599884033203, -3.776599884033203, -3.776700019836426, -3.776599884033203, -3.776599884033203, -3.776700019836426, -3.776700019836426, -3.776599884033203, -3.776599884033203, -3.776599884033203, -3.776599884033203, -3.776700019836426, -3.776599884033203, -7.2729997634887695, -7.2729997634887695, -7.2729997634887695, -7.2729997634887695, -7.2729997634887695, -7.2729997634887695, -7.2729997634887695, -7.2729997634887695], \"loglift\": [30.0, 29.0, 28.0, 27.0, 26.0, 25.0, 24.0, 23.0, 22.0, 21.0, 20.0, 19.0, 18.0, 17.0, 16.0, 15.0, 14.0, 13.0, 12.0, 11.0, 10.0, 9.0, 8.0, 7.0, 6.0, 5.0, 4.0, 3.0, 2.0, 1.0, 2.0521, 2.0521, 2.0521, 2.0521, 2.0521, 2.0521, 2.0521, 2.0521, 2.0521, 2.0521, 2.0521, 2.0521, 2.0521, 2.0521, 2.0521, 2.0521, 2.0521, 2.0521, 2.0521, 2.0521, 2.0521, 1.9126, 1.7791, 1.6894, 1.6875, 1.6875, 1.6874, 1.6699, 1.6686, 1.6479, 1.5362, 1.6054, 1.2881, 1.2481, 1.1225, 1.3952, 0.9752, 1.1761, 0.7207, 0.8778, 1.3033, 0.4788, 1.2484, 1.2195, 1.063, 0.3611, 0.9236, 0.803, 0.7046, 0.6191, 0.548, 0.5286, 0.2503, 0.9885, 0.822, 0.8229, 2.5907, 2.5614, 2.5614, 2.5614, 2.5614, 2.5614, 2.5614, 2.5609, 2.3527, 2.2738, 2.223, 2.2127, 2.2127, 2.2127, 2.2107, 2.1583, 2.1009, 2.0715, 2.0133, 1.9522, 1.9438, 1.941, 1.941, 1.9369, 1.9288, 1.9225, 1.9112, 1.91, 1.8219, 1.8099, 1.8044, 1.7999, 1.1816, 1.0912, 0.7704, 0.6307, 0.1949, 1.2908, 1.7346, 0.2657, 1.1976, 1.6828, -0.322, 1.5304, 2.4949, 2.4949, 2.4949, 2.4949, 2.4949, 2.4949, 2.4949, 2.4949, 2.4949, 2.4949, 2.4949, 2.4949, 2.2276, 2.1645, 2.1645, 2.1644, 2.1324, 2.1023, 2.0992, 2.0992, 2.0992, 2.0805, 2.0625, 2.0624, 2.0424, 1.8652, 1.8625, 1.8401, 1.7466, 1.6644, 1.5251, 1.5675, 1.4933, 0.8932, 0.883, 0.7757, 0.4472, 1.0134, 0.971, 0.3511, 1.0715, 0.7004, 0.3557, 1.2374, 0.6138, 0.2846, 0.7996, 2.8298, 2.6001, 2.6001, 2.6001, 2.6001, 2.6001, 2.6001, 2.6001, 2.4267, 2.3468, 2.3339, 2.3281, 2.1734, 2.0334, 2.0172, 2.0094, 2.0013, 1.9995, 1.9884, 1.9825, 1.9648, 1.9358, 1.9225, 1.9077, 1.8569, 1.814, 1.8013, 1.7907, 1.7575, 1.7322, 1.5128, 1.6537, 1.3771, 1.261, 1.4036, 1.2736, 1.1783, 0.7669, 0.3663, 1.0662, 1.6029, 1.1542, 0.3382, 0.6754, 1.2028, 2.8029, 2.8029, 2.8029, 2.6224, 2.5568, 2.5568, 2.5568, 2.5202, 2.5202, 2.5166, 2.2524, 2.2276, 2.2009, 2.1994, 2.1991, 2.1624, 2.1459, 2.14, 2.0013, 1.8832, 1.8667, 1.8496, 1.8379, 1.8334, 1.7363, 1.7152, 1.7126, 1.5975, 1.5603, 1.5061, 1.4983, 1.4118, 1.2528, 1.1491, 0.7849, 0.7603, 1.0939, 0.4983, 0.3342, 1.2879, -0.3499, 2.5378, 2.4614, 2.4614, 2.4614, 2.4614, 2.4614, 2.4614, 2.4614, 2.4614, 2.4613, 2.4613, 2.1132, 2.1132, 2.1132, 2.1132, 2.0846, 2.0798, 2.0415, 2.0256, 2.0121, 2.0068, 2.0068, 2.0068, 1.9918, 1.9696, 1.9696, 1.9696, 1.8555, 1.8343, 1.668, 1.6182, 1.4823, 1.565, 1.2909, 1.2286, 1.0772, 0.352, 0.7004, 0.6412, 0.545, 0.1127, 1.5471, 0.7217, 1.4397, 1.1162, 0.6654, 1.4013, 1.354, 0.1976, 2.6278, 2.5144, 2.5144, 2.5144, 2.5144, 2.5144, 2.5144, 2.3255, 2.3225, 2.2876, 2.262, 2.2612, 2.2526, 2.2169, 2.1959, 2.1878, 2.1636, 2.1636, 2.1636, 2.1163, 2.1163, 2.0999, 2.0832, 2.0832, 2.0727, 2.0119, 1.8234, 1.6731, 1.6731, 1.6731, 1.6731, 1.6002, 1.5034, 0.9407, 0.6169, 1.0221, 0.9794, 0.9713, 0.9519, 0.9276, 0.8821, 0.6736, 0.3841, 0.0556, 1.3223, 1.6361, 0.5932, 1.6542, 1.4217, 0.0399, 1.449, 0.9341, 1.4578, 2.8677, 2.7254, 2.6101, 2.6101, 2.6101, 2.6101, 2.6101, 2.6101, 2.6101, 2.6101, 2.6101, 2.6101, 2.6101, 2.3753, 2.3448, 2.3353, 2.2874, 2.2855, 2.2431, 2.241, 2.2255, 2.2222, 2.2222, 2.2104, 2.2104, 2.195, 2.1848, 2.1668, 2.1161, 2.01, 1.9657, 1.5591, 1.899, 1.5743, 1.5338, 1.2687, 1.2549, 0.9849, 0.8448, 0.8007, 0.9198, 0.5469, 0.1785, -0.4627, 1.0942, 1.1714, 1.8581, 1.3212, 1.3373, 0.7817, 2.7947, 2.49, 2.4852, 2.4852, 2.4852, 2.4852, 2.4852, 2.4852, 2.4852, 2.4852, 2.2398, 2.1937, 2.0821, 2.0699, 2.0699, 2.0699, 2.0699, 2.0456, 2.026, 2.026, 2.026, 2.0253, 2.0111, 1.99, 1.9447, 1.9174, 1.902, 1.8526, 1.8249, 1.7991, 1.6798, 1.7259, 1.4088, 1.4795, 1.4731, 1.1109, 1.0446, 0.5958, 0.9806, 0.8322, 0.6116, 0.2368, 0.0694, 1.3018, 1.6546, 1.358, 0.5619, 1.316, 0.7371, 1.3334, 2.904, 2.6303, 2.6303, 2.6303, 2.6303, 2.6303, 2.6303, 2.6303, 2.6303, 2.6303, 2.6303, 2.6303, 2.4109, 2.225, 2.2214, 2.2139, 2.2139, 2.2015, 2.1971, 2.1927, 2.1927, 2.1728, 2.1703, 2.153, 2.0912, 1.9907, 1.9521, 1.7605, 1.7226, 1.717, 1.6011, 1.4773, 1.4692, 1.3686, 0.7145, 1.2254, 1.1197, 0.7712, 0.7287, 0.4621, -0.0888, 1.6958, 0.9218, 1.4198, 1.302, 2.4548, 2.4548, 2.4548, 2.4548, 2.4548, 2.4548, 2.4547, 2.4547, 2.4309, 2.1861, 1.9978, 1.9905, 1.9532, 1.9492, 1.9434, 1.927, 1.8911, 1.851, 1.841, 1.841, 1.841, 1.841, 1.841, 1.7256, 1.7191, 1.7176, 1.7048, 1.6874, 1.6528, 1.6508, 1.639, 1.5058, 1.5283, 0.9179, 1.2733, 1.1882, 0.482, 1.1587, 1.0415, 0.3579, 0.7787, 0.7631, 0.7204, 0.6418, 0.39, 0.1251, 0.4615, 0.9176, 0.9454, 1.2633, 0.4011, 2.9209, 2.63, 2.63, 2.63, 2.63, 2.63, 2.63, 2.63, 2.63, 2.63, 2.63, 2.63, 2.63, 2.63, 2.63, 2.2433, 2.2315, 2.227, 2.2112, 2.197, 2.1948, 2.1891, 2.1541, 2.1316, 2.0464, 2.0269, 2.026, 1.9577, 1.9118, 1.795, 1.7, 1.6906, 1.2525, 1.3441, 1.1813, 1.0902, 0.7124, 0.6968, 0.4319, 0.1035, 1.7569, 0.2521, 1.0931, 0.3412, 1.6773, 0.569, 0.9322, 0.3219, 1.1062, 1.2244, 2.8483, 2.8483, 2.8261, 2.6929, 2.6518, 2.6518, 2.6518, 2.6026, 2.5574, 2.3661, 2.3312, 2.3107, 2.2805, 2.2499, 2.2444, 2.1577, 2.1122, 2.0825, 2.051, 2.0369, 1.8902, 1.8708, 1.8655, 1.7966, 1.7854, 1.7711, 1.7129, 1.6861, 1.6267, 1.5511, 1.3505, 1.4171, 1.1528, 1.3471, 0.4884, 1.2325, 0.9581, 1.4607, 0.6751, 0.8526, 0.4794, 2.7925, 2.7925, 2.7925, 2.7925, 2.6359, 2.5366, 2.5366, 2.5246, 2.4758, 2.4452, 2.4449, 2.4344, 2.4171, 2.4139, 2.4025, 2.394, 2.3232, 2.2485, 2.2318, 2.1997, 2.1621, 2.1059, 2.0016, 1.9832, 1.8438, 1.8108, 1.7563, 1.6863, 1.5847, 1.5339, 1.4082, 1.1429, 0.9698, 0.3943, 0.5211, 1.237, 1.4189, 1.4902, 1.3066, 0.5429, 0.632, 0.6985, 0.9571, 3.0986, 3.0986, 2.865, 2.865, 2.865, 2.865, 2.865, 2.865, 2.865, 2.865, 2.8259, 2.5055, 2.4981, 2.4981, 2.3875, 2.3864, 2.157, 2.1361, 2.1361, 2.1361, 2.0021, 1.8976, 1.8604, 1.7851, 1.7592, 1.7556, 1.5682, 1.5017, 1.4299, 1.397, 1.1275, 0.0016, 0.9185, 1.0855, 0.6672, 0.7563, 0.1691, 0.6453, 2.7825, 2.7825, 2.7602, 2.7524, 2.5154, 2.5154, 2.5154, 2.4523, 2.4223, 2.4094, 2.4084, 2.3692, 2.3315, 2.259, 2.2181, 2.2033, 2.072, 2.0371, 1.989, 1.9506, 1.9321, 1.9257, 1.921, 1.8328, 1.8191, 1.8022, 1.7704, 1.6976, 1.658, 1.6527, 1.5623, 1.4134, 0.9535, 0.911, 0.3187, 1.6275, 0.5028, 0.6444, 0.9489, 1.4754, 0.251, 0.9399, 1.2671, 0.4623, 1.1343, 0.9968, 0.5818, 2.8861, 2.8861, 2.8861, 2.8861, 2.8861, 2.7285, 2.5172, 2.5172, 2.5058, 2.4843, 2.3957, 2.3957, 2.3783, 2.2885, 2.2244, 2.2222, 2.2094, 2.1933, 2.165, 2.1215, 2.0408, 1.8997, 1.758, 1.7292, 1.6766, 1.6532, 1.6182, 1.6072, 1.6055, 1.592, 1.5918, 0.8164, 1.0251, 0.7446, 0.9831, 1.512, 1.5545, 0.5647, 0.3315, 0.6539, 2.9298, 2.9297, 2.9297, 2.9297, 2.9297, 2.9297, 2.9297, 2.6681, 2.6415, 2.526, 2.4852, 2.4704, 2.4346, 2.3339, 2.3154, 2.136, 2.1011, 2.0214, 1.9959, 1.9873, 1.8726, 1.8498, 1.8339, 1.7867, 1.7633, 1.5963, 1.4569, 1.4372, 1.4308, 1.3568, 1.1764, 0.8479, 0.8557, 0.9405, 1.052, 0.8476, 0.3452, 0.9131, 1.061, 3.0013, 3.0013, 3.0013, 3.0012, 3.0012, 2.6283, 2.558, 2.5426, 2.3361, 2.1346, 2.1133, 1.8711, 1.8401, 1.7687, 1.7153, 1.6651, 1.6586, 1.5721, 1.5187, 1.5172, 1.5146, 1.5063, 1.4978, 1.4576, 1.4078, 1.3476, 1.2927, 1.1925, 1.1781, 1.1166, 0.7732, -0.0988, 0.7059, 0.825, 0.0622, 0.337, 0.7033, 0.5102, 0.5192, 3.1131, 2.8812, 2.8702, 2.8702, 2.8702, 2.8702, 2.8702, 2.8101, 2.5312, 2.3895, 2.2907, 2.2607, 2.2424, 2.1483, 2.1429, 2.0741, 2.0486, 1.9657, 1.9037, 1.7382, 1.7373, 1.7126, 1.6545, 1.6246, 1.4303, 1.4248, 1.13, 1.0717, 0.9744, 0.7659, 0.3089, 2.911, 2.911, 2.911, 2.911, 2.911, 2.911, 2.911, 2.5303, 2.4682, 2.258, 2.1747, 1.9989, 1.9989, 1.9989, 1.9685, 1.8715, 1.8364, 1.7747, 1.7677, 1.648, 1.6414, 1.5459, 1.536, 1.5197, 1.5176, 1.4772, 1.3744, 1.37, 1.3195, 1.2265, 1.0435, 0.9747, 0.5424, 0.3814, 0.9189, 0.3215, 0.9804, 1.0427, 0.9442, 0.9947, 0.9483, 0.8469, 1.1341, 3.0438, 3.0438, 3.0438, 3.0438, 3.0438, 3.0437, 2.9376, 2.8126, 2.7441, 2.6714, 2.642, 2.6191, 2.5999, 2.5065, 2.4499, 2.444, 2.398, 2.372, 2.3198, 2.2111, 2.0187, 1.8302, 1.7547, 1.7281, 1.7182, 1.6431, 1.4751, 1.3658, 1.2284, 1.2249, 1.1391, 0.5636, 1.2171, 0.8014, 0.8099, 0.4947, 0.7122, 3.119, 3.119, 3.119, 3.1189, 3.1189, 3.1189, 3.1189, 3.1189, 2.8888, 2.7808, 2.7465, 2.7154, 2.6959, 2.6959, 2.6959, 2.675, 2.462, 2.462, 2.4497, 2.3599, 2.1706, 2.014, 1.9982, 1.833, 1.8195, 1.5559, 1.5551, 1.5123, 1.5114, 1.4723, 1.0794, 1.038, 1.0533, 0.9478, 0.7679, 1.3573, 0.862, 3.1087, 3.1087, 3.1087, 3.1087, 3.1087, 3.1087, 3.1087, 3.1087, 3.1087, 3.1087, 2.8873, 2.8685, 2.7419, 2.7175, 2.6601, 2.4783, 2.3737, 2.3732, 2.3221, 2.2643, 2.1913, 2.1505, 1.9813, 1.9265, 1.7492, 1.7485, 1.6903, 1.5941, 1.5424, 1.4395, 1.2288, 0.9197, 0.8571, 0.8293, 1.4096, 1.0051, 0.7595, 2.8955, 2.8955, 2.8955, 2.8955, 2.8955, 2.8955, 2.8955, 2.8955, 2.8955, 2.8955, 2.8955, 2.8955, 2.8955, 2.3976, 2.3968, 2.3968, 2.3967, 2.3592, 2.3592, 2.2723, 2.1459, 2.1056, 2.1032, 2.0995, 2.0848, 2.0545, 2.0513, 2.0353, 2.0223, 1.9589, 1.822, 1.579, 1.556, 1.4938, 0.6173, 0.9656, 1.4295, 1.3727, 0.721, 0.2822, 0.3437, 1.6665, 1.6519, 1.5394, 0.7839, 0.8817, 0.1324, 3.2429, 3.2429, 3.2429, 3.2429, 3.1588, 2.8572, 2.7908, 2.7166, 2.7062, 2.6313, 2.4733, 2.3685, 2.36, 2.2795, 2.1804, 2.1613, 2.0741, 2.0163, 1.9654, 1.4905, 1.2355, 1.02, 0.9744, 0.9526, 0.8966, 0.8258, 0.7569, 0.4764, 0.0794, 0.0794, -0.324, 0.008, 3.4771, 3.154, 3.154, 3.154, 3.154, 2.8943, 2.6214, 2.5995, 2.3049, 2.2577, 2.231, 2.1809, 2.1672, 2.0658, 1.9448, 1.8844, 1.8601, 1.8101, 1.7873, 1.7831, 1.7533, 1.7336, 1.6809, 1.5922, 1.5311, 1.4806, 1.4696, 1.4666, 1.454, 1.4286, 1.4201, 1.2952, 0.9311, 0.2566, 0.9506, 0.4736, 0.4401, 0.9522, 0.7888, 3.2907, 3.2907, 3.2907, 3.2319, 3.2311, 3.2252, 3.204, 2.8427, 2.8255, 2.8165, 2.8002, 2.5414, 2.4726, 2.3765, 2.1199, 2.102, 1.9222, 1.5748, 1.536, 1.4379, 1.3471, 1.3333, 1.2202, 1.1149, 1.0932, 1.073, 0.9516, 0.9183, 0.9112, 0.8552, 0.1065, 0.6709, 0.7124, 3.3137, 3.3137, 3.3136, 3.3136, 2.9604, 2.9379, 2.9265, 2.8878, 2.8877, 2.8375, 2.5927, 2.5639, 2.5355, 2.492, 2.4882, 2.1889, 1.9887, 1.976, 1.9625, 1.9511, 1.8825, 1.8726, 1.7971, 1.7894, 1.6829, 1.4514, 1.245, 0.7709, 0.7177, 0.4371, 0.1088, 0.2697, 3.3174, 3.3174, 2.8757, 2.8756, 2.8756, 2.8669, 2.8365, 2.7518, 2.4561, 2.3481, 2.2562, 2.2213, 2.09, 2.0847, 2.0158, 1.9904, 1.9581, 1.9221, 1.9164, 1.9074, 1.9072, 1.9053, 1.7781, 1.6948, 1.6799, 1.6768, 1.6363, 1.372, 1.2604, 1.2331, 1.0961, 0.986, 1.0718, 0.7076, 3.0789, 3.0789, 3.0789, 3.0789, 3.0789, 3.0789, 3.0789, 3.0789, 3.0789, 2.6808, 2.6068, 2.578, 2.5742, 2.5611, 2.4868, 2.4325, 2.4324, 2.4324, 2.272, 2.2525, 2.2111, 2.2094, 2.2056, 2.1969, 2.1309, 2.112, 2.0813, 2.0611, 1.9466, 1.9466, 1.8845, 1.9466, 1.9441, 1.4076, 1.1674, 0.8651, 0.3133, 1.5662, 1.8632, 0.6333, 1.2606, 1.3318, 1.3187, 1.4836, 1.4086, 0.4777, 1.8928, 3.4745, 3.4745, 3.4744, 3.0824, 3.0622, 2.6989, 2.5922, 2.5297, 2.3477, 2.3334, 2.1419, 2.1332, 2.0695, 1.9416, 1.8626, 1.8498, 1.7988, 1.5959, 1.5444, 1.3254, 1.2197, 1.1689, 1.1495, 1.1253, 1.0797, 0.4142, 0.1846, 0.1846, 0.1846, 0.1846, -0.2188, -0.6745, 0.1133, 0.1133]}, \"token.table\": {\"Topic\": [1, 25, 27, 1, 2, 6, 9, 15, 27, 6, 9, 6, 25, 5, 19, 8, 28, 25, 14, 25, 26, 1, 5, 6, 7, 9, 10, 17, 21, 21, 1, 2, 6, 8, 2, 9, 24, 3, 6, 8, 10, 11, 13, 17, 21, 23, 26, 27, 28, 1, 6, 12, 18, 21, 30, 28, 3, 4, 10, 12, 14, 27, 6, 14, 1, 2, 3, 6, 9, 10, 12, 16, 18, 21, 24, 25, 27, 28, 1, 2, 3, 4, 5, 6, 7, 8, 9, 10, 11, 12, 14, 15, 17, 19, 20, 21, 22, 24, 27, 29, 32, 9, 13, 15, 17, 27, 6, 7, 10, 12, 21, 1, 4, 11, 15, 18, 24, 32, 1, 6, 11, 12, 16, 9, 16, 6, 7, 12, 17, 7, 8, 16, 21, 12, 29, 3, 9, 9, 11, 26, 1, 6, 11, 2, 12, 5, 11, 23, 26, 1, 3, 22, 26, 1, 8, 11, 13, 16, 20, 25, 30, 13, 1, 6, 7, 10, 8, 24, 32, 12, 16, 12, 1, 6, 28, 1, 3, 4, 6, 7, 8, 9, 17, 21, 28, 29, 7, 12, 17, 22, 10, 1, 3, 6, 7, 9, 11, 12, 15, 19, 24, 28, 7, 8, 16, 15, 2, 4, 11, 1, 15, 27, 8, 9, 11, 12, 19, 20, 23, 24, 31, 7, 5, 7, 9, 10, 21, 3, 5, 15, 13, 22, 16, 25, 16, 25, 1, 22, 1, 5, 10, 11, 16, 23, 28, 32, 6, 9, 12, 18, 24, 12, 29, 2, 17, 29, 16, 18, 25, 9, 18, 24, 15, 3, 4, 5, 6, 7, 10, 18, 19, 24, 11, 12, 16, 20, 25, 1, 26, 4, 8, 11, 18, 21, 2, 13, 1, 7, 18, 29, 30, 32, 27, 14, 6, 12, 1, 3, 4, 6, 11, 14, 25, 9, 1, 15, 23, 8, 10, 23, 6, 1, 7, 16, 2, 3, 6, 19, 25, 27, 30, 1, 2, 9, 1, 3, 4, 7, 8, 14, 15, 17, 19, 24, 26, 27, 28, 32, 4, 13, 16, 20, 25, 30, 6, 17, 7, 1, 1, 4, 4, 7, 8, 10, 12, 14, 18, 2, 3, 10, 18, 19, 25, 27, 31, 10, 1, 2, 4, 6, 7, 8, 10, 12, 14, 16, 18, 19, 22, 27, 24, 2, 21, 4, 16, 17, 23, 29, 12, 6, 14, 1, 5, 7, 8, 9, 10, 13, 14, 15, 16, 19, 20, 21, 24, 30, 3, 1, 11, 12, 14, 1, 3, 4, 5, 6, 8, 9, 11, 12, 16, 17, 21, 23, 25, 32, 4, 1, 2, 3, 6, 7, 8, 11, 12, 13, 14, 16, 17, 18, 19, 21, 22, 25, 26, 28, 29, 12, 7, 23, 4, 24, 1, 2, 3, 4, 6, 9, 12, 14, 17, 25, 26, 28, 1, 2, 5, 19, 21, 26, 30, 32, 27, 1, 2, 12, 13, 16, 25, 29, 2, 9, 3, 11, 14, 1, 17, 5, 9, 10, 11, 3, 9, 29, 2, 4, 27, 1, 2, 27, 29, 32, 12, 1, 3, 5, 10, 11, 15, 21, 27, 1, 10, 16, 23, 12, 10, 5, 28, 11, 18, 28, 25, 23, 1, 17, 5, 2, 5, 11, 18, 24, 8, 9, 20, 30, 3, 6, 9, 14, 25, 3, 4, 7, 8, 11, 12, 14, 15, 17, 20, 22, 24, 26, 28, 32, 7, 10, 15, 21, 22, 10, 20, 25, 8, 9, 10, 2, 6, 15, 16, 18, 21, 22, 25, 27, 3, 6, 9, 6, 7, 8, 9, 18, 6, 9, 16, 18, 13, 14, 8, 10, 23, 24, 8, 10, 15, 17, 10, 9, 23, 15, 1, 3, 2, 1, 6, 21, 1, 5, 7, 10, 11, 12, 3, 12, 21, 12, 1, 3, 6, 7, 10, 11, 12, 18, 19, 21, 7, 30, 8, 3, 9, 23, 7, 14, 25, 25, 8, 17, 27, 3, 7, 24, 30, 21, 3, 19, 11, 8, 1, 1, 4, 3, 6, 7, 9, 23, 11, 13, 20, 2, 8, 11, 14, 17, 21, 29, 16, 13, 16, 20, 26, 30, 1, 2, 4, 9, 11, 12, 14, 18, 21, 22, 23, 30, 4, 26, 8, 7, 11, 7, 3, 4, 6, 7, 9, 11, 16, 19, 25, 4, 17, 20, 29, 6, 16, 3, 16, 2, 7, 8, 11, 14, 20, 32, 30, 15, 17, 22, 27, 28, 11, 12, 14, 25, 23, 19, 11, 15, 17, 23, 29, 8, 10, 11, 24, 1, 2, 6, 25, 17, 29, 16, 25, 16, 19, 28, 6, 13, 22, 12, 1, 6, 12, 18, 6, 8, 27, 30, 18, 10, 9, 11, 22, 26, 9, 11, 12, 13, 14, 16, 21, 25, 22, 2, 4, 1, 18, 5, 7, 10, 1, 3, 5, 6, 7, 9, 10, 11, 12, 17, 19, 20, 21, 3, 9, 4, 5, 2, 3, 6, 7, 12, 15, 16, 21, 28, 21, 7, 1, 5, 10, 11, 5, 7, 13, 16, 24, 32, 11, 20, 1, 4, 11, 20, 15, 13, 31, 10, 14, 22, 21, 15, 8, 6, 8, 8, 13, 5, 7, 24, 32, 11, 24, 4, 6, 8, 17, 23, 29, 11, 15, 27, 28, 4, 5, 8, 9, 18, 19, 27, 29, 5, 22, 25, 2, 6, 10, 24, 1, 10, 1, 5, 10, 11, 2, 6, 13, 1, 6, 8, 15, 20, 22, 23, 27, 17, 29, 12, 9, 14, 1, 8, 9, 11, 14, 17, 18, 19, 30, 3, 17, 21, 11, 13, 16, 23, 12, 9, 13, 3, 1, 5, 15, 5, 10, 1, 3, 6, 7, 9, 11, 12, 13, 14, 15, 17, 18, 21, 22, 25, 26, 29, 30, 4, 9, 11, 27, 23, 26, 25, 8, 3, 15, 2, 3, 6, 25, 27, 32, 21, 11, 20, 5, 8, 23, 6, 9, 11, 13, 22, 13, 24, 27, 1, 3, 5, 10, 17, 24, 3, 4, 13, 1, 3, 6, 14, 26, 30, 15, 17, 4, 9, 11, 14, 2, 4, 6, 21, 25, 7, 3, 7, 1, 6, 7, 15, 21, 28, 7, 29, 11, 13, 17, 13, 16, 20, 30, 5, 28, 18, 20, 1, 4, 9, 20, 26, 27, 7, 1, 25, 7, 10, 17, 26, 3, 23, 10, 11, 14, 3, 5, 7, 8, 11, 15, 17, 21, 25, 27, 31, 4, 18, 4, 30, 3, 12, 25, 26, 30, 2, 6, 18, 24, 3, 24, 2, 6, 7, 8, 12, 15, 19, 20, 21, 25, 28, 4, 6, 16, 25, 9, 1, 2, 6, 7, 12, 17, 23, 24, 29, 30, 32, 7, 11, 12, 1, 3, 4, 5, 9, 16, 19, 21, 29, 18, 22, 1, 3, 5, 6, 9, 10, 11, 13, 14, 17, 20, 23, 25, 30, 11, 20, 5, 11, 2, 3, 7, 8, 12, 16, 18, 21, 22, 24, 25, 27, 31, 3, 7, 12, 16, 19, 25, 32, 9, 10, 14, 4, 7, 11, 5, 6, 8, 12, 21, 27, 6, 1, 17, 29, 8, 12, 2, 8, 9, 18, 22, 25, 3, 11, 13, 15, 17, 1, 28, 8, 19, 24, 8, 16, 11, 6, 8, 9, 7, 2, 16, 30, 7, 15, 21, 5, 11, 20, 12, 14, 15, 16, 17, 21, 25, 27, 28, 1, 19, 7, 14, 32, 1, 10, 18, 26, 12, 4, 6, 10, 11, 17, 18, 30, 1, 3, 6, 12, 15, 16, 18, 20, 27, 2, 6, 29, 25, 9, 12, 22, 2, 13, 19, 26, 6, 9, 4, 9, 11, 13, 16, 20, 24, 28, 8, 9, 29, 7, 30, 27, 1, 17, 14, 29, 14, 25, 10, 7, 10, 14, 3, 25, 2, 27, 28, 13, 16, 29, 1, 11, 1, 3, 4, 5, 6, 9, 11, 12, 13, 14, 15, 16, 19, 25, 26, 28, 4, 15, 18, 7, 15, 21, 22, 2, 4, 11, 26, 28, 1, 2, 5, 6, 19, 21, 27, 19, 2, 19, 8, 2, 28, 9, 7, 30, 18, 1, 1, 17, 1, 2, 11, 17, 24, 2, 7, 8, 21, 22, 30, 13, 14, 16, 20, 23, 25, 30, 13, 6, 9, 22, 1, 5, 6, 8, 9, 10, 11, 19, 23, 1, 11, 12, 17, 22, 23, 25, 26, 29, 32, 1, 2, 7, 17, 29, 32, 24, 23, 5, 8, 26, 14, 18, 25, 10, 14, 25, 10, 4, 12, 11, 20, 1, 3, 7, 29, 32, 23, 18, 4, 4, 9, 11, 14, 26, 30, 12, 1, 3, 10, 12, 16, 18, 19, 21, 32, 3, 22, 8, 21, 14, 25, 8, 2, 4, 25, 4, 25, 1, 4, 7, 13, 18, 23, 30, 5, 12, 8, 1, 4, 6, 8, 9, 11, 13, 18, 19, 21, 22, 23, 7, 10, 11, 14, 25, 22, 1, 5, 10, 11, 13, 16, 18, 20, 30, 6, 9, 18, 23, 1, 3, 4, 5, 7, 8, 10, 12, 14, 15, 17, 22, 32, 1, 3, 5, 7, 9, 10, 11, 12, 13, 15, 17, 18, 19, 22, 25, 26, 27, 28, 29, 8, 2, 23, 25, 2, 28, 12, 22, 32, 8, 11, 14, 17, 1, 2, 9, 1, 12, 14, 1, 3, 4, 5, 7, 10, 11, 14, 28, 32, 3, 15, 16, 17, 6, 15, 18, 10, 27, 3, 5, 8, 8, 7, 8, 13, 30, 2, 7, 16, 6, 6, 9, 1, 3, 5, 6, 7, 8, 9, 10, 23, 24, 32, 5, 7, 14, 16, 19, 12, 22, 6, 9, 21, 22, 1, 2, 3, 4, 7, 9, 10, 11, 12, 19, 21, 22, 23, 25, 27, 28, 6, 11, 13, 21, 22, 29, 23, 7, 15, 1, 2, 3, 5, 9, 11, 12, 22, 28, 3, 8, 17, 21, 24, 27, 32, 3, 23, 6, 11, 3, 7, 12, 16, 19, 22, 3, 23, 19, 12, 1, 2, 4, 5, 6, 11, 16, 21, 25, 28, 2, 27, 24, 1, 5, 6, 11, 3, 9, 13, 24, 30, 11, 13, 16, 20, 30, 1, 5, 6, 19, 24, 2, 3, 19, 22, 24], \"Freq\": [0.5995004346553976, 0.7766038013526457, 0.7261871184179777, 0.15233152798333885, 0.3046630559666777, 0.15233152798333885, 0.15233152798333885, 0.15233152798333885, 0.15233152798333885, 0.46303428384117573, 0.46303428384117573, 0.6558707759580906, 0.7766125832389941, 0.38576759004522115, 0.38576759004522115, 0.4176360135093608, 0.4176360135093608, 0.7766130197706901, 0.3243324476575635, 0.3243324476575635, 0.3243324476575635, 0.11515745857400944, 0.11515745857400944, 0.11515745857400944, 0.23031491714801888, 0.11515745857400944, 0.23031491714801888, 0.11515745857400944, 0.11515745857400944, 0.6691177300892052, 0.23610841757699513, 0.23610841757699513, 0.23610841757699513, 0.23610841757699513, 0.5684367790981647, 0.7014615597799957, 0.648186812369987, 0.08032129432965553, 0.16064258865931105, 0.16064258865931105, 0.08032129432965553, 0.08032129432965553, 0.08032129432965553, 0.08032129432965553, 0.08032129432965553, 0.08032129432965553, 0.08032129432965553, 0.08032129432965553, 0.08032129432965553, 0.2647424866917709, 0.13237124334588546, 0.13237124334588546, 0.13237124334588546, 0.13237124334588546, 0.13237124334588546, 0.6538489409453848, 0.1485532671030235, 0.297106534206047, 0.1485532671030235, 0.1485532671030235, 0.1485532671030235, 0.1485532671030235, 0.4101013749457275, 0.4101013749457275, 0.14522984028059577, 0.14522984028059577, 0.07261492014029788, 0.07261492014029788, 0.07261492014029788, 0.07261492014029788, 0.07261492014029788, 0.07261492014029788, 0.07261492014029788, 0.07261492014029788, 0.07261492014029788, 0.07261492014029788, 0.07261492014029788, 0.07261492014029788, 0.12719532602460015, 0.03179883150615004, 0.09539649451845011, 0.03179883150615004, 0.03179883150615004, 0.03179883150615004, 0.06359766301230008, 0.03179883150615004, 0.03179883150615004, 0.06359766301230008, 0.06359766301230008, 0.03179883150615004, 0.03179883150615004, 0.03179883150615004, 0.03179883150615004, 0.03179883150615004, 0.03179883150615004, 0.03179883150615004, 0.03179883150615004, 0.03179883150615004, 0.03179883150615004, 0.03179883150615004, 0.03179883150615004, 0.20401907394284177, 0.20401907394284177, 0.20401907394284177, 0.20401907394284177, 0.20401907394284177, 0.18799585662854612, 0.18799585662854612, 0.37599171325709224, 0.18799585662854612, 0.18799585662854612, 0.1425312598418597, 0.1425312598418597, 0.1425312598418597, 0.1425312598418597, 0.1425312598418597, 0.1425312598418597, 0.1425312598418597, 0.5995023733451093, 0.27860001779157917, 0.27860001779157917, 0.27860001779157917, 0.27860001779157917, 0.4428212475767562, 0.4428212475767562, 0.655885445747967, 0.6643485304584889, 0.43262034138247, 0.43262034138247, 0.4050395927706491, 0.4050395927706491, 0.42971684869179444, 0.42971684869179444, 0.45314433215067845, 0.45314433215067845, 0.4431686497196127, 0.4431686497196127, 0.35321766984233083, 0.35321766984233083, 0.35321766984233083, 0.5995027610845561, 0.35940861488637166, 0.35940861488637166, 0.4052486648798896, 0.4052486648798896, 0.4132595827848481, 0.20662979139242404, 0.20662979139242404, 0.20662979139242404, 0.4001816401573769, 0.4001816401573769, 0.3495782797597549, 0.3495782797597549, 0.3948204046479837, 0.3948204046479837, 0.18111404860991837, 0.18111404860991837, 0.18111404860991837, 0.18111404860991837, 0.18111404860991837, 0.18111404860991837, 0.4369063211695763, 0.20900767693600597, 0.20900767693600597, 0.20900767693600597, 0.41801535387201194, 0.6040809454613398, 0.449191321974867, 0.449191321974867, 0.36495378398156714, 0.36495378398156714, 0.6670726335580118, 0.4163110952716638, 0.4163110952716638, 0.6538606599949744, 0.3149212667026582, 0.052486877783776364, 0.10497375556755273, 0.10497375556755273, 0.052486877783776364, 0.10497375556755273, 0.052486877783776364, 0.052486877783776364, 0.052486877783776364, 0.052486877783776364, 0.052486877783776364, 0.4350373042661315, 0.3252820085349581, 0.3252820085349581, 0.3252820085349581, 0.6348762513117026, 0.12835259973370197, 0.12835259973370197, 0.12835259973370197, 0.12835259973370197, 0.12835259973370197, 0.12835259973370197, 0.12835259973370197, 0.12835259973370197, 0.12835259973370197, 0.43831268342821345, 0.43831268342821345, 0.6233684200907375, 0.40180031620163303, 0.40180031620163303, 0.7145456773528851, 0.30194575144049096, 0.30194575144049096, 0.30194575144049096, 0.423509039451401, 0.2117545197257005, 0.2117545197257005, 0.24424544199821133, 0.12212272099910566, 0.12212272099910566, 0.12212272099910566, 0.12212272099910566, 0.12212272099910566, 0.12212272099910566, 0.12212272099910566, 0.12212272099910566, 0.6233709021540318, 0.21479674127661405, 0.21479674127661405, 0.21479674127661405, 0.21479674127661405, 0.21479674127661405, 0.3922197085024265, 0.3922197085024265, 0.7145462620827657, 0.2907301275039368, 0.5814602550078736, 0.47163548648276116, 0.47163548648276116, 0.47164047498921535, 0.47164047498921535, 0.40854872273647935, 0.40854872273647935, 0.12698485502924672, 0.25396971005849345, 0.12698485502924672, 0.12698485502924672, 0.12698485502924672, 0.12698485502924672, 0.12698485502924672, 0.12698485502924672, 0.19874504223117215, 0.19874504223117215, 0.19874504223117215, 0.19874504223117215, 0.19874504223117215, 0.6670841586576509, 0.6673701013542401, 0.306505945866936, 0.306505945866936, 0.306505945866936, 0.34520873754868076, 0.34520873754868076, 0.34520873754868076, 0.2786197811733121, 0.2786197811733121, 0.2786197811733121, 0.5571681206158429, 0.2299883972630841, 0.11499419863154205, 0.11499419863154205, 0.11499419863154205, 0.11499419863154205, 0.11499419863154205, 0.11499419863154205, 0.11499419863154205, 0.6481793640938678, 0.22391151332347173, 0.22391151332347173, 0.22391151332347173, 0.22391151332347173, 0.22391151332347173, 0.5995147812561887, 0.5978868170317592, 0.2132938231000145, 0.2132938231000145, 0.2132938231000145, 0.2132938231000145, 0.2132938231000145, 0.5684348331959262, 0.5318086440350109, 0.14647359783854358, 0.14647359783854358, 0.29294719567708716, 0.14647359783854358, 0.14647359783854358, 0.14647359783854358, 0.726177266951274, 0.5867206849508176, 0.4478140208876551, 0.4478140208876551, 0.12384967638479022, 0.24769935276958044, 0.12384967638479022, 0.12384967638479022, 0.24769935276958044, 0.12384967638479022, 0.12384967638479022, 0.701453908199176, 0.2720056938366867, 0.5440113876733734, 0.6337520931072969, 0.6040775609175881, 0.42332118515924066, 0.42332118515924066, 0.6558828714344808, 0.5995055479765891, 0.6600541458739151, 0.6160331838847406, 0.2695257019933028, 0.1347628509966514, 0.1347628509966514, 0.1347628509966514, 0.1347628509966514, 0.1347628509966514, 0.1347628509966514, 0.3056688562644092, 0.3056688562644092, 0.3056688562644092, 0.06474484130845165, 0.06474484130845165, 0.1294896826169033, 0.1294896826169033, 0.06474484130845165, 0.06474484130845165, 0.06474484130845165, 0.06474484130845165, 0.06474484130845165, 0.06474484130845165, 0.06474484130845165, 0.06474484130845165, 0.06474484130845165, 0.06474484130845165, 0.5495420238841948, 0.20009103334908607, 0.20009103334908607, 0.20009103334908607, 0.20009103334908607, 0.20009103334908607, 0.4309787604973942, 0.4309787604973942, 0.6507810303028163, 0.599498665611977, 0.5995127697825967, 0.5495480987028285, 0.1434426115826498, 0.1434426115826498, 0.1434426115826498, 0.1434426115826498, 0.1434426115826498, 0.1434426115826498, 0.1434426115826498, 0.12823937581460207, 0.12823937581460207, 0.12823937581460207, 0.12823937581460207, 0.25647875162920414, 0.12823937581460207, 0.12823937581460207, 0.12823937581460207, 0.6348772328204134, 0.04813203468154819, 0.09626406936309638, 0.04813203468154819, 0.04813203468154819, 0.09626406936309638, 0.04813203468154819, 0.09626406936309638, 0.04813203468154819, 0.09626406936309638, 0.09626406936309638, 0.04813203468154819, 0.19252813872619276, 0.09626406936309638, 0.04813203468154819, 0.6481831977440212, 0.3482595161058366, 0.3482595161058366, 0.3456327056085656, 0.1728163528042828, 0.1728163528042828, 0.1728163528042828, 0.1728163528042828, 0.667075658480002, 0.655878357618519, 0.5867155849508948, 0.10043957633155601, 0.10043957633155601, 0.10043957633155601, 0.10043957633155601, 0.050219788165778004, 0.10043957633155601, 0.050219788165778004, 0.050219788165778004, 0.050219788165778004, 0.10043957633155601, 0.050219788165778004, 0.050219788165778004, 0.050219788165778004, 0.10043957633155601, 0.050219788165778004, 0.6167034414617656, 0.5294489437382194, 0.2647244718691097, 0.2647244718691097, 0.5867179092761469, 0.048998027100323555, 0.048998027100323555, 0.14699408130097066, 0.09799605420064711, 0.048998027100323555, 0.048998027100323555, 0.14699408130097066, 0.048998027100323555, 0.048998027100323555, 0.048998027100323555, 0.048998027100323555, 0.048998027100323555, 0.048998027100323555, 0.048998027100323555, 0.6783738266332517, 0.5925475286528628, 0.13535521449462887, 0.05414208579785154, 0.08121312869677731, 0.05414208579785154, 0.05414208579785154, 0.02707104289892577, 0.05414208579785154, 0.02707104289892577, 0.02707104289892577, 0.05414208579785154, 0.05414208579785154, 0.05414208579785154, 0.05414208579785154, 0.02707104289892577, 0.02707104289892577, 0.05414208579785154, 0.05414208579785154, 0.05414208579785154, 0.02707104289892577, 0.02707104289892577, 0.6670762332182816, 0.6233661289729319, 0.6337460119527601, 0.5903952824887311, 0.29519764124436554, 0.22893455383951838, 0.057233638459879596, 0.057233638459879596, 0.057233638459879596, 0.057233638459879596, 0.057233638459879596, 0.11446727691975919, 0.11446727691975919, 0.057233638459879596, 0.057233638459879596, 0.057233638459879596, 0.057233638459879596, 0.2878715171888186, 0.1439357585944093, 0.2878715171888186, 0.1439357585944093, 0.1439357585944093, 0.5979012426051826, 0.682743833144294, 0.6783643024323431, 0.5600751675384348, 0.14533895522596418, 0.14533895522596418, 0.14533895522596418, 0.14533895522596418, 0.14533895522596418, 0.14533895522596418, 0.14533895522596418, 0.5684333258160257, 0.701445455218248, 0.6167037302522352, 0.44883340369356667, 0.44883340369356667, 0.5995015494004498, 0.6304320438869094, 0.43574586976599117, 0.21787293488299558, 0.21787293488299558, 0.21787293488299558, 0.44317917056421996, 0.44317917056421996, 0.6673759060694016, 0.2963297284503021, 0.2963297284503021, 0.2963297284503021, 0.21672086007682276, 0.21672086007682276, 0.21672086007682276, 0.21672086007682276, 0.21672086007682276, 0.6670793186722909, 0.22637395701137328, 0.11318697850568664, 0.22637395701137328, 0.11318697850568664, 0.11318697850568664, 0.11318697850568664, 0.11318697850568664, 0.11318697850568664, 0.24550177397779202, 0.24550177397779202, 0.24550177397779202, 0.24550177397779202, 0.6670872744353856, 0.6348759626332475, 0.7556003733507289, 0.6537152860259662, 0.478284565129285, 0.478284565129285, 0.6539149188895235, 0.7766017214612848, 0.5034573212864116, 0.5995035123311621, 0.6304011925707399, 0.5818100359245336, 0.2507924105487327, 0.2507924105487327, 0.2507924105487327, 0.2507924105487327, 0.648187250509207, 0.6702714174214865, 0.70144192105817, 0.3878299089521623, 0.3878299089521623, 0.22720764077769506, 0.22720764077769506, 0.22720764077769506, 0.22720764077769506, 0.22720764077769506, 0.06186593489971718, 0.12373186979943436, 0.12373186979943436, 0.06186593489971718, 0.06186593489971718, 0.06186593489971718, 0.06186593489971718, 0.06186593489971718, 0.06186593489971718, 0.06186593489971718, 0.06186593489971718, 0.06186593489971718, 0.06186593489971718, 0.06186593489971718, 0.06186593489971718, 0.1892280318872238, 0.1892280318872238, 0.1892280318872238, 0.1892280318872238, 0.1892280318872238, 0.8476157578984581, 0.4164249855744133, 0.4164249855744133, 0.43661298787105085, 0.43661298787105085, 0.6348778101798962, 0.10329646862301843, 0.10329646862301843, 0.10329646862301843, 0.10329646862301843, 0.20659293724603686, 0.10329646862301843, 0.10329646862301843, 0.10329646862301843, 0.10329646862301843, 0.6167022221272085, 0.4630390660648805, 0.4630390660648805, 0.21671006411417232, 0.21671006411417232, 0.21671006411417232, 0.21671006411417232, 0.21671006411417232, 0.4630359553939203, 0.4630359553939203, 0.6160471279413489, 0.6381005076163848, 0.5318044173910601, 0.5867150659293249, 0.20992409204551915, 0.4198481840910383, 0.20992409204551915, 0.20992409204551915, 0.40985964314392304, 0.40985964314392304, 0.38604506461591664, 0.38604506461591664, 0.6348791381106919, 0.45190348952986975, 0.45190348952986975, 0.5571636173634301, 0.5994980113108909, 0.6167027355306448, 0.5684437954196736, 0.41631043519640354, 0.41631043519640354, 0.66912315773561, 0.16358177343127128, 0.16358177343127128, 0.16358177343127128, 0.32716354686254256, 0.16358177343127128, 0.16358177343127128, 0.4291925789858211, 0.4291925789858211, 0.6691356622687656, 0.6670750232441085, 0.273823451065132, 0.09127448368837734, 0.09127448368837734, 0.09127448368837734, 0.1825489673767547, 0.09127448368837734, 0.09127448368837734, 0.09127448368837734, 0.09127448368837734, 0.09127448368837734, 0.43894030771765863, 0.43894030771765863, 0.6040846657060777, 0.3285455007789244, 0.3285455007789244, 0.3285455007789244, 0.5224105162732413, 0.26120525813662065, 0.26120525813662065, 0.7766152281150263, 0.27071270797134106, 0.27071270797134106, 0.27071270797134106, 0.2589908556849907, 0.2589908556849907, 0.2589908556849907, 0.2589908556849907, 0.6691231119323183, 0.6167082546715729, 0.6009322942741055, 0.7609149588350299, 0.6040850852854271, 0.5995008708594896, 0.5995113399481303, 0.5495461749957301, 0.26288016641782813, 0.26288016641782813, 0.26288016641782813, 0.26288016641782813, 0.6337579975957511, 0.2547074487483249, 0.2547074487483249, 0.2547074487483249, 0.15952733251694445, 0.15952733251694445, 0.15952733251694445, 0.15952733251694445, 0.15952733251694445, 0.15952733251694445, 0.15952733251694445, 0.6156777560979146, 0.1857813139956812, 0.1857813139956812, 0.1857813139956812, 0.1857813139956812, 0.1857813139956812, 0.25479545556318617, 0.08493181852106205, 0.08493181852106205, 0.08493181852106205, 0.08493181852106205, 0.08493181852106205, 0.08493181852106205, 0.08493181852106205, 0.08493181852106205, 0.08493181852106205, 0.08493181852106205, 0.08493181852106205, 0.27905643319764756, 0.5581128663952951, 0.6040806377739769, 0.3771628615339223, 0.3771628615339223, 0.49687822212607874, 0.6167061368500013, 0.13588088915936034, 0.13588088915936034, 0.13588088915936034, 0.13588088915936034, 0.13588088915936034, 0.13588088915936034, 0.13588088915936034, 0.13588088915936034, 0.5495413910983109, 0.2934501194653966, 0.2934501194653966, 0.2934501194653966, 0.4242152496837882, 0.4242152496837882, 0.4074694009314191, 0.4074694009314191, 0.5684385605696419, 0.40503620697801435, 0.40503620697801435, 0.2198349785260542, 0.2198349785260542, 0.2198349785260542, 0.2198349785260542, 0.6827496059947996, 0.35091468708417684, 0.17545734354208842, 0.17545734354208842, 0.17545734354208842, 0.17545734354208842, 0.3405525833663995, 0.3405525833663995, 0.3405525833663995, 0.7765972792614874, 0.6337619221968483, 0.6009315042707327, 0.7608797918165933, 0.5571597659553029, 0.3245433656969697, 0.3245433656969697, 0.3245433656969697, 0.4098636819761357, 0.4098636819761357, 0.7608802266896068, 0.6481953196790826, 0.2966817666113192, 0.2966817666113192, 0.2966817666113192, 0.7765995388712187, 0.4359235963575628, 0.4359235963575628, 0.47163556829034803, 0.47163556829034803, 0.30897954023511426, 0.30897954023511426, 0.30897954023511426, 0.23959957235766102, 0.23959957235766102, 0.47919914471532205, 0.6670826461546814, 0.2572687324729165, 0.2572687324729165, 0.2572687324729165, 0.2572687324729165, 0.2885441480990883, 0.2885441480990883, 0.2885441480990883, 0.2885441480990883, 0.638092077494027, 0.6348769441410658, 0.2769515281749327, 0.2769515281749327, 0.2769515281749327, 0.2769515281749327, 0.10569071818594224, 0.10569071818594224, 0.10569071818594224, 0.10569071818594224, 0.21138143637188447, 0.21138143637188447, 0.10569071818594224, 0.10569071818594224, 0.6368498644162688, 0.358650726232086, 0.358650726232086, 0.4090677084125783, 0.4090677084125783, 0.20347058332905155, 0.4069411666581031, 0.4069411666581031, 0.06818651897199403, 0.06818651897199403, 0.06818651897199403, 0.06818651897199403, 0.13637303794398806, 0.06818651897199403, 0.13637303794398806, 0.06818651897199403, 0.06818651897199403, 0.06818651897199403, 0.06818651897199403, 0.06818651897199403, 0.06818651897199403, 0.44318310884636486, 0.44318310884636486, 0.42508655976238074, 0.42508655976238074, 0.27694246085545127, 0.09231415361848376, 0.09231415361848376, 0.09231415361848376, 0.09231415361848376, 0.09231415361848376, 0.18462830723696752, 0.09231415361848376, 0.09231415361848376, 0.6691213485103579, 0.6233732887719936, 0.2561356980984946, 0.2561356980984946, 0.2561356980984946, 0.2561356980984946, 0.13534921623818902, 0.13534921623818902, 0.27069843247637804, 0.13534921623818902, 0.13534921623818902, 0.13534921623818902, 0.41185494102196313, 0.41185494102196313, 0.23071148118340185, 0.23071148118340185, 0.23071148118340185, 0.23071148118340185, 0.5571603584761645, 0.5281274644427789, 0.26406373222138946, 0.4017913842669417, 0.4017913842669417, 0.6368160067109783, 0.6691183713255436, 0.5571606942385454, 0.4274370722283832, 0.6558725743826136, 0.6600045566626368, 0.31710492827789644, 0.31710492827789644, 0.7555982260088736, 0.26372155181411544, 0.5274431036282309, 0.26372155181411544, 0.760872636250209, 0.648208647028524, 0.1751629718419167, 0.1751629718419167, 0.1751629718419167, 0.1751629718419167, 0.1751629718419167, 0.1751629718419167, 0.2744543785561077, 0.2744543785561077, 0.2744543785561077, 0.2744543785561077, 0.08018936133968411, 0.16037872267936823, 0.16037872267936823, 0.24056808401905233, 0.08018936133968411, 0.16037872267936823, 0.08018936133968411, 0.08018936133968411, 0.33384955307832415, 0.33384955307832415, 0.33384955307832415, 0.40109035140559995, 0.40109035140559995, 0.517629375323193, 0.517629375323193, 0.5994939643692427, 0.6348818517256791, 0.2069412356854654, 0.4138824713709308, 0.2069412356854654, 0.2069412356854654, 0.40109038401990615, 0.40109038401990615, 0.4369132403210075, 0.13266184780792775, 0.13266184780792775, 0.13266184780792775, 0.13266184780792775, 0.13266184780792775, 0.13266184780792775, 0.13266184780792775, 0.13266184780792775, 0.4359124664502632, 0.4359124664502632, 0.6670764449642133, 0.4274733267437425, 0.4274733267437425, 0.17456666596237508, 0.08728333298118754, 0.17456666596237508, 0.17456666596237508, 0.08728333298118754, 0.08728333298118754, 0.08728333298118754, 0.08728333298118754, 0.08728333298118754, 0.3204085594064789, 0.3204085594064789, 0.3204085594064789, 0.23113800659125963, 0.46227601318251926, 0.23113800659125963, 0.6337651396988717, 0.6670763844653619, 0.3975548135905214, 0.3975548135905214, 0.6167127791572973, 0.2837420911772795, 0.567484182354559, 0.5571626693195663, 0.5818177598204234, 0.6348698138445031, 0.11278982377952551, 0.11278982377952551, 0.0375966079265085, 0.075193215853017, 0.0375966079265085, 0.0375966079265085, 0.0375966079265085, 0.0375966079265085, 0.150386431706034, 0.0375966079265085, 0.075193215853017, 0.075193215853017, 0.0375966079265085, 0.0375966079265085, 0.0375966079265085, 0.0375966079265085, 0.0375966079265085, 0.0375966079265085, 0.2446008212458497, 0.2446008212458497, 0.2446008212458497, 0.2446008212458497, 0.4065375355774387, 0.4065375355774387, 0.776606857015716, 0.6040892251662564, 0.6167035698130521, 0.5571602794733101, 0.17895885074492368, 0.17895885074492368, 0.17895885074492368, 0.17895885074492368, 0.17895885074492368, 0.17895885074492368, 0.6691209820861818, 0.4118562542874259, 0.4118562542874259, 0.2966700841611202, 0.2966700841611202, 0.2966700841611202, 0.1567522366941673, 0.1567522366941673, 0.3135044733883346, 0.1567522366941673, 0.3135044733883346, 0.3106693883973447, 0.3106693883973447, 0.3106693883973447, 0.29179653325157634, 0.29179653325157634, 0.29179653325157634, 0.4218131540593862, 0.4218131540593862, 0.6482004679874667, 0.6166996230354297, 0.3014086489526963, 0.3014086489526963, 0.17536191899057166, 0.17536191899057166, 0.17536191899057166, 0.17536191899057166, 0.17536191899057166, 0.17536191899057166, 0.3860354121539914, 0.3860354121539914, 0.6218499268434494, 0.2952869634253187, 0.2952869634253187, 0.2952869634253187, 0.2366287981898118, 0.2366287981898118, 0.2366287981898118, 0.2366287981898118, 0.7765975617119847, 0.658992641178195, 0.6167124582695978, 0.667748838634546, 0.41630857356905543, 0.41630857356905543, 0.26877702126912867, 0.26877702126912867, 0.26877702126912867, 0.6537286314099386, 0.6233726205171222, 0.6673820775088983, 0.4159853427007972, 0.4159853427007972, 0.6304094932754293, 0.3333964997808407, 0.16669824989042034, 0.16669824989042034, 0.16669824989042034, 0.4068612881443964, 0.4068612881443964, 0.6380850884033092, 0.5251059833435099, 0.12942559757855426, 0.12942559757855426, 0.12942559757855426, 0.12942559757855426, 0.38827679273566273, 0.7261909825613954, 0.6589097130017304, 0.599496242281772, 0.7765984347420936, 0.4186497208928772, 0.4186497208928772, 0.6231203270199138, 0.597885612483798, 0.41516047770410197, 0.41516047770410197, 0.2546953538847514, 0.2546953538847514, 0.5093907077695028, 0.09400019930687904, 0.18800039861375809, 0.09400019930687904, 0.09400019930687904, 0.09400019930687904, 0.09400019930687904, 0.09400019930687904, 0.09400019930687904, 0.09400019930687904, 0.09400019930687904, 0.09400019930687904, 0.5788444247704554, 0.6380875184390273, 0.42211650762757397, 0.42211650762757397, 0.22816332009155502, 0.22816332009155502, 0.22816332009155502, 0.22816332009155502, 0.22816332009155502, 0.24864228651449022, 0.24864228651449022, 0.24864228651449022, 0.24864228651449022, 0.6167115918744767, 0.6481849502849092, 0.09705856963142168, 0.09705856963142168, 0.09705856963142168, 0.09705856963142168, 0.09705856963142168, 0.09705856963142168, 0.09705856963142168, 0.09705856963142168, 0.09705856963142168, 0.09705856963142168, 0.6537223114590345, 0.5495440994321233, 0.35035171845975493, 0.35035171845975493, 0.35035171845975493, 0.7014499002948896, 0.13267147929113654, 0.13267147929113654, 0.06633573964556827, 0.13267147929113654, 0.06633573964556827, 0.13267147929113654, 0.06633573964556827, 0.06633573964556827, 0.06633573964556827, 0.06633573964556827, 0.06633573964556827, 0.3646100809785001, 0.3646100809785001, 0.3646100809785001, 0.08432453327991167, 0.08432453327991167, 0.16864906655982334, 0.08432453327991167, 0.08432453327991167, 0.08432453327991167, 0.16864906655982334, 0.08432453327991167, 0.08432453327991167, 0.4261089346292484, 0.4261089346292484, 0.07227965034139533, 0.07227965034139533, 0.14455930068279066, 0.07227965034139533, 0.07227965034139533, 0.07227965034139533, 0.07227965034139533, 0.07227965034139533, 0.07227965034139533, 0.07227965034139533, 0.07227965034139533, 0.07227965034139533, 0.07227965034139533, 0.07227965034139533, 0.4118673328737875, 0.4118673328737875, 0.6308298620887003, 0.31541493104435014, 0.2728483623129549, 0.13642418115647745, 0.06821209057823872, 0.06821209057823872, 0.06821209057823872, 0.06821209057823872, 0.06821209057823872, 0.06821209057823872, 0.06821209057823872, 0.06821209057823872, 0.06821209057823872, 0.06821209057823872, 0.06821209057823872, 0.13362405055123883, 0.13362405055123883, 0.13362405055123883, 0.26724810110247765, 0.13362405055123883, 0.13362405055123883, 0.13362405055123883, 0.2660456889724839, 0.2660456889724839, 0.2660456889724839, 0.4118212509107302, 0.4118212509107302, 0.7608952103452419, 0.28660461940606113, 0.14330230970303057, 0.14330230970303057, 0.14330230970303057, 0.14330230970303057, 0.14330230970303057, 0.6558684838627, 0.3153163799151844, 0.3153163799151844, 0.3153163799151844, 0.4458013465027248, 0.4458013465027248, 0.24250720276227097, 0.48501440552454195, 0.24250720276227097, 0.35164064858285793, 0.35164064858285793, 0.35164064858285793, 0.1837225203408188, 0.1837225203408188, 0.1837225203408188, 0.1837225203408188, 0.1837225203408188, 0.5995069777834278, 0.653849897011399, 0.6855956413682781, 0.41387751167702347, 0.41387751167702347, 0.6040913231005018, 0.6157622617161017, 0.7608820650219288, 0.41850583638272076, 0.41850583638272076, 0.7014583533829521, 0.6668086262127064, 0.5684305851457794, 0.435131358535507, 0.435131358535507, 0.26877653950804176, 0.26877653950804176, 0.26877653950804176, 0.5818167695658999, 0.41186117365883385, 0.41186117365883385, 0.09360775569278315, 0.09360775569278315, 0.1872155113855663, 0.09360775569278315, 0.1872155113855663, 0.09360775569278315, 0.09360775569278315, 0.09360775569278315, 0.09360775569278315, 0.5995000953859874, 0.6009456494073829, 0.31236772518019384, 0.31236772518019384, 0.31236772518019384, 0.5994943278647622, 0.24937059974469097, 0.49874119948938195, 0.24937059974469097, 0.6670813454076131, 0.16819231690580347, 0.16819231690580347, 0.16819231690580347, 0.16819231690580347, 0.16819231690580347, 0.16819231690580347, 0.16819231690580347, 0.07954589542850989, 0.23863768628552964, 0.07954589542850989, 0.07954589542850989, 0.07954589542850989, 0.15909179085701977, 0.07954589542850989, 0.15909179085701977, 0.07954589542850989, 0.40108262072910916, 0.40108262072910916, 0.6673711400853247, 0.7765976387439743, 0.7014534709710282, 0.45299994669816473, 0.6368229005219729, 0.46134262239787294, 0.24727760328856685, 0.24727760328856685, 0.24727760328856685, 0.6558790628981678, 0.48529596888311627, 0.11852246957699218, 0.11852246957699218, 0.11852246957699218, 0.11852246957699218, 0.11852246957699218, 0.11852246957699218, 0.11852246957699218, 0.11852246957699218, 0.6040865118595756, 0.46874769393522764, 0.46874769393522764, 0.4389446892999891, 0.4389446892999891, 0.5092974752938079, 0.5994988594792396, 0.6304125117676957, 0.4145724774985879, 0.4145724774985879, 0.4542575117003075, 0.4542575117003075, 0.6348750965994576, 0.1999785076082918, 0.3999570152165836, 0.3999570152165836, 0.4720302519380401, 0.4720302519380401, 0.5973939830618409, 0.19913132768728029, 0.19913132768728029, 0.2923367168606875, 0.2923367168606875, 0.2923367168606875, 0.45627424561912083, 0.45627424561912083, 0.2421181567118527, 0.06052953917796317, 0.06052953917796317, 0.06052953917796317, 0.06052953917796317, 0.06052953917796317, 0.06052953917796317, 0.06052953917796317, 0.06052953917796317, 0.06052953917796317, 0.06052953917796317, 0.06052953917796317, 0.06052953917796317, 0.06052953917796317, 0.06052953917796317, 0.06052953917796317, 0.7020658890934618, 0.3889058273742586, 0.3889058273742586, 0.26877748271011165, 0.26877748271011165, 0.26877748271011165, 0.5053825632818094, 0.20272529528296845, 0.20272529528296845, 0.20272529528296845, 0.20272529528296845, 0.20272529528296845, 0.2724896875245062, 0.1362448437622531, 0.1362448437622531, 0.1362448437622531, 0.1362448437622531, 0.1362448437622531, 0.1362448437622531, 0.6009397053592672, 0.37984934909712026, 0.37984934909712026, 0.6040795748564082, 0.5769050241924273, 0.28845251209621364, 0.7014481149704525, 0.43894366357272446, 0.43894366357272446, 0.6380875829535021, 0.59949192880248, 0.5995000469189601, 0.630413377370076, 0.31558809980550323, 0.15779404990275162, 0.15779404990275162, 0.15779404990275162, 0.31558809980550323, 0.16917052571870544, 0.16917052571870544, 0.16917052571870544, 0.16917052571870544, 0.16917052571870544, 0.16917052571870544, 0.13277908812299824, 0.13277908812299824, 0.2655581762459965, 0.13277908812299824, 0.13277908812299824, 0.13277908812299824, 0.13277908812299824, 0.436910713347894, 0.4630410144665041, 0.4630410144665041, 0.6368296029813144, 0.10885136407279224, 0.10885136407279224, 0.10885136407279224, 0.21770272814558447, 0.10885136407279224, 0.10885136407279224, 0.10885136407279224, 0.10885136407279224, 0.10885136407279224, 0.1036623327035786, 0.1036623327035786, 0.1036623327035786, 0.2073246654071572, 0.1036623327035786, 0.1036623327035786, 0.1036623327035786, 0.1036623327035786, 0.1036623327035786, 0.1036623327035786, 0.17740178819057062, 0.17740178819057062, 0.17740178819057062, 0.17740178819057062, 0.17740178819057062, 0.17740178819057062, 0.6481907191322724, 0.6337569369010955, 0.5695345942733775, 0.28476729713668875, 0.5978897549739712, 0.4030796080162804, 0.4030796080162804, 0.7766057528657814, 0.3349113577531854, 0.3349113577531854, 0.3349113577531854, 0.6348788782977077, 0.43166917750192885, 0.43166917750192885, 0.4118675286420183, 0.4118675286420183, 0.40016983495374236, 0.40016983495374236, 0.6233759618058062, 0.45831259396180224, 0.45831259396180224, 0.6337616746980458, 0.6380792821982209, 0.5495512880363759, 0.16665870676374328, 0.16665870676374328, 0.16665870676374328, 0.16665870676374328, 0.16665870676374328, 0.16665870676374328, 0.6670755677319433, 0.19692954643389726, 0.09846477321694863, 0.09846477321694863, 0.19692954643389726, 0.09846477321694863, 0.09846477321694863, 0.09846477321694863, 0.09846477321694863, 0.09846477321694863, 0.4164690383036521, 0.4164690383036521, 0.45728946550062843, 0.45728946550062843, 0.4542591583584356, 0.4542591583584356, 0.6040829034791741, 0.3043942815087273, 0.3043942815087273, 0.3043942815087273, 0.5495444791072212, 0.7766052649865781, 0.12711173551129512, 0.25422347102259024, 0.12711173551129512, 0.12711173551129512, 0.12711173551129512, 0.12711173551129512, 0.12711173551129512, 0.7556231359247887, 0.6670833721552508, 0.690025833702828, 0.06037498153252538, 0.06037498153252538, 0.06037498153252538, 0.12074996306505076, 0.12074996306505076, 0.18112494459757614, 0.12074996306505076, 0.06037498153252538, 0.06037498153252538, 0.06037498153252538, 0.12074996306505076, 0.06037498153252538, 0.41865411447594963, 0.41865411447594963, 0.3669743403666921, 0.3669743403666921, 0.3669743403666921, 0.6368257346875645, 0.09758734493522478, 0.29276203480567436, 0.09758734493522478, 0.09758734493522478, 0.09758734493522478, 0.09758734493522478, 0.09758734493522478, 0.09758734493522478, 0.09758734493522478, 0.22169955765654398, 0.22169955765654398, 0.22169955765654398, 0.44339911531308795, 0.13526515366195377, 0.06763257683097688, 0.06763257683097688, 0.06763257683097688, 0.13526515366195377, 0.06763257683097688, 0.13526515366195377, 0.06763257683097688, 0.06763257683097688, 0.06763257683097688, 0.06763257683097688, 0.06763257683097688, 0.06763257683097688, 0.04977016422377003, 0.04977016422377003, 0.04977016422377003, 0.04977016422377003, 0.04977016422377003, 0.04977016422377003, 0.04977016422377003, 0.04977016422377003, 0.04977016422377003, 0.09954032844754006, 0.09954032844754006, 0.09954032844754006, 0.04977016422377003, 0.04977016422377003, 0.04977016422377003, 0.04977016422377003, 0.04977016422377003, 0.04977016422377003, 0.04977016422377003, 0.7935940891101856, 0.32858213694748345, 0.32858213694748345, 0.32858213694748345, 0.4002930261675981, 0.4002930261675981, 0.37215078975069593, 0.37215078975069593, 0.6783523777711326, 0.45893085460845007, 0.45893085460845007, 0.3972441692609981, 0.3972441692609981, 0.30566395632951837, 0.30566395632951837, 0.30566395632951837, 0.5994941824665015, 0.41444812424937855, 0.41444812424937855, 0.07116319278017716, 0.14232638556035432, 0.14232638556035432, 0.07116319278017716, 0.14232638556035432, 0.14232638556035432, 0.07116319278017716, 0.07116319278017716, 0.07116319278017716, 0.07116319278017716, 0.23507840728315346, 0.23507840728315346, 0.23507840728315346, 0.23507840728315346, 0.6558748312430278, 0.5571738880454222, 0.6380870668380688, 0.6348756739550551, 0.7261899878274761, 0.6167169828170019, 0.5695509761671474, 0.2847754880835737, 0.604080553859296, 0.2362579256941533, 0.2362579256941533, 0.2362579256941533, 0.2362579256941533, 0.26811061583132156, 0.26811061583132156, 0.26811061583132156, 0.6558800502922241, 0.3578317295092261, 0.3578317295092261, 0.15819065404400168, 0.07909532702200084, 0.07909532702200084, 0.07909532702200084, 0.07909532702200084, 0.15819065404400168, 0.07909532702200084, 0.15819065404400168, 0.07909532702200084, 0.07909532702200084, 0.07909532702200084, 0.19409964549831227, 0.19409964549831227, 0.19409964549831227, 0.19409964549831227, 0.19409964549831227, 0.43885459985188513, 0.43885459985188513, 0.2284623673421274, 0.2284623673421274, 0.2284623673421274, 0.2284623673421274, 0.16742881649189684, 0.08371440824594842, 0.1255716123689226, 0.04185720412297421, 0.04185720412297421, 0.08371440824594842, 0.04185720412297421, 0.08371440824594842, 0.04185720412297421, 0.04185720412297421, 0.04185720412297421, 0.04185720412297421, 0.08371440824594842, 0.04185720412297421, 0.04185720412297421, 0.08371440824594842, 0.17085669970902667, 0.17085669970902667, 0.17085669970902667, 0.17085669970902667, 0.17085669970902667, 0.17085669970902667, 0.6337598007848139, 0.34521788193738545, 0.34521788193738545, 0.10249471041006444, 0.10249471041006444, 0.10249471041006444, 0.2049894208201289, 0.10249471041006444, 0.2049894208201289, 0.10249471041006444, 0.10249471041006444, 0.10249471041006444, 0.16645416693924395, 0.16645416693924395, 0.16645416693924395, 0.16645416693924395, 0.16645416693924395, 0.16645416693924395, 0.16645416693924395, 0.41515501063582033, 0.41515501063582033, 0.6558768412724107, 0.7608849114895017, 0.272907387206644, 0.272907387206644, 0.136453693603322, 0.272907387206644, 0.136453693603322, 0.6368258878864231, 0.41515977497516265, 0.41515977497516265, 0.6009234914967562, 0.6670759307243268, 0.1890793200102394, 0.06302644000341313, 0.1890793200102394, 0.06302644000341313, 0.1890793200102394, 0.06302644000341313, 0.06302644000341313, 0.06302644000341313, 0.06302644000341313, 0.06302644000341313, 0.42632503970340957, 0.42632503970340957, 0.6481817738115276, 0.389442938672405, 0.389442938672405, 0.1947214693362025, 0.7608711735266875, 0.3326902338025393, 0.16634511690126966, 0.16634511690126966, 0.16634511690126966, 0.16634511690126966, 0.19902606861037359, 0.19902606861037359, 0.19902606861037359, 0.19902606861037359, 0.19902606861037359, 0.17520101080609682, 0.17520101080609682, 0.17520101080609682, 0.17520101080609682, 0.35040202161219364, 0.31387272762156154, 0.15693636381078077, 0.15693636381078077, 0.15693636381078077, 0.15693636381078077], \"Term\": [\"ability\", \"abstraction\", \"accept\", \"access\", \"access\", \"access\", \"access\", \"access\", \"access\", \"accessibility\", \"accessibility\", \"accord\", \"accountability\", \"acquisition\", \"acquisition\", \"activity\", \"activity\", \"adapt\", \"address\", \"address\", \"address\", \"advanced\", \"advanced\", \"advanced\", \"advanced\", \"advanced\", \"advanced\", \"advanced\", \"advanced\", \"agile\", \"ajax\", \"ajax\", \"ajax\", \"ajax\", \"algorithm\", \"allow\", \"alter\", \"analyse\", \"analyse\", \"analyse\", \"analyse\", \"analyse\", \"analyse\", \"analyse\", \"analyse\", \"analyse\", \"analyse\", \"analyse\", \"analyse\", \"analysis\", \"analysis\", \"analysis\", \"analysis\", \"analysis\", \"analysis\", \"analyst\", \"analytic\", \"analytic\", \"analytic\", \"analytic\", \"analytic\", \"analytic\", \"analytical\", \"analytical\", \"application\", \"application\", \"application\", \"application\", \"application\", \"application\", \"application\", \"application\", \"application\", \"application\", \"application\", \"application\", \"application\", \"application\", \"apply\", \"apply\", \"apply\", \"apply\", \"apply\", \"apply\", \"apply\", \"apply\", \"apply\", \"apply\", \"apply\", \"apply\", \"apply\", \"apply\", \"apply\", \"apply\", \"apply\", \"apply\", \"apply\", \"apply\", \"apply\", \"apply\", \"apply\", \"appraise\", \"appraise\", \"appraise\", \"appraise\", \"appraise\", \"approach\", \"approach\", \"approach\", \"approach\", \"approach\", \"appropriate\", \"appropriate\", \"appropriate\", \"appropriate\", \"appropriate\", \"appropriate\", \"appropriate\", \"architectural\", \"architecture\", \"architecture\", \"architecture\", \"architecture\", \"area\", \"area\", \"arp\", \"array\", \"articulate\", \"articulate\", \"aspect\", \"aspect\", \"assembly\", \"assembly\", \"assess\", \"assess\", \"assignment\", \"assignment\", \"associate\", \"associate\", \"associate\", \"asynchronous\", \"attack\", \"attack\", \"attribute\", \"attribute\", \"audience\", \"audience\", \"audience\", \"audience\", \"audit\", \"audit\", \"automate\", \"automate\", \"available\", \"available\", \"awareness\", \"awareness\", \"awareness\", \"awareness\", \"awareness\", \"awareness\", \"balance\", \"base\", \"base\", \"base\", \"base\", \"basis\", \"behaviour\", \"behaviour\", \"big\", \"big\", \"break\", \"build\", \"build\", \"building\", \"business\", \"business\", \"business\", \"business\", \"business\", \"business\", \"business\", \"business\", \"business\", \"business\", \"business\", \"call\", \"campus\", \"campus\", \"campus\", \"capital\", \"challenge\", \"challenge\", \"challenge\", \"challenge\", \"challenge\", \"challenge\", \"challenge\", \"challenge\", \"challenge\", \"change\", \"change\", \"characteristic\", \"choice\", \"choice\", \"class\", \"client\", \"client\", \"client\", \"cloud\", \"cloud\", \"cloud\", \"code\", \"code\", \"code\", \"code\", \"code\", \"code\", \"code\", \"code\", \"code\", \"cognition\", \"coherent\", \"coherent\", \"coherent\", \"coherent\", \"coherent\", \"collaboratively\", \"collaboratively\", \"collection\", \"command\", \"command\", \"comment\", \"comment\", \"commercial\", \"commercial\", \"common\", \"common\", \"communicate\", \"communicate\", \"communicate\", \"communicate\", \"communicate\", \"communicate\", \"communicate\", \"communicate\", \"communication\", \"communication\", \"communication\", \"communication\", \"communication\", \"comparative\", \"compete\", \"complex\", \"complex\", \"complex\", \"component\", \"component\", \"component\", \"computer\", \"computer\", \"computer\", \"computing\", \"concept\", \"concept\", \"concept\", \"concept\", \"concept\", \"concept\", \"concept\", \"concept\", \"condition\", \"conduct\", \"conduct\", \"conduct\", \"conduct\", \"conduct\", \"configurable\", \"configuration\", \"configure\", \"configure\", \"configure\", \"configure\", \"configure\", \"conjunction\", \"connectivity\", \"construct\", \"construct\", \"construct\", \"construct\", \"construct\", \"construct\", \"construction\", \"contact\", \"contemporary\", \"contemporary\", \"context\", \"context\", \"context\", \"context\", \"context\", \"context\", \"context\", \"contexts\", \"control\", \"control\", \"corporate\", \"corporation\", \"correct\", \"correct\", \"corruption\", \"cost\", \"cover\", \"cpu\", \"create\", \"create\", \"create\", \"create\", \"create\", \"create\", \"create\", \"critical\", \"critical\", \"critical\", \"critically\", \"critically\", \"critically\", \"critically\", \"critically\", \"critically\", \"critically\", \"critically\", \"critically\", \"critically\", \"critically\", \"critically\", \"critically\", \"critically\", \"css\", \"cultural\", \"cultural\", \"cultural\", \"cultural\", \"cultural\", \"current\", \"current\", \"custom\", \"customer\", \"cybersecurity\", \"dashboard\", \"data\", \"data\", \"data\", \"data\", \"data\", \"data\", \"data\", \"database\", \"database\", \"database\", \"database\", \"database\", \"database\", \"database\", \"database\", \"dataset\", \"datum\", \"datum\", \"datum\", \"datum\", \"datum\", \"datum\", \"datum\", \"datum\", \"datum\", \"datum\", \"datum\", \"datum\", \"datum\", \"datum\", \"debt\", \"debug\", \"debug\", \"decision\", \"decision\", \"decision\", \"decision\", \"decision\", \"decomposition\", \"deficiency\", \"define\", \"demonstrate\", \"demonstrate\", \"demonstrate\", \"demonstrate\", \"demonstrate\", \"demonstrate\", \"demonstrate\", \"demonstrate\", \"demonstrate\", \"demonstrate\", \"demonstrate\", \"demonstrate\", \"demonstrate\", \"demonstrate\", \"demonstrate\", \"dependency\", \"deploy\", \"deploy\", \"deploy\", \"derive\", \"describe\", \"describe\", \"describe\", \"describe\", \"describe\", \"describe\", \"describe\", \"describe\", \"describe\", \"describe\", \"describe\", \"describe\", \"describe\", \"describe\", \"description\", \"descriptive\", \"design\", \"design\", \"design\", \"design\", \"design\", \"design\", \"design\", \"design\", \"design\", \"design\", \"design\", \"design\", \"design\", \"design\", \"design\", \"design\", \"design\", \"design\", \"design\", \"design\", \"desirable\", \"desire\", \"detect\", \"determine\", \"determine\", \"develop\", \"develop\", \"develop\", \"develop\", \"develop\", \"develop\", \"develop\", \"develop\", \"develop\", \"develop\", \"develop\", \"develop\", \"development\", \"development\", \"development\", \"development\", \"development\", \"dhcp\", \"diagnostic\", \"diagram\", \"difference\", \"different\", \"different\", \"different\", \"different\", \"different\", \"different\", \"different\", \"direct\", \"disaster\", \"discover\", \"discuss\", \"discuss\", \"disseminate\", \"district\", \"diverse\", \"diverse\", \"diverse\", \"diverse\", \"documentation\", \"documentation\", \"domain\", \"drive\", \"drive\", \"drive\", \"dynamic\", \"dynamic\", \"dynamic\", \"dynamic\", \"dynamic\", \"effect\", \"effective\", \"effective\", \"effective\", \"effective\", \"effective\", \"effective\", \"effective\", \"effective\", \"effectively\", \"effectively\", \"effectively\", \"effectively\", \"element\", \"elicitation\", \"eliminate\", \"embed\", \"emerge\", \"emerge\", \"enable\", \"encapsulation\", \"engineering\", \"enhance\", \"enterprise\", \"entrepreneurial\", \"environment\", \"environment\", \"environment\", \"environment\", \"equity\", \"error\", \"escalation\", \"ethic\", \"ethic\", \"ethical\", \"ethical\", \"ethical\", \"ethical\", \"ethical\", \"evaluate\", \"evaluate\", \"evaluate\", \"evaluate\", \"evaluate\", \"evaluate\", \"evaluate\", \"evaluate\", \"evaluate\", \"evaluate\", \"evaluate\", \"evaluate\", \"evaluate\", \"evaluate\", \"evaluate\", \"evaluation\", \"evaluation\", \"evaluation\", \"evaluation\", \"evaluation\", \"evidence\", \"execute\", \"execute\", \"execution\", \"execution\", \"exhibit\", \"explain\", \"explain\", \"explain\", \"explain\", \"explain\", \"explain\", \"explain\", \"explain\", \"explain\", \"explore\", \"face\", \"face\", \"facilitate\", \"facilitate\", \"facilitate\", \"facilitate\", \"facilitate\", \"factor\", \"factor\", \"feature\", \"field\", \"file\", \"finance\", \"financial\", \"financial\", \"financial\", \"financial\", \"financing\", \"financing\", \"find\", \"find\", \"firm\", \"flaw\", \"flaw\", \"flow\", \"focus\", \"forensic\", \"forward\", \"framework\", \"framework\", \"friendly\", \"function\", \"function\", \"function\", \"function\", \"function\", \"function\", \"functional\", \"functional\", \"functionality\", \"functionally\", \"fundamental\", \"fundamental\", \"fundamental\", \"fundamental\", \"fundamental\", \"fundamental\", \"fundamental\", \"fundamental\", \"fundamental\", \"fundamental\", \"future\", \"future\", \"gadget\", \"generate\", \"generate\", \"generate\", \"give\", \"give\", \"give\", \"global\", \"good\", \"good\", \"good\", \"group\", \"group\", \"group\", \"group\", \"guide\", \"guideline\", \"handle\", \"hardware\", \"high\", \"history\", \"host\", \"html\", \"human\", \"human\", \"human\", \"human\", \"hypothesis\", \"ict\", \"ict\", \"ict\", \"identify\", \"identify\", \"identify\", \"identify\", \"identify\", \"identify\", \"identify\", \"idiom\", \"impact\", \"impact\", \"impact\", \"impact\", \"impact\", \"implement\", \"implement\", \"implement\", \"implement\", \"implement\", \"implement\", \"implement\", \"implement\", \"implement\", \"implement\", \"implement\", \"implement\", \"implementation\", \"implementation\", \"important\", \"improve\", \"improve\", \"improvement\", \"incident\", \"include\", \"include\", \"include\", \"include\", \"include\", \"include\", \"include\", \"include\", \"increase\", \"independence\", \"independence\", \"independence\", \"independent\", \"independent\", \"independently\", \"independently\", \"indirect\", \"individual\", \"individual\", \"industry\", \"industry\", \"industry\", \"industry\", \"influence\", \"information\", \"information\", \"information\", \"information\", \"information\", \"infrastructure\", \"infrastructure\", \"infrastructure\", \"inheritance\", \"initiate\", \"inject\", \"inner\", \"innovation\", \"innovative\", \"innovative\", \"innovative\", \"insight\", \"insight\", \"install\", \"instruction\", \"integrate\", \"integrate\", \"integrate\", \"integrity\", \"intellectual\", \"intellectual\", \"interaction\", \"interaction\", \"interactive\", \"interactive\", \"interactive\", \"interface\", \"interface\", \"interface\", \"internal\", \"internet\", \"internet\", \"internet\", \"internet\", \"interpret\", \"interpret\", \"interpret\", \"interpret\", \"intranet\", \"investment\", \"ip\", \"ip\", \"ip\", \"ip\", \"issue\", \"issue\", \"issue\", \"issue\", \"issue\", \"issue\", \"issue\", \"issue\", \"iterate\", \"javascript\", \"javascript\", \"justify\", \"justify\", \"key\", \"key\", \"key\", \"knowledge\", \"knowledge\", \"knowledge\", \"knowledge\", \"knowledge\", \"knowledge\", \"knowledge\", \"knowledge\", \"knowledge\", \"knowledge\", \"knowledge\", \"knowledge\", \"knowledge\", \"laboratory\", \"laboratory\", \"lan\", \"lan\", \"language\", \"language\", \"language\", \"language\", \"language\", \"language\", \"language\", \"language\", \"language\", \"layer\", \"lead\", \"leader\", \"leader\", \"leader\", \"leader\", \"learn\", \"learn\", \"learn\", \"learn\", \"learn\", \"learn\", \"legislative\", \"legislative\", \"level\", \"level\", \"level\", \"level\", \"library\", \"life\", \"life\", \"lifecycle\", \"lifecycle\", \"line\", \"link\", \"list\", \"locate\", \"log\", \"logic\", \"long\", \"long\", \"loop\", \"machine\", \"machine\", \"machine\", \"maintain\", \"major\", \"make\", \"make\", \"make\", \"make\", \"make\", \"make\", \"manage\", \"manage\", \"manage\", \"manage\", \"management\", \"management\", \"management\", \"management\", \"management\", \"management\", \"management\", \"management\", \"manipulate\", \"manipulate\", \"manipulate\", \"mark\", \"mark\", \"market\", \"market\", \"measure\", \"mechanism\", \"member\", \"member\", \"member\", \"member\", \"memory\", \"memory\", \"mentor\", \"method\", \"method\", \"method\", \"method\", \"method\", \"method\", \"method\", \"method\", \"methodology\", \"methodology\", \"mitigate\", \"mitigation\", \"mitigation\", \"model\", \"model\", \"model\", \"model\", \"model\", \"model\", \"model\", \"model\", \"model\", \"modelling\", \"modelling\", \"modelling\", \"modern\", \"modern\", \"modern\", \"modify\", \"modular\", \"monitor\", \"monitor\", \"monitoring\", \"multi\", \"multi\", \"multiple\", \"mysql\", \"necessary\", \"network\", \"network\", \"network\", \"network\", \"network\", \"network\", \"network\", \"network\", \"network\", \"network\", \"network\", \"network\", \"network\", \"network\", \"network\", \"network\", \"network\", \"network\", \"networking\", \"networking\", \"networking\", \"networking\", \"non\", \"non\", \"norm\", \"normal\", \"normalization\", \"object\", \"object_oriente\", \"object_oriente\", \"object_oriente\", \"object_oriente\", \"object_oriente\", \"object_oriente\", \"object_oriented\", \"obligation\", \"obligation\", \"operate\", \"operate\", \"operate\", \"operating\", \"operating\", \"operating\", \"operating\", \"operating\", \"operation\", \"operation\", \"operation\", \"opportunity\", \"opportunity\", \"opportunity\", \"option\", \"option\", \"oral\", \"order\", \"organisation\", \"organisation\", \"organisational\", \"organisational\", \"organisational\", \"organisational\", \"organisational\", \"organisational\", \"organise\", \"organise\", \"original\", \"osi\", \"osi\", \"osi\", \"page\", \"page\", \"page\", \"page\", \"paradigm\", \"parameter\", \"participant\", \"pass\", \"pattern\", \"pattern\", \"peer\", \"peer\", \"peer\", \"penetration\", \"perception\", \"perform\", \"performance\", \"performance\", \"personal\", \"perspective\", \"perspective\", \"perspective\", \"perspective\", \"php\", \"php\", \"physical\", \"piece\", \"plan\", \"plan\", \"plan\", \"plan\", \"plan\", \"platform\", \"pointer\", \"policy\", \"polymorphism\", \"popular\", \"popular\", \"possible\", \"post\", \"potential\", \"potential\", \"practical\", \"practical\", \"practical\", \"practice\", \"practice\", \"practice\", \"practice\", \"practice\", \"practice\", \"practice\", \"practice\", \"practice\", \"practice\", \"practice\", \"predictive\", \"prepare\", \"prescriptive\", \"prescriptive\", \"present\", \"present\", \"present\", \"present\", \"present\", \"presentation\", \"presentation\", \"presentation\", \"presentation\", \"prevent\", \"price\", \"principle\", \"principle\", \"principle\", \"principle\", \"principle\", \"principle\", \"principle\", \"principle\", \"principle\", \"principle\", \"prioritise\", \"priority\", \"privacy\", \"privacy\", \"privacy\", \"privilege\", \"problem\", \"problem\", \"problem\", \"problem\", \"problem\", \"problem\", \"problem\", \"problem\", \"problem\", \"problem\", \"problem\", \"procedure\", \"procedure\", \"procedure\", \"process\", \"process\", \"process\", \"process\", \"process\", \"process\", \"process\", \"process\", \"process\", \"processing\", \"processing\", \"professional\", \"professional\", \"professional\", \"professional\", \"professional\", \"professional\", \"professional\", \"professional\", \"professional\", \"professional\", \"professional\", \"professional\", \"professional\", \"professional\", \"professionalism\", \"professionalism\", \"proficiently\", \"proficiently\", \"program\", \"program\", \"program\", \"program\", \"program\", \"program\", \"program\", \"program\", \"program\", \"program\", \"program\", \"program\", \"program\", \"programming\", \"programming\", \"programming\", \"programming\", \"programming\", \"programming\", \"programming\", \"project\", \"project\", \"project\", \"propose\", \"propose\", \"protect\", \"protocol\", \"protocol\", \"protocol\", \"protocol\", \"protocol\", \"protocol\", \"prototype\", \"provide\", \"provide\", \"provide\", \"purpose\", \"purpose\", \"quality\", \"quality\", \"quality\", \"query\", \"query\", \"query\", \"range\", \"range\", \"range\", \"range\", \"range\", \"rate\", \"readiness\", \"reading\", \"real\", \"real\", \"realisation\", \"reason\", \"recommend\", \"recommendation\", \"recommendation\", \"recovery\", \"reference\", \"referencing\", \"reflect\", \"reflect\", \"reflective\", \"reflective\", \"reflective\", \"regard\", \"regulatory\", \"regulatory\", \"relate\", \"relate\", \"relate\", \"relate\", \"relate\", \"relate\", \"relate\", \"relate\", \"relate\", \"relation\", \"relational\", \"relevant\", \"relevant\", \"relevant\", \"reliable\", \"report\", \"report\", \"report\", \"represent\", \"requirement\", \"requirement\", \"requirement\", \"requirement\", \"requirement\", \"requirement\", \"requirement\", \"research\", \"research\", \"research\", \"research\", \"research\", \"research\", \"research\", \"research\", \"research\", \"resolve\", \"resolve\", \"resource\", \"respect\", \"response\", \"result\", \"retrieval\", \"reverse\", \"review\", \"review\", \"review\", \"rip\", \"risk\", \"role\", \"role\", \"role\", \"role\", \"role\", \"role\", \"role\", \"role\", \"rop\", \"route\", \"route\", \"router\", \"router\", \"routing\", \"scalable\", \"scale\", \"scenario\", \"scenario\", \"scheme\", \"scheme\", \"scholarly\", \"science\", \"science\", \"science\", \"script\", \"script\", \"scripting\", \"scripting\", \"scripting\", \"sdn\", \"sdn\", \"sdn\", \"secure\", \"secure\", \"security\", \"security\", \"security\", \"security\", \"security\", \"security\", \"security\", \"security\", \"security\", \"security\", \"security\", \"security\", \"security\", \"security\", \"security\", \"security\", \"segmentation\", \"select\", \"select\", \"self\", \"self\", \"self\", \"semi\", \"server\", \"server\", \"server\", \"server\", \"server\", \"service\", \"service\", \"service\", \"service\", \"service\", \"service\", \"service\", \"set\", \"shell\", \"shell\", \"short\", \"side\", \"side\", \"signal\", \"simple\", \"simple\", \"simulated\", \"single\", \"site\", \"size\", \"skill\", \"skill\", \"skill\", \"skill\", \"skill\", \"small\", \"small\", \"small\", \"small\", \"small\", \"small\", \"social\", \"social\", \"social\", \"social\", \"social\", \"social\", \"social\", \"society\", \"socio\", \"socio\", \"socket\", \"software\", \"software\", \"software\", \"software\", \"software\", \"software\", \"software\", \"software\", \"software\", \"solution\", \"solution\", \"solution\", \"solution\", \"solution\", \"solution\", \"solution\", \"solution\", \"solution\", \"solution\", \"solve\", \"solve\", \"solve\", \"solve\", \"solve\", \"solve\", \"solving\", \"source\", \"span\", \"span\", \"specialist\", \"specific\", \"specific\", \"specifically\", \"specification\", \"specification\", \"specification\", \"spreadsheet\", \"stakeholder\", \"stakeholder\", \"standard\", \"standard\", \"startup\", \"startup\", \"state\", \"static\", \"static\", \"statistical\", \"storage\", \"strategic\", \"strategy\", \"strategy\", \"strategy\", \"strategy\", \"strategy\", \"strategy\", \"stream\", \"structure\", \"structure\", \"structure\", \"structure\", \"structure\", \"structure\", \"structure\", \"structure\", \"structure\", \"structured\", \"structured\", \"style\", \"style\", \"subnet\", \"subnet\", \"subvert\", \"suitable\", \"suitable\", \"suitable\", \"support\", \"sustainable\", \"switch\", \"switch\", \"switch\", \"switch\", \"switch\", \"switch\", \"switch\", \"switched\", \"syntactical\", \"syntax\", \"system\", \"system\", \"system\", \"system\", \"system\", \"system\", \"system\", \"system\", \"system\", \"system\", \"system\", \"system\", \"systematic\", \"systematic\", \"task\", \"task\", \"task\", \"tcp\", \"team\", \"team\", \"team\", \"team\", \"team\", \"team\", \"team\", \"team\", \"team\", \"technical\", \"technical\", \"technical\", \"technical\", \"technique\", \"technique\", \"technique\", \"technique\", \"technique\", \"technique\", \"technique\", \"technique\", \"technique\", \"technique\", \"technique\", \"technique\", \"technique\", \"technology\", \"technology\", \"technology\", \"technology\", \"technology\", \"technology\", \"technology\", \"technology\", \"technology\", \"technology\", \"technology\", \"technology\", \"technology\", \"technology\", \"technology\", \"technology\", \"technology\", \"technology\", \"technology\", \"term\", \"test\", \"test\", \"test\", \"testing\", \"testing\", \"text\", \"text\", \"textual\", \"theoretical\", \"theoretical\", \"theory\", \"theory\", \"thinking\", \"thinking\", \"thinking\", \"thread\", \"threat\", \"threat\", \"tool\", \"tool\", \"tool\", \"tool\", \"tool\", \"tool\", \"tool\", \"tool\", \"tool\", \"tool\", \"topic\", \"topic\", \"topic\", \"topic\", \"traditional\", \"traffic\", \"transaction\", \"transform\", \"transition\", \"treatment\", \"tree\", \"tree\", \"trend\", \"troubleshoot\", \"troubleshoot\", \"troubleshoot\", \"troubleshoot\", \"type\", \"type\", \"type\", \"udp\", \"unauthorised\", \"unauthorised\", \"understand\", \"understand\", \"understand\", \"understand\", \"understand\", \"understand\", \"understand\", \"understand\", \"understand\", \"understand\", \"understand\", \"understanding\", \"understanding\", \"understanding\", \"understanding\", \"understanding\", \"unstructured\", \"unstructured\", \"usability\", \"usability\", \"usability\", \"usability\", \"use\", \"use\", \"use\", \"use\", \"use\", \"use\", \"use\", \"use\", \"use\", \"use\", \"use\", \"use\", \"use\", \"use\", \"use\", \"use\", \"user\", \"user\", \"user\", \"user\", \"user\", \"user\", \"utility\", \"value\", \"value\", \"variety\", \"variety\", \"variety\", \"variety\", \"variety\", \"variety\", \"variety\", \"variety\", \"variety\", \"various\", \"various\", \"various\", \"various\", \"various\", \"various\", \"various\", \"verify\", \"verify\", \"violation\", \"virtualisation\", \"visualisation\", \"visualisation\", \"visualisation\", \"visualisation\", \"visualisation\", \"vlan\", \"vulnerability\", \"vulnerability\", \"vulnerable\", \"way\", \"web\", \"web\", \"web\", \"web\", \"web\", \"web\", \"web\", \"web\", \"web\", \"web\", \"webpage\", \"webpage\", \"well\", \"wide\", \"wide\", \"wide\", \"window\", \"work\", \"work\", \"work\", \"work\", \"work\", \"working\", \"working\", \"working\", \"working\", \"working\", \"world\", \"world\", \"world\", \"world\", \"world\", \"write\", \"write\", \"write\", \"write\", \"write\"]}, \"R\": 30, \"lambda.step\": 0.01, \"plot.opts\": {\"xlab\": \"PC1\", \"ylab\": \"PC2\"}, \"topic.order\": [6, 17, 30, 3, 29, 28, 26, 23, 8, 25, 5, 15, 20, 4, 9, 7, 12, 2, 31, 21, 27, 11, 10, 18, 14, 24, 32, 13, 1, 22, 16, 19]};\n",
       "\n",
       "function LDAvis_load_lib(url, callback){\n",
       "  var s = document.createElement('script');\n",
       "  s.src = url;\n",
       "  s.async = true;\n",
       "  s.onreadystatechange = s.onload = callback;\n",
       "  s.onerror = function(){console.warn(\"failed to load library \" + url);};\n",
       "  document.getElementsByTagName(\"head\")[0].appendChild(s);\n",
       "}\n",
       "\n",
       "if(typeof(LDAvis) !== \"undefined\"){\n",
       "   // already loaded: just create the visualization\n",
       "   !function(LDAvis){\n",
       "       new LDAvis(\"#\" + \"ldavis_el1402824223963745927545192180\", ldavis_el1402824223963745927545192180_data);\n",
       "   }(LDAvis);\n",
       "}else if(typeof define === \"function\" && define.amd){\n",
       "   // require.js is available: use it to load d3/LDAvis\n",
       "   require.config({paths: {d3: \"https://cdnjs.cloudflare.com/ajax/libs/d3/3.5.5/d3.min\"}});\n",
       "   require([\"d3\"], function(d3){\n",
       "      window.d3 = d3;\n",
       "      LDAvis_load_lib(\"https://cdn.rawgit.com/bmabey/pyLDAvis/files/ldavis.v1.0.0.js\", function(){\n",
       "        new LDAvis(\"#\" + \"ldavis_el1402824223963745927545192180\", ldavis_el1402824223963745927545192180_data);\n",
       "      });\n",
       "    });\n",
       "}else{\n",
       "    // require.js not available: dynamically load d3 & LDAvis\n",
       "    LDAvis_load_lib(\"https://cdnjs.cloudflare.com/ajax/libs/d3/3.5.5/d3.min.js\", function(){\n",
       "         LDAvis_load_lib(\"https://cdn.rawgit.com/bmabey/pyLDAvis/files/ldavis.v1.0.0.js\", function(){\n",
       "                 new LDAvis(\"#\" + \"ldavis_el1402824223963745927545192180\", ldavis_el1402824223963745927545192180_data);\n",
       "            })\n",
       "         });\n",
       "}\n",
       "</script>"
      ],
      "text/plain": [
       "PreparedData(topic_coordinates=              x         y  topics  cluster      Freq\n",
       "topic                                               \n",
       "5     -0.142941 -0.020577       1        1  6.968226\n",
       "16    -0.052408 -0.154512       2        1  4.382825\n",
       "29    -0.070217 -0.045714       3        1  4.359551\n",
       "2     -0.051304  0.039797       4        1  4.330817\n",
       "28    -0.097447  0.149214       5        1  4.318768\n",
       "27    -0.109227 -0.072835       6        1  4.235831\n",
       "25    -0.048081  0.037012       7        1  4.231372\n",
       "22    -0.037315  0.111741       8        1  3.960785\n",
       "7     -0.075054  0.075821       9        1  3.826337\n",
       "24    -0.107785  0.133833      10        1  3.700758\n",
       "4     -0.018520  0.033442      11        1  3.528513\n",
       "14    -0.043292 -0.126829      12        1  3.512532\n",
       "19     0.203642  0.042437      13        1  3.462883\n",
       "3      0.023360 -0.030349      14        1  3.387326\n",
       "8      0.023822 -0.025330      15        1  3.287583\n",
       "6      0.116444 -0.084050      16        1  3.273388\n",
       "11    -0.006458 -0.005957      17        1  2.885745\n",
       "1      0.006787 -0.072088      18        1  2.729164\n",
       "30    -0.051190  0.002374      19        1  2.691432\n",
       "20     0.146872  0.066575      20        1  2.681626\n",
       "26    -0.087874 -0.047687      21        1  2.643072\n",
       "10     0.022939 -0.058783      22        1  2.439937\n",
       "9      0.028256  0.094589      23        1  2.274298\n",
       "17     0.045975  0.097350      24        1  2.245197\n",
       "13     0.063990 -0.171945      25        1  2.199946\n",
       "23     0.078664 -0.022478      26        1  2.123379\n",
       "31    -0.036944 -0.035988      27        1  1.874376\n",
       "12    -0.010080 -0.048700      28        1  1.854727\n",
       "0      0.030556 -0.000859      29        1  1.772207\n",
       "21     0.149047  0.029387      30        1  1.720214\n",
       "15     0.086607  0.048926      31        1  1.615985\n",
       "18     0.019176  0.062183      32        1  1.481200, topic_info=            Term       Freq      Total Category  logprob  loglift\n",
       "81       network  26.000000  26.000000  Default   30.000  30.0000\n",
       "17         datum  20.000000  20.000000  Default   29.000  29.0000\n",
       "69        design  36.000000  36.000000  Default   28.000  28.0000\n",
       "83    management  12.000000  12.000000  Default   27.000  27.0000\n",
       "257      problem  15.000000  15.000000  Default   26.000  26.0000\n",
       "..           ...        ...        ...      ...      ...      ...\n",
       "184       medium   0.021361   1.199044  Topic32   -7.273   0.1846\n",
       "383       object   0.021361   1.794816  Topic32   -7.273  -0.2188\n",
       "397    associate   0.021361   2.831115  Topic32   -7.273  -0.6745\n",
       "371  inheritance   0.021361   1.287669  Topic32   -7.273   0.1133\n",
       "373     paradigm   0.021361   1.287668  Topic32   -7.273   0.1133\n",
       "\n",
       "[1381 rows x 6 columns], token_table=      Topic      Freq         Term\n",
       "term                              \n",
       "412       1  0.599500      ability\n",
       "369      25  0.776604  abstraction\n",
       "389      27  0.726187       accept\n",
       "15        1  0.152332       access\n",
       "15        2  0.304663       access\n",
       "...     ...       ...          ...\n",
       "202       2  0.313873        write\n",
       "202       3  0.156936        write\n",
       "202      19  0.156936        write\n",
       "202      22  0.156936        write\n",
       "202      24  0.156936        write\n",
       "\n",
       "[1654 rows x 3 columns], R=30, lambda_step=0.01, plot_opts={'xlab': 'PC1', 'ylab': 'PC2'}, topic_order=[6, 17, 30, 3, 29, 28, 26, 23, 8, 25, 5, 15, 20, 4, 9, 7, 12, 2, 31, 21, 27, 11, 10, 18, 14, 24, 32, 13, 1, 22, 16, 19])"
      ]
     },
     "execution_count": 20,
     "metadata": {},
     "output_type": "execute_result"
    }
   ],
   "source": [
    "# Visualize the topics\n",
    "pyLDAvis.enable_notebook()\n",
    "vis = pyLDAvis.gensim.prepare(optimal_model, corpus, id2word)\n",
    "vis"
   ]
  },
  {
   "cell_type": "markdown",
   "metadata": {},
   "source": [
    "###  finding the optimal number of topics for LDA <a name=\"a9\"></a>"
   ]
  },
  {
   "cell_type": "code",
   "execution_count": 21,
   "metadata": {
    "slideshow": {
     "slide_type": "slide"
    }
   },
   "outputs": [
    {
     "data": {
      "text/html": [
       "<div>\n",
       "<style scoped>\n",
       "    .dataframe tbody tr th:only-of-type {\n",
       "        vertical-align: middle;\n",
       "    }\n",
       "\n",
       "    .dataframe tbody tr th {\n",
       "        vertical-align: top;\n",
       "    }\n",
       "\n",
       "    .dataframe thead th {\n",
       "        text-align: right;\n",
       "    }\n",
       "</style>\n",
       "<table border=\"1\" class=\"dataframe\">\n",
       "  <thead>\n",
       "    <tr style=\"text-align: right;\">\n",
       "      <th></th>\n",
       "      <th>Document_No</th>\n",
       "      <th>Dominant_Topic</th>\n",
       "      <th>Topic_Perc_Contrib</th>\n",
       "      <th>Keywords</th>\n",
       "      <th>Text</th>\n",
       "    </tr>\n",
       "  </thead>\n",
       "  <tbody>\n",
       "    <tr>\n",
       "      <th>0</th>\n",
       "      <td>0</td>\n",
       "      <td>2.0</td>\n",
       "      <td>0.9193</td>\n",
       "      <td>web, describe, tool, critically, evaluate, ana...</td>\n",
       "      <td>Describe the role of networking in the context...</td>\n",
       "    </tr>\n",
       "    <tr>\n",
       "      <th>1</th>\n",
       "      <td>1</td>\n",
       "      <td>16.0</td>\n",
       "      <td>0.8616</td>\n",
       "      <td>program, scripting, language, problem, applica...</td>\n",
       "      <td>Demonstrate the use of mark up and presentatio...</td>\n",
       "    </tr>\n",
       "    <tr>\n",
       "      <th>2</th>\n",
       "      <td>2</td>\n",
       "      <td>16.0</td>\n",
       "      <td>0.8789</td>\n",
       "      <td>program, scripting, language, problem, applica...</td>\n",
       "      <td>Demonstrate the use of server scripting and da...</td>\n",
       "    </tr>\n",
       "    <tr>\n",
       "      <th>3</th>\n",
       "      <td>3</td>\n",
       "      <td>6.0</td>\n",
       "      <td>0.9308</td>\n",
       "      <td>issue, language, programming, demonstrate, dat...</td>\n",
       "      <td>Describe the interaction between components of...</td>\n",
       "    </tr>\n",
       "    <tr>\n",
       "      <th>4</th>\n",
       "      <td>4</td>\n",
       "      <td>14.0</td>\n",
       "      <td>0.9308</td>\n",
       "      <td>structure, develop, describe, result, technolo...</td>\n",
       "      <td>Conduct a comparative analysis of contemporary...</td>\n",
       "    </tr>\n",
       "    <tr>\n",
       "      <th>5</th>\n",
       "      <td>5</td>\n",
       "      <td>18.0</td>\n",
       "      <td>0.6771</td>\n",
       "      <td>appropriate, textual, static, behaviour, criti...</td>\n",
       "      <td>Have an understanding of programming</td>\n",
       "    </tr>\n",
       "    <tr>\n",
       "      <th>6</th>\n",
       "      <td>6</td>\n",
       "      <td>8.0</td>\n",
       "      <td>0.8616</td>\n",
       "      <td>technology, class, control, collection, inform...</td>\n",
       "      <td>Demonstrate reflective practice, and use self ...</td>\n",
       "    </tr>\n",
       "    <tr>\n",
       "      <th>7</th>\n",
       "      <td>7</td>\n",
       "      <td>14.0</td>\n",
       "      <td>0.5556</td>\n",
       "      <td>structure, develop, describe, result, technolo...</td>\n",
       "      <td>Apply knowledge of programming fundamentals to...</td>\n",
       "    </tr>\n",
       "    <tr>\n",
       "      <th>8</th>\n",
       "      <td>8</td>\n",
       "      <td>28.0</td>\n",
       "      <td>0.8062</td>\n",
       "      <td>team, variety, development, multi, loop, profe...</td>\n",
       "      <td>Learn collaboratively in a team environment</td>\n",
       "    </tr>\n",
       "    <tr>\n",
       "      <th>9</th>\n",
       "      <td>9</td>\n",
       "      <td>8.0</td>\n",
       "      <td>0.9031</td>\n",
       "      <td>technology, class, control, collection, inform...</td>\n",
       "      <td>Find, organise, and evaluate information on a ...</td>\n",
       "    </tr>\n",
       "  </tbody>\n",
       "</table>\n",
       "</div>"
      ],
      "text/plain": [
       "   Document_No  Dominant_Topic  Topic_Perc_Contrib  \\\n",
       "0            0             2.0              0.9193   \n",
       "1            1            16.0              0.8616   \n",
       "2            2            16.0              0.8789   \n",
       "3            3             6.0              0.9308   \n",
       "4            4            14.0              0.9308   \n",
       "5            5            18.0              0.6771   \n",
       "6            6             8.0              0.8616   \n",
       "7            7            14.0              0.5556   \n",
       "8            8            28.0              0.8062   \n",
       "9            9             8.0              0.9031   \n",
       "\n",
       "                                            Keywords  \\\n",
       "0  web, describe, tool, critically, evaluate, ana...   \n",
       "1  program, scripting, language, problem, applica...   \n",
       "2  program, scripting, language, problem, applica...   \n",
       "3  issue, language, programming, demonstrate, dat...   \n",
       "4  structure, develop, describe, result, technolo...   \n",
       "5  appropriate, textual, static, behaviour, criti...   \n",
       "6  technology, class, control, collection, inform...   \n",
       "7  structure, develop, describe, result, technolo...   \n",
       "8  team, variety, development, multi, loop, profe...   \n",
       "9  technology, class, control, collection, inform...   \n",
       "\n",
       "                                                Text  \n",
       "0  Describe the role of networking in the context...  \n",
       "1  Demonstrate the use of mark up and presentatio...  \n",
       "2  Demonstrate the use of server scripting and da...  \n",
       "3  Describe the interaction between components of...  \n",
       "4  Conduct a comparative analysis of contemporary...  \n",
       "5               Have an understanding of programming  \n",
       "6  Demonstrate reflective practice, and use self ...  \n",
       "7  Apply knowledge of programming fundamentals to...  \n",
       "8        Learn collaboratively in a team environment  \n",
       "9  Find, organise, and evaluate information on a ...  "
      ]
     },
     "execution_count": 21,
     "metadata": {},
     "output_type": "execute_result"
    }
   ],
   "source": [
    "def format_topics_sentences(ldamodel=lda_model, corpus=corpus, texts=data):\n",
    "    # Init output\n",
    "    sent_topics_df = pd.DataFrame()\n",
    "\n",
    "    # Get main topic in each document\n",
    "    for i, row in enumerate(ldamodel[corpus]):\n",
    "        row = sorted(row, key=lambda x: (x[1]), reverse=True)\n",
    "        # Get the Dominant topic, Perc Contribution and Keywords for each document\n",
    "        for j, (topic_num, prop_topic) in enumerate(row):\n",
    "            if j == 0:  # => dominant topic\n",
    "                wp = ldamodel.show_topic(topic_num)\n",
    "                topic_keywords = \", \".join([word for word, prop in wp])\n",
    "                sent_topics_df = sent_topics_df.append(pd.Series([int(topic_num), round(prop_topic,4), topic_keywords]), ignore_index=True)\n",
    "            else:\n",
    "                break\n",
    "    sent_topics_df.columns = ['Dominant_Topic', 'Perc_Contribution', 'Topic_Keywords']\n",
    "\n",
    "    # Add original text to the end of the output\n",
    "    contents = pd.Series(texts)\n",
    "    sent_topics_df = pd.concat([sent_topics_df, contents], axis=1)\n",
    "    return(sent_topics_df)\n",
    "\n",
    "\n",
    "df_topic_sents_keywords = format_topics_sentences(ldamodel=optimal_model, corpus=corpus, texts=data)\n",
    "\n",
    "# Format\n",
    "df_dominant_topic = df_topic_sents_keywords.reset_index()\n",
    "df_dominant_topic.columns = ['Document_No', 'Dominant_Topic', 'Topic_Perc_Contrib', 'Keywords', 'Text']\n",
    "\n",
    "# Show\n",
    "df_dominant_topic.head(10)"
   ]
  },
  {
   "cell_type": "markdown",
   "metadata": {},
   "source": [
    "### Finding the most representative document for each topic"
   ]
  },
  {
   "cell_type": "code",
   "execution_count": 22,
   "metadata": {
    "slideshow": {
     "slide_type": "slide"
    }
   },
   "outputs": [
    {
     "data": {
      "text/html": [
       "<div>\n",
       "<style scoped>\n",
       "    .dataframe tbody tr th:only-of-type {\n",
       "        vertical-align: middle;\n",
       "    }\n",
       "\n",
       "    .dataframe tbody tr th {\n",
       "        vertical-align: top;\n",
       "    }\n",
       "\n",
       "    .dataframe thead th {\n",
       "        text-align: right;\n",
       "    }\n",
       "</style>\n",
       "<table border=\"1\" class=\"dataframe\">\n",
       "  <thead>\n",
       "    <tr style=\"text-align: right;\">\n",
       "      <th></th>\n",
       "      <th>Topic_Num</th>\n",
       "      <th>Topic_Perc_Contrib</th>\n",
       "      <th>Keywords</th>\n",
       "      <th>Text</th>\n",
       "    </tr>\n",
       "  </thead>\n",
       "  <tbody>\n",
       "    <tr>\n",
       "      <th>0</th>\n",
       "      <td>0.0</td>\n",
       "      <td>0.9490</td>\n",
       "      <td>problem, management, process, compete, static,...</td>\n",
       "      <td>Apply problem solving, design and decision mak...</td>\n",
       "    </tr>\n",
       "    <tr>\n",
       "      <th>1</th>\n",
       "      <td>1.0</td>\n",
       "      <td>0.9193</td>\n",
       "      <td>technology, network, design, report, explain, ...</td>\n",
       "      <td>Select technologies for data storage and physi...</td>\n",
       "    </tr>\n",
       "    <tr>\n",
       "      <th>2</th>\n",
       "      <td>2.0</td>\n",
       "      <td>0.9462</td>\n",
       "      <td>web, describe, tool, critically, evaluate, ana...</td>\n",
       "      <td>Critically evaluate the concepts of descriptiv...</td>\n",
       "    </tr>\n",
       "    <tr>\n",
       "      <th>3</th>\n",
       "      <td>3.0</td>\n",
       "      <td>0.9395</td>\n",
       "      <td>network, practical, issue, design, datum, scie...</td>\n",
       "      <td>Demonstrate understanding of the lifecycle of ...</td>\n",
       "    </tr>\n",
       "    <tr>\n",
       "      <th>4</th>\n",
       "      <td>4.0</td>\n",
       "      <td>0.9308</td>\n",
       "      <td>system, model, use, design, operating, context...</td>\n",
       "      <td>Analyse software context of use (i.e., users, ...</td>\n",
       "    </tr>\n",
       "  </tbody>\n",
       "</table>\n",
       "</div>"
      ],
      "text/plain": [
       "   Topic_Num  Topic_Perc_Contrib  \\\n",
       "0        0.0              0.9490   \n",
       "1        1.0              0.9193   \n",
       "2        2.0              0.9462   \n",
       "3        3.0              0.9395   \n",
       "4        4.0              0.9308   \n",
       "\n",
       "                                            Keywords  \\\n",
       "0  problem, management, process, compete, static,...   \n",
       "1  technology, network, design, report, explain, ...   \n",
       "2  web, describe, tool, critically, evaluate, ana...   \n",
       "3  network, practical, issue, design, datum, scie...   \n",
       "4  system, model, use, design, operating, context...   \n",
       "\n",
       "                                                Text  \n",
       "0  Apply problem solving, design and decision mak...  \n",
       "1  Select technologies for data storage and physi...  \n",
       "2  Critically evaluate the concepts of descriptiv...  \n",
       "3  Demonstrate understanding of the lifecycle of ...  \n",
       "4  Analyse software context of use (i.e., users, ...  "
      ]
     },
     "execution_count": 22,
     "metadata": {},
     "output_type": "execute_result"
    }
   ],
   "source": [
    "# Group top 5 sentences under each topic\n",
    "sent_topics_sorteddf_mlda = pd.DataFrame()\n",
    "\n",
    "sent_topics_outdf_grpd = df_topic_sents_keywords.groupby('Dominant_Topic')\n",
    "\n",
    "for i, grp in sent_topics_outdf_grpd:\n",
    "    sent_topics_sorteddf_mlda = pd.concat([sent_topics_sorteddf_mlda, \n",
    "                                             grp.sort_values(['Perc_Contribution'], ascending=[0]).head(1)], \n",
    "                                            axis=0)\n",
    "\n",
    "# Reset Index    \n",
    "sent_topics_sorteddf_mlda.reset_index(drop=True, inplace=True)\n",
    "\n",
    "# Format\n",
    "sent_topics_sorteddf_mlda.columns = ['Topic_Num', \"Topic_Perc_Contrib\", \"Keywords\", \"Text\"]\n",
    "\n",
    "# Show\n",
    "sent_topics_sorteddf_mlda.head()"
   ]
  },
  {
   "cell_type": "markdown",
   "metadata": {},
   "source": [
    "#### Topic distribution across documents"
   ]
  },
  {
   "cell_type": "code",
   "execution_count": 23,
   "metadata": {
    "slideshow": {
     "slide_type": "slide"
    }
   },
   "outputs": [
    {
     "data": {
      "text/html": [
       "<div>\n",
       "<style scoped>\n",
       "    .dataframe tbody tr th:only-of-type {\n",
       "        vertical-align: middle;\n",
       "    }\n",
       "\n",
       "    .dataframe tbody tr th {\n",
       "        vertical-align: top;\n",
       "    }\n",
       "\n",
       "    .dataframe thead th {\n",
       "        text-align: right;\n",
       "    }\n",
       "</style>\n",
       "<table border=\"1\" class=\"dataframe\">\n",
       "  <thead>\n",
       "    <tr style=\"text-align: right;\">\n",
       "      <th></th>\n",
       "      <th>Dominant_Topic</th>\n",
       "      <th>Topic_Keywords</th>\n",
       "      <th>Num_Documents</th>\n",
       "      <th>Perc_Documents</th>\n",
       "    </tr>\n",
       "  </thead>\n",
       "  <tbody>\n",
       "    <tr>\n",
       "      <th>0.0</th>\n",
       "      <td>2.0</td>\n",
       "      <td>web, describe, tool, critically, evaluate, ana...</td>\n",
       "      <td>4.0</td>\n",
       "      <td>0.0176</td>\n",
       "    </tr>\n",
       "    <tr>\n",
       "      <th>1.0</th>\n",
       "      <td>16.0</td>\n",
       "      <td>program, scripting, language, problem, applica...</td>\n",
       "      <td>9.0</td>\n",
       "      <td>0.0396</td>\n",
       "    </tr>\n",
       "    <tr>\n",
       "      <th>2.0</th>\n",
       "      <td>16.0</td>\n",
       "      <td>program, scripting, language, problem, applica...</td>\n",
       "      <td>9.0</td>\n",
       "      <td>0.0396</td>\n",
       "    </tr>\n",
       "    <tr>\n",
       "      <th>3.0</th>\n",
       "      <td>6.0</td>\n",
       "      <td>issue, language, programming, demonstrate, dat...</td>\n",
       "      <td>9.0</td>\n",
       "      <td>0.0396</td>\n",
       "    </tr>\n",
       "    <tr>\n",
       "      <th>4.0</th>\n",
       "      <td>14.0</td>\n",
       "      <td>structure, develop, describe, result, technolo...</td>\n",
       "      <td>9.0</td>\n",
       "      <td>0.0396</td>\n",
       "    </tr>\n",
       "    <tr>\n",
       "      <th>...</th>\n",
       "      <td>...</td>\n",
       "      <td>...</td>\n",
       "      <td>...</td>\n",
       "      <td>...</td>\n",
       "    </tr>\n",
       "    <tr>\n",
       "      <th>222.0</th>\n",
       "      <td>1.0</td>\n",
       "      <td>technology, network, design, report, explain, ...</td>\n",
       "      <td>NaN</td>\n",
       "      <td>NaN</td>\n",
       "    </tr>\n",
       "    <tr>\n",
       "      <th>223.0</th>\n",
       "      <td>1.0</td>\n",
       "      <td>technology, network, design, report, explain, ...</td>\n",
       "      <td>NaN</td>\n",
       "      <td>NaN</td>\n",
       "    </tr>\n",
       "    <tr>\n",
       "      <th>224.0</th>\n",
       "      <td>10.0</td>\n",
       "      <td>system, datum, command, design, operating, int...</td>\n",
       "      <td>NaN</td>\n",
       "      <td>NaN</td>\n",
       "    </tr>\n",
       "    <tr>\n",
       "      <th>225.0</th>\n",
       "      <td>16.0</td>\n",
       "      <td>program, scripting, language, problem, applica...</td>\n",
       "      <td>NaN</td>\n",
       "      <td>NaN</td>\n",
       "    </tr>\n",
       "    <tr>\n",
       "      <th>226.0</th>\n",
       "      <td>16.0</td>\n",
       "      <td>program, scripting, language, problem, applica...</td>\n",
       "      <td>NaN</td>\n",
       "      <td>NaN</td>\n",
       "    </tr>\n",
       "  </tbody>\n",
       "</table>\n",
       "<p>227 rows × 4 columns</p>\n",
       "</div>"
      ],
      "text/plain": [
       "       Dominant_Topic                                     Topic_Keywords  \\\n",
       "0.0               2.0  web, describe, tool, critically, evaluate, ana...   \n",
       "1.0              16.0  program, scripting, language, problem, applica...   \n",
       "2.0              16.0  program, scripting, language, problem, applica...   \n",
       "3.0               6.0  issue, language, programming, demonstrate, dat...   \n",
       "4.0              14.0  structure, develop, describe, result, technolo...   \n",
       "...               ...                                                ...   \n",
       "222.0             1.0  technology, network, design, report, explain, ...   \n",
       "223.0             1.0  technology, network, design, report, explain, ...   \n",
       "224.0            10.0  system, datum, command, design, operating, int...   \n",
       "225.0            16.0  program, scripting, language, problem, applica...   \n",
       "226.0            16.0  program, scripting, language, problem, applica...   \n",
       "\n",
       "       Num_Documents  Perc_Documents  \n",
       "0.0              4.0          0.0176  \n",
       "1.0              9.0          0.0396  \n",
       "2.0              9.0          0.0396  \n",
       "3.0              9.0          0.0396  \n",
       "4.0              9.0          0.0396  \n",
       "...              ...             ...  \n",
       "222.0            NaN             NaN  \n",
       "223.0            NaN             NaN  \n",
       "224.0            NaN             NaN  \n",
       "225.0            NaN             NaN  \n",
       "226.0            NaN             NaN  \n",
       "\n",
       "[227 rows x 4 columns]"
      ]
     },
     "execution_count": 23,
     "metadata": {},
     "output_type": "execute_result"
    }
   ],
   "source": [
    "# Number of Documents for Each Topic\n",
    "topic_counts = df_topic_sents_keywords['Dominant_Topic'].value_counts()\n",
    "\n",
    "# Percentage of Documents for Each Topic\n",
    "topic_contribution = round(topic_counts/topic_counts.sum(), 4)\n",
    "\n",
    "# Topic Number and Keywords\n",
    "topic_num_keywords = df_topic_sents_keywords[['Dominant_Topic', 'Topic_Keywords']]\n",
    "\n",
    "# Concatenate Column wise\n",
    "df_dominant_topics = pd.concat([topic_num_keywords, topic_counts, topic_contribution], axis=1)\n",
    "\n",
    "# Change Column names\n",
    "df_dominant_topics.columns = ['Dominant_Topic', 'Topic_Keywords', 'Num_Documents', 'Perc_Documents']\n",
    "\n",
    "# Show\n",
    "df_dominant_topics"
   ]
  },
  {
   "cell_type": "code",
   "execution_count": 24,
   "metadata": {},
   "outputs": [],
   "source": [
    "df_dominant_topics.to_csv('keyword.csv') #convertingand saving the the data frame into csvfile"
   ]
  },
  {
   "cell_type": "markdown",
   "metadata": {},
   "source": [
    "## Cbok Data set <a name=\"a10\"></a>"
   ]
  },
  {
   "cell_type": "markdown",
   "metadata": {},
   "source": [
    "#### loading the data set"
   ]
  },
  {
   "cell_type": "code",
   "execution_count": 25,
   "metadata": {},
   "outputs": [
    {
     "data": {
      "text/html": [
       "<div>\n",
       "<style scoped>\n",
       "    .dataframe tbody tr th:only-of-type {\n",
       "        vertical-align: middle;\n",
       "    }\n",
       "\n",
       "    .dataframe tbody tr th {\n",
       "        vertical-align: top;\n",
       "    }\n",
       "\n",
       "    .dataframe thead th {\n",
       "        text-align: right;\n",
       "    }\n",
       "</style>\n",
       "<table border=\"1\" class=\"dataframe\">\n",
       "  <thead>\n",
       "    <tr style=\"text-align: right;\">\n",
       "      <th></th>\n",
       "      <th>Unitcode</th>\n",
       "      <th>unitname</th>\n",
       "      <th>ULOno</th>\n",
       "      <th>Describption</th>\n",
       "      <th>Unnamed: 4</th>\n",
       "      <th>Topic_Keywords</th>\n",
       "    </tr>\n",
       "  </thead>\n",
       "  <tbody>\n",
       "    <tr>\n",
       "      <th>0</th>\n",
       "      <td>COS60004</td>\n",
       "      <td>creating web applications</td>\n",
       "      <td>1</td>\n",
       "      <td>Describe the role of networking in the context...</td>\n",
       "      <td>NaN</td>\n",
       "      <td>business, tool, network, role, small, term, st...</td>\n",
       "    </tr>\n",
       "    <tr>\n",
       "      <th>1</th>\n",
       "      <td>COS60004</td>\n",
       "      <td>creating web applications</td>\n",
       "      <td>2</td>\n",
       "      <td>Demonstrate the use of mark up and presentatio...</td>\n",
       "      <td>NaN</td>\n",
       "      <td>design, wide, internet, web, network, security...</td>\n",
       "    </tr>\n",
       "    <tr>\n",
       "      <th>2</th>\n",
       "      <td>COS60004</td>\n",
       "      <td>creating web applications</td>\n",
       "      <td>3</td>\n",
       "      <td>Demonstrate the use of server scripting and da...</td>\n",
       "      <td>NaN</td>\n",
       "      <td>scripting, side, attack, language, access, dat...</td>\n",
       "    </tr>\n",
       "    <tr>\n",
       "      <th>3</th>\n",
       "      <td>COS60004</td>\n",
       "      <td>creating web applications</td>\n",
       "      <td>4</td>\n",
       "      <td>Describe the interaction between components of...</td>\n",
       "      <td>NaN</td>\n",
       "      <td>web, issue, business, development, describe, a...</td>\n",
       "    </tr>\n",
       "    <tr>\n",
       "      <th>4</th>\n",
       "      <td>COS60004</td>\n",
       "      <td>creating web applications</td>\n",
       "      <td>5</td>\n",
       "      <td>Conduct a comparative analysis of contemporary...</td>\n",
       "      <td>NaN</td>\n",
       "      <td>technology, design, service, develop, apply, u...</td>\n",
       "    </tr>\n",
       "  </tbody>\n",
       "</table>\n",
       "</div>"
      ],
      "text/plain": [
       "  Unitcode                    unitname  ULOno  \\\n",
       "0  COS60004  creating web applications      1   \n",
       "1  COS60004  creating web applications      2   \n",
       "2  COS60004  creating web applications      3   \n",
       "3  COS60004  creating web applications      4   \n",
       "4  COS60004  creating web applications      5   \n",
       "\n",
       "                                        Describption  Unnamed: 4  \\\n",
       "0  Describe the role of networking in the context...         NaN   \n",
       "1  Demonstrate the use of mark up and presentatio...         NaN   \n",
       "2  Demonstrate the use of server scripting and da...         NaN   \n",
       "3  Describe the interaction between components of...         NaN   \n",
       "4  Conduct a comparative analysis of contemporary...         NaN   \n",
       "\n",
       "                                      Topic_Keywords  \n",
       "0  business, tool, network, role, small, term, st...  \n",
       "1  design, wide, internet, web, network, security...  \n",
       "2  scripting, side, attack, language, access, dat...  \n",
       "3  web, issue, business, development, describe, a...  \n",
       "4  technology, design, service, develop, apply, u...  "
      ]
     },
     "metadata": {},
     "output_type": "display_data"
    },
    {
     "data": {
      "text/html": [
       "<div>\n",
       "<style scoped>\n",
       "    .dataframe tbody tr th:only-of-type {\n",
       "        vertical-align: middle;\n",
       "    }\n",
       "\n",
       "    .dataframe tbody tr th {\n",
       "        vertical-align: top;\n",
       "    }\n",
       "\n",
       "    .dataframe thead th {\n",
       "        text-align: right;\n",
       "    }\n",
       "</style>\n",
       "<table border=\"1\" class=\"dataframe\">\n",
       "  <thead>\n",
       "    <tr style=\"text-align: right;\">\n",
       "      <th></th>\n",
       "      <th>knowledge number</th>\n",
       "      <th>knowledge</th>\n",
       "      <th>Descrbipition</th>\n",
       "      <th>Unnamed: 3</th>\n",
       "    </tr>\n",
       "  </thead>\n",
       "  <tbody>\n",
       "    <tr>\n",
       "      <th>0</th>\n",
       "      <td>1.1</td>\n",
       "      <td>Ethics</td>\n",
       "      <td>• Fundamental ethical notions (virtues, duty, ...</td>\n",
       "      <td>NaN</td>\n",
       "    </tr>\n",
       "    <tr>\n",
       "      <th>1</th>\n",
       "      <td>1.2</td>\n",
       "      <td>Professional expectations</td>\n",
       "      <td>Topics covered should include: expertise, cert...</td>\n",
       "      <td>NaN</td>\n",
       "    </tr>\n",
       "    <tr>\n",
       "      <th>2</th>\n",
       "      <td>1.3</td>\n",
       "      <td>Teamwork concepts and issues</td>\n",
       "      <td>Topics covered should include: collaboration, ...</td>\n",
       "      <td>NaN</td>\n",
       "    </tr>\n",
       "    <tr>\n",
       "      <th>3</th>\n",
       "      <td>1.4</td>\n",
       "      <td>Interpersonal communication</td>\n",
       "      <td>Topics covered should include: oral and writte...</td>\n",
       "      <td>NaN</td>\n",
       "    </tr>\n",
       "    <tr>\n",
       "      <th>4</th>\n",
       "      <td>1.5</td>\n",
       "      <td>Societal issues/legal issues/privacy</td>\n",
       "      <td>Topics covered should include: history of comp...</td>\n",
       "      <td>NaN</td>\n",
       "    </tr>\n",
       "  </tbody>\n",
       "</table>\n",
       "</div>"
      ],
      "text/plain": [
       "   knowledge number                              knowledge  \\\n",
       "0               1.1                                 Ethics   \n",
       "1               1.2              Professional expectations   \n",
       "2               1.3           Teamwork concepts and issues   \n",
       "3               1.4            Interpersonal communication   \n",
       "4               1.5   Societal issues/legal issues/privacy   \n",
       "\n",
       "                                       Descrbipition  Unnamed: 3  \n",
       "0  • Fundamental ethical notions (virtues, duty, ...         NaN  \n",
       "1  Topics covered should include: expertise, cert...         NaN  \n",
       "2  Topics covered should include: collaboration, ...         NaN  \n",
       "3  Topics covered should include: oral and writte...         NaN  \n",
       "4  Topics covered should include: history of comp...         NaN  "
      ]
     },
     "metadata": {},
     "output_type": "display_data"
    }
   ],
   "source": [
    "ulo = pd.read_csv('ULODS.csv')#it\n",
    "cbds = pd.read_csv('cbook.csv')\n",
    "#cbds.head() #decribe the dataset clearly\n",
    "#ulo.head()\n",
    "display( ulo.head() )\n",
    "display( cbds.head() )"
   ]
  },
  {
   "cell_type": "markdown",
   "metadata": {},
   "source": [
    "### Data Preparation<a name=\"a11\"></a>"
   ]
  },
  {
   "cell_type": "code",
   "execution_count": 26,
   "metadata": {},
   "outputs": [],
   "source": [
    "def text_preprocess(series, stemmer, stopwords):\n",
    "    ds = series.str.replace(\"\\n\\t\",  \" \")\n",
    "    ds = ds.str.replace(r\"[^a-zA-Z ]+\", \"\")\n",
    "    ds = ds.str.lower()\n",
    "    ds = ds.apply(lambda x: ' '.join([stemmer.stem(item) for item in x.split() if item not in stopwords]))\n",
    "    \n",
    "    return ds"
   ]
  },
  {
   "cell_type": "code",
   "execution_count": 27,
   "metadata": {},
   "outputs": [],
   "source": [
    "from nltk.stem import PorterStemmer\n",
    "\n",
    "stopwords = nltk.corpus.stopwords.words('english')\n",
    "\n",
    "stemmer = PorterStemmer() "
   ]
  },
  {
   "cell_type": "markdown",
   "metadata": {},
   "source": [
    "##### cleaning the Descrbipition column"
   ]
  },
  {
   "cell_type": "code",
   "execution_count": 28,
   "metadata": {},
   "outputs": [
    {
     "name": "stderr",
     "output_type": "stream",
     "text": [
      "<ipython-input-26-188f068688fb>:3: FutureWarning: The default value of regex will change from True to False in a future version.\n",
      "  ds = ds.str.replace(r\"[^a-zA-Z ]+\", \"\")\n"
     ]
    },
    {
     "data": {
      "text/html": [
       "<div>\n",
       "<style scoped>\n",
       "    .dataframe tbody tr th:only-of-type {\n",
       "        vertical-align: middle;\n",
       "    }\n",
       "\n",
       "    .dataframe tbody tr th {\n",
       "        vertical-align: top;\n",
       "    }\n",
       "\n",
       "    .dataframe thead th {\n",
       "        text-align: right;\n",
       "    }\n",
       "</style>\n",
       "<table border=\"1\" class=\"dataframe\">\n",
       "  <thead>\n",
       "    <tr style=\"text-align: right;\">\n",
       "      <th></th>\n",
       "      <th>knowledge number</th>\n",
       "      <th>knowledge</th>\n",
       "      <th>Descrbipition</th>\n",
       "      <th>Unnamed: 3</th>\n",
       "      <th>cbok_clean_text</th>\n",
       "    </tr>\n",
       "  </thead>\n",
       "  <tbody>\n",
       "    <tr>\n",
       "      <th>0</th>\n",
       "      <td>1.1</td>\n",
       "      <td>Ethics</td>\n",
       "      <td>• Fundamental ethical notions (virtues, duty, ...</td>\n",
       "      <td>NaN</td>\n",
       "      <td>fundament ethic notion virtu duti respons harm...</td>\n",
       "    </tr>\n",
       "    <tr>\n",
       "      <th>1</th>\n",
       "      <td>1.2</td>\n",
       "      <td>Professional expectations</td>\n",
       "      <td>Topics covered should include: expertise, cert...</td>\n",
       "      <td>NaN</td>\n",
       "      <td>topic cover includ expertis certif compet auto...</td>\n",
       "    </tr>\n",
       "    <tr>\n",
       "      <th>2</th>\n",
       "      <td>1.3</td>\n",
       "      <td>Teamwork concepts and issues</td>\n",
       "      <td>Topics covered should include: collaboration, ...</td>\n",
       "      <td>NaN</td>\n",
       "      <td>topic cover includ collabor group dynam leader...</td>\n",
       "    </tr>\n",
       "    <tr>\n",
       "      <th>3</th>\n",
       "      <td>1.4</td>\n",
       "      <td>Interpersonal communication</td>\n",
       "      <td>Topics covered should include: oral and writte...</td>\n",
       "      <td>NaN</td>\n",
       "      <td>topic cover includ oral written present techni...</td>\n",
       "    </tr>\n",
       "    <tr>\n",
       "      <th>4</th>\n",
       "      <td>1.5</td>\n",
       "      <td>Societal issues/legal issues/privacy</td>\n",
       "      <td>Topics covered should include: history of comp...</td>\n",
       "      <td>NaN</td>\n",
       "      <td>topic cover includ histori comput ict discipli...</td>\n",
       "    </tr>\n",
       "  </tbody>\n",
       "</table>\n",
       "</div>"
      ],
      "text/plain": [
       "   knowledge number                              knowledge  \\\n",
       "0               1.1                                 Ethics   \n",
       "1               1.2              Professional expectations   \n",
       "2               1.3           Teamwork concepts and issues   \n",
       "3               1.4            Interpersonal communication   \n",
       "4               1.5   Societal issues/legal issues/privacy   \n",
       "\n",
       "                                       Descrbipition  Unnamed: 3  \\\n",
       "0  • Fundamental ethical notions (virtues, duty, ...         NaN   \n",
       "1  Topics covered should include: expertise, cert...         NaN   \n",
       "2  Topics covered should include: collaboration, ...         NaN   \n",
       "3  Topics covered should include: oral and writte...         NaN   \n",
       "4  Topics covered should include: history of comp...         NaN   \n",
       "\n",
       "                                     cbok_clean_text  \n",
       "0  fundament ethic notion virtu duti respons harm...  \n",
       "1  topic cover includ expertis certif compet auto...  \n",
       "2  topic cover includ collabor group dynam leader...  \n",
       "3  topic cover includ oral written present techni...  \n",
       "4  topic cover includ histori comput ict discipli...  "
      ]
     },
     "execution_count": 28,
     "metadata": {},
     "output_type": "execute_result"
    }
   ],
   "source": [
    "cbds['cbok_clean_text'] = text_preprocess(cbds['Descrbipition'], stemmer, stopwords)\n",
    "cbds.head()"
   ]
  },
  {
   "cell_type": "code",
   "execution_count": 29,
   "metadata": {},
   "outputs": [
    {
     "name": "stderr",
     "output_type": "stream",
     "text": [
      "<ipython-input-29-7d7094642baa>:1: FutureWarning: In a future version of pandas all arguments of DataFrame.drop except for the argument 'labels' will be keyword-only\n",
      "  cbds = cbds.drop('Unnamed: 3', 1)\n"
     ]
    }
   ],
   "source": [
    "cbds = cbds.drop('Unnamed: 3', 1)"
   ]
  },
  {
   "cell_type": "code",
   "execution_count": 30,
   "metadata": {},
   "outputs": [
    {
     "data": {
      "text/html": [
       "<div>\n",
       "<style scoped>\n",
       "    .dataframe tbody tr th:only-of-type {\n",
       "        vertical-align: middle;\n",
       "    }\n",
       "\n",
       "    .dataframe tbody tr th {\n",
       "        vertical-align: top;\n",
       "    }\n",
       "\n",
       "    .dataframe thead th {\n",
       "        text-align: right;\n",
       "    }\n",
       "</style>\n",
       "<table border=\"1\" class=\"dataframe\">\n",
       "  <thead>\n",
       "    <tr style=\"text-align: right;\">\n",
       "      <th></th>\n",
       "      <th>knowledge number</th>\n",
       "      <th>knowledge</th>\n",
       "      <th>Descrbipition</th>\n",
       "      <th>cbok_clean_text</th>\n",
       "    </tr>\n",
       "  </thead>\n",
       "  <tbody>\n",
       "    <tr>\n",
       "      <th>0</th>\n",
       "      <td>1.1</td>\n",
       "      <td>Ethics</td>\n",
       "      <td>• Fundamental ethical notions (virtues, duty, ...</td>\n",
       "      <td>fundament ethic notion virtu duti respons harm...</td>\n",
       "    </tr>\n",
       "    <tr>\n",
       "      <th>1</th>\n",
       "      <td>1.2</td>\n",
       "      <td>Professional expectations</td>\n",
       "      <td>Topics covered should include: expertise, cert...</td>\n",
       "      <td>topic cover includ expertis certif compet auto...</td>\n",
       "    </tr>\n",
       "    <tr>\n",
       "      <th>2</th>\n",
       "      <td>1.3</td>\n",
       "      <td>Teamwork concepts and issues</td>\n",
       "      <td>Topics covered should include: collaboration, ...</td>\n",
       "      <td>topic cover includ collabor group dynam leader...</td>\n",
       "    </tr>\n",
       "    <tr>\n",
       "      <th>3</th>\n",
       "      <td>1.4</td>\n",
       "      <td>Interpersonal communication</td>\n",
       "      <td>Topics covered should include: oral and writte...</td>\n",
       "      <td>topic cover includ oral written present techni...</td>\n",
       "    </tr>\n",
       "    <tr>\n",
       "      <th>4</th>\n",
       "      <td>1.5</td>\n",
       "      <td>Societal issues/legal issues/privacy</td>\n",
       "      <td>Topics covered should include: history of comp...</td>\n",
       "      <td>topic cover includ histori comput ict discipli...</td>\n",
       "    </tr>\n",
       "  </tbody>\n",
       "</table>\n",
       "</div>"
      ],
      "text/plain": [
       "   knowledge number                              knowledge  \\\n",
       "0               1.1                                 Ethics   \n",
       "1               1.2              Professional expectations   \n",
       "2               1.3           Teamwork concepts and issues   \n",
       "3               1.4            Interpersonal communication   \n",
       "4               1.5   Societal issues/legal issues/privacy   \n",
       "\n",
       "                                       Descrbipition  \\\n",
       "0  • Fundamental ethical notions (virtues, duty, ...   \n",
       "1  Topics covered should include: expertise, cert...   \n",
       "2  Topics covered should include: collaboration, ...   \n",
       "3  Topics covered should include: oral and writte...   \n",
       "4  Topics covered should include: history of comp...   \n",
       "\n",
       "                                     cbok_clean_text  \n",
       "0  fundament ethic notion virtu duti respons harm...  \n",
       "1  topic cover includ expertis certif compet auto...  \n",
       "2  topic cover includ collabor group dynam leader...  \n",
       "3  topic cover includ oral written present techni...  \n",
       "4  topic cover includ histori comput ict discipli...  "
      ]
     },
     "execution_count": 30,
     "metadata": {},
     "output_type": "execute_result"
    }
   ],
   "source": [
    "cbds.head()"
   ]
  },
  {
   "cell_type": "markdown",
   "metadata": {},
   "source": [
    "#### ULO Data Set <a name=\"a12\"></a>"
   ]
  },
  {
   "cell_type": "code",
   "execution_count": 31,
   "metadata": {},
   "outputs": [
    {
     "data": {
      "text/html": [
       "<div>\n",
       "<style scoped>\n",
       "    .dataframe tbody tr th:only-of-type {\n",
       "        vertical-align: middle;\n",
       "    }\n",
       "\n",
       "    .dataframe tbody tr th {\n",
       "        vertical-align: top;\n",
       "    }\n",
       "\n",
       "    .dataframe thead th {\n",
       "        text-align: right;\n",
       "    }\n",
       "</style>\n",
       "<table border=\"1\" class=\"dataframe\">\n",
       "  <thead>\n",
       "    <tr style=\"text-align: right;\">\n",
       "      <th></th>\n",
       "      <th>Unitcode</th>\n",
       "      <th>unitname</th>\n",
       "      <th>ULOno</th>\n",
       "      <th>Describption</th>\n",
       "      <th>Unnamed: 4</th>\n",
       "      <th>Topic_Keywords</th>\n",
       "    </tr>\n",
       "  </thead>\n",
       "  <tbody>\n",
       "    <tr>\n",
       "      <th>0</th>\n",
       "      <td>COS60004</td>\n",
       "      <td>creating web applications</td>\n",
       "      <td>1</td>\n",
       "      <td>Describe the role of networking in the context...</td>\n",
       "      <td>NaN</td>\n",
       "      <td>business, tool, network, role, small, term, st...</td>\n",
       "    </tr>\n",
       "    <tr>\n",
       "      <th>1</th>\n",
       "      <td>COS60004</td>\n",
       "      <td>creating web applications</td>\n",
       "      <td>2</td>\n",
       "      <td>Demonstrate the use of mark up and presentatio...</td>\n",
       "      <td>NaN</td>\n",
       "      <td>design, wide, internet, web, network, security...</td>\n",
       "    </tr>\n",
       "    <tr>\n",
       "      <th>2</th>\n",
       "      <td>COS60004</td>\n",
       "      <td>creating web applications</td>\n",
       "      <td>3</td>\n",
       "      <td>Demonstrate the use of server scripting and da...</td>\n",
       "      <td>NaN</td>\n",
       "      <td>scripting, side, attack, language, access, dat...</td>\n",
       "    </tr>\n",
       "    <tr>\n",
       "      <th>3</th>\n",
       "      <td>COS60004</td>\n",
       "      <td>creating web applications</td>\n",
       "      <td>4</td>\n",
       "      <td>Describe the interaction between components of...</td>\n",
       "      <td>NaN</td>\n",
       "      <td>web, issue, business, development, describe, a...</td>\n",
       "    </tr>\n",
       "    <tr>\n",
       "      <th>4</th>\n",
       "      <td>COS60004</td>\n",
       "      <td>creating web applications</td>\n",
       "      <td>5</td>\n",
       "      <td>Conduct a comparative analysis of contemporary...</td>\n",
       "      <td>NaN</td>\n",
       "      <td>technology, design, service, develop, apply, u...</td>\n",
       "    </tr>\n",
       "  </tbody>\n",
       "</table>\n",
       "</div>"
      ],
      "text/plain": [
       "  Unitcode                    unitname  ULOno  \\\n",
       "0  COS60004  creating web applications      1   \n",
       "1  COS60004  creating web applications      2   \n",
       "2  COS60004  creating web applications      3   \n",
       "3  COS60004  creating web applications      4   \n",
       "4  COS60004  creating web applications      5   \n",
       "\n",
       "                                        Describption  Unnamed: 4  \\\n",
       "0  Describe the role of networking in the context...         NaN   \n",
       "1  Demonstrate the use of mark up and presentatio...         NaN   \n",
       "2  Demonstrate the use of server scripting and da...         NaN   \n",
       "3  Describe the interaction between components of...         NaN   \n",
       "4  Conduct a comparative analysis of contemporary...         NaN   \n",
       "\n",
       "                                      Topic_Keywords  \n",
       "0  business, tool, network, role, small, term, st...  \n",
       "1  design, wide, internet, web, network, security...  \n",
       "2  scripting, side, attack, language, access, dat...  \n",
       "3  web, issue, business, development, describe, a...  \n",
       "4  technology, design, service, develop, apply, u...  "
      ]
     },
     "metadata": {},
     "output_type": "display_data"
    }
   ],
   "source": [
    "ulo = pd.read_csv('ULODS.csv')\n",
    "display( ulo.head() ) \n"
   ]
  },
  {
   "cell_type": "markdown",
   "metadata": {},
   "source": [
    "###### topic_keywords is the tokens from the describption of the units"
   ]
  },
  {
   "cell_type": "code",
   "execution_count": 32,
   "metadata": {},
   "outputs": [
    {
     "name": "stderr",
     "output_type": "stream",
     "text": [
      "<ipython-input-32-56d9ae7e96d1>:1: FutureWarning: In a future version of pandas all arguments of DataFrame.drop except for the argument 'labels' will be keyword-only\n",
      "  ulo = ulo.drop('Unnamed: 4', 1)\n"
     ]
    }
   ],
   "source": [
    "ulo = ulo.drop('Unnamed: 4', 1)"
   ]
  },
  {
   "cell_type": "markdown",
   "metadata": {},
   "source": [
    "### Mapping with the Cbok <a name=\"a13\"></a>"
   ]
  },
  {
   "cell_type": "markdown",
   "metadata": {},
   "source": [
    "##### As, we need to map the text here we are using the Fussywuzzy. Fuzzywuzzy is used for matching the cloumns in the data frame basing on the string similarity.  As, it is text mapping we are using the string mapping  to match between the columns."
   ]
  },
  {
   "cell_type": "code",
   "execution_count": 33,
   "metadata": {},
   "outputs": [
    {
     "name": "stderr",
     "output_type": "stream",
     "text": [
      "C:\\Users\\HARSHA VARDHANI\\anaconda3\\lib\\site-packages\\fuzzywuzzy\\fuzz.py:11: UserWarning: Using slow pure-python SequenceMatcher. Install python-Levenshtein to remove this warning\n",
      "  warnings.warn('Using slow pure-python SequenceMatcher. Install python-Levenshtein to remove this warning')\n"
     ]
    },
    {
     "data": {
      "text/html": [
       "<div>\n",
       "<style scoped>\n",
       "    .dataframe tbody tr th:only-of-type {\n",
       "        vertical-align: middle;\n",
       "    }\n",
       "\n",
       "    .dataframe tbody tr th {\n",
       "        vertical-align: top;\n",
       "    }\n",
       "\n",
       "    .dataframe thead th {\n",
       "        text-align: right;\n",
       "    }\n",
       "</style>\n",
       "<table border=\"1\" class=\"dataframe\">\n",
       "  <thead>\n",
       "    <tr style=\"text-align: right;\">\n",
       "      <th></th>\n",
       "      <th>Unitcode</th>\n",
       "      <th>unitname</th>\n",
       "      <th>ULOno</th>\n",
       "      <th>Describption</th>\n",
       "      <th>Topic_Keywords</th>\n",
       "      <th>topic_key_knowledge</th>\n",
       "      <th>similarity_TK</th>\n",
       "    </tr>\n",
       "  </thead>\n",
       "  <tbody>\n",
       "    <tr>\n",
       "      <th>0</th>\n",
       "      <td>COS60004</td>\n",
       "      <td>creating web applications</td>\n",
       "      <td>1</td>\n",
       "      <td>Describe the role of networking in the context...</td>\n",
       "      <td>business, tool, network, role, small, term, st...</td>\n",
       "      <td>Networking</td>\n",
       "      <td>63</td>\n",
       "    </tr>\n",
       "    <tr>\n",
       "      <th>1</th>\n",
       "      <td>COS60004</td>\n",
       "      <td>creating web applications</td>\n",
       "      <td>2</td>\n",
       "      <td>Demonstrate the use of mark up and presentatio...</td>\n",
       "      <td>design, wide, internet, web, network, security...</td>\n",
       "      <td>Cyber security</td>\n",
       "      <td>86</td>\n",
       "    </tr>\n",
       "    <tr>\n",
       "      <th>2</th>\n",
       "      <td>COS60004</td>\n",
       "      <td>creating web applications</td>\n",
       "      <td>3</td>\n",
       "      <td>Demonstrate the use of server scripting and da...</td>\n",
       "      <td>scripting, side, attack, language, access, dat...</td>\n",
       "      <td>Societal issues/legal issues/privacy</td>\n",
       "      <td>86</td>\n",
       "    </tr>\n",
       "    <tr>\n",
       "      <th>3</th>\n",
       "      <td>COS60004</td>\n",
       "      <td>creating web applications</td>\n",
       "      <td>4</td>\n",
       "      <td>Describe the interaction between components of...</td>\n",
       "      <td>web, issue, business, development, describe, a...</td>\n",
       "      <td>Systems development and acquisition</td>\n",
       "      <td>86</td>\n",
       "    </tr>\n",
       "    <tr>\n",
       "      <th>4</th>\n",
       "      <td>COS60004</td>\n",
       "      <td>creating web applications</td>\n",
       "      <td>5</td>\n",
       "      <td>Conduct a comparative analysis of contemporary...</td>\n",
       "      <td>technology, design, service, develop, apply, u...</td>\n",
       "      <td>Service management</td>\n",
       "      <td>86</td>\n",
       "    </tr>\n",
       "    <tr>\n",
       "      <th>5</th>\n",
       "      <td>COS60010</td>\n",
       "      <td>Technology Enquiry Project</td>\n",
       "      <td>1</td>\n",
       "      <td>Have an understanding of programming</td>\n",
       "      <td>evaluate, datum, code, apply, interpret, visua...</td>\n",
       "      <td>Data and information management</td>\n",
       "      <td>86</td>\n",
       "    </tr>\n",
       "    <tr>\n",
       "      <th>6</th>\n",
       "      <td>COS60010</td>\n",
       "      <td>Technology Enquiry Project</td>\n",
       "      <td>2</td>\n",
       "      <td>Demonstrate reflective practice, and use self ...</td>\n",
       "      <td>practice, evaluation, reflective, peer, self, ...</td>\n",
       "      <td>Hardware and software fundamentals</td>\n",
       "      <td>86</td>\n",
       "    </tr>\n",
       "    <tr>\n",
       "      <th>7</th>\n",
       "      <td>COS60010</td>\n",
       "      <td>Technology Enquiry Project</td>\n",
       "      <td>3</td>\n",
       "      <td>Apply knowledge of programming fundamentals to...</td>\n",
       "      <td>design, database, technology, big, build, know...</td>\n",
       "      <td>Networking</td>\n",
       "      <td>48</td>\n",
       "    </tr>\n",
       "    <tr>\n",
       "      <th>8</th>\n",
       "      <td>COS60010</td>\n",
       "      <td>Technology Enquiry Project</td>\n",
       "      <td>4</td>\n",
       "      <td>Learn collaboratively in a team environment</td>\n",
       "      <td>practice, evaluation, reflective, peer, self, ...</td>\n",
       "      <td>Hardware and software fundamentals</td>\n",
       "      <td>86</td>\n",
       "    </tr>\n",
       "    <tr>\n",
       "      <th>9</th>\n",
       "      <td>COS60010</td>\n",
       "      <td>Technology Enquiry Project</td>\n",
       "      <td>5</td>\n",
       "      <td>Find, organise, and evaluate information on a ...</td>\n",
       "      <td>use, describe, relate, switch, security, issue...</td>\n",
       "      <td>Cyber security</td>\n",
       "      <td>86</td>\n",
       "    </tr>\n",
       "    <tr>\n",
       "      <th>10</th>\n",
       "      <td>COS60010</td>\n",
       "      <td>Technology Enquiry Project</td>\n",
       "      <td>6</td>\n",
       "      <td>Demonstrate awareness of social and cultural p...</td>\n",
       "      <td>professional, demonstrate, perspective, team, ...</td>\n",
       "      <td>Professional expectations</td>\n",
       "      <td>86</td>\n",
       "    </tr>\n",
       "    <tr>\n",
       "      <th>11</th>\n",
       "      <td>COS60011</td>\n",
       "      <td>Technology Design Project</td>\n",
       "      <td>1</td>\n",
       "      <td>Apply a systematic approach to technology design</td>\n",
       "      <td>technology, design, service, develop, apply, u...</td>\n",
       "      <td>Service management</td>\n",
       "      <td>86</td>\n",
       "    </tr>\n",
       "    <tr>\n",
       "      <th>12</th>\n",
       "      <td>COS60011</td>\n",
       "      <td>Technology Design Project</td>\n",
       "      <td>2</td>\n",
       "      <td>Apply knowledge of design fundamentals to tech...</td>\n",
       "      <td>design, database, technology, big, build, know...</td>\n",
       "      <td>Networking</td>\n",
       "      <td>48</td>\n",
       "    </tr>\n",
       "    <tr>\n",
       "      <th>13</th>\n",
       "      <td>COS60011</td>\n",
       "      <td>Technology Design Project</td>\n",
       "      <td>3</td>\n",
       "      <td>Find, organise, and evaluate information on a ...</td>\n",
       "      <td>network, evaluate, industry, information, tech...</td>\n",
       "      <td>Data and information management</td>\n",
       "      <td>86</td>\n",
       "    </tr>\n",
       "    <tr>\n",
       "      <th>14</th>\n",
       "      <td>COS60011</td>\n",
       "      <td>Technology Design Project</td>\n",
       "      <td>4</td>\n",
       "      <td>Use technology to develop and present design s...</td>\n",
       "      <td>technology, design, service, develop, apply, u...</td>\n",
       "      <td>Service management</td>\n",
       "      <td>86</td>\n",
       "    </tr>\n",
       "  </tbody>\n",
       "</table>\n",
       "</div>"
      ],
      "text/plain": [
       "    Unitcode                     unitname  ULOno  \\\n",
       "0    COS60004   creating web applications      1   \n",
       "1    COS60004   creating web applications      2   \n",
       "2    COS60004   creating web applications      3   \n",
       "3    COS60004   creating web applications      4   \n",
       "4    COS60004   creating web applications      5   \n",
       "5    COS60010  Technology Enquiry Project      1   \n",
       "6    COS60010  Technology Enquiry Project      2   \n",
       "7    COS60010  Technology Enquiry Project      3   \n",
       "8    COS60010  Technology Enquiry Project      4   \n",
       "9    COS60010  Technology Enquiry Project      5   \n",
       "10   COS60010  Technology Enquiry Project      6   \n",
       "11  COS60011    Technology Design Project      1   \n",
       "12  COS60011    Technology Design Project      2   \n",
       "13  COS60011    Technology Design Project      3   \n",
       "14  COS60011    Technology Design Project      4   \n",
       "\n",
       "                                         Describption  \\\n",
       "0   Describe the role of networking in the context...   \n",
       "1   Demonstrate the use of mark up and presentatio...   \n",
       "2   Demonstrate the use of server scripting and da...   \n",
       "3   Describe the interaction between components of...   \n",
       "4   Conduct a comparative analysis of contemporary...   \n",
       "5                Have an understanding of programming   \n",
       "6   Demonstrate reflective practice, and use self ...   \n",
       "7   Apply knowledge of programming fundamentals to...   \n",
       "8         Learn collaboratively in a team environment   \n",
       "9   Find, organise, and evaluate information on a ...   \n",
       "10  Demonstrate awareness of social and cultural p...   \n",
       "11   Apply a systematic approach to technology design   \n",
       "12  Apply knowledge of design fundamentals to tech...   \n",
       "13  Find, organise, and evaluate information on a ...   \n",
       "14  Use technology to develop and present design s...   \n",
       "\n",
       "                                       Topic_Keywords  \\\n",
       "0   business, tool, network, role, small, term, st...   \n",
       "1   design, wide, internet, web, network, security...   \n",
       "2   scripting, side, attack, language, access, dat...   \n",
       "3   web, issue, business, development, describe, a...   \n",
       "4   technology, design, service, develop, apply, u...   \n",
       "5   evaluate, datum, code, apply, interpret, visua...   \n",
       "6   practice, evaluation, reflective, peer, self, ...   \n",
       "7   design, database, technology, big, build, know...   \n",
       "8   practice, evaluation, reflective, peer, self, ...   \n",
       "9   use, describe, relate, switch, security, issue...   \n",
       "10  professional, demonstrate, perspective, team, ...   \n",
       "11  technology, design, service, develop, apply, u...   \n",
       "12  design, database, technology, big, build, know...   \n",
       "13  network, evaluate, industry, information, tech...   \n",
       "14  technology, design, service, develop, apply, u...   \n",
       "\n",
       "                      topic_key_knowledge  similarity_TK  \n",
       "0                              Networking             63  \n",
       "1                          Cyber security             86  \n",
       "2    Societal issues/legal issues/privacy             86  \n",
       "3     Systems development and acquisition             86  \n",
       "4                      Service management             86  \n",
       "5         Data and information management             86  \n",
       "6      Hardware and software fundamentals             86  \n",
       "7                              Networking             48  \n",
       "8      Hardware and software fundamentals             86  \n",
       "9                          Cyber security             86  \n",
       "10              Professional expectations             86  \n",
       "11                     Service management             86  \n",
       "12                             Networking             48  \n",
       "13        Data and information management             86  \n",
       "14                     Service management             86  "
      ]
     },
     "execution_count": 33,
     "metadata": {},
     "output_type": "execute_result"
    }
   ],
   "source": [
    "from fuzzywuzzy import process, fuzz\n",
    "knowledge = []\n",
    "similarity_TK = [] #similarity of Topic_keywords and knowlegde of cbok(which are networking,cyber security like that catgory)\n",
    "for i in  ulo.Topic_Keywords:\n",
    "        ratio = process.extract( i, cbds.knowledge, limit=1)\n",
    "        knowledge.append(ratio[0][0])\n",
    "        #unitname.append(ratio[0][0])\n",
    "        #Unitcode.append(ratio[0][0])\t\n",
    "        similarity_TK.append(ratio[0][1])\n",
    "\n",
    "ulo['topic_key_knowledge'] = pd.Series(knowledge)\n",
    "ulo['similarity_TK'] = pd.Series(similarity_TK)\n",
    "\n",
    "ulo.head(15)"
   ]
  },
  {
   "cell_type": "code",
   "execution_count": 34,
   "metadata": {},
   "outputs": [
    {
     "data": {
      "text/html": [
       "<div>\n",
       "<style scoped>\n",
       "    .dataframe tbody tr th:only-of-type {\n",
       "        vertical-align: middle;\n",
       "    }\n",
       "\n",
       "    .dataframe tbody tr th {\n",
       "        vertical-align: top;\n",
       "    }\n",
       "\n",
       "    .dataframe thead th {\n",
       "        text-align: right;\n",
       "    }\n",
       "</style>\n",
       "<table border=\"1\" class=\"dataframe\">\n",
       "  <thead>\n",
       "    <tr style=\"text-align: right;\">\n",
       "      <th></th>\n",
       "      <th>Unitcode</th>\n",
       "      <th>unitname</th>\n",
       "      <th>ULOno</th>\n",
       "      <th>Describption</th>\n",
       "      <th>Topic_Keywords</th>\n",
       "      <th>topic_key_knowledge</th>\n",
       "      <th>similarity_TK</th>\n",
       "      <th>topic_key_Descrbipition</th>\n",
       "      <th>similarity_TD</th>\n",
       "    </tr>\n",
       "  </thead>\n",
       "  <tbody>\n",
       "    <tr>\n",
       "      <th>0</th>\n",
       "      <td>COS60004</td>\n",
       "      <td>creating web applications</td>\n",
       "      <td>1</td>\n",
       "      <td>Describe the role of networking in the context...</td>\n",
       "      <td>business, tool, network, role, small, term, st...</td>\n",
       "      <td>Networking</td>\n",
       "      <td>63</td>\n",
       "      <td>area requir understand data commun network fun...</td>\n",
       "      <td>86</td>\n",
       "    </tr>\n",
       "    <tr>\n",
       "      <th>1</th>\n",
       "      <td>COS60004</td>\n",
       "      <td>creating web applications</td>\n",
       "      <td>2</td>\n",
       "      <td>Demonstrate the use of mark up and presentatio...</td>\n",
       "      <td>design, wide, internet, web, network, security...</td>\n",
       "      <td>Cyber security</td>\n",
       "      <td>86</td>\n",
       "      <td>area requir understand data commun network fun...</td>\n",
       "      <td>86</td>\n",
       "    </tr>\n",
       "    <tr>\n",
       "      <th>2</th>\n",
       "      <td>COS60004</td>\n",
       "      <td>creating web applications</td>\n",
       "      <td>3</td>\n",
       "      <td>Demonstrate the use of server scripting and da...</td>\n",
       "      <td>scripting, side, attack, language, access, dat...</td>\n",
       "      <td>Societal issues/legal issues/privacy</td>\n",
       "      <td>86</td>\n",
       "      <td>area requir understand data commun network fun...</td>\n",
       "      <td>86</td>\n",
       "    </tr>\n",
       "    <tr>\n",
       "      <th>3</th>\n",
       "      <td>COS60004</td>\n",
       "      <td>creating web applications</td>\n",
       "      <td>4</td>\n",
       "      <td>Describe the interaction between components of...</td>\n",
       "      <td>web, issue, business, development, describe, a...</td>\n",
       "      <td>Systems development and acquisition</td>\n",
       "      <td>86</td>\n",
       "      <td>understand requir data captur repres organis r...</td>\n",
       "      <td>86</td>\n",
       "    </tr>\n",
       "    <tr>\n",
       "      <th>4</th>\n",
       "      <td>COS60004</td>\n",
       "      <td>creating web applications</td>\n",
       "      <td>5</td>\n",
       "      <td>Conduct a comparative analysis of contemporary...</td>\n",
       "      <td>technology, design, service, develop, apply, u...</td>\n",
       "      <td>Service management</td>\n",
       "      <td>86</td>\n",
       "      <td>understand requir data captur repres organis r...</td>\n",
       "      <td>86</td>\n",
       "    </tr>\n",
       "    <tr>\n",
       "      <th>5</th>\n",
       "      <td>COS60010</td>\n",
       "      <td>Technology Enquiry Project</td>\n",
       "      <td>1</td>\n",
       "      <td>Have an understanding of programming</td>\n",
       "      <td>evaluate, datum, code, apply, interpret, visua...</td>\n",
       "      <td>Data and information management</td>\n",
       "      <td>86</td>\n",
       "      <td>fundament ethic notion virtu duti respons harm...</td>\n",
       "      <td>86</td>\n",
       "    </tr>\n",
       "    <tr>\n",
       "      <th>6</th>\n",
       "      <td>COS60010</td>\n",
       "      <td>Technology Enquiry Project</td>\n",
       "      <td>2</td>\n",
       "      <td>Demonstrate reflective practice, and use self ...</td>\n",
       "      <td>practice, evaluation, reflective, peer, self, ...</td>\n",
       "      <td>Hardware and software fundamentals</td>\n",
       "      <td>86</td>\n",
       "      <td>involv understand fundament concept program la...</td>\n",
       "      <td>86</td>\n",
       "    </tr>\n",
       "    <tr>\n",
       "      <th>7</th>\n",
       "      <td>COS60010</td>\n",
       "      <td>Technology Enquiry Project</td>\n",
       "      <td>3</td>\n",
       "      <td>Apply knowledge of programming fundamentals to...</td>\n",
       "      <td>design, database, technology, big, build, know...</td>\n",
       "      <td>Networking</td>\n",
       "      <td>48</td>\n",
       "      <td>understand requir develop acquir softwar infor...</td>\n",
       "      <td>86</td>\n",
       "    </tr>\n",
       "    <tr>\n",
       "      <th>8</th>\n",
       "      <td>COS60010</td>\n",
       "      <td>Technology Enquiry Project</td>\n",
       "      <td>4</td>\n",
       "      <td>Learn collaboratively in a team environment</td>\n",
       "      <td>practice, evaluation, reflective, peer, self, ...</td>\n",
       "      <td>Hardware and software fundamentals</td>\n",
       "      <td>86</td>\n",
       "      <td>involv understand fundament concept program la...</td>\n",
       "      <td>86</td>\n",
       "    </tr>\n",
       "    <tr>\n",
       "      <th>9</th>\n",
       "      <td>COS60010</td>\n",
       "      <td>Technology Enquiry Project</td>\n",
       "      <td>5</td>\n",
       "      <td>Find, organise, and evaluate information on a ...</td>\n",
       "      <td>use, describe, relate, switch, security, issue...</td>\n",
       "      <td>Cyber security</td>\n",
       "      <td>86</td>\n",
       "      <td>involv understand fundament concept program la...</td>\n",
       "      <td>86</td>\n",
       "    </tr>\n",
       "  </tbody>\n",
       "</table>\n",
       "</div>"
      ],
      "text/plain": [
       "  Unitcode                     unitname  ULOno  \\\n",
       "0  COS60004   creating web applications      1   \n",
       "1  COS60004   creating web applications      2   \n",
       "2  COS60004   creating web applications      3   \n",
       "3  COS60004   creating web applications      4   \n",
       "4  COS60004   creating web applications      5   \n",
       "5  COS60010  Technology Enquiry Project      1   \n",
       "6  COS60010  Technology Enquiry Project      2   \n",
       "7  COS60010  Technology Enquiry Project      3   \n",
       "8  COS60010  Technology Enquiry Project      4   \n",
       "9  COS60010  Technology Enquiry Project      5   \n",
       "\n",
       "                                        Describption  \\\n",
       "0  Describe the role of networking in the context...   \n",
       "1  Demonstrate the use of mark up and presentatio...   \n",
       "2  Demonstrate the use of server scripting and da...   \n",
       "3  Describe the interaction between components of...   \n",
       "4  Conduct a comparative analysis of contemporary...   \n",
       "5               Have an understanding of programming   \n",
       "6  Demonstrate reflective practice, and use self ...   \n",
       "7  Apply knowledge of programming fundamentals to...   \n",
       "8        Learn collaboratively in a team environment   \n",
       "9  Find, organise, and evaluate information on a ...   \n",
       "\n",
       "                                      Topic_Keywords  \\\n",
       "0  business, tool, network, role, small, term, st...   \n",
       "1  design, wide, internet, web, network, security...   \n",
       "2  scripting, side, attack, language, access, dat...   \n",
       "3  web, issue, business, development, describe, a...   \n",
       "4  technology, design, service, develop, apply, u...   \n",
       "5  evaluate, datum, code, apply, interpret, visua...   \n",
       "6  practice, evaluation, reflective, peer, self, ...   \n",
       "7  design, database, technology, big, build, know...   \n",
       "8  practice, evaluation, reflective, peer, self, ...   \n",
       "9  use, describe, relate, switch, security, issue...   \n",
       "\n",
       "                     topic_key_knowledge  similarity_TK  \\\n",
       "0                             Networking             63   \n",
       "1                         Cyber security             86   \n",
       "2   Societal issues/legal issues/privacy             86   \n",
       "3    Systems development and acquisition             86   \n",
       "4                     Service management             86   \n",
       "5        Data and information management             86   \n",
       "6     Hardware and software fundamentals             86   \n",
       "7                             Networking             48   \n",
       "8     Hardware and software fundamentals             86   \n",
       "9                         Cyber security             86   \n",
       "\n",
       "                             topic_key_Descrbipition  similarity_TD  \n",
       "0  area requir understand data commun network fun...             86  \n",
       "1  area requir understand data commun network fun...             86  \n",
       "2  area requir understand data commun network fun...             86  \n",
       "3  understand requir data captur repres organis r...             86  \n",
       "4  understand requir data captur repres organis r...             86  \n",
       "5  fundament ethic notion virtu duti respons harm...             86  \n",
       "6  involv understand fundament concept program la...             86  \n",
       "7  understand requir develop acquir softwar infor...             86  \n",
       "8  involv understand fundament concept program la...             86  \n",
       "9  involv understand fundament concept program la...             86  "
      ]
     },
     "execution_count": 34,
     "metadata": {},
     "output_type": "execute_result"
    }
   ],
   "source": [
    "cbok_clean_text= []\n",
    "similarity_TD = [] #similarity of keywords and descrpition of cbok\n",
    "for i in  ulo.Topic_Keywords:\n",
    "        ratio = process.extract( i, cbds.cbok_clean_text, limit=1)\n",
    "        cbok_clean_text.append(ratio[0][0])\n",
    "        similarity_TD.append(ratio[0][1])\n",
    "\n",
    "ulo['topic_key_Descrbipition'] = pd.Series(cbok_clean_text)\n",
    "ulo['similarity_TD'] = pd.Series(similarity_TD)\n",
    "\n",
    "ulo.head(10)"
   ]
  },
  {
   "cell_type": "markdown",
   "metadata": {},
   "source": [
    "##### from the above cell we can see that we have taken similarity with the topic key words of ulos and we have similarites.  Similarty_TK this represents the similarty of the string with topic keyowrds and cbok knowledge. Simlarity_TD this represents the similarites of  topic key words and knowldge decbrption cbok. As, a result this mapping correctly with topic_key words of ULO and also the knowldge and descrpition as well."
   ]
  },
  {
   "cell_type": "code",
   "execution_count": 35,
   "metadata": {},
   "outputs": [
    {
     "data": {
      "text/html": [
       "<div>\n",
       "<style scoped>\n",
       "    .dataframe tbody tr th:only-of-type {\n",
       "        vertical-align: middle;\n",
       "    }\n",
       "\n",
       "    .dataframe tbody tr th {\n",
       "        vertical-align: top;\n",
       "    }\n",
       "\n",
       "    .dataframe thead th {\n",
       "        text-align: right;\n",
       "    }\n",
       "</style>\n",
       "<table border=\"1\" class=\"dataframe\">\n",
       "  <thead>\n",
       "    <tr style=\"text-align: right;\">\n",
       "      <th></th>\n",
       "      <th>Unitcode</th>\n",
       "      <th>unitname</th>\n",
       "      <th>ULOno</th>\n",
       "      <th>Describption</th>\n",
       "      <th>Topic_Keywords</th>\n",
       "      <th>Cbok_category</th>\n",
       "      <th>similarity_TK</th>\n",
       "      <th>Cbok_Category_dec</th>\n",
       "      <th>Similarity_Score</th>\n",
       "    </tr>\n",
       "  </thead>\n",
       "  <tbody>\n",
       "    <tr>\n",
       "      <th>0</th>\n",
       "      <td>COS60004</td>\n",
       "      <td>creating web applications</td>\n",
       "      <td>1</td>\n",
       "      <td>Describe the role of networking in the context...</td>\n",
       "      <td>business, tool, network, role, small, term, st...</td>\n",
       "      <td>Networking</td>\n",
       "      <td>63</td>\n",
       "      <td>area requir understand data commun network fun...</td>\n",
       "      <td>86</td>\n",
       "    </tr>\n",
       "    <tr>\n",
       "      <th>1</th>\n",
       "      <td>COS60004</td>\n",
       "      <td>creating web applications</td>\n",
       "      <td>2</td>\n",
       "      <td>Demonstrate the use of mark up and presentatio...</td>\n",
       "      <td>design, wide, internet, web, network, security...</td>\n",
       "      <td>Cyber security</td>\n",
       "      <td>86</td>\n",
       "      <td>area requir understand data commun network fun...</td>\n",
       "      <td>86</td>\n",
       "    </tr>\n",
       "    <tr>\n",
       "      <th>2</th>\n",
       "      <td>COS60004</td>\n",
       "      <td>creating web applications</td>\n",
       "      <td>3</td>\n",
       "      <td>Demonstrate the use of server scripting and da...</td>\n",
       "      <td>scripting, side, attack, language, access, dat...</td>\n",
       "      <td>Societal issues/legal issues/privacy</td>\n",
       "      <td>86</td>\n",
       "      <td>area requir understand data commun network fun...</td>\n",
       "      <td>86</td>\n",
       "    </tr>\n",
       "    <tr>\n",
       "      <th>3</th>\n",
       "      <td>COS60004</td>\n",
       "      <td>creating web applications</td>\n",
       "      <td>4</td>\n",
       "      <td>Describe the interaction between components of...</td>\n",
       "      <td>web, issue, business, development, describe, a...</td>\n",
       "      <td>Systems development and acquisition</td>\n",
       "      <td>86</td>\n",
       "      <td>understand requir data captur repres organis r...</td>\n",
       "      <td>86</td>\n",
       "    </tr>\n",
       "    <tr>\n",
       "      <th>4</th>\n",
       "      <td>COS60004</td>\n",
       "      <td>creating web applications</td>\n",
       "      <td>5</td>\n",
       "      <td>Conduct a comparative analysis of contemporary...</td>\n",
       "      <td>technology, design, service, develop, apply, u...</td>\n",
       "      <td>Service management</td>\n",
       "      <td>86</td>\n",
       "      <td>understand requir data captur repres organis r...</td>\n",
       "      <td>86</td>\n",
       "    </tr>\n",
       "  </tbody>\n",
       "</table>\n",
       "</div>"
      ],
      "text/plain": [
       "  Unitcode                    unitname  ULOno  \\\n",
       "0  COS60004  creating web applications      1   \n",
       "1  COS60004  creating web applications      2   \n",
       "2  COS60004  creating web applications      3   \n",
       "3  COS60004  creating web applications      4   \n",
       "4  COS60004  creating web applications      5   \n",
       "\n",
       "                                        Describption  \\\n",
       "0  Describe the role of networking in the context...   \n",
       "1  Demonstrate the use of mark up and presentatio...   \n",
       "2  Demonstrate the use of server scripting and da...   \n",
       "3  Describe the interaction between components of...   \n",
       "4  Conduct a comparative analysis of contemporary...   \n",
       "\n",
       "                                      Topic_Keywords  \\\n",
       "0  business, tool, network, role, small, term, st...   \n",
       "1  design, wide, internet, web, network, security...   \n",
       "2  scripting, side, attack, language, access, dat...   \n",
       "3  web, issue, business, development, describe, a...   \n",
       "4  technology, design, service, develop, apply, u...   \n",
       "\n",
       "                           Cbok_category  similarity_TK  \\\n",
       "0                             Networking             63   \n",
       "1                         Cyber security             86   \n",
       "2   Societal issues/legal issues/privacy             86   \n",
       "3    Systems development and acquisition             86   \n",
       "4                     Service management             86   \n",
       "\n",
       "                                   Cbok_Category_dec  Similarity_Score  \n",
       "0  area requir understand data commun network fun...                86  \n",
       "1  area requir understand data commun network fun...                86  \n",
       "2  area requir understand data commun network fun...                86  \n",
       "3  understand requir data captur repres organis r...                86  \n",
       "4  understand requir data captur repres organis r...                86  "
      ]
     },
     "execution_count": 35,
     "metadata": {},
     "output_type": "execute_result"
    }
   ],
   "source": [
    "ulo.rename({'topic_key_knowledge': 'Cbok_category', 'topic_key_Descrbipition': 'Cbok_Category_dec','similarity_TD':'Similarity_Score'}, axis=1, inplace=True)\n",
    "ulo.head()\n",
    "#renaming the column names"
   ]
  },
  {
   "cell_type": "markdown",
   "metadata": {},
   "source": [
    "#### creating the final data set Cbokmapping"
   ]
  },
  {
   "cell_type": "code",
   "execution_count": 36,
   "metadata": {},
   "outputs": [
    {
     "data": {
      "text/html": [
       "<div>\n",
       "<style scoped>\n",
       "    .dataframe tbody tr th:only-of-type {\n",
       "        vertical-align: middle;\n",
       "    }\n",
       "\n",
       "    .dataframe tbody tr th {\n",
       "        vertical-align: top;\n",
       "    }\n",
       "\n",
       "    .dataframe thead th {\n",
       "        text-align: right;\n",
       "    }\n",
       "</style>\n",
       "<table border=\"1\" class=\"dataframe\">\n",
       "  <thead>\n",
       "    <tr style=\"text-align: right;\">\n",
       "      <th></th>\n",
       "      <th>ULOno</th>\n",
       "      <th>Cbok_category</th>\n",
       "      <th>Cbok_Category_dec</th>\n",
       "      <th>unitname</th>\n",
       "      <th>Topic_Keywords</th>\n",
       "      <th>Similarity_Score</th>\n",
       "    </tr>\n",
       "  </thead>\n",
       "  <tbody>\n",
       "    <tr>\n",
       "      <th>0</th>\n",
       "      <td>1</td>\n",
       "      <td>Networking</td>\n",
       "      <td>area requir understand data commun network fun...</td>\n",
       "      <td>creating web applications</td>\n",
       "      <td>business, tool, network, role, small, term, st...</td>\n",
       "      <td>86</td>\n",
       "    </tr>\n",
       "    <tr>\n",
       "      <th>1</th>\n",
       "      <td>2</td>\n",
       "      <td>Cyber security</td>\n",
       "      <td>area requir understand data commun network fun...</td>\n",
       "      <td>creating web applications</td>\n",
       "      <td>design, wide, internet, web, network, security...</td>\n",
       "      <td>86</td>\n",
       "    </tr>\n",
       "    <tr>\n",
       "      <th>2</th>\n",
       "      <td>3</td>\n",
       "      <td>Societal issues/legal issues/privacy</td>\n",
       "      <td>area requir understand data commun network fun...</td>\n",
       "      <td>creating web applications</td>\n",
       "      <td>scripting, side, attack, language, access, dat...</td>\n",
       "      <td>86</td>\n",
       "    </tr>\n",
       "    <tr>\n",
       "      <th>3</th>\n",
       "      <td>4</td>\n",
       "      <td>Systems development and acquisition</td>\n",
       "      <td>understand requir data captur repres organis r...</td>\n",
       "      <td>creating web applications</td>\n",
       "      <td>web, issue, business, development, describe, a...</td>\n",
       "      <td>86</td>\n",
       "    </tr>\n",
       "    <tr>\n",
       "      <th>4</th>\n",
       "      <td>5</td>\n",
       "      <td>Service management</td>\n",
       "      <td>understand requir data captur repres organis r...</td>\n",
       "      <td>creating web applications</td>\n",
       "      <td>technology, design, service, develop, apply, u...</td>\n",
       "      <td>86</td>\n",
       "    </tr>\n",
       "    <tr>\n",
       "      <th>5</th>\n",
       "      <td>1</td>\n",
       "      <td>Data and information management</td>\n",
       "      <td>fundament ethic notion virtu duti respons harm...</td>\n",
       "      <td>Technology Enquiry Project</td>\n",
       "      <td>evaluate, datum, code, apply, interpret, visua...</td>\n",
       "      <td>86</td>\n",
       "    </tr>\n",
       "    <tr>\n",
       "      <th>6</th>\n",
       "      <td>2</td>\n",
       "      <td>Hardware and software fundamentals</td>\n",
       "      <td>involv understand fundament concept program la...</td>\n",
       "      <td>Technology Enquiry Project</td>\n",
       "      <td>practice, evaluation, reflective, peer, self, ...</td>\n",
       "      <td>86</td>\n",
       "    </tr>\n",
       "    <tr>\n",
       "      <th>7</th>\n",
       "      <td>3</td>\n",
       "      <td>Networking</td>\n",
       "      <td>understand requir develop acquir softwar infor...</td>\n",
       "      <td>Technology Enquiry Project</td>\n",
       "      <td>design, database, technology, big, build, know...</td>\n",
       "      <td>86</td>\n",
       "    </tr>\n",
       "    <tr>\n",
       "      <th>8</th>\n",
       "      <td>4</td>\n",
       "      <td>Hardware and software fundamentals</td>\n",
       "      <td>involv understand fundament concept program la...</td>\n",
       "      <td>Technology Enquiry Project</td>\n",
       "      <td>practice, evaluation, reflective, peer, self, ...</td>\n",
       "      <td>86</td>\n",
       "    </tr>\n",
       "    <tr>\n",
       "      <th>9</th>\n",
       "      <td>5</td>\n",
       "      <td>Cyber security</td>\n",
       "      <td>involv understand fundament concept program la...</td>\n",
       "      <td>Technology Enquiry Project</td>\n",
       "      <td>use, describe, relate, switch, security, issue...</td>\n",
       "      <td>86</td>\n",
       "    </tr>\n",
       "  </tbody>\n",
       "</table>\n",
       "</div>"
      ],
      "text/plain": [
       "   ULOno                          Cbok_category  \\\n",
       "0      1                             Networking   \n",
       "1      2                         Cyber security   \n",
       "2      3   Societal issues/legal issues/privacy   \n",
       "3      4    Systems development and acquisition   \n",
       "4      5                     Service management   \n",
       "5      1        Data and information management   \n",
       "6      2     Hardware and software fundamentals   \n",
       "7      3                             Networking   \n",
       "8      4     Hardware and software fundamentals   \n",
       "9      5                         Cyber security   \n",
       "\n",
       "                                   Cbok_Category_dec  \\\n",
       "0  area requir understand data commun network fun...   \n",
       "1  area requir understand data commun network fun...   \n",
       "2  area requir understand data commun network fun...   \n",
       "3  understand requir data captur repres organis r...   \n",
       "4  understand requir data captur repres organis r...   \n",
       "5  fundament ethic notion virtu duti respons harm...   \n",
       "6  involv understand fundament concept program la...   \n",
       "7  understand requir develop acquir softwar infor...   \n",
       "8  involv understand fundament concept program la...   \n",
       "9  involv understand fundament concept program la...   \n",
       "\n",
       "                     unitname  \\\n",
       "0   creating web applications   \n",
       "1   creating web applications   \n",
       "2   creating web applications   \n",
       "3   creating web applications   \n",
       "4   creating web applications   \n",
       "5  Technology Enquiry Project   \n",
       "6  Technology Enquiry Project   \n",
       "7  Technology Enquiry Project   \n",
       "8  Technology Enquiry Project   \n",
       "9  Technology Enquiry Project   \n",
       "\n",
       "                                      Topic_Keywords  Similarity_Score  \n",
       "0  business, tool, network, role, small, term, st...                86  \n",
       "1  design, wide, internet, web, network, security...                86  \n",
       "2  scripting, side, attack, language, access, dat...                86  \n",
       "3  web, issue, business, development, describe, a...                86  \n",
       "4  technology, design, service, develop, apply, u...                86  \n",
       "5  evaluate, datum, code, apply, interpret, visua...                86  \n",
       "6  practice, evaluation, reflective, peer, self, ...                86  \n",
       "7  design, database, technology, big, build, know...                86  \n",
       "8  practice, evaluation, reflective, peer, self, ...                86  \n",
       "9  use, describe, relate, switch, security, issue...                86  "
      ]
     },
     "execution_count": 36,
     "metadata": {},
     "output_type": "execute_result"
    }
   ],
   "source": [
    "Cbok_mapping = ulo[['ULOno','Cbok_category','Cbok_Category_dec','unitname','Topic_Keywords','Similarity_Score']]\n",
    "Cbok_mapping.head(10)"
   ]
  },
  {
   "cell_type": "code",
   "execution_count": 37,
   "metadata": {},
   "outputs": [],
   "source": [
    "Cbok_mapping.to_csv('Cbok_mapping_outcomes.csv') #saving the Cbok_mapping dataset to csv file as Cbok_mapping_outcomes"
   ]
  }
 ],
 "metadata": {
  "celltoolbar": "Raw Cell Format",
  "kernelspec": {
   "display_name": "Python 3",
   "language": "python",
   "name": "python3"
  },
  "language_info": {
   "codemirror_mode": {
    "name": "ipython",
    "version": 3
   },
   "file_extension": ".py",
   "mimetype": "text/x-python",
   "name": "python",
   "nbconvert_exporter": "python",
   "pygments_lexer": "ipython3",
   "version": "3.8.5"
  }
 },
 "nbformat": 4,
 "nbformat_minor": 4
}
